{
 "cells": [
  {
   "cell_type": "markdown",
   "metadata": {},
   "source": [
    "<center><b>EE 538 Autumn 2020<br>\n",
    "Analog Circuits for Sensor Systems<br>\n",
    "University of Washington Electrical & Computer Engineering</b></center>\n"
   ]
  },
  {
   "cell_type": "markdown",
   "metadata": {},
   "source": [
    "<b>Instructor: Jason Silver<br>\n",
    "Assignment #1 (10 points)<br>\n",
    "Due Sunday, October 11 (Submit on Canvas as a Jupyter Notebook)</b> "
   ]
  },
  {
   "cell_type": "markdown",
   "metadata": {},
   "source": [
    "*Please show your work*"
   ]
  },
  {
   "cell_type": "markdown",
   "metadata": {},
   "source": [
    "<b>Problem 1: Sensor interfaces, loading, frequency response"
   ]
  },
  {
   "cell_type": "markdown",
   "metadata": {},
   "source": [
    "<center><img src=\"img/HW1_photodiode.png\" width=400></center>"
   ]
  },
  {
   "cell_type": "markdown",
   "metadata": {},
   "source": [
    "Photodiodes, which are used to convert light into electric current, are typically modeled as shown above, as current sources in parallel with a \"small-signal\" resistance and a junction capacitance. The resistance and capacitance exhibited by the diode are in general nonlinear, such that the linear approximations shown here are valid only over a narrow range of currents/voltages. For the purposes of analysis and design, we treat them as simple passive components $r_d$ and $c_j$."
   ]
  },
  {
   "cell_type": "markdown",
   "metadata": {},
   "source": [
    "<u>*Analysis*</u>"
   ]
  },
  {
   "cell_type": "markdown",
   "metadata": {},
   "source": [
    "__a)__ Determine an expression for the the transfer function $\\dfrac{V_{in}}{I_d}(s)$ in terms of $r_d$, $c_j$, and $R_{in}$."
   ]
  },
  {
   "cell_type": "markdown",
   "metadata": {},
   "source": [
    "__b)__ Let $r_d = 10k\\Omega$, $c_j = 1pF$, and $R_{in} = 1k\\Omega$. Use *Python* to plot the magnitude and phase of the transfer function $\\dfrac{V_{in}}{I_d}(s)$. What is the 3db-bandwidth ($\\omega_0 = 1/\\tau$) of the magnitude response?  "
   ]
  },
  {
   "cell_type": "markdown",
   "metadata": {},
   "source": [
    "<u>*Design*</u>"
   ]
  },
  {
   "cell_type": "markdown",
   "metadata": {},
   "source": [
    "__c)__ For the values of $r_d$ and $R_{in}$ in *Part b*, by what percentage is the diode current attenuated due to loading at DC ($f = 0$)? That is, what percentage of $i_d$ is \"lost\" due to the finite output resistance ($r_d$) of the diode? \n",
    "\n",
    "Calculate a new value of $R_{in}$ that results in only 0.1% attenuation of the diode current at DC.\n",
    "\n",
    "*Note: For DC calculations you can ignore the presence of $c_j$, because its impedance magnitude $\\left|\\frac{1}{j\\omega c_j}\\right|$ is infinite.*"
   ]
  },
  {
   "cell_type": "markdown",
   "metadata": {},
   "source": [
    "__d)__ Using the value of $R_{in}$ calculated in *Part c*, use *Python* to plot the magnitude and phase of the transfer function. Build the circuit in SPICE and run an AC simulation. Ensure that the magnitude/phase responses agree with those from your analytical (*Python*) model."
   ]
  },
  {
   "cell_type": "markdown",
   "metadata": {},
   "source": [
    "<br><br>*Suggestion: Try using Latex for displaying mathematical expressions and equations. One nice feature of Jupyter Notebooks is its ability to incorporate both code and \"markup,\" used for formatting text, into the same document. Some examples of Latex are given above in the problem descriptions. You can press Return or double click a cell to see the markup, then use Shift-Return to view the formatted version. Here are a few more examples:*\n",
    "\n",
    "\\begin{equation}\n",
    "j = \\sqrt{-1} \\\\\n",
    "V = IR \\\\\n",
    "I_C = C \\cdot \\frac{dV}{dt} \n",
    "\\end{equation}"
   ]
  }
 ],
 "metadata": {
  "kernelspec": {
   "display_name": "Python 3",
   "language": "python",
   "name": "python3"
  },
  "language_info": {
   "codemirror_mode": {
    "name": "ipython",
    "version": 3
   },
   "file_extension": ".py",
   "mimetype": "text/x-python",
   "name": "python",
   "nbconvert_exporter": "python",
   "pygments_lexer": "ipython3",
   "version": "3.8.2"
  }
 },
 "nbformat": 4,
 "nbformat_minor": 4
}
