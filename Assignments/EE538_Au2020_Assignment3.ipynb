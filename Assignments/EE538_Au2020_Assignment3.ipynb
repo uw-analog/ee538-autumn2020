{
 "cells": [
  {
   "cell_type": "markdown",
   "metadata": {},
   "source": [
    "<center><b>EE 538 Autumn 2020<br>\n",
    "Analog Circuits for Sensor Systems<br>\n",
    "University of Washington Electrical & Computer Engineering</b></center>\n"
   ]
  },
  {
   "cell_type": "markdown",
   "metadata": {},
   "source": [
    "<b>Instructor: Jason Silver<br>\n",
    "Assignment #3 (10 points)<br>\n",
    "Due Sunday, October 25 (Submit on Canvas as a Jupyter Notebook)</b> "
   ]
  },
  {
   "cell_type": "markdown",
   "metadata": {},
   "source": [
    "*Please show your work*"
   ]
  },
  {
   "cell_type": "markdown",
   "metadata": {},
   "source": [
    "<b>Problem 1: Common-source amplifier with emitter-follower output stage"
   ]
  },
  {
   "cell_type": "markdown",
   "metadata": {},
   "source": [
    "<center><img src=\"img/HW3_gain_stage.png\" width=400></center>"
   ]
  },
  {
   "cell_type": "markdown",
   "metadata": {},
   "source": [
    "The MOSFET-based common-source amplifier can be combined with a BJT emitter-follower output stage to construct a circuit that provides voltage gain while taking advantage of the high input impedance of the MOSFET and low output impedance of the emitter follower.\n",
    "\n",
    "For the following, $T = 27C$, $R_D = 5k\\Omega$, $R_E = 2k\\Omega$, $V_{IN,DC} = 0.9V$, $V_{DD} = 5V$, and $C_L = 1uF$\n",
    "\n",
    "Use the Analog Devices MAT-02 $npn$ transistor ($V_A = 150V$, $\\beta = 500$, $I_S = 0.6 pA$) for your analysis and simulations.\n",
    "\n",
    "Use the Level 1 NMOS SPICE model provided with the assignment ($\\mu = 350$, $C_{ox} = 384 nF/m^2$ $V_{th} = 0.7V$, $\\lambda = 0.01 V^{-1}$, $W = 100\\mu m$, $L = 1 \\mu m$). "
   ]
  },
  {
   "cell_type": "markdown",
   "metadata": {},
   "source": [
    "<u>*Analysis*</u>"
   ]
  },
  {
   "cell_type": "markdown",
   "metadata": {},
   "source": [
    "__a)__ *Estimate* the DC operating point of the circuit ($I_{D0}$, $I_{C0}$, $V_{1,DC}$, and $V_{OUT,DC}$) assuming $\\lambda = 0$ for $M_1$ and $V_{BE} = 0.6V$, $I_B = 0$ for $Q_2$ (you are also welcome to calculate $V_{BE}$ using the iterative method discussed at the end of Lecture 3 if you'd like to try this approach)."
   ]
  },
  {
   "cell_type": "markdown",
   "metadata": {},
   "source": [
    "__b)__ Calculate the output resistance of the common-source stage (include $r_o$ of $M_1$, with $\\lambda = 0.01V^{-1}$), the input-resistance of the emitter-follower stage (*hint: this is not just $r_\\pi$*!), and the output reistance of the emitter-follower."
   ]
  },
  {
   "cell_type": "markdown",
   "metadata": {},
   "source": [
    "__c)__ Calculate the small-signal voltage gain and 3dB bandwidth $\\left(f_{3dB} = \\dfrac{\\omega_0}{2 \\pi} \\right)$ of the circuit assuming $C_L$ is the only capacitance."
   ]
  },
  {
   "cell_type": "markdown",
   "metadata": {},
   "source": [
    "<u>*Simulation*</u>"
   ]
  },
  {
   "cell_type": "markdown",
   "metadata": {},
   "source": [
    "__d)__ Simulate the DC operating point (.op analysis) of the circuit in SPICE. Provide a screen capture of your circuit with all DC operating points labeled (right-click on the net and select *Place .op Data Label*).\n",
    "\n",
    "Perform an AC simulation of the circuit and plot the frequency reponse. Indicate both the gain at $f = 10Hz$ and the 3dB bandwidth on the magnitude plot. \n",
    "\n",
    "Using either an AC analysis or DC Transfer analysis, simulate the DC input and output impedances of the circuit. Refer to the Zoom Cloud Recording following Lecture 3 if you are unsure of how to do this."
   ]
  },
  {
   "cell_type": "markdown",
   "metadata": {},
   "source": [
    "*A few words on hand calculations versus simulation results: It is expected that your simulation results will not agree perfectly with your calculations. This is actually the purpose of using SPICE for verification, in that more detailed and more accurate models are employed to provide a more accurate prediction of circuit performance than the simple models used for \"back-of-the-envelope\" analysis.That being said, our simple models should gives us enough guidance on making design decisions, particularly if simulation results are different from what we expect.*"
   ]
  },
  {
   "cell_type": "code",
   "execution_count": null,
   "metadata": {},
   "outputs": [],
   "source": []
  }
 ],
 "metadata": {
  "kernelspec": {
   "display_name": "Python 3",
   "language": "python",
   "name": "python3"
  },
  "language_info": {
   "codemirror_mode": {
    "name": "ipython",
    "version": 3
   },
   "file_extension": ".py",
   "mimetype": "text/x-python",
   "name": "python",
   "nbconvert_exporter": "python",
   "pygments_lexer": "ipython3",
   "version": "3.8.2"
  }
 },
 "nbformat": 4,
 "nbformat_minor": 4
}
