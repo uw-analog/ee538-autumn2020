{
 "cells": [
  {
   "cell_type": "markdown",
   "metadata": {},
   "source": [
    "<center><b>EE 538 Autumn 2020<br>\n",
    "Analog Circuits for Sensor Systems<br>\n",
    "University of Washington Electrical & Computer Engineering</b></center>\n"
   ]
  },
  {
   "cell_type": "markdown",
   "metadata": {},
   "source": [
    "<b>Instructor: Jason Silver<br>\n",
    "Assignment #2 (10 points)<br>\n",
    "Due Sunday, October 18 (Submit on Canvas as a Jupyter Notebook)</b> "
   ]
  },
  {
   "cell_type": "markdown",
   "metadata": {},
   "source": [
    "*Please show your work*"
   ]
  },
  {
   "cell_type": "markdown",
   "metadata": {},
   "source": [
    "<b>Problem 1: Common-emitter amplifier, small-signal analysis"
   ]
  },
  {
   "cell_type": "markdown",
   "metadata": {},
   "source": [
    "<center><img src=\"img/HW2_common_emitter.png\" width=400></center>"
   ]
  },
  {
   "cell_type": "markdown",
   "metadata": {},
   "source": [
    "The common-emitter amplifier can be used to achieve high levels of voltage gain in analog circuits. However, gain can be affected by loading at both at the input and output of the amplifier, so we need to ensure that minimal loading occurs when the amplifier is connected to a sensor or other circuit blocks. In addition, the bandwidth over which the maximum gain can be achieved is limitied by the presence of capacitance, which results in loading at higher frequencies (away from DC).\n",
    "\n",
    "For the following, $T = 27C$, $R_C = 1k\\Omega$, $V_S (DC) = 0.69V$, $V_{CC} = 5V$, and $C_L = 100nF$\n",
    "\n",
    "Use the NXP 2N3904 $npn$ transistor ($V_A = 100V$, $\\beta = 300$, $I_S = 10^{-14}$) for your analysis and simulations."
   ]
  },
  {
   "cell_type": "markdown",
   "metadata": {},
   "source": [
    "<u>*Analysis*</u>"
   ]
  },
  {
   "cell_type": "markdown",
   "metadata": {},
   "source": [
    "__a)__ Sketch the small-signal model and determine an expression for the the transfer function $\\dfrac{V_{out}}{V_s}(s)$ in terms of $g_m$, $\\beta$, $R_C$, $r_o$, and $C_{L}$. Assume no DC loading (i.e. $R_S \\rightarrow 0$ and $R_L \\rightarrow \\infty$)."
   ]
  },
  {
   "cell_type": "markdown",
   "metadata": {},
   "source": [
    "__b)__ Calculate the DC gain, input resistance, output resistance, and 3dB bandwidth of the amplifier (again, assuming no loading) using the component and parameter values provided. Plot the frequency response (magnitude and phase) of $\\dfrac{V_{out}}{V_s}(s)$."
   ]
  },
  {
   "cell_type": "markdown",
   "metadata": {},
   "source": [
    "<u>*Simulation/Design*</u>"
   ]
  },
  {
   "cell_type": "markdown",
   "metadata": {},
   "source": [
    "__c)__ Simulate the DC operating point (.op analysis) of the circuit in SPICE (still no loading, $R_S \\rightarrow 0$ and $R_L \\rightarrow \\infty$). Provide a screen capture of your circuit with all DC operating points labeled (right-click on the net and select *Place .op Data Label*).\n",
    "\n",
    "Perform an AC simulation of the circuit and plot the frequency reponse. Indicate both the gain at $f = 10Hz$ and the 3dB bandwidth on the magnitude plot. \n",
    "\n",
    "Perform a transient analysis of the circuit to verify the gain. Use a sinusoidal voltage as an input signal with an amplitude of $500 \\mu V$, frequency of $10 Hz$, and DC offset of $0.69V$. Show that the peak-to-peak amplitude of the output agrees with your calculation from Part b and your AC analysis result."
   ]
  },
  {
   "cell_type": "markdown",
   "metadata": {},
   "source": [
    "__d)__ Calculate the values of $R_S$ and $R_L$ that each result in 1% attenuation from input to output ($V_s$ to $V_{out}$). Calculate each value separately (such that the combined attenuation would be around 2%). Verify your calculations by including the calculated values of $R_S$ and $R_L$ in your SPICE simulation. "
   ]
  },
  {
   "cell_type": "code",
   "execution_count": null,
   "metadata": {},
   "outputs": [],
   "source": []
  }
 ],
 "metadata": {
  "kernelspec": {
   "display_name": "Python 3",
   "language": "python",
   "name": "python3"
  },
  "language_info": {
   "codemirror_mode": {
    "name": "ipython",
    "version": 3
   },
   "file_extension": ".py",
   "mimetype": "text/x-python",
   "name": "python",
   "nbconvert_exporter": "python",
   "pygments_lexer": "ipython3",
   "version": "3.8.2"
  }
 },
 "nbformat": 4,
 "nbformat_minor": 4
}
