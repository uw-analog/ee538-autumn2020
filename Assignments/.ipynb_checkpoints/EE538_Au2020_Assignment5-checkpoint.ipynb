{
 "cells": [
  {
   "cell_type": "markdown",
   "metadata": {},
   "source": [
    "<center><b>EE 538 Autumn 2020<br>\n",
    "Analog Circuits for Sensor Systems<br>\n",
    "University of Washington Electrical & Computer Engineering</b></center>\n"
   ]
  },
  {
   "cell_type": "markdown",
   "metadata": {},
   "source": [
    "<b>Instructor: Jason Silver<br>\n",
    "Assignment #5 (10 points)<br>\n",
    "Due Sunday, November 8 (Submit on Canvas as a Jupyter Notebook)</b> "
   ]
  },
  {
   "cell_type": "markdown",
   "metadata": {},
   "source": [
    "*Please show your work*"
   ]
  },
  {
   "cell_type": "markdown",
   "metadata": {},
   "source": [
    "<b>Problem 1: Differential amplifier analysis and design"
   ]
  },
  {
   "cell_type": "markdown",
   "metadata": {
    "cell_style": "split"
   },
   "source": [
    "<center><img src=\"img/HW5_bridge_amplifier.png\" width=800></center>\n",
    "<br>\n",
    "<center><b> Figure 1a. Wheatstone bridge amplifier</center>"
   ]
  },
  {
   "cell_type": "markdown",
   "metadata": {
    "cell_style": "split"
   },
   "source": [
    "<center><img src=\"img/HW5_inamp.png\" width=600></center>\n",
    "<br>\n",
    "<center><b> Figure 1b. Instrumentation amplifier</center>"
   ]
  },
  {
   "cell_type": "markdown",
   "metadata": {},
   "source": [
    "A difference amplifier can be used to amplify the signal from a Wheatstone bridge, but loading is a concern due to the finite input resistance of the amplifier. \n",
    "\n",
    "To determine the extent of loading, we need to quantify the output resistance of the bridge circuit and the input resistance of the amplifier."
   ]
  },
  {
   "cell_type": "markdown",
   "metadata": {},
   "source": [
    "<u>*Analysis/Design*</u>"
   ]
  },
  {
   "cell_type": "markdown",
   "metadata": {},
   "source": [
    "__a)__ Determine expressions for the output resistance $R_{S}$ of the bridge circuit and the input resistance $R_{in}$ of the amplifier. Use the same approach you would use to determine the Thevenin resistance of a single-ended circuit (i.e. do not assume a balanced differential signal). Assume the opamp is ideal.\n",
    "\n",
    "Assuming the Wheastone bridge resistance $R = 500 \\Omega$, design the difference amplifier (i.e. determine values for $R_1$ and $R_2$) to provide a gain of $20dB$ with a maximum of $1\\%$ input attenuation due to loading."
   ]
  },
  {
   "cell_type": "markdown",
   "metadata": {},
   "source": [
    "<u>*Design/Simulation*</u>"
   ]
  },
  {
   "cell_type": "markdown",
   "metadata": {},
   "source": [
    "__b)__ Implement the design of the difference amplifier in LTspice using the ADA4661-2 opamp from Analog Devices (this model is included by default in the LTspice component library). Use a single-ended supply voltage $V_{DD} = 5V$. For $V_{REF}$, use a voltage divider and voltage buffer (opamp in unity-gain feedback, as discussed in lecture - you can use the ADA4661-2 for this as well).\n",
    "\n",
    "Perform an AC simulation to verify that the DC gain is $20dB$, and determine the $3dB$ bandwidth of the amplifier."
   ]
  },
  {
   "cell_type": "markdown",
   "metadata": {},
   "source": [
    "__c)__ Use the Wheatstone bridge model provided on the course Canvas page to simulate the full design. The voltage *delta_R* allows you to control $\\Delta R$ ($B_1$ and $B_2$ are utilized as voltage-controlled resistances to emulate the behavior of a strain gage). \n",
    "\n",
    "Determine the maximum $\\Delta R$ allowable without exceeding $80\\%$ of the supply voltage (i.e. $V_{out}$ can swing from $0.5V$ to $4.5V$). Perform a transient simulation to verify your design. Implement *V(delta_R)* as a sinusoidal voltage with amplitude $\\Delta R$ and a frequency of $1kHz$. Submit plots of the output voltage of the brige and $V_{out}$ to show that your design meets the swing and $1\\%$ max attenuation specifications.\n",
    "\n",
    "Include your schematic with your submission with all DC node voltages displayed. Show the supply current (this is the current coming from the DC voltage source used to supply the bridge and opamp), and calculate the total power dissipated by the circuit."
   ]
  },
  {
   "cell_type": "markdown",
   "metadata": {},
   "source": [
    "__d)__ An instrumentation amplifier can be used to realize a mucher higher input impedance than the difference amplifier. Construct the instrumentation amplifier shown in Fig. 1b to achieve a gain of $20dB$, and run a transient simulation with the Wheatstone bridge model to show that the signal amplitude is increased due to the absence of loading. Submit your schematic with all DC node voltages shown."
   ]
  }
 ],
 "metadata": {
  "kernelspec": {
   "display_name": "Python 3",
   "language": "python",
   "name": "python3"
  },
  "language_info": {
   "codemirror_mode": {
    "name": "ipython",
    "version": 3
   },
   "file_extension": ".py",
   "mimetype": "text/x-python",
   "name": "python",
   "nbconvert_exporter": "python",
   "pygments_lexer": "ipython3",
   "version": "3.8.2"
  }
 },
 "nbformat": 4,
 "nbformat_minor": 4
}
