{
 "cells": [
  {
   "cell_type": "markdown",
   "metadata": {},
   "source": [
    "<center><b>EE 538 Autumn 2020<br>\n",
    "Analog Circuits for Sensor Systems<br>\n",
    "University of Washington Electrical & Computer Engineering</b></center>\n"
   ]
  },
  {
   "cell_type": "markdown",
   "metadata": {},
   "source": [
    "<b>Instructor: Jason Silver<br>\n",
    "Assignment #4 (10 points)<br>\n",
    "Due Sunday, November 1 (Submit on Canvas as a Jupyter Notebook)</b> "
   ]
  },
  {
   "cell_type": "markdown",
   "metadata": {},
   "source": [
    "*Please show your work*"
   ]
  },
  {
   "cell_type": "markdown",
   "metadata": {},
   "source": [
    "<b>Problem 1: Analysis of inverting and non-inverting amplifier structures"
   ]
  },
  {
   "cell_type": "markdown",
   "metadata": {
    "cell_style": "split"
   },
   "source": [
    "<center><img src=\"img/HW4_non_inverting.png\" width=400></center>\n",
    "<br>\n",
    "<center><b> Figure 1a. Non-inverting amplifier</center>"
   ]
  },
  {
   "cell_type": "markdown",
   "metadata": {
    "cell_style": "split"
   },
   "source": [
    "<center><img src=\"img/HW4_inverting.png\" width=400></center>\n",
    "<br>\n",
    "<center><b> Figure 1b. Inverting amplifier</center>"
   ]
  },
  {
   "cell_type": "markdown",
   "metadata": {},
   "source": [
    "Most closed-loop amplifiers involving opamps are some variation on either the inverting or non-inverting amplifier. For this reason, it is import to be familiar with these structures and their characteristics. \n",
    "\n",
    "For the following, $R_1 = 1k\\Omega$ and $R_2 = 9k\\Omega$\n",
    "\n",
    "For the opamp(s), DC open-loop gain $A_0 = 10^6 V/V$, open-loop input resistance $R_{in} \\rightarrow \\infty$, and open-loop output resistance $R_{out} = 1k\\Omega$"
   ]
  },
  {
   "cell_type": "markdown",
   "metadata": {},
   "source": [
    "<u>*DC Analysis*</u>"
   ]
  },
  {
   "cell_type": "markdown",
   "metadata": {},
   "source": [
    "__a)__ Determine the *closed-loop* gain, input resistance, and output resistance of each amplifier."
   ]
  },
  {
   "cell_type": "markdown",
   "metadata": {},
   "source": [
    "__b)__ If the opamp has a voltage offset $v_{os} = 1mV$ and input bias current $I_b = 1nA$, determine the total output offset voltage for each strucutre. It will be helpful to use superposition for this."
   ]
  },
  {
   "cell_type": "markdown",
   "metadata": {},
   "source": [
    "<b>Problem 2: Sensor amplification"
   ]
  },
  {
   "cell_type": "markdown",
   "metadata": {},
   "source": [
    "<center><img src=\"img/HW4_sensor_amplification.png\" width=400></center>"
   ]
  },
  {
   "cell_type": "markdown",
   "metadata": {},
   "source": [
    "The non-inverting amplifier structure has the advantage of high input impedance, making it suitable for interfacing with sensors with high output resistance.\n",
    "\n",
    "Opamps have limits in terms of both output voltage and current that need to be considered when designing ampifier circuits.\n",
    "\n",
    "For the sensor, $V_{S,DC} = 0V$ ($R_S$ is included for conceptual purposes only - it won't affect any of your calculations).\n",
    "\n",
    "For the opamp, $A_0 = 10^6 V/V$, $f_t = 10 MHz$, open-loop input resistance $R_{in} \\rightarrow \\infty$, and open-loop output resistance $R_{out} = 0\\Omega$\n"
   ]
  },
  {
   "cell_type": "markdown",
   "metadata": {},
   "source": [
    "<u>*Design/Simulation*</u>"
   ]
  },
  {
   "cell_type": "markdown",
   "metadata": {},
   "source": [
    "__a)__ Assuming an input signal range of $\\pm 100mV$, design the amplifier (i.e. determine the ratio $R_2$/$R_1$) that maximizes the gain while ensuring the output voltage never exceeds 80% of the supply rails of $\\pm 5V$.\n",
    "\n",
    "Assuming the opamp has a maximum output current of $10mA$, determine appropriate values for $R_1$ and $R_2$ to ensure the output current never exceeds 80% of the $10mA$ limit."
   ]
  },
  {
   "cell_type": "markdown",
   "metadata": {},
   "source": [
    "__b)__ Derive an expression for the closed-loop gain of the amplifier as a function of frequency. Plot the gain and phase of the amplifier using Python. Calculate the frequency at which the amplifier closed-loop gain becomes 1% lower than the ideal value calculated in *Part a*."
   ]
  },
  {
   "cell_type": "markdown",
   "metadata": {},
   "source": [
    "__c)__ Verify your design in LTspice using the *UniversalOpamp2* component. Show that your design meets the requirements by running an AC simulation with the DC value of $V_S$ set to $100mV$. Include a schematic showing the resistor values and DC node voltages along with your AC simulation results."
   ]
  },
  {
   "cell_type": "markdown",
   "metadata": {},
   "source": [
    "__*Bonus* (1 point)__: Propose a design that achieves the same gain with at least 2x the bandwidth using the <u>same opamp specs</u>. Provide a schematic and AC simulation results that show your design achieves this."
   ]
  }
 ],
 "metadata": {
  "kernelspec": {
   "display_name": "Python 3",
   "language": "python",
   "name": "python3"
  },
  "language_info": {
   "codemirror_mode": {
    "name": "ipython",
    "version": 3
   },
   "file_extension": ".py",
   "mimetype": "text/x-python",
   "name": "python",
   "nbconvert_exporter": "python",
   "pygments_lexer": "ipython3",
   "version": "3.8.2"
  }
 },
 "nbformat": 4,
 "nbformat_minor": 4
}
