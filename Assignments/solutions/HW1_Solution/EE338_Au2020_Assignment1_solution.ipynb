{
 "cells": [
  {
   "cell_type": "markdown",
   "metadata": {},
   "source": [
    "<center><b>EE 538 Spring 2020<br>\n",
    "Analog Circuits for Sensor Systems<br>\n",
    "University of Washington Electrical & Computer Engineering</b></center>\n"
   ]
  },
  {
   "cell_type": "markdown",
   "metadata": {},
   "source": [
    "<b>Instructor: Jason Silver<br>\n",
    "Assignment #1 (10 points)<br>\n",
    "Due Sunday, October 11 (Submit on Canvas as a Jupyter Notebook)</b> "
   ]
  },
  {
   "cell_type": "markdown",
   "metadata": {},
   "source": [
    "*Please show your work*"
   ]
  },
  {
   "cell_type": "markdown",
   "metadata": {},
   "source": [
    "<b>Problem 1: Sensor interfaces, loading, frequency response"
   ]
  },
  {
   "cell_type": "markdown",
   "metadata": {},
   "source": [
    "<center><img src=\"img/HW1_photodiode.png\" width=400></center>"
   ]
  },
  {
   "cell_type": "markdown",
   "metadata": {},
   "source": [
    "Photodiodes, which are used to convert light into electric current, are typically modeled as shown above, as current sources in parallel with a \"small-signal\" resistance and a junction capacitance. The resistance and capacitance exhibited by the diode are in general nonlinear, such that the linear approximations shown here are valid only over a narrow range of currents/voltages. For the purposes of analysis and design, we treat them as simple passive components $r_d$ and $c_j$."
   ]
  },
  {
   "cell_type": "markdown",
   "metadata": {},
   "source": [
    "<u>*Analysis*</u>"
   ]
  },
  {
   "cell_type": "markdown",
   "metadata": {},
   "source": [
    "__a)__ Determine an expression for the the transfer function $\\dfrac{V_{in}}{I_d}(s)$ in terms of $r_d$, $c_j$, and $R_{in}$."
   ]
  },
  {
   "cell_type": "markdown",
   "metadata": {},
   "source": [
    "*Solution:*\n",
    "\n",
    "The voltage $V_{in}$ is equal to the total current $i_d$ multiplied by the parallel impedance of $r_d$, $c_j$, and $R_{in}$:\n",
    "\n",
    "$$ V_{in}(s) = \\left(r_d||\\dfrac{1}{sc_j}||R_{in}\\right) \\cdot I_d(s) $$\n",
    "\n",
    "The transfer function is thus\n",
    "\n",
    "$$ \\dfrac{V_{in}}{I_d}(s) = \\left(r_d||\\dfrac{1}{sc_j}||R_{in}\\right) = \\dfrac{R_p}{sc_jR_p+1} $$\n",
    "\n",
    "where\n",
    "\n",
    "$$ R_p = \\dfrac{r_dR_{in}}{r_d+R_{in}} $$\n",
    "\n",
    "The transfer function suggests that at DC (s = 0) the voltage $V_{in}$ is just the diode current $i_d$ multiplied by the parallel combination of $r_j$ and $R_{in}$. At higher frequencies, $V_{in}$ becomes attenuated due to the reduced impedance of $c_j$."
   ]
  },
  {
   "cell_type": "markdown",
   "metadata": {},
   "source": [
    "__b)__ Let $r_d = 10k\\Omega$, $c_j = 1pF$, and $R_{in} = 1k\\Omega$. Use *Python* to plot the magnitude and phase of the transfer function $\\dfrac{V_{in}}{I_d}(s)$. What is the 3db-bandwidth ($\\omega_0 = 1/\\tau$) of the magnitude response?  "
   ]
  },
  {
   "cell_type": "markdown",
   "metadata": {},
   "source": [
    "*Solution:*"
   ]
  },
  {
   "cell_type": "code",
   "execution_count": 6,
   "metadata": {},
   "outputs": [
    {
     "data": {
      "text/plain": [
       "Text(0.5, 0, 'Frequency [Hz]')"
      ]
     },
     "execution_count": 6,
     "metadata": {},
     "output_type": "execute_result"
    },
    {
     "data": {
      "image/png": "[encoded data removed]",
      "text/plain": [
       "<Figure size 432x288 with 2 Axes>"
      ]
     },
     "metadata": {
      "needs_background": "light"
     },
     "output_type": "display_data"
    }
   ],
   "source": [
    "%matplotlib notebook\n",
    "%matplotlib inline\n",
    "import matplotlib.pyplot as plt\n",
    "import numpy as np\n",
    "from scipy import signal\n",
    "\n",
    "r_d = 10e3\n",
    "c_j = 1e-12\n",
    "R_in = 1e3\n",
    "R_p = r_d*R_in/(r_d+R_in)\n",
    "\n",
    "tf = signal.TransferFunction([R_p],[c_j*R_p, 1])\n",
    "w, mag, phase = tf.bode() \n",
    "f = w/np.pi/2\n",
    "\n",
    "fig, ax = plt.subplots(2)\n",
    "ax[0].semilogx(f, mag)\n",
    "ax[0].grid()\n",
    "ax[0].set_ylabel('Magnitude [dB]')\n",
    "\n",
    "ax[1].semilogx(f, phase)\n",
    "ax[1].grid()\n",
    "ax[1].set_ylabel('Phase [$\\circ$]')\n",
    "ax[1].set_xlabel('Frequency [Hz]')\n"
   ]
  },
  {
   "cell_type": "markdown",
   "metadata": {},
   "source": [
    "To determine the 3dB bandwidth, we find the frequency at which the transfer function magnitude is reduced by $\\frac{1}{\\sqrt{2}}$. For a first-order system, this is just $\\omega_0$:"
   ]
  },
  {
   "cell_type": "code",
   "execution_count": 7,
   "metadata": {},
   "outputs": [
    {
     "name": "stdout",
     "output_type": "stream",
     "text": [
      "The 3dB frequency is 175.07043740108486 MHz\n"
     ]
    }
   ],
   "source": [
    "tau = R_p*c_j\n",
    "w_0 = 1/tau\n",
    "f_3dB = w_0/2/np.pi\n",
    "print('The 3dB frequency is', 1e-6*f_3dB, 'MHz')"
   ]
  },
  {
   "cell_type": "markdown",
   "metadata": {},
   "source": [
    "<u>*Design*</u>"
   ]
  },
  {
   "cell_type": "markdown",
   "metadata": {},
   "source": [
    "__c)__ For the values of $r_d$ and $R_{in}$ in *Part b*, by what percentage is the diode current attenuated due to loading at DC ($f = 0$)? That is, what percentage of $i_d$ is \"lost\" due to the finite output resistance ($r_d$) of the diode? \n",
    "\n",
    "Calculate a new value of $R_{in}$ that results in only 0.1% attenuation of the diode current at DC.\n",
    "\n",
    "*Note: For DC calculations you can ignore the presence of $c_j$, because its impedance magnitude $\\left|\\frac{1}{j\\omega c_j}\\right|$ is infinite.*"
   ]
  },
  {
   "cell_type": "markdown",
   "metadata": {},
   "source": [
    "*Solution:*\n",
    "\n",
    "At DC, the current divider expression becomes greatly simplified due to the lack of any contribution from the capacitor $c_j$:\n",
    "\n",
    "$$ I_{in}(s=0) = \\dfrac{r_d}{R_{in}+r_d}\\cdot i_d $$\n",
    "\n",
    "The attenuation of the current is determined by the ratio of $r_d$ to the sum of $r_d$ and $R_{in}$:"
   ]
  },
  {
   "cell_type": "code",
   "execution_count": 8,
   "metadata": {},
   "outputs": [
    {
     "name": "stdout",
     "output_type": "stream",
     "text": [
      "i_in =  0.9090909090909091 x i_d\n"
     ]
    }
   ],
   "source": [
    "i_in_DC = r_d/(R_in + r_d)\n",
    "print('i_in = ', i_in_DC, 'x i_d')"
   ]
  },
  {
   "cell_type": "markdown",
   "metadata": {},
   "source": [
    "which results in an attenuation of about __9%__."
   ]
  },
  {
   "cell_type": "markdown",
   "metadata": {},
   "source": [
    "For only 0.1% attenuation, we want 99.9% of $i_d$ to flow through $R_{in}$:\n",
    "\n",
    "$$\\dfrac{r_d}{r_d+R_{in}} = 0.999 $$"
   ]
  },
  {
   "cell_type": "code",
   "execution_count": 9,
   "metadata": {},
   "outputs": [
    {
     "name": "stdout",
     "output_type": "stream",
     "text": [
      "The new value of Rin is 10.01001001001001 Ohms\n"
     ]
    }
   ],
   "source": [
    "R_in_new = 0.001*r_d/0.999\n",
    "print('The new value of Rin is', R_in_new, 'Ohms')"
   ]
  },
  {
   "cell_type": "markdown",
   "metadata": {},
   "source": [
    "__d)__ Using the value of $R_{in}$ calculated in *Part c*, use *Python* to plot the magnitude and phase of the transfer function. Build the circuit in SPICE and run an AC simulation. Ensure that the magnitude/phase responses agree with those from your analytical (*Python*) model."
   ]
  },
  {
   "cell_type": "markdown",
   "metadata": {},
   "source": [
    "*Solution:*"
   ]
  },
  {
   "cell_type": "code",
   "execution_count": 10,
   "metadata": {},
   "outputs": [
    {
     "data": {
      "text/plain": [
       "Text(0.5, 0, 'Frequency [Hz]')"
      ]
     },
     "execution_count": 10,
     "metadata": {},
     "output_type": "execute_result"
    },
    {
     "data": {
      "image/png": "[encoded data removed]",
      "text/plain": [
       "<Figure size 432x288 with 2 Axes>"
      ]
     },
     "metadata": {
      "needs_background": "light"
     },
     "output_type": "display_data"
    }
   ],
   "source": [
    "r_d = 10e3\n",
    "c_j = 1e-12\n",
    "R_in = 10\n",
    "R_p = r_d*R_in/(r_d+R_in)\n",
    "\n",
    "tf = signal.TransferFunction([R_p],[c_j*R_p, 1])\n",
    "w, mag, phase = tf.bode() \n",
    "f = w/np.pi/2\n",
    "\n",
    "fig, ax = plt.subplots(2)\n",
    "ax[0].semilogx(f, mag)\n",
    "ax[0].grid()\n",
    "ax[0].set_ylabel('Magnitude [dB]')\n",
    "\n",
    "ax[1].semilogx(f, phase)\n",
    "ax[1].grid()\n",
    "ax[1].set_ylabel('Phase [$\\circ$]')\n",
    "ax[1].set_xlabel('Frequency [Hz]')\n"
   ]
  },
  {
   "cell_type": "markdown",
   "metadata": {},
   "source": [
    "Build the circuit in Spice and run ac simulation. Simulation schematic and set-up in LTSpice:"
   ]
  },
  {
   "cell_type": "markdown",
   "metadata": {},
   "source": [
    "<center><img src=\"img/HW1_sch.png\" width=1000></center>"
   ]
  },
  {
   "cell_type": "markdown",
   "metadata": {},
   "source": [
    "<font color='black'>Simulation results including magnitude/phase response in LTSpice:</font>"
   ]
  },
  {
   "cell_type": "markdown",
   "metadata": {},
   "source": [
    "<center><img src=\"img/HW1_ac.png\" width=1000></center>"
   ]
  },
  {
   "cell_type": "markdown",
   "metadata": {},
   "source": [
    "Import data from LTSpice and plot it in Python:"
   ]
  },
  {
   "cell_type": "code",
   "execution_count": 11,
   "metadata": {
    "scrolled": true,
    "slideshow": {
     "slide_type": "fragment"
    }
   },
   "outputs": [],
   "source": [
    "import pandas as pd\n",
    "import numpy as np\n",
    "V_out = pd.read_csv('HW1.csv')"
   ]
  },
  {
   "cell_type": "code",
   "execution_count": 12,
   "metadata": {},
   "outputs": [
    {
     "data": {
      "text/plain": [
       "Text(0.5, 0, 'Frequency [Hz]')"
      ]
     },
     "execution_count": 12,
     "metadata": {},
     "output_type": "execute_result"
    },
    {
     "data": {
      "image/png": "[encoded data removed]",
      "text/plain": [
       "<Figure size 432x288 with 2 Axes>"
      ]
     },
     "metadata": {
      "needs_background": "light"
     },
     "output_type": "display_data"
    }
   ],
   "source": [
    "\n",
    "fig, ax = plt.subplots(2)\n",
    "ax[0].semilogx(V_out['freq'], V_out['mag'])\n",
    "ax[0].grid()\n",
    "ax[0].set_ylabel('Magnitude [dB]')\n",
    "\n",
    "ax[1].semilogx(V_out['freq'], V_out['phase'])\n",
    "ax[1].grid()\n",
    "ax[1].set_ylabel('Phase [$\\circ$]')\n",
    "ax[1].set_xlabel('Frequency [Hz]')\n"
   ]
  },
  {
   "cell_type": "markdown",
   "metadata": {},
   "source": [
    "Simulation results in LTSpice matches well with the analytical model in Python in terms of low frequency gain, bandwidth, phase."
   ]
  },
  {
   "cell_type": "markdown",
   "metadata": {},
   "source": [
    "<br><br>*Suggestion: Try using Latex for displaying mathematical expressions and equations. One nice feature of Jupyter Notebooks is its ability to incorporate both code and \"markup,\" used for formatting text, into the same document. Some examples of Latex are given above in the problem descriptions. You can press Return or double click a cell to see the markup, then use Shift-Return to view the formatted version. Here are a few more examples:*\n",
    "\n",
    "\\begin{equation}\n",
    "j = \\sqrt{-1} \\\\\n",
    "V = IR \\\\\n",
    "I_C = C \\cdot \\frac{dV}{dt} \n",
    "\\end{equation}"
   ]
  },
  {
   "cell_type": "code",
   "execution_count": null,
   "metadata": {},
   "outputs": [],
   "source": []
  }
 ],
 "metadata": {
  "kernelspec": {
   "display_name": "Python 3",
   "language": "python",
   "name": "python3"
  },
  "language_info": {
   "codemirror_mode": {
    "name": "ipython",
    "version": 3
   },
   "file_extension": ".py",
   "mimetype": "text/x-python",
   "name": "python",
   "nbconvert_exporter": "python",
   "pygments_lexer": "ipython3",
   "version": "3.7.4"
  }
 },
 "nbformat": 4,
 "nbformat_minor": 4
}
