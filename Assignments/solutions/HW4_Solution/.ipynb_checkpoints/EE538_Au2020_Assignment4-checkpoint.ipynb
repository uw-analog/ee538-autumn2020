{
 "cells": [
  {
   "cell_type": "markdown",
   "metadata": {},
   "source": [
    "<center><b>EE 538 Autumn 2020<br>\n",
    "Analog Circuits for Sensor Systems<br>\n",
    "University of Washington Electrical & Computer Engineering</b></center>\n"
   ]
  },
  {
   "cell_type": "markdown",
   "metadata": {},
   "source": [
    "<b>Instructor: Jason Silver<br>\n",
    "Assignment #4 (10 points)<br>\n",
    "Due Sunday, November 1 (Submit on Canvas as a Jupyter Notebook)</b> "
   ]
  },
  {
   "cell_type": "markdown",
   "metadata": {},
   "source": [
    "*Please show your work*"
   ]
  },
  {
   "cell_type": "markdown",
   "metadata": {},
   "source": [
    "<b>Problem 1: Analysis of inverting and non-inverting amplifier structures"
   ]
  },
  {
   "cell_type": "markdown",
   "metadata": {
    "cell_style": "split"
   },
   "source": [
    "<center><img src=\"img/HW4_non_inverting.png\" width=400></center>\n",
    "<br>\n",
    "<center><b> Figure 1a. Non-inverting amplifier</center>"
   ]
  },
  {
   "cell_type": "markdown",
   "metadata": {
    "cell_style": "split"
   },
   "source": [
    "<center><img src=\"img/HW4_inverting.png\" width=400></center>\n",
    "<br>\n",
    "<center><b> Figure 1b. Inverting amplifier</center>"
   ]
  },
  {
   "cell_type": "markdown",
   "metadata": {},
   "source": [
    "Most closed-loop amplifiers involving opamps are some variation on either the inverting or non-inverting amplifier. For this reason, it is import to be familiar with these structures and their characteristics. \n",
    "\n",
    "For the following, $R_1 = 1k\\Omega$ and $R_2 = 9k\\Omega$\n",
    "\n",
    "For the opamp(s), DC open-loop gain $A_0 = 10^6 V/V$, open-loop input resistance $R_{in} \\rightarrow \\infty$, and open-loop output resistance $R_{out} = 1k\\Omega$"
   ]
  },
  {
   "cell_type": "markdown",
   "metadata": {},
   "source": [
    "<u>*DC Analysis*</u>"
   ]
  },
  {
   "cell_type": "markdown",
   "metadata": {},
   "source": [
    "__a)__ Determine the *closed-loop* gain, input resistance, and output resistance of each amplifier."
   ]
  },
  {
   "cell_type": "markdown",
   "metadata": {},
   "source": [
    "*Solution:*\n",
    "\n",
    "<b>Noninverting amplifier:\n",
    "  \n",
    "Calculate the closed-loop gain:\n",
    "$$(v_{in}-\\frac{R_1}{R_{1}+R_2}v_{out})A_{0}=v_{out}$$\n",
    "Then close-loop gain of non-inverting amplifier is: \n",
    "$$\\frac{v_{out}}{v_{in}}=\\frac{A_0}{1+\\frac{R_1}{R_{1}+R_{2}}A_0}\\approx \\frac{R_{1}+R_2}{R_1}=\\frac{1}{\\beta}=10$$"
   ]
  },
  {
   "cell_type": "markdown",
   "metadata": {},
   "source": [
    "Calculate input resistance and output resistance (more details can be found in the lecture note):\n",
    "\n",
    "$$R_{in}=(1+\\beta A_{0})R_{in}=\\rightarrow \\infty$$\n",
    "\n",
    "$$R_{out}=(R_{1}+R_{2})||\\frac{R_{out}}{1+\\beta A_0}\\approx 0.01 \\Omega $$\n",
    "    "
   ]
  },
  {
   "cell_type": "markdown",
   "metadata": {},
   "source": [
    "<b>Inverting amplifier:\n",
    "  \n",
    "Calculate the closed-loop gain:\n",
    "$$\\frac{v_{in}-v^-}{R_1}=\\frac{v^{-}-v_{out}}{R_2}$$\n",
    "\n",
    "$$v_{out}=-A_{0}v^-$$\n",
    "    \n",
    "Then close-loop gain of non-inverting amplifier is: \n",
    "$$\\frac{v_{out}}{v_{in}}=-\\frac{R_2}{R_1}\\frac{1}{1+\\frac{1}{A_{0}}(1+\\frac{R_2}{R_1})}$$\n",
    "\n",
    "Close loop gain is about $9$. Inverting amplifier is a shunt-shunt feedback."
   ]
  },
  {
   "cell_type": "markdown",
   "metadata": {},
   "source": [
    "Calculate input resistance:"
   ]
  },
  {
   "cell_type": "markdown",
   "metadata": {},
   "source": [
    "$$\\frac{v_{in}-v^-}{R_1}=\\frac{v^{-}-v_{out}}{R_2}$$\n",
    "\n",
    "$$v_{out}=-A_{0}v^-$$\n",
    "\n",
    "$$i_{t}=\\frac{v_{in}-v^{-}}{R_1}$$\n",
    "    \n",
    "Then input resistance of non-inverting amplifier is: \n",
    "$$\\frac{v_{in}}{i_{t}}=R_{1}+\\frac{R_2}{1+A_0}\\approx R_{1}=1000\\Omega$$\n"
   ]
  },
  {
   "cell_type": "markdown",
   "metadata": {},
   "source": [
    "Calculate output resistance (which actually the same as the non-inverting amplifier):"
   ]
  },
  {
   "cell_type": "markdown",
   "metadata": {},
   "source": [
    "$$i_{t}=\\frac{v_{out}}{R_{1}+R_{2}}+\\frac{v_{out}-(-\\frac{R_1}{R_{1}+R_{2}}A_{0}v_{out})}{R_{out}}$$\n",
    "\n",
    "Then output resistance of non-inverting amplifier is: \n",
    "$$\\frac{v_{out}}{i_{t}}=(R_{1}+R_{2})||\\frac{R_{out}}{1+\\beta A_{0}}\\approx R_{1}=0.01\\Omega$$\n"
   ]
  },
  {
   "cell_type": "markdown",
   "metadata": {},
   "source": [
    "__b)__ If the opamp has a voltage offset $v_{os} = 1mV$ and input bias current $I_b = 1nA$, determine the total output offset voltage for each strucutre. It will be helpful to use superposition for this."
   ]
  },
  {
   "cell_type": "markdown",
   "metadata": {},
   "source": [
    "*Solution:*\n",
    "\n",
    "We can use superposition idea for this problem. To calculate the total offset voltage, input voltage will be short to ground, so the total output offset voltage for will be the same for the two structure.\n",
    "\n",
    "Calculate output offset voltage by input offset voltage:"
   ]
  },
  {
   "cell_type": "markdown",
   "metadata": {
    "cell_style": "split"
   },
   "source": [
    "<center><img src=\"img/HW4_offset.png\" width=400></center>"
   ]
  },
  {
   "cell_type": "markdown",
   "metadata": {
    "cell_style": "split"
   },
   "source": [
    "$$v_{out}(v_{os})=(1+\\frac{R_2}{R_1})v_{os}$$"
   ]
  },
  {
   "cell_type": "markdown",
   "metadata": {},
   "source": [
    "Calculate output offset voltage by input bias current:"
   ]
  },
  {
   "cell_type": "markdown",
   "metadata": {
    "cell_style": "split"
   },
   "source": [
    "<center><img src=\"img/HW4_bias.png\" width=400></center>"
   ]
  },
  {
   "cell_type": "markdown",
   "metadata": {},
   "source": [
    "$$v_{out}(I_{B})=I_{B}R_2$$\n",
    "\n",
    "The total output offset voltage calculated by superposition theorem:\n",
    "\n",
    "$$v_{out}=v_{out}(v_{os})+v_{out}(I_{B})=(1+\\frac{R_2}{R_1})v_{os}+I_{B}R_2\\approx 10mV$$"
   ]
  },
  {
   "cell_type": "markdown",
   "metadata": {},
   "source": [
    "<b>Problem 2: Sensor amplification"
   ]
  },
  {
   "cell_type": "markdown",
   "metadata": {},
   "source": [
    "<center><img src=\"img/HW4_sensor_amplification.png\" width=400></center>"
   ]
  },
  {
   "cell_type": "markdown",
   "metadata": {},
   "source": [
    "The non-inverting amplifier structure has the advantage of high input impedance, making it suitable for interfacing with sensors with high output resistance.\n",
    "\n",
    "Opamps have limits in terms of both output voltage and current that need to be considered when designing ampifier circuits.\n",
    "\n",
    "For the sensor, $V_{S,DC} = 0V$ ($R_S$ is included for conceptual purposes only - it won't affect any of your calculations).\n",
    "\n",
    "For the opamp, $A_0 = 10^6 V/V$, $f_t = 10 MHz$, open-loop input resistance $R_{in} \\rightarrow \\infty$, and open-loop output resistance $R_{out} = 0\\Omega$\n"
   ]
  },
  {
   "cell_type": "markdown",
   "metadata": {},
   "source": [
    "<u>*Design/Simulation*</u>"
   ]
  },
  {
   "cell_type": "markdown",
   "metadata": {},
   "source": [
    "__a)__ Assuming an input signal range of $\\pm 100mV$, design the amplifier (i.e. determine the ratio $R_2$/$R_1$gain) that maximizes the gain while ensuring the output voltage never exceeds 80% of the supply rails of $\\pm 5V$.\n",
    "\n",
    "Assuming the opamp has a maximum output current of $10mA$, determine appropriate values for $R_1$ and $R_2$ to ensure the output current never exceeds 80% of the $10mA$ limit."
   ]
  },
  {
   "cell_type": "markdown",
   "metadata": {},
   "source": [
    "*Solution:*\n",
    "\n",
    "First determine $\\frac{R_2}{R_1}$ by using the voltage limit:\n",
    "\n",
    "$$v_{out}=(1+\\frac{R_2}{R_1})v_{s}$$\n",
    "\n",
    "$v_s$ is $100mV$, and $v_{out,max}=5*0.8=4V$, so $\\frac{R_2}{R_1}=\\frac{4}{0.1}-1=39$.\n",
    "\n",
    "Then dertermine vaules of $R_2$ and $R_1$ by using the current limit:\n",
    "\n",
    "$$I_{out}=\\frac{V_{out,max}}{R_{1}+R_{2}}=0.8I_{max}=8mA$$\n",
    "\n",
    "So the minimum of $R_{1}+R_{2}=\\frac{4V}{8mA}=500\\Omega$, and $R_{1}=12.5\\Omega$, $R_{2}=487.5\\Omega$."
   ]
  },
  {
   "cell_type": "markdown",
   "metadata": {},
   "source": [
    "__b)__ Derive an expression for the closed-loop gain of the amplifier as a function of frequency. Plot the gain and phase of the amplifier using Python. Calculate the frequency at which the amplifier closed-loop gain becomes 1% lower than the ideal value calculated in *Part a*."
   ]
  },
  {
   "cell_type": "markdown",
   "metadata": {},
   "source": [
    "*Solution:*\n",
    "\n",
    "The close-loop transfer function of $\\frac{v_{out}}{v_{in}}$:\n",
    "\n",
    "$$G(s)=\\frac{v_{out}}{v_{in}}=\\frac{A_0}{1+\\beta A_{0}+\\frac{s}{\\omega _{0}}}$$\n",
    "\n",
    "where $\\beta=\\frac{R_1}{R_{1}+R_{2}}$, $\\omega _{0}=\\frac{\\omega _{t}}{A_0}$, $\\omega _{t}=2\\pi f_{t}$"
   ]
  },
  {
   "cell_type": "markdown",
   "metadata": {},
   "source": [
    "Calculate the frequency when the gain drops by 1%:\n",
    "\n",
    "$$|\\frac{A_0}{1+\\beta A_{0}+\\frac{s}{\\omega _{0}}}|=39.6$$\n",
    "\n",
    "Then $f=35.7kHz$.\n",
    "\n",
    "Plot the gain and phase of the amplifier using Python:"
   ]
  },
  {
   "cell_type": "code",
   "execution_count": 2,
   "metadata": {},
   "outputs": [],
   "source": [
    "%matplotlib notebook\n",
    "%matplotlib inline\n",
    "import matplotlib.pyplot as plt\n",
    "import numpy as np\n",
    "from scipy import signal"
   ]
  },
  {
   "cell_type": "code",
   "execution_count": 3,
   "metadata": {
    "slideshow": {
     "slide_type": "skip"
    }
   },
   "outputs": [],
   "source": [
    "def plot_logxy2(x1, y1, x2, y2, x1label, y1label, x2label, y2label):\n",
    "    fig, ax = plt.subplots(2, figsize = (10.0, 7.5));\n",
    "    ax[0].semilogx(x1, y1, 'b');\n",
    "    ax[0].set_ylabel(y1label)\n",
    "    ax[0].grid()\n",
    "    \n",
    "    ax[1].semilogx(x2, y2, 'b');\n",
    "    ax[1].set_xlabel(x1label)\n",
    "    ax[1].set_xlabel(x2label);\n",
    "    ax[1].set_ylabel(y2label);\n",
    "    ax[1].grid();\n",
    "    \n",
    "    fig.align_ylabels(ax[:])"
   ]
  },
  {
   "cell_type": "code",
   "execution_count": 4,
   "metadata": {},
   "outputs": [],
   "source": [
    "R1=12.5\n",
    "R2=487.5\n",
    "beta=R1/(R1+R2)\n",
    "A0=1e6\n",
    "ft=10e6\n",
    "w0=2*np.pi*ft/A0\n"
   ]
  },
  {
   "cell_type": "code",
   "execution_count": 5,
   "metadata": {},
   "outputs": [
    {
     "data": {
      "image/png": "[encoded data removed]",
      "text/plain": [
       "<Figure size 720x540 with 2 Axes>"
      ]
     },
     "metadata": {
      "needs_background": "light"
     },
     "output_type": "display_data"
    }
   ],
   "source": [
    "\n",
    "f = np.logspace(0,8, num=100)\n",
    "A_v = signal.TransferFunction([A0], [1/w0, 1+beta*A0])\n",
    "w, mag, phase = A_v.bode(w=f*2*np.pi)               \n",
    "plot_logxy2(f, mag, f, phase, 'Frequency [Hz]', 'Magnitude [dB]',\n",
    "           'Frequency [Hz]', 'Phase [deg]')"
   ]
  },
  {
   "cell_type": "code",
   "execution_count": 6,
   "metadata": {},
   "outputs": [
    {
     "name": "stdout",
     "output_type": "stream",
     "text": [
      "40370.17258596558\n",
      "250010.0\n"
     ]
    }
   ],
   "source": [
    "G_linear=10**(mag/20)\n",
    "G0=40\n",
    "G1=G0*0.99\n",
    "for i in range(len(mag)):\n",
    "    if G_linear[i]<G1:\n",
    "        w1=w[i]\n",
    "        break\n",
    "f1=w1/2/np.pi\n",
    "f_3db=w0*(1+beta*A0)/2/np.pi\n",
    "print(f1)\n",
    "print(f_3db)"
   ]
  },
  {
   "cell_type": "code",
   "execution_count": 7,
   "metadata": {
    "slideshow": {
     "slide_type": "fragment"
    }
   },
   "outputs": [
    {
     "name": "stdout",
     "output_type": "stream",
     "text": [
      "The frequency at which the close loop gain becomes 1% than the ideal gain is 4.04e+04 Hz\n"
     ]
    }
   ],
   "source": [
    "print('The frequency at which the close loop gain becomes 1% lower than the ideal gain is', f'{f1:0.3}', 'Hz')"
   ]
  },
  {
   "cell_type": "code",
   "execution_count": 8,
   "metadata": {
    "slideshow": {
     "slide_type": "fragment"
    }
   },
   "outputs": [
    {
     "name": "stdout",
     "output_type": "stream",
     "text": [
      "The close loop bandwidth is 2.5e+05 Hz\n"
     ]
    }
   ],
   "source": [
    "print('The close loop bandwidth is', f'{f_3db:0.4}', 'Hz')"
   ]
  },
  {
   "cell_type": "markdown",
   "metadata": {},
   "source": [
    "__c)__ Verify your design in LTspice using the *UniversalOpamp2* component. Show that your design meets the requirements by running an AC simulation with the DC value of $V_S$ set to $100mV$. Include a schematic showing the resistor values and DC node voltages along with your AC simulation results."
   ]
  },
  {
   "cell_type": "markdown",
   "metadata": {},
   "source": [
    "*Solution:*\n",
    "\n",
    "Verify the analysis in the LTSpice simulation:"
   ]
  },
  {
   "cell_type": "markdown",
   "metadata": {},
   "source": [
    "<center><img src=\"img/HW4_2b_dc.png\" width=600></center>"
   ]
  },
  {
   "cell_type": "markdown",
   "metadata": {},
   "source": [
    "<center><img src=\"img/HW4_2b_ac.png\" width=1600></center>"
   ]
  },
  {
   "cell_type": "markdown",
   "metadata": {},
   "source": [
    "DC simulation results show the output current and voltage do not exceed the 80% limit. AC simulation plots the gain in linear scale and the frequency where close loop gain becomes 1% lower than the ideal gain is around 33kHz. "
   ]
  },
  {
   "cell_type": "markdown",
   "metadata": {},
   "source": [
    "__*Bonus* (1 point)__: Propose a design that achieves the same gain with at least 2x the bandwidth using the <u>same opamp specs</u>. Provide a schematic and AC simulation results that show your design achieves this."
   ]
  },
  {
   "cell_type": "markdown",
   "metadata": {},
   "source": [
    "*Solution:*\n",
    "\n",
    "One way to improve the bandwidth is by cascading two amplifier stages. Assuming each stage provides gain of $\\sqrt {40}$ that is about $6.33$, the close-loop BW of each stage will become: \n",
    "\n",
    "$$f_{3dB,0}=\\frac{f_{t}}{G_0}=\\frac{10e6}{6.33}=1.58MHz$$\n",
    "\n",
    "The BW of two cascadede stages amplifier is :\n",
    "\n",
    "$$f_{3dB,2}=\\sqrt{\\sqrt{2}-1}f_{3dB,0}$$"
   ]
  },
  {
   "cell_type": "code",
   "execution_count": 8,
   "metadata": {},
   "outputs": [
    {
     "name": "stdout",
     "output_type": "stream",
     "text": [
      "1017611.864088041\n"
     ]
    }
   ],
   "source": [
    "Gt=40\n",
    "G0=np.sqrt(40)\n",
    "f_3db_old=f_3db\n",
    "#print(f_3db_old)\n",
    "f_3db0=ft/G0\n",
    "#print(f_3db0)\n",
    "f_3db2=np.sqrt(np.sqrt(2)-1)*f_3db0\n",
    "print(f_3db2)"
   ]
  },
  {
   "cell_type": "code",
   "execution_count": 9,
   "metadata": {
    "slideshow": {
     "slide_type": "fragment"
    }
   },
   "outputs": [
    {
     "name": "stdout",
     "output_type": "stream",
     "text": [
      "The BW of single stage amplfier is 2.5e+05 Hz\n",
      "The BW of two cascaded amplfier is 1.018e+06 Hz\n"
     ]
    }
   ],
   "source": [
    "print('The BW of single stage amplfier is', f'{f_3db:0.4}', 'Hz')\n",
    "print('The BW of two cascaded amplfiers is', f'{f_3db2:0.4}', 'Hz')"
   ]
  },
  {
   "cell_type": "markdown",
   "metadata": {},
   "source": [
    "Verify in the simulation and $R_1$ and $R_2$ are selected to meet the requriement:"
   ]
  },
  {
   "cell_type": "markdown",
   "metadata": {},
   "source": [
    "<center><img src=\"img/HW4_Bonus.png\" width=1600></center>"
   ]
  },
  {
   "cell_type": "markdown",
   "metadata": {},
   "source": [
    "By cascading two stages and choosing the R1 and R2 properly, the BW is improved from 226kHz to 971kHz with the same gain. "
   ]
  },
  {
   "cell_type": "code",
   "execution_count": null,
   "metadata": {},
   "outputs": [],
   "source": []
  }
 ],
 "metadata": {
  "kernelspec": {
   "display_name": "Python 3",
   "language": "python",
   "name": "python3"
  },
  "language_info": {
   "codemirror_mode": {
    "name": "ipython",
    "version": 3
   },
   "file_extension": ".py",
   "mimetype": "text/x-python",
   "name": "python",
   "nbconvert_exporter": "python",
   "pygments_lexer": "ipython3",
   "version": "3.8.2"
  }
 },
 "nbformat": 4,
 "nbformat_minor": 4
}
