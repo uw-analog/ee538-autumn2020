{
 "cells": [
  {
   "cell_type": "markdown",
   "metadata": {},
   "source": [
    "<center><b>EE 538 Autumn 2020<br>\n",
    "Analog Circuits for Sensor Systems<br>\n",
    "University of Washington Electrical & Computer Engineering</b></center>\n"
   ]
  },
  {
   "cell_type": "markdown",
   "metadata": {},
   "source": [
    "<b>Instructor: Jason Silver<br>\n",
    "Assignment #6 (10 points)<br>\n",
    "Due Sunday, November 15 (Submit on Canvas as a Jupyter Notebook)</b> "
   ]
  },
  {
   "cell_type": "markdown",
   "metadata": {},
   "source": [
    "*Please show your work*"
   ]
  },
  {
   "cell_type": "markdown",
   "metadata": {},
   "source": [
    "<b>Problem 1: Photodiode application"
   ]
  },
  {
   "cell_type": "markdown",
   "metadata": {
    "cell_style": "center"
   },
   "source": [
    "<center><img src=\"img/HW6_photodiode_amplifier.png\" width=600></center>\n",
    "<br>\n",
    "<center><b> Figure 1. Photodiode amplification circuit</center>"
   ]
  },
  {
   "cell_type": "markdown",
   "metadata": {},
   "source": [
    "A photodiode is a $pn$ junction that converts photons (light) into electrical current. In most applications, photodiodes are *reverse-biased*, such that the voltage from anode to cathode is zero or negative. The *spectral sensitivity* of the diode is the gain in converting *incident radiant power* ($W$) to current ($A$).\n",
    "\n",
    "In Figure 1, a *transimpedance* amplifier ($U_1$ and $R_f$)is used to convert photodiode current into a voltage (units of gain are in $\\Omega$). The second stage ($U_2$, $R_1$, and $R_2$) is used to limit measurement noise bandwidth. Unless otherwise stated, assume that $U_1$ and $U_2$ are ideal and that $R_1$ = $R_2$ = $10k\\Omega$. For the opamp supplies, use $V_{CC} = 5V$ and $V_{EE} = -5V$.\n",
    "\n",
    "The photodiode has a spectral sensitivity of $i_d/P_L = 0.5 A/W$ for the wavelength of interest.\n",
    "\n",
    "*Note*: To determine *input-referred* errors, first determine the error at $V_{out}$ and divide by the DC gain of the circuit (this includes the photodiode gain)."
   ]
  },
  {
   "cell_type": "markdown",
   "metadata": {},
   "source": [
    "<u>*Analysis/Design*</u>"
   ]
  },
  {
   "cell_type": "markdown",
   "metadata": {},
   "source": [
    "__a)__ Assuming the maximum incident radiant power for the application is $P_L = 100\\mu W$, design the transimpedance amplifier (i.e determine a value for $R_f$) to maximize gain while ensuring that the output voltage *magnitude* does not exceed $4V$ (note that if $i_d$ is positive, $V_{out}$ will be less than $0$). \n",
    "\n",
    "Calculate the value of $C_1$ that results in a $3dB$ bandwith of $10kHz$."
   ]
  },
  {
   "cell_type": "markdown",
   "metadata": {},
   "source": [
    "*Solution:*\n",
    "  \n",
    "The maximum incident radient power of the photodiode is $P_{L}=100\\mu W$, and the maximum photodiode current can be calculated:\n",
    "\n",
    "$$i_{d,max}=\\frac{i_d}{P_L}*P_{L}=0.5*100\\mu =50\\mu A$$\n",
    "\n",
    "The trans-impedance gain of the first stage:\n",
    "\n",
    "$$|\\frac{V_{out1}}{i_d}|=R_{f}$$\n",
    "\n",
    "The DC gain of the second stage:\n",
    "\n",
    "$$|\\frac{V_{out}}{V_{out1}}|=\\frac{R_2}{R_1}=1$$\n",
    "\n",
    "So $R_f$ can be calculated from $V_{out,max}$ and $i_{d,max}$:\n",
    "\n",
    "$$R_{f}=\\frac{V_{out,max}}{i_{d,max}}=\\frac{4}{50\\mu}=80k\\Omega$$"
   ]
  },
  {
   "cell_type": "markdown",
   "metadata": {},
   "source": [
    "The 3dB bandwidth is determined by $R_2$ and $C_1$,\n",
    "\n",
    "$$f_{3dB}=\\frac{1}{2\\pi R_{2}C_{1}}=10kHz$$\n",
    "\n",
    "where $R_{2}=10k\\Omega$, then $C_{1}\\approx 1.6nF$"
   ]
  },
  {
   "cell_type": "markdown",
   "metadata": {},
   "source": [
    "__b)__ Opamp input offset results in an output voltage error, which constitutes a DC measurement error. Calculate the *input-referred* error (in $W$) if $U_1$ has an input offset voltage of $1mV$ and $U_2$ has an input offset of $-1mV$."
   ]
  },
  {
   "cell_type": "markdown",
   "metadata": {},
   "source": [
    "*Solution:*\n",
    "  \n",
    "Use superposition theorem first calculate the output offset voltage from $U_1$:\n",
    "\n",
    "$$v_{out}(v_{os1})=-\\frac{R_2}{R_1}v_{out1}(v_{os1})=-\\frac{R_2}{R_1}v_{os1}=-1mV$$\n",
    "\n",
    "Then calculate the output offset voltage from $U_2$:\n",
    "\n",
    "$$v_{out}(v_{os2})=(1+\\frac{R_2}{R_1})v_{os2}=-2mV$$\n",
    "\n",
    "The total output offset voltage is:\n",
    "\n",
    "$$v_{out,os}=v_{out}(v_{os1})+v_{out}{v_{os2}}=-3mV$$\n",
    "\n",
    "The input referred offset current is determnined by the output offset voltage divided by the gain:\n",
    "\n",
    "$$i_{in,os}=\\frac{-3mV}{80k\\Omega}=-37.5nA$$\n",
    "\n",
    "The input-referred error in power is $\\frac{37.5nA}{0.5\\frac{A}{W}}=75nW$"
   ]
  },
  {
   "cell_type": "markdown",
   "metadata": {},
   "source": [
    "<u>*Design/Simulation*</u>"
   ]
  },
  {
   "cell_type": "markdown",
   "metadata": {},
   "source": [
    "__c)__ Assuming only the resistors contribute noise (opamps and diode are noiseless), calculate the input-referred noise *density* in $W/\\sqrt{Hz}$. Use Python to plot the input noise density as a function of frequency (to do this, divide the output noise density as a function of frequency by the DC gain). Calculate the input-referred $rms$ noise in $W$. \n",
    "\n",
    "Assuming the input signal is an incident light source defined as $P_L = 10 \\mu W \\cdot \\sin{(2\\pi \\cdot 1kHz \\cdot t)}$, what is the signal-to-noise ratio (SNR)? This is defined as the ratio of the $rms$ value of the signal to the $rms$ noise."
   ]
  },
  {
   "cell_type": "markdown",
   "metadata": {},
   "source": [
    "*Solution:*\n",
    " \n",
    " Output noise from $R_f$:\n",
    " \n",
    " $${e_{n,R_{f}}}^2=4kTR_{f}\\cdot (\\frac{R_2}{R_{1}(1+sR_{2}C_{1})})^2 \\frac{V^2}{Hz}$$"
   ]
  },
  {
   "cell_type": "markdown",
   "metadata": {},
   "source": [
    "Output noise from $R_1$:\n",
    " \n",
    " $${e_{n,R_{1}}}^2=4kTR_{1}\\cdot (\\frac{R_2}{R_{1}(1+sR_{2}C_{1})})^2 \\frac{V^2}{Hz}$$"
   ]
  },
  {
   "cell_type": "markdown",
   "metadata": {},
   "source": [
    "Output noise from $R_2$:\n",
    " \n",
    " $${e_{n,R_{2}}}^2=4kTR_{2}\\cdot (\\frac{1}{(1+sR_{2}C_{1})})^2 \\frac{V^2}{Hz}$$"
   ]
  },
  {
   "cell_type": "markdown",
   "metadata": {},
   "source": [
    "The total output noise: \n",
    " $${e_{n,out}}=\\sqrt{{e_{n,R_{f}}}^2+{e_{n,{R_1}}}^2+{e_{n,{R_2}}}^2}$$\n",
    " \n",
    " And the input referred noise in current is:\n",
    " $$i_{n,in}=\\frac{e_{n,out}}{R_f}$$\n",
    " \n",
    " The input referred noise in $\\frac{W}{\\sqrt{Hz}}$ is:\n",
    " $$p_{n,in}=\\frac{i_{n,in}}{0.5}$$"
   ]
  },
  {
   "cell_type": "markdown",
   "metadata": {},
   "source": [
    "Calculate the rms noise and plot the noise spectrum in Python:"
   ]
  },
  {
   "cell_type": "code",
   "execution_count": 3,
   "metadata": {
    "slideshow": {
     "slide_type": "skip"
    }
   },
   "outputs": [],
   "source": [
    "import matplotlib as mpl\n",
    "from matplotlib import pyplot as plt\n",
    "import numpy as np\n",
    "from scipy import signal\n",
    "#%matplotlib notebook\n"
   ]
  },
  {
   "cell_type": "code",
   "execution_count": 22,
   "metadata": {
    "scrolled": true,
    "slideshow": {
     "slide_type": "subslide"
    }
   },
   "outputs": [
    {
     "name": "stdout",
     "output_type": "stream",
     "text": [
      "4.0546269865426586e-08\n",
      "1.0136567466356647e-12\n"
     ]
    }
   ],
   "source": [
    "R2 = 10e3\n",
    "C1 = 1.59e-9\n",
    "tau = R2*C1\n",
    "R1=10e3\n",
    "Rf=80e3\n",
    "kT=4.11e-21\n",
    "outn=np.sqrt(4*kT*Rf*(R2/R1)**2+4*kT*R1*(R2/R1)**2+4*kT*R2)\n",
    "inn=outn/Rf/0.5\n",
    "print(outn)\n",
    "print(inn)"
   ]
  },
  {
   "cell_type": "code",
   "execution_count": 23,
   "metadata": {
    "slideshow": {
     "slide_type": "skip"
    }
   },
   "outputs": [],
   "source": [
    "def plot_logxy2(x1, y1, x1label, y1label):\n",
    "    fig, ax = plt.subplots(figsize = (10.0, 7.5));\n",
    "    ax.semilogx(x1, y1, 'b');\n",
    "    ax.set_ylabel(y1label)\n",
    "    ax.grid()\n",
    "    "
   ]
  },
  {
   "cell_type": "code",
   "execution_count": 24,
   "metadata": {},
   "outputs": [
    {
     "data": {
      "image/png": "[encoded data removed]",
      "text/plain": [
       "<Figure size 720x540 with 1 Axes>"
      ]
     },
     "metadata": {
      "needs_background": "light"
     },
     "output_type": "display_data"
    }
   ],
   "source": [
    "\n",
    "f = np.logspace(0,8, num=100)\n",
    "A_v = signal.TransferFunction([inn], [tau, 1])\n",
    "w, mag, phase = A_v.bode(w=f*2*np.pi)               \n",
    "plot_logxy2(f, 10**(mag/20), 'Frequency [Hz]', 'Noise density [W/sqrt(Hz)]')"
   ]
  },
  {
   "cell_type": "code",
   "execution_count": 25,
   "metadata": {
    "scrolled": true,
    "slideshow": {
     "slide_type": "subslide"
    }
   },
   "outputs": [
    {
     "name": "stdout",
     "output_type": "stream",
     "text": [
      "55631.74013950044\n"
     ]
    }
   ],
   "source": [
    "f3db=1/2/np.pi/tau\n",
    "fenb=np.pi/2*f3db\n",
    "#print(f3db)\n",
    "#print(fenb)\n",
    "Pn_rms=np.sqrt(inn**2*fenb)\n",
    "Ps_rms=0.5*np.sqrt(2)*(10e-6)\n",
    "#print(Pn_rms)\n",
    "#print(Ps_rms)\n",
    "#print(Ps_rms/Pn_rms)\n",
    "SNR=Ps_rms/Pn_rms\n",
    "print(SNR)"
   ]
  },
  {
   "cell_type": "code",
   "execution_count": 26,
   "metadata": {
    "slideshow": {
     "slide_type": "fragment"
    }
   },
   "outputs": [
    {
     "name": "stdout",
     "output_type": "stream",
     "text": [
      "The input referred noise in W is 0.0001271 uW\n",
      "The input signal is 7.0711 uW\n"
     ]
    }
   ],
   "source": [
    "print('The input referred noise in W is', f'{Pn_rms/1e-6:0.5}','uW')\n",
    "print('The input signal is', f'{Ps_rms/1e-6:0.5}', 'uW')"
   ]
  },
  {
   "cell_type": "code",
   "execution_count": 27,
   "metadata": {
    "slideshow": {
     "slide_type": "fragment"
    }
   },
   "outputs": [
    {
     "name": "stdout",
     "output_type": "stream",
     "text": [
      "The signal to noise ratio is 5.5632e+04 W/W which is 94.91 dB\n"
     ]
    }
   ],
   "source": [
    "print('The signal to noise ratio is', f'{SNR:0.5}','W/W','which is',f'{20*np.log10(SNR):0.4}', 'dB')"
   ]
  },
  {
   "cell_type": "markdown",
   "metadata": {},
   "source": [
    "__d)__ Simulate your design in LTspice, using an current source to model $D_1$. Use the *UniversalOpamp2* component provided by LTspice, and assign appropriate values of $V_{os}$ for $U_1$ and $U_2$. In your submission, be sure to include the following:"
   ]
  },
  {
   "cell_type": "markdown",
   "metadata": {},
   "source": [
    "1) Input-referred *current noise density* (this is just the output noise density divided by the DC gain)"
   ]
  },
  {
   "cell_type": "markdown",
   "metadata": {},
   "source": [
    "2) Magnitude and phase of the transfer function ($V_{out}/i_d$), indicating the $3dB$ frequency"
   ]
  },
  {
   "cell_type": "markdown",
   "metadata": {},
   "source": [
    "3) Schematic with DC operating points, showing the DC voltage at all nodes (this should include the effect of offset)"
   ]
  },
  {
   "cell_type": "markdown",
   "metadata": {},
   "source": [
    "*Solution:*\n",
    " \n",
    "Simulate the design in LTSPice:"
   ]
  },
  {
   "cell_type": "markdown",
   "metadata": {},
   "source": [
    "The input referred current noise density is shown here where the rms noise current is 53.81pA. Note here the unit of y-axis actually is A. "
   ]
  },
  {
   "cell_type": "markdown",
   "metadata": {
    "cell_style": "center"
   },
   "source": [
    "<center><img src=\"img/HW6_d1.png\" width=1500></center>"
   ]
  },
  {
   "cell_type": "markdown",
   "metadata": {},
   "source": [
    "The magnitude and phase response of $\\frac{V_{out}}{i_d}$ is shown in the following plot. The DC gain is about 98dB and 3dB bandwidth is 10kHz"
   ]
  },
  {
   "cell_type": "markdown",
   "metadata": {
    "cell_style": "center"
   },
   "source": [
    "<center><img src=\"img/HW6_d2.png\" width=1500></center>"
   ]
  },
  {
   "cell_type": "markdown",
   "metadata": {},
   "source": [
    "Schematic with DC operating point including offset voltage is shown. The total output offset voltage is -3mV which agrees with our previous analysis. "
   ]
  },
  {
   "cell_type": "markdown",
   "metadata": {
    "cell_style": "center"
   },
   "source": [
    "<center><img src=\"img/HW6_d3.png\" width=1500></center>"
   ]
  },
  {
   "cell_type": "markdown",
   "metadata": {},
   "source": [
    "__*Bonus* (1 point)__: The noise performance of this design is typically dominated by the noise from $R_f$. It may seem like reducing the value of $R_f$ and setting $R_2 > R_1$ (keeping the total gain constant) could result in an improvement in noise performance. Show, through analysis, that this is not the case. Use Ltspice to verify."
   ]
  },
  {
   "cell_type": "markdown",
   "metadata": {},
   "source": [
    "*Solution:*\n",
    "\n",
    "That is not true, because the noise of $R_f$ and $R_1$ will be amplified by the second stage (the inverting amplifier) and thus the total output noise will increase. Now let's assume $R_f$ and $R_1$ reduce by N times while the $R_2$ remains unchanged.\n",
    "\n",
    "Output noise from $R_f$ becomes:\n",
    " \n",
    " $${e_{n,R_{f}}}^2=4kT\\frac{R_{f}}{N}\\cdot (\\frac{NR_2}{R_{1}(1+sR_{2}C_{1})})^2 \\frac{V^2}{Hz}$$"
   ]
  },
  {
   "cell_type": "markdown",
   "metadata": {},
   "source": [
    "Output noise from $R_1$ is:\n",
    " \n",
    " $${e_{n,R_{f}}}^2=4kT\\frac{R_{1}}{N}\\cdot (\\frac{NR_2}{R_{1}(1+sR_{2}C_{1})})^2 \\frac{V^2}{Hz}$$"
   ]
  },
  {
   "cell_type": "markdown",
   "metadata": {},
   "source": [
    "Output noise from $R_2$ is:\n",
    " \n",
    " $${e_{n,R_{f}}}^2=4kT\\frac{R_{2}}{N}\\cdot (\\frac{1}{(1+sR_{2}C_{1})})^2 \\frac{V^2}{Hz}$$"
   ]
  },
  {
   "cell_type": "markdown",
   "metadata": {},
   "source": [
    "From the noise expression, we can find the noise square density from $R_f$ and $R_1$ increases by N times and then we verify it in the simulation. "
   ]
  },
  {
   "cell_type": "markdown",
   "metadata": {},
   "source": [
    "In the simulation we choose $N=2$ to verify the analysis. Here is the circuit schematic with DC operating point."
   ]
  },
  {
   "cell_type": "markdown",
   "metadata": {
    "cell_style": "center"
   },
   "source": [
    "<center><img src=\"img/HW6_Bonus1.png\" width=1500></center>"
   ]
  },
  {
   "cell_type": "markdown",
   "metadata": {},
   "source": [
    "The input referred current noise density:"
   ]
  },
  {
   "cell_type": "markdown",
   "metadata": {
    "cell_style": "center"
   },
   "source": [
    "<center><img src=\"img/HW6_Bonus2.png\" width=1500></center>"
   ]
  },
  {
   "cell_type": "markdown",
   "metadata": {},
   "source": [
    "By comparing it with the results in part c, the noise density and rms noise actually increase."
   ]
  },
  {
   "cell_type": "code",
   "execution_count": null,
   "metadata": {},
   "outputs": [],
   "source": []
  }
 ],
 "metadata": {
  "kernelspec": {
   "display_name": "Python 3",
   "language": "python",
   "name": "python3"
  },
  "language_info": {
   "codemirror_mode": {
    "name": "ipython",
    "version": 3
   },
   "file_extension": ".py",
   "mimetype": "text/x-python",
   "name": "python",
   "nbconvert_exporter": "python",
   "pygments_lexer": "ipython3",
   "version": "3.7.4"
  }
 },
 "nbformat": 4,
 "nbformat_minor": 4
}
