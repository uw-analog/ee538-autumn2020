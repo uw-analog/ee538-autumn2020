{
 "cells": [
  {
   "cell_type": "markdown",
   "metadata": {},
   "source": [
    "<center><b>EE 538 Autumn 2020<br>\n",
    "Analog Circuits for Sensor Systems<br>\n",
    "University of Washington Electrical & Computer Engineering</b></center>\n"
   ]
  },
  {
   "cell_type": "markdown",
   "metadata": {},
   "source": [
    "<b>Instructor: Jason Silver<br>\n",
    "Assignment #2 (10 points)<br>\n",
    "Due Sunday, October 18 (Submit on Canvas as a Jupyter Notebook)</b> "
   ]
  },
  {
   "cell_type": "markdown",
   "metadata": {},
   "source": [
    "*Please show your work*"
   ]
  },
  {
   "cell_type": "markdown",
   "metadata": {},
   "source": [
    "<b>Problem 1: Common-emitter amplifier, small-signal analysis"
   ]
  },
  {
   "cell_type": "markdown",
   "metadata": {},
   "source": [
    "<center><img src=\"img/HW2_common_emitter.png\" width=400></center>"
   ]
  },
  {
   "cell_type": "markdown",
   "metadata": {},
   "source": [
    "The common-emitter amplifier can be used to achieve high levels of voltage gain in analog circuits. However, gain can be affected by loading at both at the input and output of the amplifier, so we need to ensure that minimal loading occurs when the amplifier is connected to a sensor or other circuit blocks. In addition, the bandwidth over which the maximum gain can be achieved is limitied by the presence of capacitance, which results in loading at higher frequencies (away from DC).\n",
    "\n",
    "For the following, $T = 27C$, $R_C = 1k\\Omega$, $V_S (DC) = 0.69V$, $V_{CC} = 5V$, and $C_L = 100nF$\n",
    "\n",
    "Use the NXP 2N3904 $npn$ transistor ($V_A = 100V$, $\\beta = 300$, $I_S = 10^{-14}$) for your analysis and simulations."
   ]
  },
  {
   "cell_type": "markdown",
   "metadata": {},
   "source": [
    "<u>*Analysis*</u>"
   ]
  },
  {
   "cell_type": "markdown",
   "metadata": {},
   "source": [
    "__a)__ Sketch the small-signal model and determine an expression for the the transfer function $\\dfrac{V_{out}}{V_s}(s)$ in terms of $g_m$, $\\beta$, $R_C$, $r_o$, and $C_{L}$. Assume no DC loading (i.e. $R_S \\rightarrow 0$ and $R_L \\rightarrow \\infty$)."
   ]
  },
  {
   "cell_type": "markdown",
   "metadata": {},
   "source": [
    "*Solution:*\n",
    "\n",
    "The small signal model of common-emitter amplifier:"
   ]
  },
  {
   "cell_type": "markdown",
   "metadata": {},
   "source": [
    "<center><img src=\"img/HW2_a.png\" width=600></center>"
   ]
  },
  {
   "cell_type": "markdown",
   "metadata": {},
   "source": [
    "The output voltage can be written as (assuming $R_S \\rightarrow 0$ and $R_L \\rightarrow \\infty$ ): \n",
    "$$ V_{out}(s) = -g_m\\left(R_C||\\dfrac{1}{sC_L}||r_o\\right) \\cdot V_{s}(s) $$\n",
    "\n",
    "The transfer function is thus\n",
    "\n",
    "$$ \\dfrac{V_{out}}{V_s}(s) =-g_m \\left(R_C||\\dfrac{1}{sC_L}||r_o\\right) = -\\dfrac{g_{m}R_{eq}}{sC_{L}R_{eq}+1} $$\n",
    "\n",
    "where\n",
    "\n",
    "$$ R_eq = \\dfrac{R_Cr_{o}}{R_C+r_{o}} $$\n"
   ]
  },
  {
   "cell_type": "markdown",
   "metadata": {},
   "source": [
    "__b)__ Calculate the DC gain, input resistance, output resistance, and 3dB bandwidth of the amplifier (again, assuming no loading) using the component and parameter values provided. Plot the frequency response (magnitude and phase) of $\\dfrac{V_{out}}{V_s}(s)$."
   ]
  },
  {
   "cell_type": "markdown",
   "metadata": {},
   "source": [
    "*Solution:*\n",
    "\n",
    "Calculate the DC gain:\n",
    "\n",
    "$$A_{DC}(s=0)= \\dfrac{V_{out}}{V_s}(s=0)=-g_m \\cdot R_{eq}=gm \\cdot \\dfrac{R_Cr_{o}}{R_C+r_o}$$\n",
    "\n",
    "Input resistance and output resistance can be calculated from small signal model:\n",
    "\n",
    "$$R_{in}=\\dfrac{\\beta}{g_m}$$\n",
    "\n",
    "$$R_{out}=R_{eq}=\\dfrac{R_Cr_o}{R_C+r_o}$$\n",
    "\n",
    "3dB BW of the amplifier:\n",
    "\n",
    "$$f_{-3dB}=\\dfrac{1}{2\\pi R_{eq}C_{L}}$$"
   ]
  },
  {
   "cell_type": "markdown",
   "metadata": {},
   "source": [
    "Calculate the number by using the parameter value provided:"
   ]
  },
  {
   "cell_type": "code",
   "execution_count": 9,
   "metadata": {},
   "outputs": [],
   "source": [
    "#%matplotlib notebook\n",
    "#%matplotlib inline\n",
    "import matplotlib.pyplot as plt\n",
    "import numpy as np\n",
    "from scipy import signal\n",
    "\n",
    "#Parameter value provided:\n",
    "R_C = 1e3\n",
    "T=27+273\n",
    "C_L = 100e-9\n",
    "V_S=0.69\n",
    "V_A=100\n",
    "beta=300\n",
    "I_S=1e-14\n",
    "k=1.38e-23\n",
    "q=1.6e-19\n",
    "VT=k*T/q;\n",
    "\n",
    "#calculate IC, gm, etc\n",
    "I_C=I_S*(np.exp(V_S/VT)-1)\n",
    "gm=I_C/VT\n",
    "ro=V_A/I_C\n",
    "Req=R_C*ro/(R_C+ro)\n",
    "\n",
    "#Calculate gain, rin, rout, and BW.\n",
    "Adc=gm*Req\n",
    "rin=beta/gm\n",
    "rout=Req\n",
    "f_3db=1/2/np.pi/Req/C_L"
   ]
  },
  {
   "cell_type": "code",
   "execution_count": 10,
   "metadata": {
    "slideshow": {
     "slide_type": "fragment"
    }
   },
   "outputs": [
    {
     "name": "stdout",
     "output_type": "stream",
     "text": [
      "The DC voltage gain is 141.92 V/V which is 43.04 dB\n",
      "The input resistance is 2.04e+03 Ohms\n",
      "The output resistance is 963.3 Ohms\n",
      "The 3dB bandwidth of amplifier is 1.65e+03 Hz\n"
     ]
    }
   ],
   "source": [
    "print('The DC voltage gain is', f'{Adc:0.5}','V/V','which is',f'{20*np.log10(Adc):0.4}', 'dB')\n",
    "print('The input resistance is', f'{rin:0.3}', 'Ohms')\n",
    "print('The output resistance is', f'{rout:0.4}', 'Ohms')\n",
    "print('The 3dB bandwidth of amplifier is', f'{f_3db:0.3}', 'Hz')"
   ]
  },
  {
   "cell_type": "code",
   "execution_count": 19,
   "metadata": {},
   "outputs": [
    {
     "data": {
      "text/plain": [
       "Text(0.5, 0, 'Frequency [Hz]')"
      ]
     },
     "execution_count": 19,
     "metadata": {},
     "output_type": "execute_result"
    },
    {
     "data": {
      "image/png": "[encoded data removed]",
      "text/plain": [
       "<Figure size 432x288 with 2 Axes>"
      ]
     },
     "metadata": {
      "needs_background": "light"
     },
     "output_type": "display_data"
    }
   ],
   "source": [
    "tf = signal.TransferFunction([-Adc],[C_L*Req, 1])\n",
    "w, mag, phase = tf.bode() \n",
    "f = w/np.pi/2\n",
    "\n",
    "fig, ax = plt.subplots(2)\n",
    "ax[0].semilogx(f, mag)\n",
    "ax[0].grid()\n",
    "ax[0].set_ylabel('Magnitude [dB]')\n",
    "\n",
    "ax[1].semilogx(f, phase)\n",
    "ax[1].grid()\n",
    "ax[1].set_ylabel('Phase [$\\circ$]')\n",
    "ax[1].set_xlabel('Frequency [Hz]')\n"
   ]
  },
  {
   "cell_type": "markdown",
   "metadata": {},
   "source": [
    "<u>*Simulation/Design*</u>"
   ]
  },
  {
   "cell_type": "markdown",
   "metadata": {},
   "source": [
    "__c)__ Simulate the DC operating point (.op analysis) of the circuit in SPICE (still no loading, $R_S \\rightarrow 0$ and $R_L \\rightarrow \\infty$). Provide a screen capture of your circuit with all DC operating points labeled (right-click on the net and select *Place .op Data Label*).\n",
    "\n",
    "Perform an AC simulation of the circuit and plot the frequency reponse. Indicate both the gain at $f = 10Hz$ and the 3dB bandwidth on the magnitude plot. \n",
    "\n",
    "Perform a transient analysis of the circuit to verify the gain. Use a sinusoidal voltage as an input signal with an amplitude of $500 \\mu V$, frequency of $10 Hz$, and DC offset of $0.69V$. Show that the peak-to-peak amplitude of the output agrees with your calculation from Part b and your AC analysis result."
   ]
  },
  {
   "cell_type": "markdown",
   "metadata": {},
   "source": [
    "*Solution:*\n",
    "\n",
    "Screen capture of DC operating point and simulation set-up:"
   ]
  },
  {
   "cell_type": "markdown",
   "metadata": {},
   "source": [
    "<center><img src=\"img/HW2_c1.png\" width=800></center>"
   ]
  },
  {
   "cell_type": "markdown",
   "metadata": {},
   "source": [
    "Perform an AC simulation and frequency response is shown as below:"
   ]
  },
  {
   "cell_type": "markdown",
   "metadata": {},
   "source": [
    "<center><img src=\"img/HW2_c3.png\" width=1500></center>"
   ]
  },
  {
   "cell_type": "markdown",
   "metadata": {},
   "source": [
    "AC simulation shows: gain at $f=10Hz$ is $42.6dB$, and 3dB bandwidth is $1.64 kHz$."
   ]
  },
  {
   "cell_type": "markdown",
   "metadata": {},
   "source": [
    "Perform transient simulation to calculate the gain:"
   ]
  },
  {
   "cell_type": "markdown",
   "metadata": {},
   "source": [
    "<center><img src=\"img/HW2_c4.png\" width=1500></center>"
   ]
  },
  {
   "cell_type": "markdown",
   "metadata": {},
   "source": [
    "The peak to peak amplitude of output is $135mV$. \n",
    "\n",
    "Calculate gain from transient simulation: $A_{dc}=20log\\frac{135e-3}{1e-3}=42.6dB$, which matches well with the AC simulation result. \n",
    "\n",
    "Gain simulated in LTSPice has slight difference with analytical model (0.5dB) which is tolerable."
   ]
  },
  {
   "cell_type": "markdown",
   "metadata": {},
   "source": [
    "__d)__ Calculate the values of $R_S$ and $R_L$ that each result in 1% attenuation from input to output ($V_s$ to $V_{out}$). Calculate each value separately (such that the combined attenuation would be around 2%). Verify your calculations by including the calculated values of $R_S$ and $R_L$ in your SPICE simulation. "
   ]
  },
  {
   "cell_type": "markdown",
   "metadata": {},
   "source": [
    "*Solution:*\n",
    "\n",
    "1% attenuation at input:\n",
    "\n",
    "$$\\frac{R_s}{R_{s}+R_{in}}<1\\%$$\n",
    "\n",
    "1% attenuation at output:\n",
    "\n",
    "$$\\frac{R_{out}}{R_{out}+R_{L}}<1\\%$$\n"
   ]
  },
  {
   "cell_type": "code",
   "execution_count": 13,
   "metadata": {},
   "outputs": [],
   "source": [
    "Rs=rin/99\n",
    "RL=rout*99"
   ]
  },
  {
   "cell_type": "code",
   "execution_count": 14,
   "metadata": {
    "slideshow": {
     "slide_type": "fragment"
    }
   },
   "outputs": [
    {
     "name": "stdout",
     "output_type": "stream",
     "text": [
      "The source resistance is about 20.6 Ohms\n",
      "The load resistance is about 9.536e+04 Ohms\n"
     ]
    }
   ],
   "source": [
    "print('The source resistance is about', f'{Rs:0.3}', 'Ohms')\n",
    "print('The load resistance is about', f'{RL:0.4}', 'Ohms')"
   ]
  },
  {
   "cell_type": "code",
   "execution_count": null,
   "metadata": {},
   "outputs": [],
   "source": [
    "Verify in LTSpice simulation:"
   ]
  },
  {
   "cell_type": "markdown",
   "metadata": {},
   "source": [
    "<center><img src=\"img/HW2_d.png\" width=1500></center>"
   ]
  },
  {
   "cell_type": "markdown",
   "metadata": {},
   "source": [
    "DC gain is $42.4dB$ which is attenuated by $0.2dB$ (Around $ 2.4\\%$ attenuation). We can further decrease $R_s$ or increase $R_L$ to reduce the attenuation. "
   ]
  },
  {
   "cell_type": "code",
   "execution_count": null,
   "metadata": {},
   "outputs": [],
   "source": []
  },
  {
   "cell_type": "code",
   "execution_count": null,
   "metadata": {},
   "outputs": [],
   "source": []
  },
  {
   "cell_type": "code",
   "execution_count": null,
   "metadata": {},
   "outputs": [],
   "source": []
  }
 ],
 "metadata": {
  "kernelspec": {
   "display_name": "Python 3",
   "language": "python",
   "name": "python3"
  },
  "language_info": {
   "codemirror_mode": {
    "name": "ipython",
    "version": 3
   },
   "file_extension": ".py",
   "mimetype": "text/x-python",
   "name": "python",
   "nbconvert_exporter": "python",
   "pygments_lexer": "ipython3",
   "version": "3.7.4"
  }
 },
 "nbformat": 4,
 "nbformat_minor": 4
}
