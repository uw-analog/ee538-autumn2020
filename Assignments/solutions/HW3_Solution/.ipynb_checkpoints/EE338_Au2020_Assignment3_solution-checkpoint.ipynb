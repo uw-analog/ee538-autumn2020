{
 "cells": [
  {
   "cell_type": "markdown",
   "metadata": {},
   "source": [
    "<center><b>EE 538 Autumn 2020<br>\n",
    "Analog Circuits for Sensor Systems<br>\n",
    "University of Washington Electrical & Computer Engineering</b></center>\n"
   ]
  },
  {
   "cell_type": "markdown",
   "metadata": {},
   "source": [
    "<b>Instructor: Jason Silver<br>\n",
    "Assignment #3 (10 points)<br>\n",
    "Due Sunday, October 25 (Submit on Canvas as a Jupyter Notebook)</b> "
   ]
  },
  {
   "cell_type": "markdown",
   "metadata": {},
   "source": [
    "*Please show your work*"
   ]
  },
  {
   "cell_type": "markdown",
   "metadata": {},
   "source": [
    "<b>Problem 1: Common-source amplifier with emitter-follower output stage"
   ]
  },
  {
   "cell_type": "markdown",
   "metadata": {},
   "source": [
    "<center><img src=\"img/HW3_gain_stage.png\" width=400></center>"
   ]
  },
  {
   "cell_type": "markdown",
   "metadata": {},
   "source": [
    "The MOSFET-based common-source amplifier can be combined with a BJT emitter-follower output stage to construct a circuit that provides voltage gain while taking advantage of the high input impedance of the MOSFET and low output impedance of the emitter follower.\n",
    "\n",
    "For the following, $T = 27C$, $R_D = 5k\\Omega$, $R_E = 2k\\Omega$, $V_{IN,DC} = 0.9V$, $V_{DD} = 5V$, and $C_L = 1uF$\n",
    "\n",
    "Use the Analog Devices MAT-02 $npn$ transistor ($V_A = 150V$, $\\beta = 500$, $I_S = 0.6 pA$) for your analysis and simulations.\n",
    "\n",
    "Use the Level 1 NMOS SPICE model provided with the assignment ($\\mu = 350$, $C_{ox} = 384 nF/m^2$ $V_{th} = 0.7V$, $\\lambda = 0.01 V^{-1}$, $W = 100\\mu m$, $L = 1 \\mu m$). "
   ]
  },
  {
   "cell_type": "markdown",
   "metadata": {},
   "source": [
    "<u>*Analysis*</u>"
   ]
  },
  {
   "cell_type": "markdown",
   "metadata": {},
   "source": [
    "__a)__ *Estimate* the DC operating point of the circuit ($I_{D0}$, $I_{C0}$, $V_{1,DC}$, and $V_{OUT,DC}$) assuming $\\lambda = 0$ for $M_1$ and $V_{BE} = 0.6V$, $I_B = 0$ for $Q_1$ (you are also welcome to calculate $V_{BE}$ using the iterative method discussed at the end of Lecture 3 if you'd like to try this approach)."
   ]
  },
  {
   "cell_type": "markdown",
   "metadata": {},
   "source": [
    "*Solution:*\n",
    "\n",
    "Calculate DC operating point of the circuit:\n",
    "\n",
    "DC operating point of $M_1$ and ignore base current of $Q_1$:\n",
    "$$I_{D0}=\\frac{1}{2}\\mu C_{ox}\\frac{W}{L}(V_{IN,DC}-V_{th})^2$$\n",
    "$$V_{1,DC}=V_{DD}-I_{D0}R_{D}$$"
   ]
  },
  {
   "cell_type": "code",
   "execution_count": 2,
   "metadata": {},
   "outputs": [],
   "source": [
    "#%matplotlib notebook\n",
    "#%matplotlib inline\n",
    "import matplotlib.pyplot as plt\n",
    "import numpy as np\n",
    "from scipy import signal\n",
    "\n",
    "#Parameter value provided:\n",
    "R_D = 5e3\n",
    "u=350\n",
    "Cox=384e-9\n",
    "V_INDC=0.9\n",
    "Vth=0.7\n",
    "lam=0.01\n",
    "W=100e-6\n",
    "L=1e-6\n",
    "VDD=5\n",
    "\n",
    "#calculate DC operating point of M1\n",
    "I_D0=0.5*u*Cox*W/L*(V_INDC-Vth)**2\n",
    "V1_DC=VDD-I_D0*R_D"
   ]
  },
  {
   "cell_type": "code",
   "execution_count": 4,
   "metadata": {
    "slideshow": {
     "slide_type": "fragment"
    }
   },
   "outputs": [
    {
     "name": "stdout",
     "output_type": "stream",
     "text": [
      "The DC current of M1 is 0.0002688 A\n",
      "The DC voltage at V1 is 3.66 V\n"
     ]
    }
   ],
   "source": [
    "print('The DC current of M1 is', f'{I_D0:0.5}', 'A')\n",
    "print('The DC voltage at V1 is', f'{V1_DC:0.3}', 'V')"
   ]
  },
  {
   "cell_type": "markdown",
   "metadata": {},
   "source": [
    "DC operating point of $C1$ can be calculated by assuming $V_{BE}=0.6V$, also you can use the iterative method discussed in review session of Lecture 3 (More details can be found in DEMO2 slide on Canvas).\n",
    "\n",
    "Now assuming $V_{BE}=0.6V$:\n",
    "$$V_{OUT,DC}=V_{1,DC}-V_{BE}$$\n",
    "$$I_{C0}=I_{S}(e^{\\frac{V_{BE}}{V_T}}-1)$$"
   ]
  },
  {
   "cell_type": "code",
   "execution_count": 3,
   "metadata": {},
   "outputs": [],
   "source": [
    "\n",
    "#Parameter value provided:\n",
    "R_E = 2e3\n",
    "T=27+273\n",
    "C_L = 1e-6\n",
    "V_A=150\n",
    "beta=500\n",
    "I_S=0.6e-12\n",
    "k=1.38e-23\n",
    "q=1.6e-19\n",
    "VT=k*T/q\n",
    "V_BE=0.6\n",
    "\n",
    "#calculate IC, gm, etc\n",
    "V_OUTDC=V1_DC-V_BE\n",
    "I_C0=I_S*(np.exp(V_BE/VT)-1)"
   ]
  },
  {
   "cell_type": "code",
   "execution_count": 4,
   "metadata": {
    "slideshow": {
     "slide_type": "fragment"
    }
   },
   "outputs": [
    {
     "name": "stdout",
     "output_type": "stream",
     "text": [
      "The DC current of Q1 is 0.0070591 A\n",
      "The DC voltage at Vout is 3.06 V\n"
     ]
    }
   ],
   "source": [
    "print('The DC current of Q1 is', f'{I_C0:0.5}', 'A')\n",
    "print('The DC voltage at Vout is', f'{V_OUTDC:0.3}', 'V')"
   ]
  },
  {
   "cell_type": "markdown",
   "metadata": {},
   "source": [
    "Calculating DC operating point of Q1 by using iteration method:\n",
    "$$V_{1,DC}-V_{BE}=I_{C0}R_{E}$$\n",
    "$$I_{C0}=I_{S}(e^{\\frac{V_{BE}}{V_T}}-1)$$\n",
    "After solving the equation by iteration method, we found $V_{OUT,DC}=3.1V$, $I_{C0}=1.5mA$."
   ]
  },
  {
   "cell_type": "markdown",
   "metadata": {},
   "source": [
    "__b)__ Calculate the output resistance of the common-source stage (include $r_o$ of $M_1$), the input-resistance of the emitter-follower stage (*hint: this is not just $r_\\pi$*!), and the output reistance of the emitter-follower."
   ]
  },
  {
   "cell_type": "markdown",
   "metadata": {},
   "source": [
    "*Solution:*\n",
    "\n",
    "Output resistance of common-source stage: \n",
    "$$R_{OUT,CS}=r_{o,1}||R_D$$\n",
    "\n",
    "Small signal modal of emitter follower:"
   ]
  },
  {
   "cell_type": "markdown",
   "metadata": {},
   "source": [
    "<center><img src=\"img/HW3_b1.png\" width=600></center>"
   ]
  },
  {
   "cell_type": "markdown",
   "metadata": {},
   "source": [
    "Apply test voltage and current at emitter-follower input, and KCL at output (Ignore $r_o$):\n",
    "$$\\frac{v_{in}}{r_{\\pi}}+g_{m}(v_{in}-v_{out})=\\frac{v_{out}}{R_{E}}$$\n",
    "\n",
    "$$i_{t}=\\frac{v_{in}-v_{out}}{r_{\\pi}}$$\n",
    "Then input resistance of emitter-follower stage can be calculated:\n",
    "$$R_{in2}=\\frac{v_{in}}{i_t}=r_{\\pi}+(1+\\beta)R_{E}$$"
   ]
  },
  {
   "cell_type": "markdown",
   "metadata": {},
   "source": [
    "Output resistance is related to output resistance of CS stage. Apply test voltage and current at emitter-follower output, and KCL at output (Ignore $r_o$):"
   ]
  },
  {
   "cell_type": "markdown",
   "metadata": {},
   "source": [
    "<center><img src=\"img/HW3_b2.png\" width=600></center>"
   ]
  },
  {
   "cell_type": "markdown",
   "metadata": {},
   "source": [
    "$$i_{t}+g_{m}(v_{1}-v_{out})=\\frac{v_{out}}{R_{E}}+\\frac{v_{out}}{R_{\\pi}+R_{OUT,CS}}$$\n",
    "$$v_{1}=\\frac{R_{OUT,CS}}{R_{OUT,CS}+r_{\\pi}}$$\n",
    "\n",
    "Then output resistance of emitter-follower stage can be calculated:\n",
    "$$R_{out2}=\\frac{v_{out}}{i_t}=\\frac{R_{OUT,CS}}{\\beta}+\\frac{1}{g_{m}}$$"
   ]
  },
  {
   "cell_type": "code",
   "execution_count": 8,
   "metadata": {},
   "outputs": [
    {
     "name": "stdout",
     "output_type": "stream",
     "text": [
      "0.05797101449275362\n"
     ]
    }
   ],
   "source": [
    "I_C0=1.5e-3 #Calculated by iteration\n",
    "ro1=1/(lam*I_D0)\n",
    "Routcs=R_D*ro1/(R_D+ro1)\n",
    "\n",
    "gm2=I_C0/VT\n",
    "rpi=beta/gm2\n",
    "Rin2=rpi+(1+beta)*R_E\n",
    "Rout2=1/gm2+Routcs/beta\n",
    "print(gm2)\n",
    "#print(I_C0)\n",
    "#print(ro1)"
   ]
  },
  {
   "cell_type": "code",
   "execution_count": 6,
   "metadata": {
    "slideshow": {
     "slide_type": "fragment"
    }
   },
   "outputs": [
    {
     "name": "stdout",
     "output_type": "stream",
     "text": [
      "The output resistance of the common-source stage is 4933.7 Ohms\n",
      "The input resistance of the emitter-follower stage is 1.0106e+06 Ohms\n",
      "The output resistance of the emitter follower stage is 27.117 Ohms\n"
     ]
    }
   ],
   "source": [
    "print('The output resistance of the common-source stage is', f'{Routcs:0.5}', 'Ohms')\n",
    "print('The input resistance of the emitter-follower stage is', f'{Rin2:0.5}', 'Ohms')\n",
    "print('The output resistance of the emitter follower stage is', f'{Rout2:0.5}', 'Ohms')"
   ]
  },
  {
   "cell_type": "markdown",
   "metadata": {},
   "source": [
    "__c)__ Calculate the small-signal voltage gain and 3dB bandwidth $\\left(f_{3dB} = \\dfrac{\\omega_0}{2 \\pi} \\right)$ of the circuit assuming $C_L$ is the only capacitance."
   ]
  },
  {
   "cell_type": "markdown",
   "metadata": {},
   "source": [
    "*Solution:*\n",
    "\n",
    "The voltage gain of the common-source stage: $A_1\\approx-g_{m1}R_{OUT,CS}$\n",
    "\n",
    "The voltage gain of the emitter follower stage: $A_{2}\\approx 1$\n",
    "\n",
    "The gain of two stages: $A\\approx -g_{m1}R_{OUT,CS}$\n",
    "\n",
    "Since $C_L$ is the only capacitance, this is the single pole system and the pole at the emitter-follower output is equal to the bandwidth.\n",
    "\n",
    "$$f_{-3dB}=\\frac{1}{2\\pi R_{out2}C_{L}}$$"
   ]
  },
  {
   "cell_type": "code",
   "execution_count": 7,
   "metadata": {},
   "outputs": [
    {
     "name": "stdout",
     "output_type": "stream",
     "text": [
      "0.002688000000000001\n"
     ]
    }
   ],
   "source": [
    "gm1=2*I_D0/(V_INDC-Vth)\n",
    "Adc=-gm1*Routcs\n",
    "f_3db=1/2/np.pi/Rout2/C_L\n",
    "print(gm1)"
   ]
  },
  {
   "cell_type": "code",
   "execution_count": 48,
   "metadata": {
    "slideshow": {
     "slide_type": "fragment"
    }
   },
   "outputs": [
    {
     "name": "stdout",
     "output_type": "stream",
     "text": [
      "The small signal voltage gain is -13.262 V/V which is 22.45 dB\n",
      "The 3dB bandwidth of the circuit is 5.87e+03 Hz\n"
     ]
    }
   ],
   "source": [
    "print('The small signal voltage gain is', f'{Adc:0.5}','V/V','which is',f'{20*np.log10(-Adc):0.4}', 'dB')\n",
    "print('The 3dB bandwidth of the circuit is', f'{f_3db:0.3}', 'Hz')"
   ]
  },
  {
   "cell_type": "markdown",
   "metadata": {},
   "source": [
    "<u>*Simulation*</u>"
   ]
  },
  {
   "cell_type": "markdown",
   "metadata": {},
   "source": [
    "__d)__ Simulate the DC operating point (.op analysis) of the circuit in SPICE. Provide a screen capture of your circuit with all DC operating points labeled (right-click on the net and select *Place .op Data Label*).\n",
    "\n",
    "Perform an AC simulation of the circuit and plot the frequency reponse. Indicate both the gain at $f = 10Hz$ and the 3dB bandwidth on the magnitude plot. \n",
    "\n",
    "Using either an AC analysis or DC Transfer analysis, simulate the DC input and output impedances of the circuit. Refer to the Zoom Cloud Recording following Lecture 3 if you are unsure of how to do this."
   ]
  },
  {
   "cell_type": "markdown",
   "metadata": {},
   "source": [
    "*Solution:*\n",
    "\n",
    "Circuit schematic with all DC operaing points:"
   ]
  },
  {
   "cell_type": "markdown",
   "metadata": {},
   "source": [
    "<center><img src=\"img/HW3_d1.png\" width=1200></center>"
   ]
  },
  {
   "cell_type": "markdown",
   "metadata": {},
   "source": [
    "Frequency response with gain and $3dB$ bandwidth:"
   ]
  },
  {
   "cell_type": "markdown",
   "metadata": {},
   "source": [
    "<center><img src=\"img/HW3_d2.png\" width=1500></center>"
   ]
  },
  {
   "cell_type": "markdown",
   "metadata": {},
   "source": [
    "The simulated DC gain is $22.64dB$, 3dB bandwidth is $5.8kHz$. Both of them agree with the calculations."
   ]
  },
  {
   "cell_type": "markdown",
   "metadata": {},
   "source": [
    "Use AC analysis to simulate the input and output resistance at low frequency:"
   ]
  },
  {
   "cell_type": "markdown",
   "metadata": {},
   "source": [
    "<center><img src=\"img/HW3_d3.png\" width=1500></center>"
   ]
  },
  {
   "cell_type": "markdown",
   "metadata": {},
   "source": [
    "<center><img src=\"img/HW3_d4.png\" width=1500></center>"
   ]
  },
  {
   "cell_type": "markdown",
   "metadata": {},
   "source": [
    "Input resistance ($R_{in}$) of the circuit is very large. Output resistance ($R_{out}$) is $27.9\\Omega$, which agrees with the calculation. "
   ]
  },
  {
   "cell_type": "markdown",
   "metadata": {},
   "source": [
    "Use DC transfer to simulated the input and output resistance:"
   ]
  },
  {
   "cell_type": "markdown",
   "metadata": {},
   "source": [
    "<center><img src=\"img/HW3_d5.png\" width=800></center>"
   ]
  },
  {
   "cell_type": "markdown",
   "metadata": {},
   "source": [
    "*A few words on hand calculations versus simulation results: It is expected that your simulation results will not agree perfectly with your calculations. This is actually the purpose of using SPICE for verification, in that more detailed and more accurate models are employed to provide a more accurate prediction of circuit performance than the simple models used for \"back-of-the-envelope\" analysis.That being said, our simple models should gives us enough guidance on making design decisions, particularly if simulation results are different from what we expect.*"
   ]
  },
  {
   "cell_type": "code",
   "execution_count": null,
   "metadata": {},
   "outputs": [],
   "source": []
  }
 ],
 "metadata": {
  "kernelspec": {
   "display_name": "Python 3",
   "language": "python",
   "name": "python3"
  },
  "language_info": {
   "codemirror_mode": {
    "name": "ipython",
    "version": 3
   },
   "file_extension": ".py",
   "mimetype": "text/x-python",
   "name": "python",
   "nbconvert_exporter": "python",
   "pygments_lexer": "ipython3",
   "version": "3.8.2"
  }
 },
 "nbformat": 4,
 "nbformat_minor": 4
}
