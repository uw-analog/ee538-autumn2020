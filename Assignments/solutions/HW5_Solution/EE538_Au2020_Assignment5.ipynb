{
 "cells": [
  {
   "cell_type": "markdown",
   "metadata": {},
   "source": [
    "<center><b>EE 538 Autumn 2020<br>\n",
    "Analog Circuits for Sensor Systems<br>\n",
    "University of Washington Electrical & Computer Engineering</b></center>\n"
   ]
  },
  {
   "cell_type": "markdown",
   "metadata": {},
   "source": [
    "<b>Instructor: Jason Silver<br>\n",
    "Assignment #5 (10 points)<br>\n",
    "Due Sunday, November 8 (Submit on Canvas as a Jupyter Notebook)</b> "
   ]
  },
  {
   "cell_type": "markdown",
   "metadata": {},
   "source": [
    "*Please show your work*"
   ]
  },
  {
   "cell_type": "markdown",
   "metadata": {},
   "source": [
    "<b>Problem 1: Differential amplifier analysis and design"
   ]
  },
  {
   "cell_type": "markdown",
   "metadata": {
    "cell_style": "split"
   },
   "source": [
    "<center><img src=\"img/HW5_bridge_amplifier.png\" width=800></center>\n",
    "<br>\n",
    "<center><b> Figure 1a. Wheatstone bridge amplifier</center>"
   ]
  },
  {
   "cell_type": "markdown",
   "metadata": {
    "cell_style": "split"
   },
   "source": [
    "<center><img src=\"img/HW5_inamp.png\" width=600></center>\n",
    "<br>\n",
    "<center><b> Figure 1b. Instrumentation amplifier</center>"
   ]
  },
  {
   "cell_type": "markdown",
   "metadata": {},
   "source": [
    "A difference amplifier can be used to amplify the signal from a Wheatstone bridge, but loading is a concern due to the finite input resistance of the amplifier. \n",
    "\n",
    "To determine the extent of loading, we need to quantify the output resistance of the bridge circuit and the input resistance of the amplifier."
   ]
  },
  {
   "cell_type": "markdown",
   "metadata": {},
   "source": [
    "<u>*Analysis/Design*</u>"
   ]
  },
  {
   "cell_type": "markdown",
   "metadata": {},
   "source": [
    "__a)__ Determine expressions for the output resistance $R_{S}$ of the bridge circuit and the input resistance $R_{in}$ of the amplifier. Use the same approach you would use to determine the Thevenin resistance of a single-ended circuit (i.e. do not assume a balanced differential signal). Assume the opamp is ideal.\n",
    "\n",
    "Assuming the Wheastone bridge resistance $R = 500 \\Omega$, design the difference amplifier (i.e. determine values for $R_1$ and $R_2$) to provide a gain of $20dB$ with a maximum of $1\\%$ input attenuation due to loading."
   ]
  },
  {
   "cell_type": "markdown",
   "metadata": {},
   "source": [
    "*Solution:*\n",
    "  \n",
    "Calculate the output resistance $R_S$ of the bridge circuit:\n",
    "\n",
    "$$R_{S}=2(R||(R+\\Delta R))$$\n",
    "where the factor of 2 comes from the differential input.\n",
    "\n",
    "Calculate the input resistance $R_{in}$ of the amplifier:\n",
    "\n",
    "$$R_{in}=2R_{1}$$\n",
    "\n",
    "In the calculation, ideal opamp is assumed and $V^+$ is assumed to be equal to $V^-$."
   ]
  },
  {
   "cell_type": "markdown",
   "metadata": {},
   "source": [
    "For $20dB$ gain:\n",
    "\n",
    "$$|\\frac{V_{out}}{V_{id}}|=\\frac{R_2}{R_1}=10$$\n",
    "\n",
    "For $1%$ input attenuation:\n",
    "\n",
    "$$V_{id}=\\frac{R_{in}}{R_{in}+R_{s}}V_{s}=0.99V_s$$\n",
    "\n",
    "So $R_{in}=99R_{s}$, and $R_{1}\\approx25k\\Omega$, $R_{2}\\approx250k\\Omega$"
   ]
  },
  {
   "cell_type": "markdown",
   "metadata": {},
   "source": [
    "<u>*Design/Simulation*</u>"
   ]
  },
  {
   "cell_type": "markdown",
   "metadata": {},
   "source": [
    "__b)__ Implement the design of the difference amplifier in LTspice using the ADA4661-2 opamp from Analog Devices (this model is included by default in the LTspice component library). Use a single-ended supply voltage $V_{DD} = 5V$. For $V_{REF}$, use a voltage divider and voltage buffer (opamp in unity-gain feedback, as discussed in lecture - you can use the ADA4661-2 for this as well).\n",
    "\n",
    "Perform an AC simulation to verify that the DC gain is $20dB$, and determine the $3dB$ bandwidth of the amplifier."
   ]
  },
  {
   "cell_type": "markdown",
   "metadata": {},
   "source": [
    "Verify in the LTSpice:\n",
    "\n",
    "Circuit schematic and DC node voltage."
   ]
  },
  {
   "cell_type": "markdown",
   "metadata": {
    "cell_style": "split"
   },
   "source": [
    "<center><img src=\"img/HW5_b1.png\" width=500></center>"
   ]
  },
  {
   "cell_type": "markdown",
   "metadata": {},
   "source": [
    "AC simulation and 3dB bandwidth:"
   ]
  },
  {
   "cell_type": "markdown",
   "metadata": {
    "cell_style": "split"
   },
   "source": [
    "<center><img src=\"img/HW5_b2.png\" width=1500></center>"
   ]
  },
  {
   "cell_type": "markdown",
   "metadata": {},
   "source": [
    "DC gain is about $20dB$, and $3dB$ bandwidth is about $450kHz$. The frequency peak comes from the voltage buffer at $V_{ref}$"
   ]
  },
  {
   "cell_type": "markdown",
   "metadata": {},
   "source": [
    "__c)__ Use the Wheatstone bridge model provided on the course Canvas page to simulate the full design. The voltage *delta_R* allows you to control $\\Delta R$ ($B_1$ and $B_2$ are utilized as voltage-controlled resistances to emulate the behavior of a strain gage). \n",
    "\n",
    "Determine the maximum $\\Delta R$ allowable without exceeding $80\\%$ of the supply voltage (i.e. $V_{out}$ can swing from $0.5V$ to $4.5V$). Perform a transient simulation to verify your design. Implement *V(delta_R)* as a sinusoidal voltage with amplitude $\\Delta R$ and a frequency of $1kHz$. Submit plots of the output voltage of the brige and $V_{out}$ to show that your design meets the swing and $1\\%$ max attenuation specifications.\n",
    "\n",
    "Include your schematic with your submission with all DC node voltages displayed. Show the supply current (this is the current coming from the DC voltage source used to supply the bridge and opamp), and calculate the total power dissipated by the circuit."
   ]
  },
  {
   "cell_type": "markdown",
   "metadata": {},
   "source": [
    "*Solution:*\n",
    "  \n",
    "$V_{out}$ can swing from 0.5V to 4.5V, and $V_{out,max}=\\frac{4.5-0.5}{2}=2V$.\n",
    "\n",
    "Then maximum input voltage can be calculated:\n",
    "\n",
    "$$V_{id,max}=\\frac{V_{out,max}}{10}=0.2V$$\n",
    "\n",
    "And $V_{id}$ can be written as:\n",
    "\n",
    "$$V_{id,max}=\\frac{\\Delta R}{2R+\\Delta R}V_{DD}=0.2V$$\n",
    "\n",
    "And $\\Delta R \\approx 40\\Omega$"
   ]
  },
  {
   "cell_type": "markdown",
   "metadata": {},
   "source": [
    "Verify it in the LTSpice:\n",
    "\n",
    "Output voltage $v_{ip}$ and $v_{im}$ at the bridge output.  "
   ]
  },
  {
   "cell_type": "markdown",
   "metadata": {
    "cell_style": "split"
   },
   "source": [
    "<center><img src=\"img/HW5_c1.png\" width=1500></center>"
   ]
  },
  {
   "cell_type": "markdown",
   "metadata": {},
   "source": [
    "Ouptut voltage $V_{out}$ at the difference amplifier output:"
   ]
  },
  {
   "cell_type": "markdown",
   "metadata": {
    "cell_style": "split"
   },
   "source": [
    "<center><img src=\"img/HW5_c3.png\" width=1500></center>"
   ]
  },
  {
   "cell_type": "markdown",
   "metadata": {},
   "source": [
    "The output voltage is between $0.5V$ and $4.5V$ which meets the output swing requirement. Note: Bias resistor is tuned to meet the swing requirement, as shown in the attached .asc file."
   ]
  },
  {
   "cell_type": "markdown",
   "metadata": {},
   "source": [
    "To verify 1% attenuation requirement, we can measure the voltage at the bridge output and compare it to the voltage when it is disconnected with the difference amplifier.\n",
    "\n",
    "Differential voltage $v_{ip}-v_{im}$ at the bridge output (when it is connected with the difference amplifier):"
   ]
  },
  {
   "cell_type": "markdown",
   "metadata": {
    "cell_style": "split"
   },
   "source": [
    "<center><img src=\"img/HW5_c2.png\" width=1500></center>"
   ]
  },
  {
   "cell_type": "markdown",
   "metadata": {},
   "source": [
    "Then disconnect the bridge with the difference amplifier and re-measure the differential voltage $v_{ip}-v_{im}$ at the bridge output:"
   ]
  },
  {
   "cell_type": "markdown",
   "metadata": {
    "cell_style": "split"
   },
   "source": [
    "<center><img src=\"img/HW5_c4.png\" width=1500></center>"
   ]
  },
  {
   "cell_type": "markdown",
   "metadata": {},
   "source": [
    "By comparing the peak-to-peak voltage, the attenuation is $\\frac{399-395.6}{399}=0.85\\%$ that meets the requirement."
   ]
  },
  {
   "cell_type": "markdown",
   "metadata": {},
   "source": [
    "The DC node voltage and total current are presented in the schematic:"
   ]
  },
  {
   "cell_type": "markdown",
   "metadata": {
    "cell_style": "split"
   },
   "source": [
    "<center><img src=\"img/HW5_c5.png\" width=1500></center>"
   ]
  },
  {
   "cell_type": "markdown",
   "metadata": {},
   "source": [
    "The supply current is $11.23mA$, then the total power dissipation is $5*11.23=56.2mW$."
   ]
  },
  {
   "cell_type": "markdown",
   "metadata": {},
   "source": [
    "__d)__ An instrumentation amplifier can be used to realize a mucher higher input impedance than the difference amplifier. Construct the instrumentation amplifier shown in Fig. 1b to achieve a gain of $20dB$, and run a transient simulation with the Wheatstone bridge model to show that the signal amplitude is increased due to the absence of loading. Submit your schematic with all DC node voltages shown."
   ]
  },
  {
   "cell_type": "markdown",
   "metadata": {},
   "source": [
    "*Solution:*\n",
    "  \n",
    "$20dB$ gain should be distributed to the two stages and for noise consideration, gain of the first stage($G_1$) is $20dB$, and the gain of the second stage($G_2$) is $0dB$.\n",
    "\n",
    "$$G_{1}=1+\\frac{R_{fp}+R_{fm}}{R_{G}}=10V/V$$\n",
    "\n",
    "$$G_{2}=\\frac{R_2}{R_1}=1V/V$$\n",
    "\n",
    "Then $R_{fp}$, $R_{fm}$, $R_G$, $R_1$, and $R_2$ can be selected, which is shown in the schematic:"
   ]
  },
  {
   "cell_type": "markdown",
   "metadata": {
    "cell_style": "split"
   },
   "source": [
    "<center><img src=\"img/HW5_d1.png\" width=1500></center>"
   ]
  },
  {
   "cell_type": "markdown",
   "metadata": {},
   "source": [
    "Repeat the rtansient simulation and measure the signal at the amplifier output:"
   ]
  },
  {
   "cell_type": "markdown",
   "metadata": {
    "cell_style": "split"
   },
   "source": [
    "<center><img src=\"img/HW5_d2.png\" width=1500></center>"
   ]
  },
  {
   "cell_type": "markdown",
   "metadata": {},
   "source": [
    "The peak-to-peak voltage at output is increased from $3.95V$ to $3.99V$ because the instrumenttaion amplifier provides much higher input impedance compared with the difference amplifier."
   ]
  },
  {
   "cell_type": "code",
   "execution_count": null,
   "metadata": {},
   "outputs": [],
   "source": []
  }
 ],
 "metadata": {
  "kernelspec": {
   "display_name": "Python 3",
   "language": "python",
   "name": "python3"
  },
  "language_info": {
   "codemirror_mode": {
    "name": "ipython",
    "version": 3
   },
   "file_extension": ".py",
   "mimetype": "text/x-python",
   "name": "python",
   "nbconvert_exporter": "python",
   "pygments_lexer": "ipython3",
   "version": "3.7.4"
  }
 },
 "nbformat": 4,
 "nbformat_minor": 4
}
