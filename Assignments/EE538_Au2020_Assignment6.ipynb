{
 "cells": [
  {
   "cell_type": "markdown",
   "metadata": {},
   "source": [
    "<center><b>EE 538 Autumn 2020<br>\n",
    "Analog Circuits for Sensor Systems<br>\n",
    "University of Washington Electrical & Computer Engineering</b></center>\n"
   ]
  },
  {
   "cell_type": "markdown",
   "metadata": {},
   "source": [
    "<b>Instructor: Jason Silver<br>\n",
    "Assignment #6 (10 points)<br>\n",
    "Due Sunday, November 15 (Submit on Canvas as a Jupyter Notebook)</b> "
   ]
  },
  {
   "cell_type": "markdown",
   "metadata": {},
   "source": [
    "*Please show your work*"
   ]
  },
  {
   "cell_type": "markdown",
   "metadata": {},
   "source": [
    "<b>Problem 1: Photodiode application"
   ]
  },
  {
   "cell_type": "markdown",
   "metadata": {
    "cell_style": "center"
   },
   "source": [
    "<center><img src=\"img/HW6_photodiode_amplifier.png\" width=600></center>\n",
    "<br>\n",
    "<center><b> Figure 1. Photodiode amplification circuit</center>"
   ]
  },
  {
   "cell_type": "markdown",
   "metadata": {},
   "source": [
    "A photodiode is a $pn$ junction that converts photons (light) into electrical current. In most applications, photodiodes are *reverse-biased*, such that the voltage from anode to cathode is zero or negative. The *spectral sensitivity* of the diode is the gain in converting *incident radiant power* ($W$) to current ($A$).\n",
    "\n",
    "In Figure 1, a *transimpedance* amplifier ($U_1$ and $R_f$)is used to convert photodiode current into a voltage (units of gain are in $\\Omega$). The second stage ($U_2$, $R_1$, and $R_2$) is used to limit measurement noise bandwidth. Unless otherwise stated, assume that $U_1$ and $U_2$ are ideal and that $R_1$ = $R_2$ = $10k\\Omega$. For the opamp supplies, use $V_{CC} = 5V$ and $V_{EE} = -5V$.\n",
    "\n",
    "The photodiode has a spectral sensitivity of $i_d/P_L = 0.5 A/W$ for the wavelength of interest.\n",
    "\n",
    "*Note*: To determine *input-referred* errors, first determine the error at $V_{out}$ and divide by the DC gain of the circuit (this includes the photodiode gain)."
   ]
  },
  {
   "cell_type": "markdown",
   "metadata": {},
   "source": [
    "<u>*Analysis/Design*</u>"
   ]
  },
  {
   "cell_type": "markdown",
   "metadata": {},
   "source": [
    "__a)__ Assuming the maximum incident radiant power for the application is $P_L = 100\\mu W$, design the transimpedance amplifier (i.e determine a value for $R_f$) to maximize gain while ensuring that the output voltage *magnitude* does not exceed $4V$ (note that if $i_d$ is positive, $V_{out}$ will be less than $0$). \n",
    "\n",
    "Calculate the value of $C_1$ that results in a $3dB$ bandwith of $10kHz$."
   ]
  },
  {
   "cell_type": "markdown",
   "metadata": {},
   "source": [
    "__b)__ Opamp input offset results in an output voltage error, which constitutes a DC measurement error. Calculate the *input-referred* error (in $W$) if $U_1$ has an input offset voltage of $1mV$ and $U_2$ has an input offset of $-1mV$."
   ]
  },
  {
   "cell_type": "markdown",
   "metadata": {},
   "source": [
    "<u>*Design/Simulation*</u>"
   ]
  },
  {
   "cell_type": "markdown",
   "metadata": {},
   "source": [
    "__c)__ Assuming only the resistors contribute noise (opamps and diode are noiseless), calculate the input-referred noise *density* in $W/\\sqrt{Hz}$. Use Python to plot the input noise density as a function of frequency (to do this, divide the output noise density as a function of frequency by the DC gain). Calculate the input-referred $rms$ noise in $W$. \n",
    "\n",
    "Assuming the input signal is an incident light source defined as $P_L = 10 \\mu W \\cdot \\sin{(2\\pi \\cdot 1kHz \\cdot t)}$, what is the signal-to-noise ratio (SNR)? This is defined as the ratio of the $rms$ value of the signal to the $rms$ noise."
   ]
  },
  {
   "cell_type": "markdown",
   "metadata": {},
   "source": [
    "__d)__ Simulate your design in LTspice, using an current source to model $D_1$. Use the *UniversalOpamp2* component provided by LTspice, and assign appropriate values of $V_{os}$ for $U_1$ and $U_2$. In your submission, be sure to include the following:"
   ]
  },
  {
   "cell_type": "markdown",
   "metadata": {},
   "source": [
    "1) Input-referred *current noise density* (this is just the output noise density divided by the DC gain)"
   ]
  },
  {
   "cell_type": "markdown",
   "metadata": {},
   "source": [
    "2) Magnitude and phase of the transfer function ($V_{out}/i_d$), indicating the $3dB$ frequency"
   ]
  },
  {
   "cell_type": "markdown",
   "metadata": {},
   "source": [
    "3) Schematic with DC operating points, showing the DC voltage at all nodes (this should include the effect of offset)"
   ]
  },
  {
   "cell_type": "markdown",
   "metadata": {},
   "source": [
    "__*Bonus* (1 point)__: The noise performance of this design is typically dominated by the noise from $R_f$. It may seem like reducing the value of $R_f$ and setting $R_2 > R_1$ (keeping the total gain constant) could result in an improvement in noise performance. Show, through analysis, that this is not the case. Use Ltspice to verify."
   ]
  }
 ],
 "metadata": {
  "kernelspec": {
   "display_name": "Python 3",
   "language": "python",
   "name": "python3"
  },
  "language_info": {
   "codemirror_mode": {
    "name": "ipython",
    "version": 3
   },
   "file_extension": ".py",
   "mimetype": "text/x-python",
   "name": "python",
   "nbconvert_exporter": "python",
   "pygments_lexer": "ipython3",
   "version": "3.8.2"
  }
 },
 "nbformat": 4,
 "nbformat_minor": 4
}
