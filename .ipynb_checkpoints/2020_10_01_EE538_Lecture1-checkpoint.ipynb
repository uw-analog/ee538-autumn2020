{
 "cells": [
  {
   "cell_type": "markdown",
   "metadata": {
    "cell_style": "center",
    "slideshow": {
     "slide_type": "slide"
    }
   },
   "source": [
    "# EE 538: Analog Circuits for Sensor Systems\n",
    "## Autumn 2020\n",
    "## Instructor: Jason Silver"
   ]
  },
  {
   "cell_type": "markdown",
   "metadata": {
    "slideshow": {
     "slide_type": "slide"
    }
   },
   "source": [
    "## EE 538 basics I"
   ]
  },
  {
   "cell_type": "markdown",
   "metadata": {
    "slideshow": {
     "slide_type": "fragment"
    }
   },
   "source": [
    " - Instructor\n",
    "     - Jason Silver\n",
    "     - Office hours TBD via Google poll\n",
    " - Teaching assistant\n",
    "     - Xichen Li\n",
    "     - Office hours TBD\n",
    " - Web page: [EE 538 Autumn 2020 (Canvas)](https://canvas.uw.edu/courses/1417759/assignments/syllabus)\n",
    "     - Check regularly especially Discussions\n",
    "     - Access assignments, grades, and solutions\n",
    "     - Participation in online discussion benefits all\n",
    "     \n",
    "         "
   ]
  },
  {
   "cell_type": "markdown",
   "metadata": {
    "slideshow": {
     "slide_type": "slide"
    }
   },
   "source": [
    "## EE 538 basics II"
   ]
  },
  {
   "cell_type": "markdown",
   "metadata": {
    "slideshow": {
     "slide_type": "fragment"
    }
   },
   "source": [
    " - There are no official prerequisites, but it will be helpful to have some familiarity with\n",
    "     - Elementary circuit theory\n",
    "        - KVL, KCL, Thevenin equivalent circuits, Laplace/Fourier transforms\n",
    "     - Semiconductor device operation and circuit analysis \n",
    "         - Diodes, FETs, BJTs\n",
    "     - Basic linear systems\n",
    "         - Frequency response, poles, zeros, Bode plots\n",
    "     - Circuit simulation with some flavor of SPICE (__S__imulation __P__rogram with __I__ntegrated __C__ircuit __E__mphasis)\n",
    "         \n",
    "         "
   ]
  },
  {
   "cell_type": "markdown",
   "metadata": {
    "slideshow": {
     "slide_type": "slide"
    }
   },
   "source": [
    "## Course breakdown"
   ]
  },
  {
   "cell_type": "markdown",
   "metadata": {
    "slideshow": {
     "slide_type": "fragment"
    }
   },
   "source": [
    "- Weekly Assignments (50%)\n",
    "    - Typically assigned Saturday, submitted online the Sunday of the following week\n",
    "- Design project (50%)\n",
    "    - Analog/mixed-signal design project with Python/Jupyter Notebooks and LTspice\n",
    "    - Optimization for performance, power, cost\n"
   ]
  },
  {
   "cell_type": "markdown",
   "metadata": {
    "slideshow": {
     "slide_type": "slide"
    }
   },
   "source": [
    "## Course learning goals"
   ]
  },
  {
   "cell_type": "markdown",
   "metadata": {
    "slideshow": {
     "slide_type": "fragment"
    }
   },
   "source": [
    " - Develop deeper understanding of analog circuit building blocks and how they interface with sensors and other circuit blocks\n",
    " - Understand factors affecting precision in data acquisition systems, and how to optimize wrt to power, cost, complexity, etc.\n",
    " - Develop a systematic approach to circuit/system design\n",
    "    - Focus on analysis/scripting early in the design process\n",
    "    - Employ SPICE to validate calculations and assumptions"
   ]
  },
  {
   "cell_type": "markdown",
   "metadata": {
    "slideshow": {
     "slide_type": "slide"
    }
   },
   "source": [
    "## Course topics"
   ]
  },
  {
   "cell_type": "markdown",
   "metadata": {
    "slideshow": {
     "slide_type": "fragment"
    }
   },
   "source": [
    "- Fundamental devices: resistors, capacitors, transistors, opamps\n",
    "- Basic opamp gain/filter circuits\n",
    "    - Sensor interfacing\n",
    "    - Loading\n",
    "- Precision in circuits\n",
    "    - Device noise: flicker and thermal\n",
    "    - Amplifier offset\n",
    "    - Component tolerance\n",
    "- Data converters\n",
    "    - Sampling fundamentals\n",
    "    - Quantization noise\n"
   ]
  },
  {
   "cell_type": "markdown",
   "metadata": {
    "slideshow": {
     "slide_type": "slide"
    }
   },
   "source": [
    "## Software and CAD "
   ]
  },
  {
   "cell_type": "markdown",
   "metadata": {
    "slideshow": {
     "slide_type": "fragment"
    }
   },
   "source": [
    " - We will use LTspice for circuit simulation\n",
    "     - [LTSpice IV Getting Started](https://www.analog.com/media/en/simulation-models/spice-models/LTspiceGettingStartedGuide.pdf?modelType=spice-models)\n",
    "     - You may use other tools “at your own risk”\n",
    " - Design, data analysis, and results plotting using Python/Jupyter Notebooks\n",
    "    - Design scripts iterable and reusable\n",
    "    - More flexible than LTspice native plotting functions\n",
    "    - Lecture examples created using Python/Jupyter Notebooks\n",
    " - LTspice simulation basics will be presented following today’s lecture"
   ]
  },
  {
   "cell_type": "markdown",
   "metadata": {
    "slideshow": {
     "slide_type": "slide"
    }
   },
   "source": [
    "## SPICE design methodology"
   ]
  },
  {
   "cell_type": "markdown",
   "metadata": {
    "slideshow": {
     "slide_type": "fragment"
    }
   },
   "source": [
    " - SPICE is a numerical simulation tool that enables you to evaluate circuit ideas\n",
    " - General rule: Don't simulate something you don't already (mostly) understand\n",
    "    - SPICE is for verification only!\n",
    " - Neither analytical nor simulation models provide a complete picture of reality\n",
    "     - Understanding model limitations is crucial to building successful circuits and systems"
   ]
  },
  {
   "cell_type": "markdown",
   "metadata": {
    "slideshow": {
     "slide_type": "slide"
    }
   },
   "source": [
    "## JupyterHub"
   ]
  },
  {
   "cell_type": "markdown",
   "metadata": {
    "slideshow": {
     "slide_type": "fragment"
    }
   },
   "source": [
    " - Jupyter Hub enables execution of Python code without the need for installation/maintenance of packages, etc\n",
    " - Lecture notes/slides will be made available in student directories several days prior to lecture\n",
    " - [EE538 Jupyter Hub Server](https://rttl.axdd.s.uw.edu/2020-autumn-e-e-538-a)"
   ]
  },
  {
   "cell_type": "markdown",
   "metadata": {
    "slideshow": {
     "slide_type": "slide"
    }
   },
   "source": [
    "# Lecture 1 - Foundations"
   ]
  },
  {
   "cell_type": "markdown",
   "metadata": {
    "slideshow": {
     "slide_type": "slide"
    }
   },
   "source": [
    "## What is a sensor?"
   ]
  },
  {
   "cell_type": "markdown",
   "metadata": {
    "slideshow": {
     "slide_type": "fragment"
    }
   },
   "source": [
    "- A sensor is a device that receives a _stimulus_ and responds with an _electrical signal_\n",
    "- Examples of stimuli are light intensity and wavelength, sound, force, acceleration, distance, rate of motion and chemical composition\n",
    "- The _electrical signal_ is typically voltage, current, or charge"
   ]
  },
  {
   "cell_type": "markdown",
   "metadata": {
    "slideshow": {
     "slide_type": "slide"
    }
   },
   "source": [
    "## Sensor systems"
   ]
  },
  {
   "cell_type": "markdown",
   "metadata": {
    "slideshow": {
     "slide_type": "fragment"
    }
   },
   "source": [
    "<center><img src=\"img/sensor_systems.png\" width=1000 height=1000 /></center>"
   ]
  },
  {
   "cell_type": "markdown",
   "metadata": {
    "slideshow": {
     "slide_type": "subslide"
    }
   },
   "source": [
    " - Data acquisition systems comprise one or more sensors, each of which may interface with a dedicated or multiplexed (shared) ADC \n",
    " - Typical sensing elements produce low-level analog signals that require further processing\n",
    " - Interface circuitry is used to amplify, buffer (isolate), or filter sensor outputs for further processing (e.g. A/D conversion), a process referred to as _signal conditioning_ (primary topic of this course)\n",
    " - Some sensor systems may be \"fully integrated,\" in which case all interface elements (including an ADC) are part of a single physical package, often termed a _sensing module_"
   ]
  },
  {
   "cell_type": "markdown",
   "metadata": {
    "slideshow": {
     "slide_type": "slide"
    }
   },
   "source": [
    "## Thevenin equivalent circuit"
   ]
  },
  {
   "cell_type": "markdown",
   "metadata": {
    "slideshow": {
     "slide_type": "fragment"
    }
   },
   "source": [
    " <center><img src=\"img/thevenin.png\" width=1000 height=1000 /></center>\n"
   ]
  },
  {
   "cell_type": "markdown",
   "metadata": {
    "slideshow": {
     "slide_type": "fragment"
    }
   },
   "source": [
    " - Thevenin voltage ($V_{th}$) determined by measuring the open-circuit (unloaded) voltage\n",
    " - Equivalent resistance ($R_{eq}$) determined by removing (setting to zero) any independent voltage/current sources, applying a test voltage (or current), and measuring the resulting current (or voltage)\n"
   ]
  },
  {
   "cell_type": "markdown",
   "metadata": {
    "slideshow": {
     "slide_type": "slide"
    }
   },
   "source": [
    "## Norton equivalent circuit"
   ]
  },
  {
   "cell_type": "markdown",
   "metadata": {
    "slideshow": {
     "slide_type": "fragment"
    }
   },
   "source": [
    " <center><img src=\"img/norton.png\" width=1000 height=1000 /></center>"
   ]
  },
  {
   "cell_type": "markdown",
   "metadata": {
    "slideshow": {
     "slide_type": "fragment"
    }
   },
   "source": [
    " - Norton current determined by measuring the short-circuit (fully loaded) current\n",
    " - Equivalent resistance same as for the Thevenin model\n"
   ]
  },
  {
   "cell_type": "markdown",
   "metadata": {
    "slideshow": {
     "slide_type": "slide"
    }
   },
   "source": [
    "## Voltage divider"
   ]
  },
  {
   "cell_type": "markdown",
   "metadata": {
    "cell_style": "split",
    "slideshow": {
     "slide_type": "fragment"
    }
   },
   "source": [
    "<center><img src=\"img/voltage_divider.png\" width=400 height=400 /></center>"
   ]
  },
  {
   "cell_type": "markdown",
   "metadata": {
    "cell_style": "split",
    "slideshow": {
     "slide_type": "fragment"
    }
   },
   "source": [
    "<center><img src=\"img/thevenin_resistance.png\" width=400 height=400 /></center>"
   ]
  },
  {
   "cell_type": "markdown",
   "metadata": {
    "cell_style": "center",
    "slideshow": {
     "slide_type": "fragment"
    }
   },
   "source": [
    " - The Thevenin voltage is determined by measuring $V_{out}$ in the unloaded condition \n",
    " - In this case, $V_{th} = V_{in} \\cdot R_2/(R_1+R_2)$\n",
    " - $R_{eq}$ is determined by setting $V_{in}$ equal to zero (short circuit), applying a test voltage at the output, and measuring the current\n",
    " - In this case, $R_{eq} = \\frac{V_t}{I_t} = R_1 || R_2$"
   ]
  },
  {
   "cell_type": "markdown",
   "metadata": {
    "slideshow": {
     "slide_type": "slide"
    }
   },
   "source": [
    "## Loading"
   ]
  },
  {
   "cell_type": "markdown",
   "metadata": {
    "cell_style": "center",
    "slideshow": {
     "slide_type": "fragment"
    }
   },
   "source": [
    "<center><img src=\"img/loading.png\" width=600 height=600 /></center>\n"
   ]
  },
  {
   "cell_type": "markdown",
   "metadata": {
    "slideshow": {
     "slide_type": "fragment"
    }
   },
   "source": [
    " - In electronic circuits, we’re always connecting the output of “something” to the input of “something else”\n",
    " - The loading effect of the following stage causes a reduction of signal, dependent on the ratio of $R_{out}$ to $R_{in}$ \n",
    " - For voltage signals, it is usually best to keep $R_{out} << R_{in}$ (a good rule of thumb is a factor of 10, but this depends on the needed precision)\n",
    " - For current signals, we want the opposite ($R_{out} >> R_{in}$)"
   ]
  },
  {
   "cell_type": "markdown",
   "metadata": {
    "slideshow": {
     "slide_type": "slide"
    }
   },
   "source": [
    "## Sensor interface"
   ]
  },
  {
   "cell_type": "markdown",
   "metadata": {
    "cell_style": "split",
    "slideshow": {
     "slide_type": "fragment"
    }
   },
   "source": [
    "<center><img src=\"img/voltage_sensor.png\" width=400 height=400 /></center>"
   ]
  },
  {
   "cell_type": "markdown",
   "metadata": {
    "cell_style": "split",
    "slideshow": {
     "slide_type": "fragment"
    }
   },
   "source": [
    "<center><img src=\"img/current_sensor.png\" width=400 height=400 /></center>"
   ]
  },
  {
   "cell_type": "markdown",
   "metadata": {
    "slideshow": {
     "slide_type": "fragment"
    }
   },
   "source": [
    " - Input/output impedances are generally complex, as they may include reactive components (capacitances and/or inductances)\n",
    " - Sensor output impedance $Z_{out}$ is connected to the input impedance of the interface circuit, $Z_{in}$\n",
    " - To minimize distortion due to loading, a voltage-output sensor should have $Z_{out}$ as small as possible, while $Z_{in}$ of the interface circuit should be high\n",
    " - In contrast, a current-output sensor should have $Z_{out}$ as _large_ as possible, while $Z_{in}$ of the interface circuit should be low "
   ]
  },
  {
   "cell_type": "markdown",
   "metadata": {
    "cell_style": "split",
    "slideshow": {
     "slide_type": "subslide"
    }
   },
   "source": [
    "<center><img src=\"img/voltage_sensor.png\" width=400 height=400 /></center>\n",
    "\n",
    "#### Voltage divider:\n",
    "\\begin{equation} V_{in} = \\frac{Z_{in}}{Z_{in}+Z_{out}}\\cdot V_S \\end{equation}\n",
    "\n",
    "$$Z_{in} >> Z_{out} \\rightarrow \\boxed{V_{in} \\approx V_S} $$"
   ]
  },
  {
   "cell_type": "markdown",
   "metadata": {
    "cell_style": "split",
    "slideshow": {
     "slide_type": "fragment"
    }
   },
   "source": [
    "<center><img src=\"img/current_sensor.png\" width=400 height=400 /></center>\n",
    "\n",
    "#### Current divider:\n",
    "$$ I_{in} = \\frac{Z_{out}}{Z_{in}+Z_{out}}\\cdot I_S $$\n",
    "\n",
    "$$Z_{out} >> Z_{in} \\rightarrow \\boxed{I_{in} \\approx I_S} $$"
   ]
  },
  {
   "cell_type": "markdown",
   "metadata": {
    "slideshow": {
     "slide_type": "slide"
    }
   },
   "source": [
    "## General rules/observations"
   ]
  },
  {
   "cell_type": "markdown",
   "metadata": {
    "slideshow": {
     "slide_type": "fragment"
    }
   },
   "source": [
    "- To be considered a voltage source, a sensor or circuit should exhibit low output impedance\n",
    "- In contrast, a current source exhibits high output impedance\n",
    "- To effectively process a voltage signal, an interface circuit should have high input impedance (as high as possible)\n",
    "- To process a current signal, an interface circuit should exhibit low input impedance (as low as possible)\n",
    "- The notion of what constitutes a \"low\" and \"high\" impedance is always _relative_"
   ]
  },
  {
   "cell_type": "markdown",
   "metadata": {
    "slideshow": {
     "slide_type": "slide"
    }
   },
   "source": [
    "## Signal conditioner input stage"
   ]
  },
  {
   "cell_type": "markdown",
   "metadata": {
    "slideshow": {
     "slide_type": "fragment"
    }
   },
   "source": [
    "<center><img src=\"img/signal_conditioner.png\" width=450 height=450 /></center>"
   ]
  },
  {
   "cell_type": "markdown",
   "metadata": {
    "slideshow": {
     "slide_type": "fragment"
    }
   },
   "source": [
    "- In addition to input impedance, other properties of the signal conditioner (e.g. an amplifier) influence the precision of the data acquisition process:\n",
    "    - $e_o$ is the input *offset voltage*, typically assumed to be constant, which directly adds to the DC voltage of the sensor\n",
    "    - $i_b$ is the input *bias current*, which can lead to a large voltage drop for a sensor with high output impedance\n",
    "    - $e_n$ and $i_n$ represent the internal noise generators of the signal conditioning circuitry, *input-referred* to the sensor interface"
   ]
  },
  {
   "cell_type": "markdown",
   "metadata": {
    "slideshow": {
     "slide_type": "slide"
    }
   },
   "source": [
    "## Sensor excitation"
   ]
  },
  {
   "cell_type": "markdown",
   "metadata": {
    "cell_style": "split",
    "slideshow": {
     "slide_type": "fragment"
    }
   },
   "source": [
    "<center><img src=\"img/bridge.png\" width=300 height=300 /></center>"
   ]
  },
  {
   "cell_type": "markdown",
   "metadata": {
    "cell_style": "split",
    "slideshow": {
     "slide_type": "fragment"
    }
   },
   "source": [
    "$$ V_{sense} \\approx K \\cdot \\Delta R \\cdot V_{ex}$$"
   ]
  },
  {
   "cell_type": "markdown",
   "metadata": {
    "slideshow": {
     "slide_type": "fragment"
    }
   },
   "source": [
    " - Active sensors require \"excitation\" for proper operation\n",
    " - Excitation is specified as a range of voltage and/or current (possibly even light, magnetic field, or other physical variables)\n",
    " - Variations in the excitation may alter the sensor transfer function, produce noise, and cause output errors"
   ]
  },
  {
   "cell_type": "markdown",
   "metadata": {
    "slideshow": {
     "slide_type": "slide"
    }
   },
   "source": [
    "# Python packages/modules"
   ]
  },
  {
   "cell_type": "markdown",
   "metadata": {
    "slideshow": {
     "slide_type": "subslide"
    }
   },
   "source": [
    "For plotting/visualization, __matplotlib__ is indispensable. We'll use the shorthand __plt__ for quickly creating plots:"
   ]
  },
  {
   "cell_type": "code",
   "execution_count": 114,
   "metadata": {
    "slideshow": {
     "slide_type": "fragment"
    }
   },
   "outputs": [],
   "source": [
    "import matplotlib\n",
    "import matplotlib.pyplot as plt "
   ]
  },
  {
   "cell_type": "markdown",
   "metadata": {
    "slideshow": {
     "slide_type": "subslide"
    }
   },
   "source": [
    "We'll perform certain functions (like plotting signals) frequently, so it makes sense to encapsulate these in reusable modules:"
   ]
  },
  {
   "cell_type": "code",
   "execution_count": 115,
   "metadata": {
    "cell_style": "center",
    "slideshow": {
     "slide_type": "fragment"
    }
   },
   "outputs": [],
   "source": [
    "def plot_xy(x, y, xlabel, ylabel):\n",
    "    fig, ax = plt.subplots(figsize = (8.0, 6.0));\n",
    "    ax.plot(x, y);\n",
    "    ax.grid();\n",
    "    ax.set_xlabel(xlabel);\n",
    "    ax.set_ylabel(ylabel);"
   ]
  },
  {
   "cell_type": "markdown",
   "metadata": {
    "slideshow": {
     "slide_type": "subslide"
    }
   },
   "source": [
    "Here's a module for plotting two x-y pairs using logarithmic axes for x1 and x2:"
   ]
  },
  {
   "cell_type": "code",
   "execution_count": 116,
   "metadata": {
    "slideshow": {
     "slide_type": "fragment"
    }
   },
   "outputs": [],
   "source": [
    "def plot_logxy2(x1, y1, x2, y2, x1label, y1label, x2label, y2label):\n",
    "    fig, ax = plt.subplots(2, figsize = (8.0, 6.0));\n",
    "    ax[0].semilogx(x1, y1);\n",
    "    ax[0].set_ylabel(y1label)\n",
    "    ax[0].grid()\n",
    "    \n",
    "    ax[1].semilogx(x2, y2);\n",
    "    ax[1].set_xlabel(x1label)\n",
    "    ax[1].set_xlabel(x2label);\n",
    "    ax[1].set_ylabel(y2label);\n",
    "    ax[1].grid();\n",
    "    \n",
    "    fig.align_ylabels(ax[:])"
   ]
  },
  {
   "cell_type": "markdown",
   "metadata": {
    "slideshow": {
     "slide_type": "subslide"
    }
   },
   "source": [
    "And another using linear axes..."
   ]
  },
  {
   "cell_type": "code",
   "execution_count": 117,
   "metadata": {
    "slideshow": {
     "slide_type": "fragment"
    }
   },
   "outputs": [],
   "source": [
    "def plot_xy2(x1, y1, x2, y2, x1label, y1label, x2label, y2label):\n",
    "    fig, ax = plt.subplots(2, figsize = (8.0, 6.0));\n",
    "    ax[0].plot(x1, y1);\n",
    "    ax[0].set_ylabel(y1label)\n",
    "    ax[0].grid()\n",
    "    \n",
    "    ax[1].plot(x2, y2);\n",
    "    ax[1].set_xlabel(x1label)\n",
    "    ax[1].set_xlabel(x2label);\n",
    "    ax[1].set_ylabel(y2label);\n",
    "    ax[1].grid();\n",
    "    \n",
    "    fig.align_ylabels(ax[:])"
   ]
  },
  {
   "cell_type": "markdown",
   "metadata": {
    "slideshow": {
     "slide_type": "subslide"
    }
   },
   "source": [
    "We'll use __numpy__ in nearly everything we do, so let's use the industry standard __np__ when importing. "
   ]
  },
  {
   "cell_type": "code",
   "execution_count": 118,
   "metadata": {
    "slideshow": {
     "slide_type": "fragment"
    }
   },
   "outputs": [
    {
     "data": {
      "text/plain": [
       "array([1.        , 1.41421356, 1.73205081, 2.        , 2.23606798,\n",
       "       2.44948974, 2.64575131, 2.82842712, 3.        ])"
      ]
     },
     "execution_count": 118,
     "metadata": {},
     "output_type": "execute_result"
    }
   ],
   "source": [
    "import numpy as np\n",
    "x = np.arange(1, 10, step=1)\n",
    "np.sqrt(x)"
   ]
  },
  {
   "cell_type": "markdown",
   "metadata": {
    "slideshow": {
     "slide_type": "subslide"
    }
   },
   "source": [
    "The __scipy__ module __signal__ contains many handy signal processing functions:"
   ]
  },
  {
   "cell_type": "code",
   "execution_count": 144,
   "metadata": {
    "slideshow": {
     "slide_type": "fragment"
    }
   },
   "outputs": [
    {
     "data": {
      "text/plain": [
       "Text(0.5, 0, 'Frequency [Hz]')"
      ]
     },
     "execution_count": 144,
     "metadata": {},
     "output_type": "execute_result"
    },
    {
     "data": {
      "image/png": "[encoded data removed]",
      "text/plain": [
       "<Figure size 432x288 with 1 Axes>"
      ]
     },
     "metadata": {
      "needs_background": "light"
     },
     "output_type": "display_data"
    }
   ],
   "source": [
    "from scipy import signal\n",
    "b, a = signal.butter(2, 100, 'low', analog=True)\n",
    "w, h = signal.freqs(b, a)\n",
    "plt.semilogx(w, 20*np.log10(abs(h)))\n",
    "plt.grid()\n",
    "plt.ylabel('Magnitude [dB]')\n",
    "plt.xlabel('Frequency [Hz]')"
   ]
  },
  {
   "cell_type": "markdown",
   "metadata": {
    "slideshow": {
     "slide_type": "slide"
    }
   },
   "source": [
    "## Systems"
   ]
  },
  {
   "cell_type": "markdown",
   "metadata": {
    "cell_style": "split",
    "slideshow": {
     "slide_type": "fragment"
    }
   },
   "source": [
    "<center><img src=\"img/RC_lowpass.png\" width=400 height=400 /></center>"
   ]
  },
  {
   "cell_type": "markdown",
   "metadata": {
    "cell_style": "split",
    "slideshow": {
     "slide_type": "fragment"
    }
   },
   "source": [
    "Frequency response:\n",
    "$$ V_{out}(s) = \\frac{\\frac{1}{sC}}{R+\\frac{1}{sC}}  = \\frac{1}{1+sRC} = \\frac{1}{1+s\\tau}$$\n",
    "Step response:\n",
    "$$ v_{out}(t) = u(t)(1-e^{-t/\\tau})$$"
   ]
  },
  {
   "cell_type": "markdown",
   "metadata": {
    "slideshow": {
     "slide_type": "fragment"
    }
   },
   "source": [
    " - System (or sensor) dynamic behavior is described by a time-invariant transfer function, which is the ratio of a system output to its input in the Laplace (frequency) domain\n",
    " - The Laplace description of a system is generally a more convenient means of representing its dynamic behavior, as compared to using differential equations\n",
    " - The \"order\" of a dynamical model is determined by the number of independent energy storage elements in a system (in this case, just one capacitor)"
   ]
  },
  {
   "cell_type": "markdown",
   "metadata": {
    "slideshow": {
     "slide_type": "slide"
    }
   },
   "source": [
    "## Frequency response"
   ]
  },
  {
   "cell_type": "code",
   "execution_count": 120,
   "metadata": {
    "slideshow": {
     "slide_type": "fragment"
    }
   },
   "outputs": [
    {
     "data": {
      "image/png": "[encoded data removed]",
      "text/plain": [
       "<Figure size 576x432 with 2 Axes>"
      ]
     },
     "metadata": {
      "needs_background": "light"
     },
     "output_type": "display_data"
    }
   ],
   "source": [
    "R = 1e3\n",
    "C = 1e-6\n",
    "tau = R*C\n",
    "filt_lp = signal.TransferFunction([1], [tau, 1])\n",
    "w, mag, phase = filt_lp.bode()       \n",
    "f = w/2/np.pi        \n",
    "plot_logxy2(f, mag, f, phase, 'Frequency [Hz]', 'Magnitude [dB]',\n",
    "           'Frequency [Hz]', 'Phase [deg]')"
   ]
  },
  {
   "cell_type": "markdown",
   "metadata": {
    "slideshow": {
     "slide_type": "slide"
    }
   },
   "source": [
    "## Transient (step) response"
   ]
  },
  {
   "cell_type": "code",
   "execution_count": 121,
   "metadata": {
    "slideshow": {
     "slide_type": "fragment"
    }
   },
   "outputs": [
    {
     "data": {
      "image/png": "[encoded data removed]",
      "text/plain": [
       "<Figure size 576x432 with 2 Axes>"
      ]
     },
     "metadata": {
      "needs_background": "light"
     },
     "output_type": "display_data"
    }
   ],
   "source": [
    "tin = np.linspace(0,10e-3,100)\n",
    "u_step = np.concatenate( (0, np.ones(99)), axis=None)\n",
    "tout, vout = signal.step(filt_lp, X0=None, T=tin)\n",
    "\n",
    "plot_xy2(1e3*tin, u_step, 1e3*tout, vout, 'Time [ms]', 'Vin [V]',\n",
    "        'Time [ms]', 'Vout [V]')"
   ]
  },
  {
   "cell_type": "markdown",
   "metadata": {
    "slideshow": {
     "slide_type": "slide"
    }
   },
   "source": [
    "## Signals"
   ]
  },
  {
   "cell_type": "markdown",
   "metadata": {
    "slideshow": {
     "slide_type": "fragment"
    }
   },
   "source": [
    " - Analog signals are often described as sine waves (or sums of sine waves at several frequencies)\n",
    " - For example\n",
    "$$ f(t) = A \\cdot \\sin{2 \\pi f t}, $$\n",
    "\n",
    "    where $A$ is the amplitude and $f$ the frequency in Hz"
   ]
  },
  {
   "cell_type": "markdown",
   "metadata": {
    "slideshow": {
     "slide_type": "subslide"
    }
   },
   "source": [
    " - Another common specification of sinusoidal (and other) signals is the root-mean-square (RMS) amplitude, defined as the square root of the mean squared \n",
    " \n",
    "$$ f_{RMS} = \\sqrt{\\frac{1}{T_{1} - T_{2}}\\int_{T_1}^{T_2}{[f(t)]^2dt}} $$"
   ]
  },
  {
   "cell_type": "markdown",
   "metadata": {
    "slideshow": {
     "slide_type": "slide"
    }
   },
   "source": [
    "## Fourier transform"
   ]
  },
  {
   "cell_type": "markdown",
   "metadata": {
    "slideshow": {
     "slide_type": "fragment"
    }
   },
   "source": [
    " - Signals can be represented in the frequency domain using the Fourier Transform\n",
    " \n",
    " $$ F(j\\omega) = \\int_{-\\infty}^{\\infty}f(t) \\cdot e^{-j\\omega t}dt$$\n",
    "   \n",
    "     where $\\omega$ is given in rads/sec and $j$ is the imaginary number ($j^2 = -1$)\n",
    " - Whereas the Laplace Transform allows us to transition between the time and frequency domains for *systems*, the Fourier Transform is our link between the two domains for *signals*"
   ]
  },
  {
   "cell_type": "markdown",
   "metadata": {
    "slideshow": {
     "slide_type": "subslide"
    }
   },
   "source": [
    "## Fourier transform of a sine wave"
   ]
  },
  {
   "cell_type": "markdown",
   "metadata": {
    "slideshow": {
     "slide_type": "fragment"
    }
   },
   "source": [
    " - Applying Euler's formula, we can express a sine wave as \n",
    " \n",
    " $$ A \\cdot \\cos{\\omega_1 t} = A \\frac{e^{j\\omega_1 t} + e^{-j\\omega_1 t}}{2} $$\n",
    " - The Fourier transform is thus \n",
    " \n",
    " $$F(j\\omega) = \\frac{A}{2}\\cdot [\\int_{-\\infty}^{\\infty}e^{j\\omega_1t}e^{-j\\omega_1t}dt+\\int_{-\\infty}^{\\infty}e^{-j\\omega_1t}e^{-j\\omega_1t}dt] $$\n",
    " - Applying the Fourier transform of a complex exponential results in \n",
    " \n",
    " $$F(j\\omega) = \\frac{A}{2}\\cdot [\\delta(\\omega+\\omega_1)+\\delta(\\omega-\\omega_1)]$$\n",
    " - Which is just two unit impulse functions at $2\\pi f_1$ and $-2\\pi f_2$ "
   ]
  },
  {
   "cell_type": "markdown",
   "metadata": {
    "slideshow": {
     "slide_type": "slide"
    }
   },
   "source": [
    "## Computing and plotting the FFT"
   ]
  },
  {
   "cell_type": "code",
   "execution_count": 122,
   "metadata": {
    "slideshow": {
     "slide_type": "fragment"
    }
   },
   "outputs": [],
   "source": [
    "from scipy.fft import fft\n",
    "def fft_mag(x, N, T, t):\n",
    "    fft_sig  = fft(x)  \n",
    "    freqs = np.linspace(0.0, 1.0/(2.0*T), N//2)\n",
    "    mags = 2.0/N * np.abs(fft_sig[0:N//2]) # single-sided FFT\n",
    "    \n",
    "    return freqs, mags"
   ]
  },
  {
   "cell_type": "code",
   "execution_count": 123,
   "metadata": {
    "slideshow": {
     "slide_type": "fragment"
    }
   },
   "outputs": [],
   "source": [
    "def plot_fft_dB(freqs, mags, fmin, fmax):\n",
    "    fig, ax = plt.subplots(figsize = (8.0,6.0))\n",
    "    ax.plot(1e-3*freqs, 20*np.log10(mags))\n",
    "    ax.set_xlim(fmin, fmax)\n",
    "    ax.set_xlabel('Frequency [kHz]')\n",
    "    ax.set_ylabel('Magnitude [dB]')\n",
    "    ax.grid()"
   ]
  },
  {
   "cell_type": "markdown",
   "metadata": {
    "slideshow": {
     "slide_type": "slide"
    }
   },
   "source": [
    "## FFT of a sinusoidal signal"
   ]
  },
  {
   "cell_type": "markdown",
   "metadata": {
    "slideshow": {
     "slide_type": "subslide"
    }
   },
   "source": [
    "### Sine wave in the time domain"
   ]
  },
  {
   "cell_type": "code",
   "execution_count": 176,
   "metadata": {
    "slideshow": {
     "slide_type": "fragment"
    }
   },
   "outputs": [],
   "source": [
    "# frequency of sine wave, in Hz\n",
    "f = 1e3               \n",
    "\n",
    "# frequency in radians\n",
    "w = 2*np.pi*f\n",
    "\n",
    "# length of simulation in seconds\n",
    "t_sim = 10e-3           \n",
    "\n",
    "# number of sample points\n",
    "N = 1000         \n",
    "\n",
    "# time array\n",
    "t_in = np.linspace(0, t_sim, N)\n",
    "\n",
    "# time-domain signal\n",
    "v_in = np.sin(w*t_in)     "
   ]
  },
  {
   "cell_type": "markdown",
   "metadata": {
    "slideshow": {
     "slide_type": "fragment"
    }
   },
   "source": [
    "Note that the effective sample rate of the sine wave is $f_s = \\frac{N}{t_{sim}} = 100kHz$"
   ]
  },
  {
   "cell_type": "markdown",
   "metadata": {
    "slideshow": {
     "slide_type": "subslide"
    }
   },
   "source": [
    "### Time-domain plot"
   ]
  },
  {
   "cell_type": "code",
   "execution_count": 177,
   "metadata": {
    "scrolled": false,
    "slideshow": {
     "slide_type": "fragment"
    }
   },
   "outputs": [
    {
     "data": {
      "image/png": "[encoded data removed]",
      "text/plain": [
       "<Figure size 576x432 with 1 Axes>"
      ]
     },
     "metadata": {
      "needs_background": "light"
     },
     "output_type": "display_data"
    }
   ],
   "source": [
    "plot_xy(1e3*t_in, v_in, 'Time [ms]', 'Voltage [V]')"
   ]
  },
  {
   "cell_type": "markdown",
   "metadata": {
    "slideshow": {
     "slide_type": "subslide"
    }
   },
   "source": [
    "### FFT magnitude plot"
   ]
  },
  {
   "cell_type": "code",
   "execution_count": 178,
   "metadata": {
    "slideshow": {
     "slide_type": "fragment"
    }
   },
   "outputs": [
    {
     "data": {
      "image/png": "[encoded data removed]",
      "text/plain": [
       "<Figure size 576x432 with 1 Axes>"
      ]
     },
     "metadata": {
      "needs_background": "light"
     },
     "output_type": "display_data"
    }
   ],
   "source": [
    "fft_freq, fft_mag_in = fft_mag(v_in, N, t_sim/N, t_sim)            \n",
    "plot_fft_dB(fft_freq, fft_mag_in, 0, 50)  "
   ]
  },
  {
   "cell_type": "markdown",
   "metadata": {
    "slideshow": {
     "slide_type": "fragment"
    }
   },
   "source": [
    "The Fourier Transform only contains information up to the Nyquist frequency, $f_n = f_s/2$"
   ]
  },
  {
   "cell_type": "markdown",
   "metadata": {
    "slideshow": {
     "slide_type": "subslide"
    }
   },
   "source": [
    "### Window example (Hanning)"
   ]
  },
  {
   "cell_type": "code",
   "execution_count": 191,
   "metadata": {
    "scrolled": false,
    "slideshow": {
     "slide_type": "fragment"
    }
   },
   "outputs": [
    {
     "data": {
      "image/png": "[encoded data removed]",
      "text/plain": [
       "<Figure size 576x432 with 1 Axes>"
      ]
     },
     "metadata": {
      "needs_background": "light"
     },
     "output_type": "display_data"
    }
   ],
   "source": [
    "from scipy.signal import hann\n",
    "from scipy.signal import blackman\n",
    "from scipy.signal import hamming\n",
    "win = hann(N)\n",
    "v_in_windowed = v_in*win\n",
    "plot_xy(1e3*t_in, v_in_windowed, 'Time [ms]', 'Voltage [V]')"
   ]
  },
  {
   "cell_type": "markdown",
   "metadata": {
    "slideshow": {
     "slide_type": "subslide"
    }
   },
   "source": [
    "### Windowed FFT"
   ]
  },
  {
   "cell_type": "code",
   "execution_count": 182,
   "metadata": {
    "slideshow": {
     "slide_type": "fragment"
    }
   },
   "outputs": [
    {
     "data": {
      "image/png": "[encoded data removed]",
      "text/plain": [
       "<Figure size 576x432 with 1 Axes>"
      ]
     },
     "metadata": {
      "needs_background": "light"
     },
     "output_type": "display_data"
    }
   ],
   "source": [
    "fft_freq, fft_mag_windowed = fft_mag(v_in_windowed, N, t_sim/N, t_sim)            \n",
    "plot_fft_dB(fft_freq, fft_mag_windowed, 0, 50)  "
   ]
  },
  {
   "cell_type": "markdown",
   "metadata": {
    "slideshow": {
     "slide_type": "slide"
    }
   },
   "source": [
    "## Application: ECG"
   ]
  },
  {
   "cell_type": "code",
   "execution_count": 189,
   "metadata": {
    "slideshow": {
     "slide_type": "fragment"
    }
   },
   "outputs": [
    {
     "data": {
      "image/png": "[encoded data removed]",
      "text/plain": [
       "<Figure size 576x432 with 1 Axes>"
      ]
     },
     "metadata": {
      "needs_background": "light"
     },
     "output_type": "display_data"
    }
   ],
   "source": [
    "from scipy.misc import electrocardiogram \n",
    "ecg = electrocardiogram()\n",
    "fs = 360\n",
    "time = np.arange(ecg.size) / fs\n",
    "plot_xy(time, ecg, 'Time [s]', 'Voltage [mV]')"
   ]
  },
  {
   "cell_type": "markdown",
   "metadata": {
    "slideshow": {
     "slide_type": "subslide"
    }
   },
   "source": [
    "## Signal FFT"
   ]
  },
  {
   "cell_type": "code",
   "execution_count": 216,
   "metadata": {
    "slideshow": {
     "slide_type": "fragment"
    }
   },
   "outputs": [
    {
     "data": {
      "image/png": "[encoded data removed]",
      "text/plain": [
       "<Figure size 576x432 with 1 Axes>"
      ]
     },
     "metadata": {
      "needs_background": "light"
     },
     "output_type": "display_data"
    }
   ],
   "source": [
    "win2 = hann(ecg.size)\n",
    "ecg_windowed = win2*ecg\n",
    "fft_freq, fft_mag_ecg = fft_mag(ecg_windowed, ecg.size, 1/fs, time)            \n",
    "plot_fft_dB(fft_freq, fft_mag_ecg, 0, .005)  "
   ]
  },
  {
   "cell_type": "code",
   "execution_count": 207,
   "metadata": {},
   "outputs": [
    {
     "data": {
      "text/plain": [
       "(0.0, 10.0)"
      ]
     },
     "execution_count": 207,
     "metadata": {},
     "output_type": "execute_result"
    },
    {
     "data": {
      "image/png": "[encoded data removed]",
      "text/plain": [
       "<Figure size 432x288 with 1 Axes>"
      ]
     },
     "metadata": {
      "needs_background": "light"
     },
     "output_type": "display_data"
    }
   ],
   "source": [
    "plt.plot(time, ecg)\n",
    "plt.xlim(0,10)"
   ]
  },
  {
   "cell_type": "code",
   "execution_count": null,
   "metadata": {},
   "outputs": [],
   "source": []
  }
 ],
 "metadata": {
  "celltoolbar": "Slideshow",
  "kernelspec": {
   "display_name": "Python 3",
   "language": "python",
   "name": "python3"
  },
  "language_info": {
   "codemirror_mode": {
    "name": "ipython",
    "version": 3
   },
   "file_extension": ".py",
   "mimetype": "text/x-python",
   "name": "python",
   "nbconvert_exporter": "python",
   "pygments_lexer": "ipython3",
   "version": "3.8.2"
  },
  "livereveal": {
   "controls": false,
   "scroll": true,
   "theme": "simple"
  },
  "rise": {
   "enable_chalkboard": true,
   "slideNumber": true
  }
 },
 "nbformat": 4,
 "nbformat_minor": 4
}
