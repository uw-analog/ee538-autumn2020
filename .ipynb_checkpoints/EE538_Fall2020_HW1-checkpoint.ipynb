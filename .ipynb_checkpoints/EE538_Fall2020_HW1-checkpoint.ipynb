{
 "cells": [
  {
   "cell_type": "markdown",
   "metadata": {},
   "source": [
    "#### EE 538 Autumn 2020\n",
    "#### Analog Circuits for Sensor System\n",
    "#### University of Washington Electrical & Computer Engineering"
   ]
  },
  {
   "cell_type": "markdown",
   "metadata": {},
   "source": [
    "#### Instructor: Jason Silver\n",
    "#### Homework #1 (10 points)\n",
    "#### Due Sunday, October 11 (Submit on Canvas)\n",
    "_Please show your work_"
   ]
  },
  {
   "cell_type": "markdown",
   "metadata": {},
   "source": [
    "#### Problem 1: Current sources, frequency response, loading"
   ]
  },
  {
   "cell_type": "markdown",
   "metadata": {},
   "source": [
    "<center><img src=\"img/HW1_P1.png\" width=500 height=500 /></center>"
   ]
  },
  {
   "cell_type": "code",
   "execution_count": 2,
   "metadata": {},
   "outputs": [],
   "source": [
    "import numpy as np\n",
    "import scipy.signal as signal"
   ]
  },
  {
   "cell_type": "markdown",
   "metadata": {},
   "source": [
    " a) Plot the frequency response (magnitude and phase) $V_{out}/I_S$ for $\\lvert Z_L \\rvert \\rightarrow \\infty$."
   ]
  },
  {
   "cell_type": "markdown",
   "metadata": {},
   "source": [
    "Since $Z_L$ is infinite, all of $I_S$ must flow through the parallel combination of $R_{out}$ and $C_{out}$."
   ]
  },
  {
   "cell_type": "code",
   "execution_count": null,
   "metadata": {},
   "outputs": [],
   "source": []
  },
  {
   "cell_type": "markdown",
   "metadata": {},
   "source": [
    " b) Plot the frequency response (magnitude and phase) $V_{out}/I_S$ together with the unloaded response (part a) for the two conditions <br>"
   ]
  },
  {
   "cell_type": "markdown",
   "metadata": {},
   "source": [
    " c) Plot the transient response of $V_{out}$ for $I_S$ as a current step from $0$ to $I_{max}$ ($\\rvert Z_L \\lvert \\rightarrow \\infty$). "
   ]
  },
  {
   "cell_type": "markdown",
   "metadata": {},
   "source": [
    " d) Simulate the circuit in LTspice."
   ]
  },
  {
   "cell_type": "code",
   "execution_count": null,
   "metadata": {},
   "outputs": [],
   "source": []
  }
 ],
 "metadata": {
  "kernelspec": {
   "display_name": "Python 3",
   "language": "python",
   "name": "python3"
  },
  "language_info": {
   "codemirror_mode": {
    "name": "ipython",
    "version": 3
   },
   "file_extension": ".py",
   "mimetype": "text/x-python",
   "name": "python",
   "nbconvert_exporter": "python",
   "pygments_lexer": "ipython3",
   "version": "3.8.2"
  }
 },
 "nbformat": 4,
 "nbformat_minor": 4
}
