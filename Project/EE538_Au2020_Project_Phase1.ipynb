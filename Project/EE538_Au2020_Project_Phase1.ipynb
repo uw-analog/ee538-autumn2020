{
 "cells": [
  {
   "cell_type": "markdown",
   "metadata": {},
   "source": [
    "<center><b>EE 538 Autumn 2020<br>\n",
    "Analog Circuits for Sensor Systems<br>\n",
    "University of Washington Electrical & Computer Engineering</b></center>\n"
   ]
  },
  {
   "cell_type": "markdown",
   "metadata": {},
   "source": [
    "<b>Instructor: Jason Silver<br>\n",
    "Design Project Phase 1: Strain Gage Low-Noise Signal Conditioning<br>\n",
    "Due Sunday, December 6 (Submit on Canvas as a Jupyter Notebook)</b> "
   ]
  },
  {
   "cell_type": "markdown",
   "metadata": {},
   "source": [
    "The final project for this course involves the design of the signal conditioning electronics for a strain gage sensor. You will design amplifier and filter circuits for a strain gage signal produced using a Wheatstone bridge. The goals of this project are:\n",
    "\n",
    " - To understand how to translate application specifications (e.g. dynamic range of a sensor output) into circuit specifications\n",
    " - To understand the impact of different noise sources in a circuit and how they affect the achievement of performance targets (e.g. SNR)\n",
    " - To understand how to choose components and apply gain and filtering to optimize for SNR, power dissipation, and cost\n",
    " - To understand the impact of manufacturing variations on performance goals, and how to select components that achieve the optimal balance between performance, component availability, and cost"
   ]
  },
  {
   "cell_type": "markdown",
   "metadata": {},
   "source": [
    "The project will consist of two phases, each phase lasting 2-3 weeks. At the end of Phase 1 you are asked to submit a Jupyter Notebook providing details of your design choices and the results of any relevant analyses (e.g. circuit analysis, Python scripts, or simulation results). "
   ]
  },
  {
   "cell_type": "markdown",
   "metadata": {},
   "source": [
    "\n",
    "| Item               | Due date | Proportion of project grade |\n",
    "| :---------------- | :------ | :-------------------------: |\n",
    "| Phase 1 submission | December 6 | 60 % |\n",
    "| Phase 2 submission | December 19 | 40 % |"
   ]
  },
  {
   "cell_type": "markdown",
   "metadata": {},
   "source": [
    "__System Architecture__\n",
    "\n",
    "The noise performance of a sensor system is typically determined by the noise density of the front-end electronics (opamps and resistors) and the bandwidth of the signal path. Sensors may also contribute noise, as is the case for a Wheatstone bridge used the convert the change in resistance of a strain gage to a differential voltage. "
   ]
  },
  {
   "cell_type": "markdown",
   "metadata": {
    "cell_style": "center"
   },
   "source": [
    "<center><img src=\"img/system_architecture.png\" width=800></center>\n",
    "<br>\n",
    "<center><b> Figure 1. Strain gage signal condition architecture.</center>"
   ]
  },
  {
   "cell_type": "markdown",
   "metadata": {},
   "source": [
    "__Fig 1.__ show the sensor signal conditioning “front-end” architecture for a strain gage sensor. The differential output voltage of the strain gage is amplified by the instrumentation amplifier and converted to a single-ended voltage. The output of the amplifier is fed to a lowpass filter which sets the noise bandwidth of the front-end circuitry. \n",
    "\n",
    "The strain gage produces a differential output in response to an applied strain. This occurs as the result of the lengthening or shortening of a conductive element, which in turn changes its resistance. These changes in resistance are typically quite small, as the change in length $\\Delta L$ relative to the nominal length $L$ is small, on the order of 0.1% (for example).\n",
    "\n",
    "Strain gage sensors are typically based on the Wheatstone bridge, a network of four resistances with an “excitation voltage” applied across the bridge ($V_{DD}$ in __Fig. 1__). The number of bridge resistances subjected to strain determines the strain gage sensitivity (expressed in mV/V).\n"
   ]
  },
  {
   "cell_type": "markdown",
   "metadata": {},
   "source": [
    "__Phase 1__\n",
    "\n",
    "For the first phase you are to design an instrumentation amplifier to amplify the strain gage signal while adding minimal noise. Filtering will be addressed during Phase 2 $-$ for Phase 1 we will design assuming a signal bandwidth of $10kHz$.  __Fig. 2__ shows the recommended architecture of the instrumentation amplifier. "
   ]
  },
  {
   "cell_type": "markdown",
   "metadata": {},
   "source": [
    "<center><img src=\"img/inamp_with_mismatch.png\" width=600></center>\n",
    "<br>\n",
    "<center><b> Figure 2. Instrumentation amplifier schematic.</center>"
   ]
  },
  {
   "cell_type": "markdown",
   "metadata": {},
   "source": [
    "| Parameter                            | Specification   | Unit |\n",
    "| :----------------                    | :------:        | :-------------------------: |\n",
    "| Supply voltage ($V_{DD}$)            | $5$               | $V$ |\n",
    "| Peak-to-peak signal amplitude        | $20$              | $mV$ |\n",
    "| Nominal strain gage resistance ($R$) | $1$               | $k\\Omega$ |\n",
    "| Peak-to-peak output amplitude ($V_{out}$)        | $2$               | $V$ |\n",
    "| Signal-to-noise ratio                | $\\geq 77$         | $dB$ | \n",
    "| Signal bandwidth ($f_{sbw}$)         | $10$              | $kHz$ |  \n",
    "| Input-referred offset     | $\\leq 1$              | $mV$ |  \n",
    "| CMRR                                 | $90$              | $dB$ |\n",
    "| Power dissipation ($I_{DD} \\cdot V_{DD}$) | Optimize   | $mW$ |\n",
    "| Cost-per-unit (10,000 units)          | Optimize       |$\\$$ |"
   ]
  },
  {
   "cell_type": "markdown",
   "metadata": {},
   "source": [
    "__Recommended design approach__\n",
    "\n",
    " - Determine the gain required to meet the output amplitude specification\n",
    " - Determine the input-referred voltage noise density required to meet the SNR specification\n",
    " - Perform noise analysis of the instrumentation amplifier and determine the relative impact of all noise sources on the input-referred noise. Be sure to include the noise from the strain gage resistance and opamp current noise. You should model the strain gage as its Thevenin equivalent circuit.\n",
    " - Select component values that allow you to achieve the noise target, with resistor tolerances that make it possible to meet the CMRR specification\n",
    " - It may be helpful to simulate with an ideal opamp first (e.g. UniversalOpamp2) to validate your calculations\n",
    " - Use Digikey’s or Analog Devices’ component selection tables to select opamps that meet the requirements. Note that one limitation here is that the opamps you use have available SPICE models that include noise. Many of Analog Devices’ models are already available in Ltspice. For any that aren’t, you just need to import the SPICE netlist and create a new component (Ltspice will autogenerate the symbol for you, but you can also create a custom symbol).\n",
    " - The common-mode rejection ratio (CMRR) will depend on the resistor matching in the second stage of the instrumentation amplifier. It is given by the expression\n",
    " \n",
    "$$ CMRR = CMRR_1 \\times CMRR_2 = G_1 \\times \\dfrac{G_2+1}{4\\times\\epsilon}$$\n",
    "\n",
    " - where $G_1$ is the gain of the first stage, $G_2$ is the gain of the second stage, and $\\epsilon$ is the tolerance of the resistors in the second stage\n",
    " - $V_{ref}$ should be generated using a voltage buffer (don't use an ideal voltage source)\n",
    " - Take a systematic approach, rather than trying to simulate the amplifier straight away and “guess” at the component values\n",
    " "
   ]
  },
  {
   "cell_type": "markdown",
   "metadata": {},
   "source": [
    "*Note on supply voltage and input range:* You need to ensure that both the single-ended supply voltage of $5V$ and the nominal sensor output voltage ($5V/2 = 2.5V$) are compatible with your opamp selection(s)."
   ]
  },
  {
   "cell_type": "markdown",
   "metadata": {},
   "source": [
    "*Flicker (1/f) noise:* Some CMOS opamps exhibit particularly high $1/f$ corner frequencies ($f_c$), which can significantly degrade your SNR. This can often be seen by the $e_{np-p}$ parameter provided in many datasheets (or the ‘0.1 to 10Hz VNoise’ parameter in Analog Devices’ opamp selection table). If your noise simulation result seems higher than expected, make sure your noise isn’t being dominated by flicker noise."
   ]
  },
  {
   "cell_type": "markdown",
   "metadata": {},
   "source": [
    "__Phase 1 deliverables__\n",
    "\n",
    "Jupyter Notebook detailing the following:\n",
    "\n",
    "1.\tInput-referred noise target derived from the specifications. Include a discussion on how you arrived at this value. (20%) \n",
    "2.\tExpression showing the relative contribution of each noise source on the input-referred noise. Justify any assumptions. (15%)\n",
    "3.\tComplete schematic showing the strain gage model, supply voltages, opamp models, resistor values, and DC operating point voltages at all nodes (20%)\n",
    "4.  Table showing components used, quantitiy, and cost per unit (assuming a total of 10,000 units) (10%)\n",
    "5.  AC simulation results showing the differential frequency response of the amplifier (10%)\n",
    "6.  AC simulation results showing the *common-mode* frequency response of the amplifier with resistor mismatch. The worst-case mismatch condition is depicted in __Fig. 2__. (5%)\n",
    "7.\tInput-referred noise plot showing the input-referred noise density at 10kHz, as well as integrated noise from 0.1Hz to 10kHz (this should show that your design will meet spec once you add a filter). (20%)"
   ]
  },
  {
   "cell_type": "code",
   "execution_count": null,
   "metadata": {},
   "outputs": [],
   "source": []
  }
 ],
 "metadata": {
  "kernelspec": {
   "display_name": "Python 3",
   "language": "python",
   "name": "python3"
  },
  "language_info": {
   "codemirror_mode": {
    "name": "ipython",
    "version": 3
   },
   "file_extension": ".py",
   "mimetype": "text/x-python",
   "name": "python",
   "nbconvert_exporter": "python",
   "pygments_lexer": "ipython3",
   "version": "3.8.2"
  }
 },
 "nbformat": 4,
 "nbformat_minor": 4
}
