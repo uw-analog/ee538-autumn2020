{
 "cells": [
  {
   "cell_type": "markdown",
   "metadata": {
    "cell_style": "center",
    "slideshow": {
     "slide_type": "slide"
    }
   },
   "source": [
    "# EE 538: Analog Circuits for Sensor Systems\n",
    "## Autumn 2020\n",
    "## Instructor: Jason Silver"
   ]
  },
  {
   "cell_type": "markdown",
   "metadata": {
    "slideshow": {
     "slide_type": "slide"
    }
   },
   "source": [
    "## Announcements"
   ]
  },
  {
   "cell_type": "markdown",
   "metadata": {
    "slideshow": {
     "slide_type": "-"
    }
   },
   "source": [
    " - Solution to Assignment 5 posted on JupyterHub and Canvas\n",
    " - Assignment 6 due Sunday, November 15 at midnight\n",
    "    - Jupyter Notebook (.ipyb) submission on Canvas\n",
    "    - For LTspice problems, include image (e.g. screen capture) of schematic(s)\n",
    " - Design Project will be assigned by 11/14\n",
    "     - Two phases, spaced 2-3 weeks apart"
   ]
  },
  {
   "cell_type": "markdown",
   "metadata": {
    "slideshow": {
     "slide_type": "slide"
    }
   },
   "source": [
    "## Week 7"
   ]
  },
  {
   "cell_type": "markdown",
   "metadata": {
    "slideshow": {
     "slide_type": "-"
    }
   },
   "source": [
    " - Art of Electronics (AoE) Chapter 8"
   ]
  },
  {
   "cell_type": "markdown",
   "metadata": {
    "slideshow": {
     "slide_type": "slide"
    }
   },
   "source": [
    "## Overview"
   ]
  },
  {
   "cell_type": "markdown",
   "metadata": {
    "slideshow": {
     "slide_type": "-"
    }
   },
   "source": [
    "- Today...\n",
    "    - Noise in resistors\n",
    "    - Noise bandwidth\n",
    "    - Flicker noise\n",
    "    - Shot noise \n",
    "    - Diode/BJT noise sources\n",
    "- Today\n",
    "    - BJT noise model\n",
    "    - MOSFET noise model\n",
    "    - Opamp noise model\n",
    "    - Analyzing noise in opamp circuits"
   ]
  },
  {
   "cell_type": "markdown",
   "metadata": {
    "slideshow": {
     "slide_type": "skip"
    }
   },
   "source": [
    "## Python packages/modules"
   ]
  },
  {
   "cell_type": "code",
   "execution_count": 2,
   "metadata": {
    "slideshow": {
     "slide_type": "skip"
    }
   },
   "outputs": [],
   "source": [
    "import matplotlib as mpl\n",
    "from matplotlib import pyplot as plt\n",
    "import numpy as np\n",
    "from scipy import signal\n",
    "#%matplotlib notebook\n",
    "\n",
    "mpl.rcParams['font.size'] = 12\n",
    "mpl.rcParams['legend.fontsize'] = 'large'\n",
    "\n",
    "def plot_xy(x, y, xlabel, ylabel):\n",
    "    fig, ax = plt.subplots(figsize=(10.0, 7.5));\n",
    "    ax.plot(x, y, 'b')\n",
    "    ax.grid()\n",
    "    ax.set_xlabel(xlabel)\n",
    "    ax.set_ylabel(ylabel)\n",
    "    \n",
    "def plot_xy2(x1, y1, x1label, y1label, x2, y2, x2label, y2label):\n",
    "    fig, ax = plt.subplots(2, figsize = (10.0, 7.5));\n",
    "    ax[0].plot(x1, y1, 'b')\n",
    "    ax[0].set_ylabel(y1label)\n",
    "    ax[0].grid()\n",
    "    \n",
    "    ax[1].plot(x2, y2, 'b')\n",
    "    ax[1].set_xlabel(x1label)\n",
    "    ax[1].set_xlabel(x2label)\n",
    "    ax[1].set_ylabel(y2label)\n",
    "    ax[1].grid()\n",
    "    \n",
    "    fig.align_ylabels(ax[:])\n",
    "\n",
    "def plot_xy3(x, y1, y2, y3, xlabel, y1label, y2label, y3label):\n",
    "    fig, ax = plt.subplots(3, figsize=(10.0,7.5))\n",
    "    \n",
    "    ax[0].plot(x, y1)\n",
    "    ax[0].set_ylabel(y1label)\n",
    "    ax[0].grid()\n",
    "    \n",
    "    ax[1].plot(x, y2)\n",
    "    ax[1].set_ylabel(y2label)\n",
    "    ax[1].grid()\n",
    "    \n",
    "    ax[2].plot(x, y3)  \n",
    "    ax[2].set_ylabel(y3label)\n",
    "    ax[2].set_xlabel(xlabel)\n",
    "    ax[2].grid()\n",
    "    \n",
    "def plot_logxy3(x, y1, y2, y3, xlabel, y1label, y2label, y3label):\n",
    "    fig, ax = plt.subplots(3, figsize=(10.0,7.5))\n",
    "    \n",
    "    ax[0].semilogx(x, y1)\n",
    "    ax[0].set_ylabel(y1label)\n",
    "    ax[0].grid()\n",
    "    \n",
    "    ax[1].semilogx(x, y2)\n",
    "    ax[1].set_ylabel(y2label)\n",
    "    ax[1].grid()\n",
    "    \n",
    "    ax[2].semilogx(x, y3)  \n",
    "    ax[2].set_ylabel(y3label)\n",
    "    ax[2].set_xlabel(xlabel)\n",
    "    ax[2].grid()\n",
    "\n",
    "def plot_logxy(x, y, xlabel, ylabel):\n",
    "    fig, ax = plt.subplots(figsize=(10.0, 7.5))\n",
    "    ax.semilogx(x, y, 'b')\n",
    "    ax.grid();\n",
    "    ax.set_xlabel(xlabel)\n",
    "    ax.set_ylabel(ylabel)\n",
    "    \n",
    "def plot_loglog(x, y, xlabel, ylabel):\n",
    "    fig, ax = plt.subplots(figsize=(10.0, 7.5))\n",
    "    ax.loglog(x, y, 'b')\n",
    "    ax.grid();\n",
    "    ax.set_xlabel(xlabel)\n",
    "    ax.set_ylabel(ylabel)\n",
    "    \n",
    "def plot_xlogy(x, y, xlabel, ylabel):\n",
    "    fig, ax = plt.subplots(figsize=(10.0, 7.5));\n",
    "    ax.semilogy(x, y, 'b');\n",
    "    ax.grid();\n",
    "    ax.set_xlabel(xlabel);\n",
    "    ax.set_ylabel(ylabel);\n",
    "    \n",
    "def read_ltspice_ac(file_name):\n",
    "    with open(file_name, 'r') as data:\n",
    "        x = []\n",
    "        y = []\n",
    "        z = []\n",
    "        next(data) # skip header line\n",
    "        for line in data:\n",
    "            p = line.split()\n",
    "            x.append(float(p[0]))\n",
    "            complex = p[1].split(\",\")\n",
    "            y.append(float(complex[0]))\n",
    "            z.append(float(complex[1]))\n",
    "\n",
    "    return x, y, z\n",
    "\n",
    "def plot_logxy2(x1, y1, x2, y2, x1label, y1label, x2label, y2label):\n",
    "    fig, ax = plt.subplots(2, figsize = (10.0, 7.5));\n",
    "    ax[0].semilogx(x1, y1, 'b');\n",
    "    ax[0].set_ylabel(y1label)\n",
    "    ax[0].grid()\n",
    "    \n",
    "    ax[1].semilogx(x2, y2, 'b');\n",
    "    ax[1].set_xlabel(x1label)\n",
    "    ax[1].set_xlabel(x2label);\n",
    "    ax[1].set_ylabel(y2label);\n",
    "    ax[1].grid();\n",
    "    \n",
    "    fig.align_ylabels(ax[:])\n",
    "    \n",
    "def plot_noise_bandwidth(f, mag):\n",
    "    fig, ax = plt.subplots(2, figsize=(10.0,7.5))\n",
    "    ax[0].semilogx(f, RC_mag)\n",
    "    ax[0].set_xscale(\"log\")\n",
    "    ax[0].set_xlim(f[0], f[-1])\n",
    "    ax[0].set_xticks(np.logspace(0.1,4,5))\n",
    "    ax[0].set_xticklabels([])\n",
    "    ax[0].set_ylabel('Magnitude [V/V]')\n",
    "    ax[0].set_title('Equivalent Noise Bandwidth')\n",
    "    ax[0].grid()\n",
    "\n",
    "    ax[1].hlines(1, 0, f_enb, color='tab:blue')\n",
    "    ax[1].hlines(0, f_enb, f[-1], color='tab:blue')\n",
    "    ax[1].vlines(f_enb, 0, 1, color='tab:blue')\n",
    "    ax[1].set_xlim(f[0], f[-1])\n",
    "    ax[1].set_xscale(\"log\")\n",
    "    ax[1].set_xticks(np.logspace(0.1,4,5))\n",
    "    ax[1].set_xticklabels([r'$10^0$',r'$10^1$', r'$10^2$', r'$10^3$', r'$10^4$'])\n",
    "    ax[1].set_ylabel('Magnitude [V/V]')\n",
    "    ax[1].set_xlabel('Frequency [Hz]')\n",
    "    ax[1].grid()\n",
    "    \n",
    "def noise_hist(vnoise, vn_rms, bins):\n",
    "    fig = plt.figure( figsize=(10.0,7.5) )\n",
    "    vn_norm = vnoise/ vn_rms\n",
    "    ax = fig.add_subplot(111)\n",
    "    n, bins, rectangles = ax.hist(vn_norm, bins, density=True, range=(-3, 3),\n",
    "                                 color='b')\n",
    "    ax.set_xlabel(r'Sample Voltage [$v_{n(rms)}$]')\n",
    "    ax.set_ylabel('Probability Density')\n",
    "    ax.grid()\n",
    "    fig.canvas.draw()"
   ]
  },
  {
   "cell_type": "code",
   "execution_count": 3,
   "metadata": {
    "slideshow": {
     "slide_type": "skip"
    }
   },
   "outputs": [],
   "source": [
    "def fftnoise(f):\n",
    "    f = np.array(f, dtype='complex')\n",
    "    Np = (len(f) - 1) // 2\n",
    "    phases = np.random.rand(Np) * 2 * np.pi\n",
    "    phases = np.cos(phases) + 1j * np.sin(phases)\n",
    "    f[1:Np+1] *= phases\n",
    "    f[-1:-1-Np:-1] = np.conj(f[1:Np+1])\n",
    "    return np.fft.ifft(f).real\n",
    "\n",
    "def band_limited_noise(min_freq, max_freq, samples=1024, samplerate=1):\n",
    "    freqs = np.abs(np.fft.fftfreq(samples, 1/samplerate))\n",
    "    f = np.zeros(samples)\n",
    "    idx = np.where(np.logical_and(freqs>=min_freq, freqs<=max_freq))[0]\n",
    "    f[idx] = 1\n",
    "    return fftnoise(f)"
   ]
  },
  {
   "cell_type": "markdown",
   "metadata": {
    "slideshow": {
     "slide_type": "slide"
    }
   },
   "source": [
    "# Lecture 7 - Noise in Circuits"
   ]
  },
  {
   "cell_type": "markdown",
   "metadata": {
    "slideshow": {
     "slide_type": "slide"
    }
   },
   "source": [
    "## BJT noise sources"
   ]
  },
  {
   "cell_type": "markdown",
   "metadata": {},
   "source": [
    "<center><img src=\"img/BJT_noise_sources.png\" width=1500 /></center>"
   ]
  },
  {
   "cell_type": "markdown",
   "metadata": {},
   "source": [
    " - $i_{nb}$ comprises the base-emitter shot noise current and flicker noise (in addition to burst noise, which is often negligible):\n",
    " \n",
    "$$ i_{nb}^2 = 2qI_B + K_1 \\dfrac{I_B^a}{f} $$\n",
    " \n",
    " - $e_{nbb}$ constitutes the thermal noise voltage of the BJT base resistance:\n",
    " \n",
    "$$ e_{nbb}^2 = 4kT r_{bb} $$\n",
    " \n",
    " - $i_{nc}$ is the shot noise current of the collector-emitter junction:\n",
    " \n",
    "$$ i_c^2 = 2qI_C$$"
   ]
  },
  {
   "cell_type": "markdown",
   "metadata": {
    "slideshow": {
     "slide_type": "slide"
    }
   },
   "source": [
    "## BJT noise model"
   ]
  },
  {
   "cell_type": "markdown",
   "metadata": {
    "cell_style": "split"
   },
   "source": [
    "<center><img src=\"img/BJT_noise_model.png\" width=500 /></center> "
   ]
  },
  {
   "cell_type": "markdown",
   "metadata": {
    "cell_style": "split"
   },
   "source": [
    "$$ e_n^2 = \\dfrac{2qI_C}{g_m^2} + 4kTr_{bb} $$\n",
    "\n",
    "$$ \\rightarrow e_n = \\sqrt{\\dfrac{2qI_C}{g_m^2} + 4kTr_{bb}} $$\n",
    "\n",
    "$$ i_{n}^2 = i_{nb}^2 = 2qI_B + K_1 \\dfrac{I_B^a}{f} $$\n",
    "\n",
    "$$ \\rightarrow i_n = \\sqrt{ 2qI_B + K_1 \\dfrac{I_B^a}{f} } $$"
   ]
  },
  {
   "cell_type": "markdown",
   "metadata": {},
   "source": [
    "- $e_n$ and $i_n$ represent the BJT’s internal noise, modeled by a noise voltage $e_n$ in series with the input and a noise current $i_n$  injected at the input\n",
    "- Collector current shot noise is referred to the input via the BJT transconductace $g_m$\n",
    "- The transistor is assumed noiseless, and it amplifies (via its transconductance) the noise voltage that appears at the input\n",
    "- Input-referred noise of opamps is derived in a similar manner"
   ]
  },
  {
   "cell_type": "markdown",
   "metadata": {
    "slideshow": {
     "slide_type": "slide"
    }
   },
   "source": [
    "## Common-emitter amplifier "
   ]
  },
  {
   "cell_type": "markdown",
   "metadata": {
    "cell_style": "split"
   },
   "source": [
    "<center><img src=\"img/CE_noise.png\" width=500 /></center> "
   ]
  },
  {
   "cell_type": "markdown",
   "metadata": {
    "cell_style": "split",
    "slideshow": {
     "slide_type": "-"
    }
   },
   "source": [
    "$$ e_{n,in}^2 = e_n^2 + 4kTR_S + (i_n R_S)^2 $$\n",
    "\n",
    "$$\\rightarrow e_{n,out}^2 = e_{n,in}^2\\cdot g_m^2 R_C^2 $$"
   ]
  },
  {
   "cell_type": "markdown",
   "metadata": {},
   "source": [
    " - The total input-referred mean-square noise density is sum of $e_n^2$ and the product $(i_nR_S)^2$\n",
    " - In this case, we're assume $R_S << r_{\\pi}$, which would typically be true to avoid significant loading effects"
   ]
  },
  {
   "cell_type": "markdown",
   "metadata": {
    "slideshow": {
     "slide_type": "slide"
    }
   },
   "source": [
    "## MOSFET noise model"
   ]
  },
  {
   "cell_type": "markdown",
   "metadata": {
    "cell_style": "split"
   },
   "source": [
    "<center><img src=\"img/MOSFET_noise_model.png\" width=800 /></center>"
   ]
  },
  {
   "cell_type": "markdown",
   "metadata": {
    "cell_style": "split"
   },
   "source": [
    "$$ i_{nd} = \\sqrt{\\frac{2}{3}4kTg_m} + i_{nf} \\; A/\\sqrt{Hz} $$\n",
    "\n",
    "$$e_n = \\dfrac{i_{nd}}{g_m} \\; V/\\sqrt{Hz} $$"
   ]
  },
  {
   "cell_type": "markdown",
   "metadata": {
    "slideshow": {
     "slide_type": "-"
    }
   },
   "source": [
    " - The FET noise model is simpler, typically consisting of only thermal and $1/f$ drain current noise ($i_{nd}$)\n",
    " - As with BJT collector current noise, drain current noise can be referred to the gate of the MOSFET by dividing by transconductance $g_m$\n",
    " - Once again, referring noise to the input allows direct comparison with the input signal"
   ]
  },
  {
   "cell_type": "markdown",
   "metadata": {
    "slideshow": {
     "slide_type": "slide"
    }
   },
   "source": [
    "## Common-source amplifier"
   ]
  },
  {
   "cell_type": "markdown",
   "metadata": {
    "cell_style": "split"
   },
   "source": [
    " <center><img src=\"img/common_source_noise.png\" width=350 /></center>\n",
    " "
   ]
  },
  {
   "cell_type": "markdown",
   "metadata": {
    "cell_style": "split"
   },
   "source": [
    "\\begin{align}\n",
    "e_{n,out} &= \\sqrt{i_{nR}^2 + i_{nd}^2} \\cdot R_D\\\\\n",
    "\\\\\n",
    "&=\\sqrt{4kT \\left( \\dfrac{1}{R_D} + \\dfrac{2}{3}g_m\\right)}\\cdot R_D\n",
    "\\end{align}\n"
   ]
  },
  {
   "cell_type": "markdown",
   "metadata": {},
   "source": [
    " - To determine the total output noise, we combine the mean-square current noise densities of both the FET and the drain resistor $R_D$\n",
    " - Both noise currents flow through the drain resistor $R_D$, so the output voltage noise density is the product of the combined noise current and $R_D$\n",
    " - Note that we have omitted $1/f$ noise for simplicity"
   ]
  },
  {
   "cell_type": "markdown",
   "metadata": {
    "slideshow": {
     "slide_type": "slide"
    }
   },
   "source": [
    "## Input-referred noise density"
   ]
  },
  {
   "cell_type": "markdown",
   "metadata": {
    "cell_style": "split"
   },
   "source": [
    " - We are often more interested in the noise as seen at the input to the amplifier\n",
    " - The output noise density is given by\n",
    "\n",
    "$$ e_{n,out} =\\sqrt{4kT \\left( \\dfrac{1}{R_D} + \\dfrac{2}{3}g_m\\right)}\\cdot R_D $$\n",
    "\n",
    " - By dividing by the gain we refer the noise to the input of the amplifier:\n",
    " \n",
    "$$ e_{n,in} = \\dfrac{e_{n,out}}{g_m R_D} = \\sqrt{4kT \\left( \\dfrac{1}{g_m^2 R_D} + \\dfrac{2}{3}\\dfrac{1}{g_m}\\right)} $$\n",
    " \n",
    " - We see that the input-referred noise can be reduced by increasing $g_m$, which in general requires an increase in drain current (indicating a tradeoff between noise and power)\n"
   ]
  },
  {
   "cell_type": "markdown",
   "metadata": {
    "cell_style": "split"
   },
   "source": [
    "<center><img src=\"img/CS_input_referred_noise.png\" height=300 /></center>"
   ]
  },
  {
   "cell_type": "markdown",
   "metadata": {
    "slideshow": {
     "slide_type": "slide"
    }
   },
   "source": [
    "## Common-source noise bandwidth"
   ]
  },
  {
   "cell_type": "markdown",
   "metadata": {
    "cell_style": "split"
   },
   "source": [
    "<center><img src=\"img/CS_rms_noise.png\" height=300 /></center>"
   ]
  },
  {
   "cell_type": "markdown",
   "metadata": {
    "cell_style": "split"
   },
   "source": [
    " - Like noise in other circuits, transistor amplifier noise is band-limited, often by an explicit capacitive load\n",
    " - The $rms$ noise can be assessed using the concept of noise bandwidth\n",
    " - The $3dB$ bandwidth of the common-source amplifier is given by\n",
    " \n",
    " $$ f_{3dB} = \\dfrac{1}{2\\pi R_D C_L} $$\n",
    " \n",
    " \n",
    " - From which the noise bandwidth is determined to be\n",
    " \n",
    " $$ f_{enb} = \\dfrac{\\pi}{2}\\cdot f_{3dB} = \\dfrac{1}{4R_D C_L} $$\n",
    " \n"
   ]
  },
  {
   "cell_type": "markdown",
   "metadata": {
    "slideshow": {
     "slide_type": "subslide"
    }
   },
   "source": [
    "## Integrated (rms) noise"
   ]
  },
  {
   "cell_type": "markdown",
   "metadata": {
    "cell_style": "split"
   },
   "source": [
    "<center><img src=\"img/CS_rms_noise.png\" height=300 /></center>"
   ]
  },
  {
   "cell_type": "markdown",
   "metadata": {
    "cell_style": "split"
   },
   "source": [
    "- The output noise density is given by\n",
    "\n",
    "$$ e_{n,out} =\\sqrt{4kT \\left( \\dfrac{1}{R_D} + \\dfrac{2}{3}g_m\\right)}\\cdot R_D $$\n",
    "\n",
    "- We can multipy this by the square root of the noise bandwidth to determine the $rms$ noise\n",
    "\n",
    "\\begin{align}\n",
    "v_{n,out(rms)} &= e_{n,out}\\cdot \\sqrt{\\dfrac{1}{4R_D C_L}} \\\\\n",
    "\\\\\n",
    "&= \\sqrt{\\dfrac{kT R_D}{C_L} \\left( \\dfrac{1}{R_D} + \\dfrac{2}{3}g_m\\right)}\n",
    "\\end{align}\n"
   ]
  },
  {
   "cell_type": "markdown",
   "metadata": {
    "slideshow": {
     "slide_type": "slide"
    }
   },
   "source": [
    "## Opamp noise"
   ]
  },
  {
   "cell_type": "markdown",
   "metadata": {},
   "source": [
    " - Opamp noise is primarily due to the thermal, flicker, and shot noise of the transistors (and sometimes resistors) that make up the opamp\n",
    " - Opamp data sheets specify noise in terms of en and in, just as with BJTs and FETs, often along with the $1/f$ corner frequency $f_c$\n",
    " - Sometimes, low frequency noise is specified as the *peak-to-peak* or *rms* noise in a given bandwidth\n",
    " - Opamp manufacturers measure the noise characteristics of a large sampling of a given device to determine the typical characteristics\n",
    " - There are inherent tradeoffs between accuracy, speed, input current, power dissipation, and cost"
   ]
  },
  {
   "cell_type": "markdown",
   "metadata": {
    "slideshow": {
     "slide_type": "slide"
    }
   },
   "source": [
    "## Opamp noise model"
   ]
  },
  {
   "cell_type": "markdown",
   "metadata": {
    "cell_style": "split"
   },
   "source": [
    " - The noise model of the opamp includes both voltage ($e_n$) and current ($i_n$) noise sources\n",
    " - $e_n$ and $i_n$ capture all of the noise sources of the opamp from transistors, resistors, diodes, etc.\n",
    " - When analyzing noise in opamp circuits, the effect of each uncorrelated noise source can be determined separately\n",
    " - The total output noise density can be assessed by applying superposition of all mean square noise expressions\n",
    " - The $rms$ output noise can then be calculated by integrating over the equivalent noise bandwidth of the amplifier"
   ]
  },
  {
   "cell_type": "markdown",
   "metadata": {
    "cell_style": "split"
   },
   "source": [
    "<center><img src=\"img/opamp_noise_model.png\" width = 800 /></center>"
   ]
  },
  {
   "cell_type": "markdown",
   "metadata": {
    "slideshow": {
     "slide_type": "slide"
    }
   },
   "source": [
    "## Example: Non-inverting amplifier"
   ]
  },
  {
   "cell_type": "markdown",
   "metadata": {
    "cell_style": "split"
   },
   "source": [
    "<center><img src=\"img/non_inverting_noise_model.png\" width=700/></center>"
   ]
  },
  {
   "cell_type": "markdown",
   "metadata": {
    "cell_style": "split"
   },
   "source": [
    "$$ e_{n1} = \\sqrt{4kTR_1} \\; V/\\sqrt{Hz} $$\n",
    "\n",
    "$$ e_{n2} = \\sqrt{4kTR_2} \\; V/\\sqrt{Hz} $$\n",
    "\n",
    "$$ 2nV/\\sqrt{Hz} \\leq e_{na} \\leq 100nV/\\sqrt{Hz} $$"
   ]
  },
  {
   "cell_type": "markdown",
   "metadata": {},
   "source": [
    " - To determine the total noise, we need to analyze the effect of each noise source independently, and combine the mean-square quantities  \n",
    " - Opamp voltage noise can vary widely, depending heavily on both the technology used (FET, BJT) and the opamp supply current\n",
    " - Note that we have ignored the effect of opamp input current noise source $i_{np}$, which can be significant if the source resistance is large"
   ]
  },
  {
   "cell_type": "markdown",
   "metadata": {
    "slideshow": {
     "slide_type": "subslide"
    }
   },
   "source": [
    "## Noise from R<sub>1</sub>"
   ]
  },
  {
   "cell_type": "markdown",
   "metadata": {
    "cell_style": "split"
   },
   "source": [
    " - To determine the noise from the input resistance, we remove all other noise sources (superposition) and analyze the circuit\n",
    " - The input voltage noise sees an inverting gain stage, so the result is straightforward:\n",
    " \n",
    "\\begin{align}\n",
    "e_{n1,out} &= -\\dfrac{R_2}{R_1}e_{n1} \\\\\n",
    "\\\\\n",
    "&= -\\dfrac{R_2}{R_1}\\sqrt{4kTR_1} \\; V/\\sqrt{Hz}\n",
    "\\end{align}\n",
    "\n"
   ]
  },
  {
   "cell_type": "markdown",
   "metadata": {
    "cell_style": "split"
   },
   "source": [
    "<center><img src=\"img/R1_noise.png\" width=700 /></center>\n",
    "\n"
   ]
  },
  {
   "cell_type": "markdown",
   "metadata": {
    "slideshow": {
     "slide_type": "subslide"
    }
   },
   "source": [
    "## Noise from R<sub>2</sub>"
   ]
  },
  {
   "cell_type": "markdown",
   "metadata": {
    "cell_style": "split"
   },
   "source": [
    " - Again, we remove other noise sources to determine the effect of $R_2$’s noise\n",
    " - In this case, the noise is seen directly at the output (no gain) due to the virtual ground:\n",
    "\n",
    "$$ e_{n2,out} = e_{n2} = \\sqrt{4kTR_2} \\; V/\\sqrt{Hz} $$\n",
    "\n",
    " - Because $R_2$’s noise does see any gain, the output noise contribution from $R_1$ is greater\n"
   ]
  },
  {
   "cell_type": "markdown",
   "metadata": {
    "cell_style": "split"
   },
   "source": [
    "<center><img src=\"img/R2_noise.png\" width=700 /></center>\n",
    "\n"
   ]
  },
  {
   "cell_type": "markdown",
   "metadata": {
    "slideshow": {
     "slide_type": "subslide"
    }
   },
   "source": [
    "## Alternate method using R<sub>2</sub>'s noise current"
   ]
  },
  {
   "cell_type": "markdown",
   "metadata": {
    "cell_style": "split"
   },
   "source": [
    " - The effect of $R_2$’s noise can be assessed using $i_{n2}$, given as\n",
    " \n",
    " $$ i_{n2} = \\sqrt{\\dfrac{4kT}{R_2}} \\; A/\\sqrt{Hz} $$\n",
    " - Due to the virtual ground nodes on either side of $R_1$, all of $i_{n2}$ flows through $R_2$\n",
    " - The result is the same: the noise from $R_2$ appears at the output as\n",
    "\n",
    "$$ e_{n2,out} = i_{n2}\\cdot R_2 = \\sqrt{4kTR_2} \\; V/\\sqrt{Hz} $$\n",
    "\n"
   ]
  },
  {
   "cell_type": "markdown",
   "metadata": {
    "cell_style": "split"
   },
   "source": [
    "<center><img src=\"img/R2_noise_current.png\" width=700 /></center>"
   ]
  },
  {
   "cell_type": "markdown",
   "metadata": {
    "slideshow": {
     "slide_type": "subslide"
    }
   },
   "source": [
    "## Opamp voltage noise"
   ]
  },
  {
   "cell_type": "markdown",
   "metadata": {
    "cell_style": "split"
   },
   "source": [
    " - The opamp noise as seen at the output can be determined in the same manner as the resistances\n",
    " - The input voltage noise of the opamp sees the gain of a non-inverting amplifier:\n",
    "\n",
    "\\begin{align}\n",
    "e_{nav,out} &= \\left( 1+ \\dfrac{R_2}{R_2} \\right)e_{na} \\\\\n",
    "\\end{align}\n",
    "\n",
    "\n",
    " - The relative magnitude of the opamp’s noise as compared to the resistors depends on $e_{na}$ and the closed-loop gain"
   ]
  },
  {
   "cell_type": "markdown",
   "metadata": {
    "cell_style": "split"
   },
   "source": [
    "<center><img src=\"img/opamp_noise_voltage.png\" width=700 /></center>"
   ]
  },
  {
   "cell_type": "markdown",
   "metadata": {
    "slideshow": {
     "slide_type": "subslide"
    }
   },
   "source": [
    "## Opamp current noise"
   ]
  },
  {
   "cell_type": "markdown",
   "metadata": {
    "cell_style": "split",
    "slideshow": {
     "slide_type": "-"
    }
   },
   "source": [
    " - Once again, the ground potentials on either side of $R_1$ ensure all of $i_{na}$ flows through $R_2$, resulting in a voltage noise density at the output of \n",
    " \n",
    "\\begin{align}\n",
    "e_{nai,out} = i_{na}R_2 \n",
    "\\end{align}"
   ]
  },
  {
   "cell_type": "markdown",
   "metadata": {
    "cell_style": "split"
   },
   "source": [
    "<center><img src=\"img/opamp_noise_current.png\" width=700 /></center>"
   ]
  },
  {
   "cell_type": "markdown",
   "metadata": {
    "slideshow": {
     "slide_type": "subslide"
    }
   },
   "source": [
    "## Input-referred noise density"
   ]
  },
  {
   "cell_type": "markdown",
   "metadata": {},
   "source": [
    " - The total output noise is determined by summing the mean-square output noise from all individual sources and taking the square root:\n",
    "\n",
    "\\begin{align}\n",
    "e_{n,out} &= \\sqrt{e_{n1,out}^2 + e_{n2,out}^2 + e_{nav,out}^2 + e_{nai,out}^2} \\\\\n",
    "\\\\\n",
    " &= \\sqrt{4kTR_1 \\left(\\dfrac{R_2}{R_1}\\right)^2 + 4kTR_2 + e_{na}^2 \\left(1+\\dfrac{R_2}{R_1}\\right)^2 + i_{na}^2R_2^2}\n",
    "\\end{align}\n",
    "\n",
    "- The input-referred noise density is equal to the output noise density divided by the gain\n",
    "\n",
    "\\begin{align}\n",
    "e_{n,in} &= \\dfrac{e_{n,out}}{G} = \\dfrac{R_1}{R_1+R_2} \\cdot e_{n,out} \\\\\n",
    "\\\\\n",
    " &= \\left(\\dfrac{R_1}{R_1+R_2}\\right)\\sqrt{4kTR_1 \\left(\\dfrac{R_2}{R_1}\\right)^2 + 4kTR_2 + e_{na}^2 \\left(1+\\dfrac{R_2}{R_1}\\right)^2 + i_{na}^2R_2^2}\n",
    "\\end{align}"
   ]
  },
  {
   "cell_type": "markdown",
   "metadata": {
    "slideshow": {
     "slide_type": "slide"
    }
   },
   "source": [
    "## Input-referred voltage noise"
   ]
  },
  {
   "cell_type": "markdown",
   "metadata": {
    "cell_style": "center"
   },
   "source": [
    "<center><img src=\"img/input_referred_noise.png\" width=1100 /></center>"
   ]
  },
  {
   "cell_type": "markdown",
   "metadata": {},
   "source": [
    " - We are ultimately concerned with the effect of all noise sources on a measured signal\n",
    " - To determine this, we begin with the input-referred noise density, multiply by the transfer function magnitude, and integrate over frequency:\n",
    " \n",
    " $$ v_{n,out(rms)} = \\sqrt{\\int_{0}^{\\infty} e_{n,in}^2 \\cdot \\left|G(f)\\right|^2 \\;df}$$\n",
    " \n",
    " - We can then find the input-referred $rms$ noise by dividing by the gain in the *band of frequencies occupied by the signal*\n",
    " - In many cases, this will be the DC gain of the amplifier:\n",
    " \n",
    " $$ v_{n,in(rms)} = \\dfrac{v_{n,out(rms)}}{|G(0)|} $$\n",
    " \n"
   ]
  },
  {
   "cell_type": "markdown",
   "metadata": {
    "slideshow": {
     "slide_type": "slide"
    }
   },
   "source": [
    "## Example: Non-inverting amplifier rms noise"
   ]
  },
  {
   "cell_type": "markdown",
   "metadata": {
    "cell_style": "split",
    "slideshow": {
     "slide_type": "-"
    }
   },
   "source": [
    "<center><img src=\"img/non_inverting_rms_noise.png\" width=600 /></center>"
   ]
  },
  {
   "cell_type": "markdown",
   "metadata": {
    "cell_style": "split"
   },
   "source": [
    "$$f_{3dB} = \\beta f_t $$\n",
    "\n",
    "$$ f_{enb} = \\dfrac{\\pi}{2} f_{3dB} $$\n",
    "\n",
    "\\begin{align}\n",
    "v_{n,out(rms)} &= e_{n,out}\\cdot f_{enb} \\\\\n",
    "\\\\\n",
    "&= |G(0)|\\cdot e_{n,in(rms)}\\cdot f_{enb}\\\\\n",
    "\\\\\n",
    "&= \\left(1+\\dfrac{R_2}{R_1} \\right)\\cdot e_{n,in(rms)}\\cdot f_{enb}\n",
    "\\end{align}"
   ]
  },
  {
   "cell_type": "markdown",
   "metadata": {},
   "source": [
    " - Having determined the noise density of the amplifier, we can use the transfer function to determine the $rms$ noise\n",
    " - If the noise is white and the equivalent noise bandwidth can be determined, the output noise density can be multiplied by $f_{enb}$\n",
    " - Otherwise, it may be necesssary to refer the noise to the input, multiply by the transfer function magnitude, and integrate over frequency"
   ]
  },
  {
   "cell_type": "markdown",
   "metadata": {
    "cell_style": "split",
    "slideshow": {
     "slide_type": "subslide"
    }
   },
   "source": [
    "<center><img src=\"img/non_inverting_rms_noise.png\" width = 700 /></center>"
   ]
  },
  {
   "cell_type": "markdown",
   "metadata": {
    "cell_style": "split"
   },
   "source": [
    "$$ e_{na} = 10 nV/\\sqrt{Hz}, \\:\\: i_{na} = 0$$\n",
    "\n",
    "$$ f_t = 10 MHz \\rightarrow f_{enb} \\approx 1.43MHz $$ \n",
    "\n",
    "$$R_2 = 10k\\Omega \\rightarrow e_{n2} \\approx 13 nV / \\sqrt{Hz} $$\n",
    "\n",
    "$$R_1 = 1k \\Omega \\rightarrow e_{n1} \\approx 4 nV / \\sqrt{Hz}  $$"
   ]
  },
  {
   "cell_type": "markdown",
   "metadata": {},
   "source": [
    " - The output noise density is given by\n",
    "\n",
    "$$ e_{n,out} = \\sqrt{4kTR_1 \\left(\\dfrac{R_2}{R_1}\\right)^2 + 4kTR_2 + e_{na}^2 \\left(1+\\dfrac{R_2}{R_1}\\right)^2 } \\approx 118nV / \\sqrt{Hz}$$\n",
    "\n",
    " - Using the noise bandwidth, we can calculate the output $rms$ noise directly:\n",
    " \n",
    "$$ v_{n,out(rms)} = e_{n,out} \\cdot f_{enb} \\approx 141 \\mu V $$\n",
    "\n",
    " - The input-referred noise is then calculated by dividing by the DC gain\n",
    " \n",
    "$$ v_{n,in(rms)} =  \\dfrac{v_{n,out(rms)}}{11 V/V} \\approx 12.8 \\mu V $$"
   ]
  },
  {
   "cell_type": "markdown",
   "metadata": {
    "slideshow": {
     "slide_type": "slide"
    }
   },
   "source": [
    "## Effect of gain"
   ]
  },
  {
   "cell_type": "markdown",
   "metadata": {},
   "source": [
    "<center><img src=\"img/multistage_noise.png\" width=900 /></center>"
   ]
  },
  {
   "cell_type": "markdown",
   "metadata": {},
   "source": [
    " - The concept of input-referred noise allows us to quickly assess the effect of each stage in a multi-stage design\n",
    " - The total input-referred noise density of the \"circuit\" above is given by\n",
    " \n",
    "$$ e_{n,in}^2 = e_{n1}^2 + \\dfrac{e_{n2}^2}{G_1^2} $$ \n",
    " \n",
    " - If $G_1$ and $G_2$ are identical, the noise due to $G_2$ is $G_1$ times than that from $G_1$\n",
    " - This can also be seen from the perspective of output noise:\n",
    " \n",
    "$$ e_{n,out}^2 = G_1^2\\cdot G_2^2 \\cdot e_{n1}^2 + G_2^2 \\cdot e_{n1}^2 $$ \n",
    "\n",
    " - This is the reason it is important to realize gain early in the signal path, as it desensitizes the noise performance to noise sources that follow any gain stage"
   ]
  },
  {
   "cell_type": "markdown",
   "metadata": {
    "slideshow": {
     "slide_type": "slide"
    }
   },
   "source": [
    "## Signal-to-noise ratio (SNR)"
   ]
  },
  {
   "cell_type": "markdown",
   "metadata": {
    "cell_style": "center"
   },
   "source": [
    " - Signal-to-noise ratio is typically defined the ratio of $rms$ signal amplitude to the $rms$ noise\n",
    " - This can be determined at any point in the signal path, but it is often most convenient (and most meaningful) to determine SNR using the magnitude of the input signal and the $rms$ input-referred noise\n",
    " - For example, suppose we want to amplify and digitize a sensor signal with a peak-to-peak amplitude of $5mV$ and achieve an SNR of $\\geq80dB$\n",
    " - The signal-to-noise ratio is given by\n",
    " \n",
    "$$ SNR = 20 \\log_{10}\\dfrac{v_{sig(rms)}}{v_{n,in(rms)}} = 20 \\log_{10}\\dfrac{2.5mV/\\sqrt{2}}{v_{n,in(rms)}} = 80dB $$\n",
    " \n",
    " - The *noise specification* is thus determined as\n",
    " \n",
    "$$ v_{n,in(rms)} \\leq \\dfrac{1.77mV}{10^{80dB/20}} = 177nV $$\n",
    " \n",
    " - What do we need to do to reduce noise to meet a given SNR specification?"
   ]
  },
  {
   "cell_type": "markdown",
   "metadata": {
    "slideshow": {
     "slide_type": "slide"
    }
   },
   "source": [
    "## Reducing noise bandwidth (i.e. filtering)"
   ]
  },
  {
   "cell_type": "markdown",
   "metadata": {},
   "source": [
    " - In most cases, amplifier bandwidth will be much wider than that required by our application\n",
    " - Taking the previous example of a non-inverting amplifier, the $3dB$ bandwidth was given as \n",
    " \n",
    "$$f_{3dB} = \\beta f_t \\approx 909kHz$$\n",
    " \n",
    " \n",
    " - For example, let's assume our application requires that we amplify signals with a maximum of 1% attenuation at $10kHz$\n",
    " - If we use a 1<sup>st</sup>-order filter, this dictates a filter transfer function given by\n",
    " \n",
    "$$ \\dfrac{1}{\\sqrt{1+(2\\pi \\cdot 10kHz)^2/(2\\pi\\cdot f_{3dB})^2}}= 0.99 \\rightarrow f_{3dB} = 70.2kHz$$\n",
    " \n",
    " - The resulting noise bandwidth is\n",
    " \n",
    "$$ f_{enb} = \\dfrac{\\pi}{2}f_{3dB} = 110.27 kHz $$\n",
    "\n",
    " - That is, in order to achieve a *signal bandwidth* of $~10kHz$, our *noise bandwidth* is 10 times higher!\n",
    " \n",
    "\n",
    " \n",
    " "
   ]
  },
  {
   "cell_type": "markdown",
   "metadata": {
    "slideshow": {
     "slide_type": "subslide"
    }
   },
   "source": [
    "## Resulting rms noise"
   ]
  },
  {
   "cell_type": "markdown",
   "metadata": {
    "slideshow": {
     "slide_type": "-"
    }
   },
   "source": [
    " - What does this mean in terms of noise?\n",
    " - The $rms$ output noise is for the filter in the previous example is\n",
    " \n",
    "$$ v_{n,out(rms)} = 118 nV/\\sqrt{Hz} \\cdot \\sqrt{110.27 kHz} = 39 \\mu V $$\n",
    " \n",
    " - And the input-referred noise\n",
    " \n",
    "$$ v_{n,in(rms)} = \\dfrac{ 39 \\mu V}{11 V/V} = 3.55 \\mu V$$\n",
    "\n",
    " - This is much lower than if we rely on the amplifier bandwidth alone, but what if our application demands even lower noise?"
   ]
  },
  {
   "cell_type": "markdown",
   "metadata": {
    "slideshow": {
     "slide_type": "slide"
    }
   },
   "source": [
    "## Minimizing noise"
   ]
  },
  {
   "cell_type": "markdown",
   "metadata": {},
   "source": [
    " - One option for reducing noise is to choose components to minimize noise (e.g. an opamp with lower voltage noise or smaller resistor values) \n",
    " - However, our minimum *noise floor* is limited by practical component values and available amplifier options\n",
    " - In order to reduce noise even further, it may be necessary to implement filters with \"sharper\" rolloff characteristics (i.e. greater than $20dB/dec$\n",
    " - This requires higher order filters, i.e. those with multiple poles, which we will take a look at next week"
   ]
  }
 ],
 "metadata": {
  "celltoolbar": "Slideshow",
  "kernelspec": {
   "display_name": "Python 3",
   "language": "python",
   "name": "python3"
  },
  "language_info": {
   "codemirror_mode": {
    "name": "ipython",
    "version": 3
   },
   "file_extension": ".py",
   "mimetype": "text/x-python",
   "name": "python",
   "nbconvert_exporter": "python",
   "pygments_lexer": "ipython3",
   "version": "3.8.2"
  },
  "livereveal": {
   "controls": false,
   "scroll": true,
   "theme": "simple"
  },
  "rise": {
   "enable_chalkboard": true,
   "slideNumber": true
  }
 },
 "nbformat": 4,
 "nbformat_minor": 4
}
