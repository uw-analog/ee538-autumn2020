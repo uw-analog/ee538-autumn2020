{
 "cells": [
  {
   "cell_type": "markdown",
   "metadata": {
    "cell_style": "center",
    "slideshow": {
     "slide_type": "slide"
    }
   },
   "source": [
    "# EE 538: Analog Circuits for Sensor Systems\n",
    "## Autumn 2020\n",
    "## Instructor: Jason Silver"
   ]
  },
  {
   "cell_type": "markdown",
   "metadata": {
    "slideshow": {
     "slide_type": "slide"
    }
   },
   "source": [
    "## Announcements"
   ]
  },
  {
   "cell_type": "markdown",
   "metadata": {
    "slideshow": {
     "slide_type": "-"
    }
   },
   "source": [
    " - Solution to Assignment 2 posted on JupyterHub\n",
    " - Assignment 2 due Sunday, October 25 at midnight\n",
    "    - Jupyter Notebook (.ipyb) submission on Canvas\n",
    "    - For LTspice problems, include image (e.g. screen capture) of schematic(s)"
   ]
  },
  {
   "cell_type": "markdown",
   "metadata": {
    "slideshow": {
     "slide_type": "slide"
    }
   },
   "source": [
    "## Week 4"
   ]
  },
  {
   "cell_type": "markdown",
   "metadata": {
    "slideshow": {
     "slide_type": "-"
    }
   },
   "source": [
    " - Art of Electronics (AoE) Chapters 4\n",
    " - Microelectronics (Sedra/Smith) Chapter 2"
   ]
  },
  {
   "cell_type": "markdown",
   "metadata": {
    "slideshow": {
     "slide_type": "slide"
    }
   },
   "source": [
    "## Overview"
   ]
  },
  {
   "cell_type": "markdown",
   "metadata": {
    "slideshow": {
     "slide_type": "-"
    }
   },
   "source": [
    " - Last time...\n",
    "    - Common-emitter amplifier, cont.\n",
    "    - Emitter-follower\n",
    "    - Field-effect transistor\n",
    "    - Small-signal FET model\n",
    " - Today...\n",
    "     - Ideal opamp\n",
    "     - Opamp characteristics\n",
    "     - Opamp frequency response\n",
    "     - Feedback\n",
    "     - Stability\n"
   ]
  },
  {
   "cell_type": "markdown",
   "metadata": {
    "slideshow": {
     "slide_type": "skip"
    }
   },
   "source": [
    "## Python packages/modules"
   ]
  },
  {
   "cell_type": "code",
   "execution_count": 4,
   "metadata": {
    "slideshow": {
     "slide_type": "skip"
    }
   },
   "outputs": [],
   "source": [
    "import matplotlib\n",
    "from matplotlib import pyplot as plt\n",
    "import numpy as np\n",
    "from scipy import signal\n",
    "#%matplotlib notebook\n",
    "\n",
    "def plot_xy(x, y, xlabel, ylabel):\n",
    "    fig, ax = plt.subplots(figsize=(10.0, 7.5));\n",
    "    ax.plot(x, y, 'b');\n",
    "    ax.grid();\n",
    "    ax.set_xlabel(xlabel);\n",
    "    ax.set_ylabel(ylabel);\n",
    "    \n",
    "def plot_xy2(x1, y1, x1label, y1label, x2, y2, x2label, y2label):\n",
    "    fig, ax = plt.subplots(2, figsize = (10.0, 7.5));\n",
    "    ax[0].plot(x1, y1, 'b');\n",
    "    ax[0].set_ylabel(y1label)\n",
    "    ax[0].grid()\n",
    "    \n",
    "    ax[1].plot(x2, y2, 'b');\n",
    "    ax[1].set_xlabel(x1label)\n",
    "    ax[1].set_xlabel(x2label);\n",
    "    ax[1].set_ylabel(y2label);\n",
    "    ax[1].grid();\n",
    "    \n",
    "    fig.align_ylabels(ax[:])\n",
    "    \n",
    "def plot_xlogy(x, y, xlabel, ylabel):\n",
    "    fig, ax = plt.subplots(figsize=(10.0, 7.5));\n",
    "    ax.semilogy(x, y, 'b');\n",
    "    ax.grid();\n",
    "    ax.set_xlabel(xlabel);\n",
    "    ax.set_ylabel(ylabel);\n",
    "    \n",
    "def read_ltspice_ac(file_name):\n",
    "    with open(file_name, 'r') as data:\n",
    "        x = []\n",
    "        y = []\n",
    "        z = []\n",
    "        next(data) # skip header line\n",
    "        for line in data:\n",
    "            p = line.split()\n",
    "            x.append(float(p[0]))\n",
    "            complex = p[1].split(\",\")\n",
    "            y.append(float(complex[0]))\n",
    "            z.append(float(complex[1]))\n",
    "\n",
    "    return x, y, z\n",
    "\n",
    "def plot_logxy2(x1, y1, x2, y2, x1label, y1label, x2label, y2label):\n",
    "    fig, ax = plt.subplots(2, figsize = (8.0, 6.0));\n",
    "    ax[0].semilogx(x1, y1, 'b');\n",
    "    ax[0].set_ylabel(y1label)\n",
    "    ax[0].grid()\n",
    "    \n",
    "    ax[1].semilogx(x2, y2, 'b');\n",
    "    ax[1].set_xlabel(x1label)\n",
    "    ax[1].set_xlabel(x2label);\n",
    "    ax[1].set_ylabel(y2label);\n",
    "    ax[1].grid();\n",
    "    \n",
    "    fig.align_ylabels(ax[:])"
   ]
  },
  {
   "cell_type": "markdown",
   "metadata": {
    "slideshow": {
     "slide_type": "slide"
    }
   },
   "source": [
    "## Ideal Opamp"
   ]
  },
  {
   "cell_type": "markdown",
   "metadata": {
    "cell_style": "split",
    "slideshow": {
     "slide_type": "-"
    }
   },
   "source": [
    "<center><img src=\"img/opamp_model.png\" width=600 /></center>"
   ]
  },
  {
   "cell_type": "markdown",
   "metadata": {
    "cell_style": "split"
   },
   "source": [
    "$$ R_{in} \\rightarrow \\infty $$\n",
    "\n",
    "\n",
    "$$ R_{out} \\rightarrow 0 $$\n",
    "\n",
    "\n",
    "$$ A_{v} \\rightarrow \\infty $$"
   ]
  },
  {
   "cell_type": "markdown",
   "metadata": {
    "slideshow": {
     "slide_type": "-"
    }
   },
   "source": [
    " - An opamp converts a differential input voltage $v^+$ to an output voltage $v_{out}$ via the relation\n",
    " \n",
    " $$ v_{out} = A_v\\cdot (v^+ - v^-)$$\n",
    " \n",
    " - For an ideal opamp, both gain and input resistance are infinite, while output resistance is zero\n",
    " - An ideal opamp's output changes instantaneously with a change in the input\n",
    " - An ideal opamp contributes no offset or added noise to the signal\n",
    " \n",
    " "
   ]
  },
  {
   "cell_type": "markdown",
   "metadata": {
    "slideshow": {
     "slide_type": "slide"
    }
   },
   "source": [
    "## Opamp golden rules"
   ]
  },
  {
   "cell_type": "markdown",
   "metadata": {
    "cell_style": "split"
   },
   "source": [
    "<center><img src=\"img/opamp_symbol.png\" width=400 /></center>"
   ]
  },
  {
   "cell_type": "markdown",
   "metadata": {
    "cell_style": "split"
   },
   "source": [
    "$$ A_v \\rightarrow \\infty $$ $$\\rightarrow  v^+ = v^-$$\n",
    "\n",
    "$$ i^+ = i^- = 0 $$"
   ]
  },
  {
   "cell_type": "markdown",
   "metadata": {},
   "source": [
    " When analyzing opamp circuits, always keep in mind the following \"golden rules\"\n",
    " 1. The opamp tries to do whatever it takes to make the voltage difference between the inputs zero\n",
    " 2. The input(s) draw no current\n",
    " "
   ]
  },
  {
   "cell_type": "markdown",
   "metadata": {
    "slideshow": {
     "slide_type": "slide"
    }
   },
   "source": [
    "## Ideal inverting amplifier"
   ]
  },
  {
   "cell_type": "markdown",
   "metadata": {
    "cell_style": "split"
   },
   "source": [
    "<center><img src=\"img/ideal_inverting.png\" width=500 /></center>\n",
    "\n",
    "$$ v^- = v^+ = 0 $$"
   ]
  },
  {
   "cell_type": "markdown",
   "metadata": {
    "cell_style": "split"
   },
   "source": [
    "$$ v_{out} = 0 - \\frac{v_{in}}{R_i}\\cdot R_f $$\n",
    "\n",
    "$$ G = \\frac{v_{out}}{v_{in}} = -\\dfrac{R_f}{R_i} $$"
   ]
  },
  {
   "cell_type": "markdown",
   "metadata": {},
   "source": [
    " - Infinite DC gain ensures that the voltage at the inverting terminal $v^-$ is maintained at ground\n",
    " - The \"zero-input-current\" property of the opamp ensures that the current through $R_f$ is equal to that through $R_i$\n",
    " - *Note*: If the opamp uses a single supply (i.e. $-V_{EE} = 0$), the non-inverting terminal should be connected to a DC voltage between $V_{CC}$ and ground. The analysis is identical in that case.  "
   ]
  },
  {
   "cell_type": "markdown",
   "metadata": {
    "slideshow": {
     "slide_type": "slide"
    }
   },
   "source": [
    "## Effect of finite gain"
   ]
  },
  {
   "cell_type": "markdown",
   "metadata": {
    "cell_style": "split"
   },
   "source": [
    "<center><img src=\"img/inverting_amplifier.png\" width=500 /></center>\n",
    "\n",
    "$$ v^- = v^+ - v_{out}/A_v = - v_{out}/A_v $$\n"
   ]
  },
  {
   "cell_type": "markdown",
   "metadata": {
    "cell_style": "split"
   },
   "source": [
    "$$ i_{in} = \\dfrac{v_{in} - v^-}{R_i}  = \\dfrac{v_{in} + \\frac{v_{out}}{A_v}}{R_i}$$\n",
    "\n",
    "$$ v_{out} = \\dfrac{-v_{out}}{A_v} -\\dfrac{v_{in} + \\frac{v_{out}}{A_v}}{R_i}\\cdot R_f $$\n",
    "\n",
    "$$ G = \\dfrac{v_{out}}{v_{in}} = -\\dfrac{R_f}{R_i}\\cdot \\dfrac{1}{1+\\frac{1}{A_v}\\left(1+\\frac{R_f}{R_i}\\right)}$$"
   ]
  },
  {
   "cell_type": "markdown",
   "metadata": {
    "slideshow": {
     "slide_type": "-"
    }
   },
   "source": [
    " - With finite gain, the opamp input current is still zero (ideal) but $v^- \\ne v^+$\n",
    " - The finite *open-loop* gain $A_v$ results an error in the *closed-loop* gain that is dependent on the magnitude of $A_v$\n",
    " - This is a clear example of how for a negative feedback system, the *precision* of closed-loop gain depends on the magnitude of the open-loop gain"
   ]
  },
  {
   "cell_type": "markdown",
   "metadata": {},
   "source": [
    "## Negative feedback"
   ]
  },
  {
   "cell_type": "markdown",
   "metadata": {
    "cell_style": "split"
   },
   "source": [
    "<center><img src=\"img/basic_feedback.png\" width=500 /></center>\n"
   ]
  },
  {
   "cell_type": "markdown",
   "metadata": {
    "cell_style": "split"
   },
   "source": [
    "$$ G = \\dfrac{s_o}{s_i} = \\dfrac{A}{1+\\beta A} $$\n",
    "<br>\n",
    "<center>as $A \\rightarrow \\infty $, $G \\rightarrow \\dfrac{1}{\\beta}$</center>"
   ]
  },
  {
   "cell_type": "markdown",
   "metadata": {},
   "source": [
    " - The feedback factor $\\beta$ is the fraction of the output signal fed back to the input\n",
    " - Negative feedback is used to process the *error* signal $s_i - \\beta s_o $, and $A$ should be large to minimize this error\n"
   ]
  },
  {
   "cell_type": "markdown",
   "metadata": {},
   "source": [
    "## Opamp frequency response"
   ]
  },
  {
   "cell_type": "markdown",
   "metadata": {},
   "source": []
  }
 ],
 "metadata": {
  "celltoolbar": "Slideshow",
  "kernelspec": {
   "display_name": "Python 3",
   "language": "python",
   "name": "python3"
  },
  "language_info": {
   "codemirror_mode": {
    "name": "ipython",
    "version": 3
   },
   "file_extension": ".py",
   "mimetype": "text/x-python",
   "name": "python",
   "nbconvert_exporter": "python",
   "pygments_lexer": "ipython3",
   "version": "3.8.2"
  },
  "livereveal": {
   "controls": false,
   "scroll": true,
   "theme": "simple"
  },
  "rise": {
   "enable_chalkboard": true,
   "slideNumber": true
  }
 },
 "nbformat": 4,
 "nbformat_minor": 4
}
