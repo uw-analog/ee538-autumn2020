{
 "cells": [
  {
   "cell_type": "markdown",
   "metadata": {
    "cell_style": "center",
    "slideshow": {
     "slide_type": "slide"
    }
   },
   "source": [
    "# EE 538: Analog Circuits for Sensor Systems\n",
    "## Autumn 2020\n",
    "## Instructor: Jason Silver"
   ]
  },
  {
   "cell_type": "markdown",
   "metadata": {
    "slideshow": {
     "slide_type": "slide"
    }
   },
   "source": [
    "## Announcements"
   ]
  },
  {
   "cell_type": "markdown",
   "metadata": {
    "slideshow": {
     "slide_type": "-"
    }
   },
   "source": [
    " - Phase 2 of Design Project due 12/19\n",
    "    - Jupyter Notebook (.ipyb) submission on Canvas\n",
    "    - For LTspice problems, include image (e.g. screen capture) of schematic(s)"
   ]
  },
  {
   "cell_type": "markdown",
   "metadata": {
    "slideshow": {
     "slide_type": "slide"
    }
   },
   "source": [
    "## Week 10"
   ]
  },
  {
   "cell_type": "markdown",
   "metadata": {
    "slideshow": {
     "slide_type": "-"
    }
   },
   "source": [
    " - Art of Electronics (AoE) Chapter 13\n",
    " - Analog Devices: [Mixed-Signal Electronic Systems](https://www.analog.com/en/education/education-library/tutorials/mixed-signal-electronics-systems.html)\n",
    "     - [Data Converter Static Specifications](https://www.analog.com/media/en/training-seminars/tutorials/MT-010.pdf)\n",
    "     - [Flash ADCs](https://www.analog.com/media/en/training-seminars/tutorials/MT-020.pdf)\n",
    "     - [SAR ADCs](https://www.analog.com/media/en/training-seminars/tutorials/MT-021.pdf)\n",
    "     - [Sigma Delta ADC Basics](https://www.analog.com/media/en/training-seminars/tutorials/MT-021.pdf)"
   ]
  },
  {
   "cell_type": "markdown",
   "metadata": {
    "slideshow": {
     "slide_type": "slide"
    }
   },
   "source": [
    "## Overview"
   ]
  },
  {
   "cell_type": "markdown",
   "metadata": {
    "slideshow": {
     "slide_type": "-"
    }
   },
   "source": [
    " - Last time...\n",
    "     - Representation of signals\n",
    "     - Sampling/aliasing\n",
    "     - Quantization\n",
    " - Today...\n",
    "     - ADC Performance\n",
    "     - SAR ADC\n",
    "     - Delta-Sigma ADC"
   ]
  },
  {
   "cell_type": "markdown",
   "metadata": {
    "slideshow": {
     "slide_type": "skip"
    }
   },
   "source": [
    "## Python packages/modules"
   ]
  },
  {
   "cell_type": "code",
   "execution_count": 33,
   "metadata": {
    "slideshow": {
     "slide_type": "skip"
    }
   },
   "outputs": [],
   "source": [
    "import matplotlib as mpl\n",
    "from matplotlib import pyplot as plt\n",
    "import numpy as np\n",
    "from scipy import signal\n",
    "from scipy.fft import fft\n",
    "from scipy.io import wavfile\n",
    "from scipy import integrate\n",
    "import csv\n",
    "#%matplotlib notebook\n",
    "\n",
    "mpl.rcParams['font.size'] = 12\n",
    "mpl.rcParams['legend.fontsize'] = 'large'\n",
    "\n",
    "def plot_xy(x, y, xlabel, ylabel):\n",
    "    fig, ax = plt.subplots(figsize=(10.0, 7.5));\n",
    "    ax.plot(x, y, 'b')\n",
    "    ax.grid()\n",
    "    ax.set_xlabel(xlabel)\n",
    "    ax.set_ylabel(ylabel)\n",
    "\n",
    "def plot_logx2y(x, y1, y2, xlabel, ylabel, y1label, y2label):\n",
    "        \n",
    "    fig, ax = plt.subplots(figsize=(10.0, 7.5));\n",
    "    ax.semilogx(x, y1, 'b')\n",
    "    ax.semilogx(x, y2, 'r')\n",
    "    ax.legend( [y1label,y2label] ,loc='upper center', ncol=5, fancybox=True, \n",
    "           shadow=True, bbox_to_anchor=(0.5,1.1))  \n",
    "    ax.grid()\n",
    "    ax.set_xlabel(xlabel)\n",
    "    ax.set_ylabel(ylabel)\n",
    "\n",
    "def plot_x2y(x, y1, y2, xlabel, ylabel, y1label, y2label):\n",
    "        \n",
    "    fig, ax = plt.subplots(figsize=(10.0, 7.5));\n",
    "    ax.plot(x, y1, 'b')\n",
    "    ax.plot(x, y2, 'r')\n",
    "    ax.legend( [y1label,y2label] ,loc='upper center', ncol=5, fancybox=True, \n",
    "           shadow=True, bbox_to_anchor=(0.5,1.1))  \n",
    "    ax.grid()\n",
    "    ax.set_xlabel(xlabel)\n",
    "    ax.set_ylabel(ylabel)\n",
    "    \n",
    "    \n",
    "def plot_logx3y(x, y1, y2, y3, xlabel, ylabel, y1label, y2label, y3label):\n",
    "        \n",
    "    fig, ax = plt.subplots(figsize=(10.0, 7.5));\n",
    "    ax.semilogx(x, y1)\n",
    "    ax.semilogx(x, y2)\n",
    "    ax.semilogx(x, y3)\n",
    "    ax.legend( [y1label,y2label,y3label] ,loc='upper center', ncol=5, fancybox=True, \n",
    "           shadow=True, bbox_to_anchor=(0.5,1.1))  \n",
    "    ax.grid()\n",
    "    ax.set_xlabel(xlabel)\n",
    "    ax.set_ylabel(ylabel)\n",
    " \n",
    "def plot_x3y(x, y1, y2, y3, xlabel, ylabel, y1label, y2label, y3label):\n",
    "        \n",
    "    fig, ax = plt.subplots(figsize=(10.0, 7.5));\n",
    "    ax.plot(x, y1)\n",
    "    ax.plot(x, y2)\n",
    "    ax.plot(x, y3)\n",
    "    ax.legend( [y1label,y2label,y3label] ,loc='upper center', ncol=5, fancybox=True, \n",
    "           shadow=True, bbox_to_anchor=(0.5,1.1))  \n",
    "    ax.grid()\n",
    "    ax.set_xlabel(xlabel)\n",
    "    ax.set_ylabel(ylabel)\n",
    "    \n",
    "def plot_xy2(x1, y1, x1label, y1label, x2, y2, x2label, y2label):\n",
    "    fig, ax = plt.subplots(2, figsize = (10.0, 7.5));\n",
    "    ax[0].plot(x1, y1, 'b')\n",
    "    ax[0].set_ylabel(y1label)\n",
    "    ax[0].grid()\n",
    "    \n",
    "    ax[1].plot(x2, y2, 'b')\n",
    "    ax[1].set_xlabel(x1label)\n",
    "    ax[1].set_xlabel(x2label)\n",
    "    ax[1].set_ylabel(y2label)\n",
    "    ax[1].grid()\n",
    "    \n",
    "    fig.align_ylabels(ax[:])\n",
    "\n",
    "def plot_xy3(x, y1, y2, y3, xlabel, y1label, y2label, y3label):\n",
    "    fig, ax = plt.subplots(3, figsize=(10.0,7.5))\n",
    "    \n",
    "    ax[0].plot(x, y1)\n",
    "    ax[0].set_ylabel(y1label)\n",
    "    ax[0].grid()\n",
    "    \n",
    "    ax[1].plot(x, y2)\n",
    "    ax[1].set_ylabel(y2label)\n",
    "    ax[1].grid()\n",
    "    \n",
    "    ax[2].plot(x, y3)  \n",
    "    ax[2].set_ylabel(y3label)\n",
    "    ax[2].set_xlabel(xlabel)\n",
    "    ax[2].grid()\n",
    "    \n",
    "def plot_logxy3(x, y1, y2, y3, xlabel, y1label, y2label, y3label):\n",
    "    fig, ax = plt.subplots(3, figsize=(10.0,7.5))\n",
    "    \n",
    "    ax[0].semilogx(x, y1)\n",
    "    ax[0].set_ylabel(y1label)\n",
    "    ax[0].grid()\n",
    "    \n",
    "    ax[1].semilogx(x, y2)\n",
    "    ax[1].set_ylabel(y2label)\n",
    "    ax[1].grid()\n",
    "    \n",
    "    ax[2].semilogx(x, y3)  \n",
    "    ax[2].set_ylabel(y3label)\n",
    "    ax[2].set_xlabel(xlabel)\n",
    "    ax[2].grid()\n",
    "\n",
    "def plot_logxy(x, y, xlabel, ylabel):\n",
    "    fig, ax = plt.subplots(figsize=(10.0, 7.5))\n",
    "    ax.semilogx(x, y, 'b')\n",
    "    ax.grid();\n",
    "    ax.set_xlabel(xlabel)\n",
    "    ax.set_ylabel(ylabel)\n",
    "    \n",
    "def plot_loglog(x, y, xlabel, ylabel):\n",
    "    fig, ax = plt.subplots(figsize=(10.0, 7.5))\n",
    "    ax.loglog(x, y, 'b')\n",
    "    ax.grid();\n",
    "    ax.set_xlabel(xlabel)\n",
    "    ax.set_ylabel(ylabel)\n",
    "    \n",
    "def plot_xlogy(x, y, xlabel, ylabel, ymin, ymax):\n",
    "    fig, ax = plt.subplots(figsize=(10.0, 7.5));\n",
    "    ax.semilogy(x, y, 'b');\n",
    "    ax.grid();\n",
    "    ax.set_xlabel(xlabel);\n",
    "    ax.set_ylabel(ylabel);\n",
    "    ax.set_ylim(ymin,ymax)\n",
    "    \n",
    "def read_ltspice_ac(file_name):\n",
    "    with open(file_name, 'r') as data:\n",
    "        x = []\n",
    "        y = []\n",
    "        z = []\n",
    "        next(data) # skip header line\n",
    "        for line in data:\n",
    "            p = line.split()\n",
    "            x.append(float(p[0]))\n",
    "            complex = p[1].split(\",\")\n",
    "            y.append(float(complex[0]))\n",
    "            z.append(float(complex[1]))\n",
    "    return x, y, z\n",
    "\n",
    "def plot_logxy2(x1, y1, x2, y2, x1label, y1label, x2label, y2label):\n",
    "    fig, ax = plt.subplots(2, figsize = (10.0, 7.5));\n",
    "    ax[0].semilogx(x1, y1, 'b');\n",
    "    ax[0].set_ylabel(y1label)\n",
    "    ax[0].grid()\n",
    "    \n",
    "    ax[1].semilogx(x2, y2, 'b');\n",
    "    ax[1].set_xlabel(x1label)\n",
    "    ax[1].set_xlabel(x2label);\n",
    "    ax[1].set_ylabel(y2label);\n",
    "    ax[1].grid();\n",
    "    \n",
    "    fig.align_ylabels(ax[:])\n",
    "    \n",
    "def plot_noise_bandwidth(f, mag):\n",
    "    fig, ax = plt.subplots(2, figsize=(10.0,7.5))\n",
    "    ax[0].semilogx(f, RC_mag)\n",
    "    ax[0].set_xscale(\"log\")\n",
    "    ax[0].set_xlim(f[0], f[-1])\n",
    "    ax[0].set_xticks(np.logspace(0.1,4,5))\n",
    "    ax[0].set_xticklabels([])\n",
    "    ax[0].set_ylabel('Magnitude [V/V]')\n",
    "    ax[0].set_title('Equivalent Noise Bandwidth')\n",
    "    ax[0].grid()\n",
    "\n",
    "    ax[1].hlines(1, 0, f_enb, color='tab:blue')\n",
    "    ax[1].hlines(0, f_enb, f[-1], color='tab:blue')\n",
    "    ax[1].vlines(f_enb, 0, 1, color='tab:blue')\n",
    "    ax[1].set_xlim(f[0], f[-1])\n",
    "    ax[1].set_xscale(\"log\")\n",
    "    ax[1].set_xticks(np.logspace(0.1,4,5))\n",
    "    ax[1].set_xticklabels([r'$10^0$',r'$10^1$', r'$10^2$', r'$10^3$', r'$10^4$'])\n",
    "    ax[1].set_ylabel('Magnitude [V/V]')\n",
    "    ax[1].set_xlabel('Frequency [Hz]')\n",
    "    ax[1].grid()\n",
    "    \n",
    "def noise_hist(vnoise, vn_rms, bins):\n",
    "    fig = plt.figure( figsize=(10.0,7.5) )\n",
    "    vn_norm = vnoise/ vn_rms\n",
    "    ax = fig.add_subplot(111)\n",
    "    n, bins, rectangles = ax.hist(vn_norm, bins, density=True, range=(-3, 3),\n",
    "                                 color='b')\n",
    "    ax.set_xlabel(r'Sample Voltage [$v_{n(rms)}$]')\n",
    "    ax.set_ylabel('Probability Density')\n",
    "    ax.grid()\n",
    "    fig.canvas.draw()\n",
    "\n",
    "def plot_freqtrans(f, mag, x1label, y1label, tin, tran, x2label, y2label):\n",
    "    fig, axs = plt.subplots(2, figsize = (10.0, 9));\n",
    "    \n",
    "    axs[0].semilogx(f, 20*np.log10(mag))       \n",
    "    axs[0].grid()\n",
    "    axs[0].set_xlabel(x1label)\n",
    "    axs[0].set_ylabel(y1label)\n",
    "        \n",
    "    axs[1].plot(tin, tran)  \n",
    "    axs[1].grid()\n",
    "    axs[1].set_xlabel(x2label)\n",
    "    axs[1].set_ylabel(y2label)\n",
    "    \n",
    "    fig.align_ylabels(axs[:])    \n",
    "    \n",
    "def plot_multifreqtrans(f, mags, x1label, y1label, tin, trans, x2label, y2label, labels):\n",
    "    fig, axs = plt.subplots(2, figsize = (10.0, 9));\n",
    "    \n",
    "    for mag in mags:\n",
    "        axs[0].semilogx(f, 20*np.log10(mag))\n",
    "        \n",
    "    axs[0].legend( labels ,loc='upper center', ncol=5, fancybox=True, \n",
    "           shadow=True, bbox_to_anchor=(0.5,1.2))    \n",
    "    axs[0].grid()\n",
    "    axs[0].set_xlabel(x1label)\n",
    "    axs[0].set_ylabel(y1label)\n",
    "        \n",
    "    for tran in trans:\n",
    "        axs[1].plot(tin, tran)  \n",
    "    axs[1].grid()\n",
    "    axs[1].set_xlabel(x2label)\n",
    "    axs[1].set_ylabel(y2label)\n",
    "    \n",
    "    fig.align_ylabels(axs[:])\n",
    "    \n",
    "def SK_lowpass(Q, cn, fc, n, C, K):\n",
    "   \n",
    "    d = (n*(1-K)+1)\n",
    "    a = d**2*Q**2\n",
    "    b = 2*Q**2*d-n\n",
    "    c = a\n",
    "    \n",
    "    m_a = (-b+np.sqrt(b**2-4*a*c))/2/a\n",
    "    m_b = (-b-np.sqrt(b**2-4*a*c))/2/a\n",
    "    \n",
    "    C1 = C\n",
    "    C2 = n*C1\n",
    "    R2 =1/fc/2/np.pi/C1/np.sqrt(m_b*n)/cn\n",
    "    R1 = R2*m_b\n",
    "\n",
    "    return C1, C2, R1, R2\n",
    "\n",
    "def plot_fft_dB(freqs, mags, fmin, fmax):\n",
    "    fig, ax = plt.subplots(figsize = (10.0,7.5))\n",
    "    ax.plot(1e-3*freqs, 20*np.log10(mags), 'b')\n",
    "    ax.set_xlim(fmin, fmax)\n",
    "    ax.set_xlabel('Frequency [kHz]')\n",
    "    ax.set_ylabel('Magnitude [dB]')\n",
    "    ax.grid()\n",
    "    \n",
    "def fft_mag(x, N, T, t):\n",
    "    fft_sig  = fft(x, N)  \n",
    "    freqs = np.linspace(0.0, 1.0/(2.0*T), N//2)\n",
    "    mags = 2.0/N * np.abs(fft_sig[0:N//2]) # single-sided FFT\n",
    "    \n",
    "    return freqs, mags"
   ]
  },
  {
   "cell_type": "code",
   "execution_count": 3,
   "metadata": {
    "slideshow": {
     "slide_type": "skip"
    }
   },
   "outputs": [],
   "source": [
    "def fftnoise(f):\n",
    "    f = np.array(f, dtype='complex')\n",
    "    Np = (len(f) - 1) // 2\n",
    "    phases = np.random.rand(Np) * 2 * np.pi\n",
    "    phases = np.cos(phases) + 1j * np.sin(phases)\n",
    "    f[1:Np+1] *= phases\n",
    "    f[-1:-1-Np:-1] = np.conj(f[1:Np+1])\n",
    "    return np.fft.ifft(f).real\n",
    "\n",
    "def band_limited_noise(min_freq, max_freq, samples=1024, samplerate=1):\n",
    "    freqs = np.abs(np.fft.fftfreq(samples, 1/samplerate))\n",
    "    f = np.zeros(samples)\n",
    "    idx = np.where(np.logical_and(freqs>=min_freq, freqs<=max_freq))[0]\n",
    "    f[idx] = 1\n",
    "    return fftnoise(f)"
   ]
  },
  {
   "cell_type": "markdown",
   "metadata": {
    "slideshow": {
     "slide_type": "slide"
    }
   },
   "source": [
    "# Lecture 10 - Analog-to-Digital Converters"
   ]
  },
  {
   "cell_type": "markdown",
   "metadata": {
    "slideshow": {
     "slide_type": "slide"
    }
   },
   "source": [
    "## ADC performance limitations"
   ]
  },
  {
   "cell_type": "markdown",
   "metadata": {
    "cell_style": "center"
   },
   "source": [
    " - Noise and distortion in ADCs limit their maximum attainable resolution\n",
    " - For example, a 16-bit ADC doesn’t necessarily (and almost certainly doesnot) exhibit 16-bit performance\n",
    " - The effects of all ADC non-idealities are captured by the signal-to-noise-and-distortion ratio (SINAD)\n",
    " - From this ratio, we can determine the “effective number of bits” (ENOB), which gives a sense of the actual performance of the ADC"
   ]
  },
  {
   "cell_type": "markdown",
   "metadata": {
    "slideshow": {
     "slide_type": "slide"
    }
   },
   "source": [
    "## Effective number of bits (ENOB)"
   ]
  },
  {
   "cell_type": "markdown",
   "metadata": {},
   "source": [
    " - For a full-scale input, the SQNR of an ideal ADC is given by\n",
    "\n",
    "$$ SQNR = 20 \\log_{10} \\dfrac{(V_{FS}/2)\\sqrt{2}}{V_{LSB}/\\sqrt{12}} = 20\\log_{10}(2^N\\cdot\\sqrt{1.5})\\approx 6.02 N + 1.76 dB$$\n",
    "\n",
    " - From this expression we define the effective number of bits (ENOB) as\n",
    " \n",
    "$$ ENOB = \\dfrac{SINAD - 1.76dB}{6.02} $$\n",
    "\n",
    " - The notion of ENOB allows us to compare the performance of different ADCs with the same number of output bits"
   ]
  },
  {
   "cell_type": "markdown",
   "metadata": {
    "slideshow": {
     "slide_type": "slide"
    }
   },
   "source": [
    "## Sampling noise"
   ]
  },
  {
   "cell_type": "markdown",
   "metadata": {
    "cell_style": "split"
   },
   "source": [
    "<center><img src=\"img/sampling_noise.png\" width=700/></center>"
   ]
  },
  {
   "cell_type": "markdown",
   "metadata": {
    "cell_style": "split"
   },
   "source": [
    "$$ e_{n,sw}^2 = 4kTR_{sw} $$\n",
    "\n",
    "$$ f_{enb} = \\dfrac{1}{4R_{sw}C_{hold}} $$\n",
    "\n",
    "$$ v_{n,sw(rms)} = \\sqrt{\\dfrac{kT}{C_{hold}}} $$"
   ]
  },
  {
   "cell_type": "markdown",
   "metadata": {},
   "source": [
    " - All real sampling switches (which are constructed using transistors) exhibit resistance and thus thermal noise\n",
    " - The total integrated noise (from the switch only) depends on the value of the hold capacitor $C_{hold}$\n",
    " - Higher sampling rates require smaller capacitors (to minimize the time constant $R_{sw}C_{hold}$), and this increases thermal noise"
   ]
  },
  {
   "cell_type": "markdown",
   "metadata": {
    "slideshow": {
     "slide_type": "slide"
    }
   },
   "source": [
    "## Successive approximation (SAR) ADC"
   ]
  },
  {
   "cell_type": "markdown",
   "metadata": {},
   "source": [
    " - Whereas a Flash ADC determines the value of each bit in parallel, a Successive Approximation (SAR) ADC does so in sequence\n",
    " - SAR ADCs use a binary search algorithm to determine the value of each output bit in succession, successively approximating the input\n",
    " - Due the serial operation, SAR ADCs require a minimum of N clock cycles for an N-bit converter, making them substantially slower than Flash converters\n",
    " - However, improvements in digital processing technology and transistor size reduction have enabled the design of high-resolution (> 16 bits) SAR ADCs with clock rates as high as 100 Msps\n",
    " - Linearity in SAR ADCs is limited by capacitor mismatch"
   ]
  },
  {
   "cell_type": "markdown",
   "metadata": {
    "slideshow": {
     "slide_type": "slide"
    }
   },
   "source": [
    "## SAR ADC architecture"
   ]
  },
  {
   "cell_type": "markdown",
   "metadata": {},
   "source": [
    "<center><img src=\"img/SAR_architecture.png\" width=1600/></center>"
   ]
  },
  {
   "cell_type": "markdown",
   "metadata": {
    "slideshow": {
     "slide_type": "slide"
    }
   },
   "source": [
    "## 3-bit SAR ADC"
   ]
  },
  {
   "cell_type": "markdown",
   "metadata": {},
   "source": [
    "<center><img src=\"img/3bit_SAR_ADC.png\" width=1200 /></center>"
   ]
  },
  {
   "cell_type": "markdown",
   "metadata": {},
   "source": [
    " - Input voltage $V_{in}$ is sampled onto a binary-weighted capacitor array\n",
    " - Charge is redistributed based on each successive comparator decision\n",
    " - The capacitor/switch array forms a digital-to-analog converter referred to as a “charge-redistribution DAC” (CDAC)"
   ]
  },
  {
   "cell_type": "markdown",
   "metadata": {
    "slideshow": {
     "slide_type": "slide"
    }
   },
   "source": [
    "## Sampling phase"
   ]
  },
  {
   "cell_type": "markdown",
   "metadata": {
    "cell_style": "center"
   },
   "source": [
    "<center><img src=\"img/SAR_sampling.png\" width=800/></center>"
   ]
  },
  {
   "cell_type": "markdown",
   "metadata": {},
   "source": [
    " - During the sampling phase, the input voltage is sampled onto the full capacitor array, such that $Q = V_{in}\\cdot 8C$\n",
    " - Comparisons are performed for each bit of the output\n",
    " - During the conversion process, the charge on the array is added to or subtracted from based on the decision for each bit\n",
    " - For this example, $V_{in} = \\dfrac{1}{3}V_{ref} $"
   ]
  },
  {
   "cell_type": "markdown",
   "metadata": {
    "slideshow": {
     "slide_type": "slide"
    }
   },
   "source": [
    "## Redistribution phase"
   ]
  },
  {
   "cell_type": "markdown",
   "metadata": {
    "cell_style": "split"
   },
   "source": [
    "<center><img src=\"img/SAR_redistribution.png\" width=700/></center>"
   ]
  },
  {
   "cell_type": "markdown",
   "metadata": {
    "cell_style": "split"
   },
   "source": [
    "$$V_{in} = \\dfrac{1}{3}V_{ref} $$\n",
    "\n",
    "$$ V_{DAC,init} = -V_{in} $$\n",
    "\n",
    "\\begin{align}\n",
    "V_{DAC,MSB} &= V_{ref} \\dfrac{4C}{C_{tot}} - V_{in}\\\\\n",
    "\\\\\n",
    "&= \\dfrac{V_{ref}}{2}-V_{in}\n",
    "\\end{align}"
   ]
  },
  {
   "cell_type": "markdown",
   "metadata": {},
   "source": [
    " - As the bottom plate of each capacitor in the array is connected to $V_{ref}$, $V_{DAC}$ is set by the ratio of that capacitor to the total array capacitance\n",
    " - $V_{DAC}$ is either greater or less than zero, depending on the value of $V_{in}$\n",
    " - The comparator output $D_{out}$ sets the switch state for the current bit, and the conversion proceeds to the next bit"
   ]
  },
  {
   "cell_type": "markdown",
   "metadata": {
    "slideshow": {
     "slide_type": "slide"
    }
   },
   "source": [
    "## MSB (Bit 2) decision"
   ]
  },
  {
   "cell_type": "markdown",
   "metadata": {
    "cell_style": "split"
   },
   "source": [
    "<center><img src=\"img/MSB_decision.png\" width=700/></center>"
   ]
  },
  {
   "cell_type": "markdown",
   "metadata": {
    "cell_style": "split"
   },
   "source": [
    "$$ V_{in} = \\dfrac{1}{3}V_{ref} $$\n",
    "\n",
    "$$ V_{DAC} = \\dfrac{V_{ref}}{2}-V_{in} $$\n",
    "\n",
    "$$ D_{out} = b_2 = 0$$"
   ]
  },
  {
   "cell_type": "markdown",
   "metadata": {},
   "source": [
    " - The bottom plate of MSB capacitor is connected to $V_{ref}$, which sets the DAC voltage $V_{DAC}$ to $V_{ref}/2 − V_{in}$\n",
    " - If $V_{in} > V_{ref}/2$, the output of the comparator $D_{out} = 1$\n",
    " - If $V_{in} < V_{ref}/2$, the output of the comparator is $D_{out} = 0$\n",
    " - The comparator output sets the MSB switch position for subsequent decisions"
   ]
  },
  {
   "cell_type": "markdown",
   "metadata": {
    "slideshow": {
     "slide_type": "slide"
    }
   },
   "source": [
    "## Bit 1 decision"
   ]
  },
  {
   "cell_type": "markdown",
   "metadata": {
    "cell_style": "split"
   },
   "source": [
    "<center><img src=\"img/N_minus_2_decision.png\" width=700/></center>"
   ]
  },
  {
   "cell_type": "markdown",
   "metadata": {
    "cell_style": "split"
   },
   "source": [
    "$$ V_{in} = \\dfrac{1}{3}V_{ref} $$\n",
    "\n",
    "\n",
    "$$ V_{DAC} = 0\\cdot\\dfrac{V_{ref}}{2} + \\dfrac{V_{ref}}{4} - V_{in} $$\n",
    "\n",
    "$$D_{out} = b_1 = 1 $$"
   ]
  },
  {
   "cell_type": "markdown",
   "metadata": {},
   "source": [
    " - Next, the bottom plate of the $(N-2)_{th}$ capacitor is connected to $V_{ref}$, which drives the DAC voltage $V_{DAC}$ to $V_{ref}/4 − V_{in}$\n",
    " - If $V_{in} > V_{ref}/4$, the output of the comparator $D_{out} = 1$\n",
    " - If $V_{in} < V_{ref}/4$, the output of the comparator is $D_{out} = 0$\n",
    " - Again, the comparator output sets the switch position for the bottom plate of the $(N-1)_{th}$ capacitor"
   ]
  },
  {
   "cell_type": "markdown",
   "metadata": {
    "slideshow": {
     "slide_type": "slide"
    }
   },
   "source": [
    "## Bit 0 decision (LSB)"
   ]
  },
  {
   "cell_type": "markdown",
   "metadata": {
    "cell_style": "split"
   },
   "source": [
    "<center><img src=\"img/LSB_decision.png\" width=700/></center>"
   ]
  },
  {
   "cell_type": "markdown",
   "metadata": {
    "cell_style": "split"
   },
   "source": [
    "$$ V_{in} = \\dfrac{1}{3}V_{ref} $$\n",
    "\n",
    "$$ V_{DAC} = 0\\cdot\\dfrac{V_{ref}}{2} + 1\\cdot\\dfrac{V_{ref}}{4} +\\dfrac{V_{ref}}{2^N}- V_{in} $$\n",
    "\n",
    "$$D_{out} = b_0 = 1$$"
   ]
  },
  {
   "cell_type": "markdown",
   "metadata": {},
   "source": [
    " - The comparator decision for the $(N-2)_{th}$ bit is retained in the form of charge on the CDAC\n",
    " - The final comparison determines the LSB of the output code and completes the conversion process"
   ]
  },
  {
   "cell_type": "markdown",
   "metadata": {
    "slideshow": {
     "slide_type": "slide"
    }
   },
   "source": [
    "## Conversion example"
   ]
  },
  {
   "cell_type": "markdown",
   "metadata": {
    "cell_style": "split"
   },
   "source": [
    " - The output code successively approximates the input voltage by comparing the input against reference levels in a step-wise fashion\n",
    " - Based on the previous conversion examples, the output code is\n",
    " \n",
    "$$ D[2:0] = 011 $$\n",
    "\n",
    " - This corresponds to a measured voltage of\n",
    " \n",
    "$$ V_{sample} = 3\\cdot V_{LSB} = 3\\cdot \\dfrac{V_{ref}}{8} $$\n",
    " - Each conversion step requires a single clock cycle, such that the overall sampling frequency is limited by the number of output bits"
   ]
  },
  {
   "cell_type": "markdown",
   "metadata": {
    "cell_style": "split"
   },
   "source": [
    "<center><img src=\"img/SAR_conversion.png\" width=800/></center>"
   ]
  },
  {
   "cell_type": "markdown",
   "metadata": {
    "slideshow": {
     "slide_type": "slide"
    }
   },
   "source": [
    "## Nyquist-rate sampling"
   ]
  },
  {
   "cell_type": "markdown",
   "metadata": {
    "cell_style": "split"
   },
   "source": [
    " - When sampling at the Nyquist rate (2x the input signal bandwidth), further filtering (e.g. in software) is typically not needed \n",
    " - In this case, the quantization noise is fixed and the effective resolution is set by the raw quantization error\n",
    " - This requires the use of an ADC whose *raw* resolution  (i.e number of output bits $N$) meets the application requirements\n",
    " - The quantization noise in this case is given by\n",
    " \n",
    "$$ v_{nq(rms)} = \\dfrac{V_{ref}}{2^N\\cdot \\sqrt{12}} $$"
   ]
  },
  {
   "cell_type": "markdown",
   "metadata": {
    "cell_style": "split"
   },
   "source": [
    "<center><img src=\"img/Nyquist_sampling.png\" width=800/></center>"
   ]
  },
  {
   "cell_type": "markdown",
   "metadata": {
    "slideshow": {
     "slide_type": "slide"
    }
   },
   "source": [
    "## Oversampling"
   ]
  },
  {
   "cell_type": "markdown",
   "metadata": {
    "cell_style": "split"
   },
   "source": [
    " - As we have seen, sampling a signal at frequencies higher than the Nyquist rate (i.e. oversampling) provides an advantage with respect to quantization noise\n",
    " - After sampling, software/digital filtering can be applied to limit the noise bandwidth and improve effective resolution\n",
    " - The quantization noise in with oversampling is given by\n",
    "\n",
    "\\begin{align} \n",
    "v_{nq,os(rms)} &= \\dfrac{V_{ref}}{2^N\\cdot \\sqrt{12}} \\cdot \\sqrt{\\dfrac{f_{enb}}{f_s/2}} \\\\\n",
    "\\\\\n",
    "&= \\dfrac{V_{ref}}{2^N\\cdot \\sqrt{12}} \\cdot \\dfrac{1}{\\sqrt{OSR}}\n",
    "\\end{align}\n",
    "\n",
    " - In addition to lowering quantization noise density, shifting the burden of filtering to the digital domain can be beneficial in terms of cost and precision"
   ]
  },
  {
   "cell_type": "markdown",
   "metadata": {
    "cell_style": "split"
   },
   "source": [
    "<center><img src=\"img/oversampling.png\" width=800/></center>"
   ]
  },
  {
   "cell_type": "markdown",
   "metadata": {
    "slideshow": {
     "slide_type": "slide"
    }
   },
   "source": [
    "## Noise shaping"
   ]
  },
  {
   "cell_type": "markdown",
   "metadata": {
    "cell_style": "split"
   },
   "source": [
    " - Oversampling has limited benefits, since the effective voltage noise density only scales as $1/\\sqrt{OSR}$\n",
    " - If, in addition to oversampling, we can shape the quantization noise so that filtering is more effective in removing it, we can achieve even higher resolution\n",
    " - This is accomplished by a process called “noise shaping,” and is the fundamental principle of DeltaSigma converter operation"
   ]
  },
  {
   "cell_type": "markdown",
   "metadata": {
    "cell_style": "split"
   },
   "source": [
    "<center><img src=\"img/noise_shaping.png\" width=800/></center>"
   ]
  },
  {
   "cell_type": "markdown",
   "metadata": {
    "slideshow": {
     "slide_type": "slide"
    }
   },
   "source": [
    "## Delta-Sigma modulation"
   ]
  },
  {
   "cell_type": "markdown",
   "metadata": {},
   "source": [
    "<center><img src=\"img/delta_sigma_modulator.png\" width=1200/></center>"
   ]
  },
  {
   "cell_type": "markdown",
   "metadata": {},
   "source": [
    " - A low-resolution quantizer (e.g. 1-bit) is combined with oversampling and negative feedback to realize an *average* quantization error much lower than that of the raw quantization\n",
    " - The Delta-Sigma modulator (DSM) output is applied to a digital filter for averaging and down-sampling\n",
    " - The Delta-Sigma converter architecture trades speed for precision"
   ]
  },
  {
   "cell_type": "markdown",
   "metadata": {
    "slideshow": {
     "slide_type": "slide"
    }
   },
   "source": [
    "## 1-bit Delta-Sigma ADC"
   ]
  },
  {
   "cell_type": "markdown",
   "metadata": {},
   "source": [
    "<center><img src=\"img/1bit_delta_sigma_ADC.png\" width=1700/></center>"
   ]
  },
  {
   "cell_type": "markdown",
   "metadata": {
    "slideshow": {
     "slide_type": "slide"
    }
   },
   "source": [
    "## Z-domain representation"
   ]
  },
  {
   "cell_type": "markdown",
   "metadata": {},
   "source": [
    "<center><img src=\"img/Z_domain.png\" width=1500/></center>"
   ]
  },
  {
   "cell_type": "markdown",
   "metadata": {},
   "source": [
    " - A phase delay is represented in the frequency domain as a complex exponential, the magnitude of which is 1\n",
    " - Because delays are so common in digital systems, we instead use the term $z^{−1}$ (which signifies the complex z-plane) to simplify the expressions"
   ]
  },
  {
   "cell_type": "markdown",
   "metadata": {
    "slideshow": {
     "slide_type": "slide"
    }
   },
   "source": [
    "## Discrete-time integrator"
   ]
  },
  {
   "attachments": {},
   "cell_type": "markdown",
   "metadata": {},
   "source": [
    "<center><img src=\"img/discrete_integrator.png\" width=1500/></center>"
   ]
  },
  {
   "cell_type": "markdown",
   "metadata": {},
   "source": [
    " - Integration in the digital domain (or, \"accumulation\") is as simple as continually adding (at the rising edge of each clock period) the current input value to the accumulated sum of all previous inputs\n",
    " - The integrator can be thought of as a summing, or averaging, element, as it “remembers” the input value over a long period of time\n",
    " - Hence, the integrator emphasizes-low frequency the low frequency content of its input (low-pass behavior)"
   ]
  },
  {
   "cell_type": "markdown",
   "metadata": {
    "slideshow": {
     "slide_type": "slide"
    }
   },
   "source": [
    "## Discrete-time differentiator"
   ]
  },
  {
   "cell_type": "markdown",
   "metadata": {},
   "source": [
    "<center><img src=\"img/discrete_differentiator.png\" width=1500/></center>"
   ]
  },
  {
   "attachments": {},
   "cell_type": "markdown",
   "metadata": {},
   "source": [
    " - The differentiator processes the difference between input values occurring in sequence\n",
    " - The differentiator can be thought of as processing the change in the input (differentiation is the process of taking the derivative)\n",
    " - As a result, the differentiator emphasizes high-frequency information (high-pass behavior)"
   ]
  },
  {
   "cell_type": "markdown",
   "metadata": {
    "slideshow": {
     "slide_type": "slide"
    }
   },
   "source": [
    "## DSM linear model"
   ]
  },
  {
   "cell_type": "markdown",
   "metadata": {},
   "source": [
    "<center><img src=\"img/DSM_linear_model.png\" width=900/></center>"
   ]
  },
  {
   "cell_type": "markdown",
   "metadata": {},
   "source": [
    " - The DSM can be modeled as a linear feedback look with quantization error added to the output\n",
    " - Using superposition, we can analyze the loop processing of the input and quantization noise separately\n",
    " - The integrator element provides high low-frequency open-loop gain, similar to that of an opamp"
   ]
  },
  {
   "cell_type": "markdown",
   "metadata": {
    "slideshow": {
     "slide_type": "slide"
    }
   },
   "source": [
    "## Signal transfer function"
   ]
  },
  {
   "cell_type": "markdown",
   "metadata": {
    "cell_style": "split"
   },
   "source": [
    "<center><img src=\"img/DSM_STF.png\" width=700/></center>"
   ]
  },
  {
   "cell_type": "markdown",
   "metadata": {
    "cell_style": "split"
   },
   "source": [
    "$$ v_e = v_{in} - v_{out} \\:\\:\\:\\:\\:\\:\\:\\: v_{out} = \\dfrac{(v_{in}-v_{out})z^{-1}}{1-z^{-1}}$$\n",
    "\n",
    "$$STF =  \\dfrac{v_{out}}{v_{in}} = \\dfrac{z^{-1}}{1 - z^{-1} + z^{-1} } = z^{-1} $$\n"
   ]
  },
  {
   "cell_type": "markdown",
   "metadata": {},
   "source": [
    " - The signal merely passes through the modulator with a delay ▪ We call the relationship between the input signal and output signal the “signal transfer function,” designated by $STF$\n",
    " - The situation is analogous to an opamp in unity-gain feedback, which hasa gain of 1 and a phase delay determined by the opamp bandwidth"
   ]
  },
  {
   "cell_type": "markdown",
   "metadata": {
    "slideshow": {
     "slide_type": "slide"
    }
   },
   "source": [
    "## Noise transfer function"
   ]
  },
  {
   "cell_type": "markdown",
   "metadata": {
    "cell_style": "split"
   },
   "source": [
    "<center><img src=\"img/DSM_NTF.png\" width=700/></center>"
   ]
  },
  {
   "cell_type": "markdown",
   "metadata": {
    "cell_style": "split"
   },
   "source": [
    "$$ v_e =  -v_{out} \\:\\:\\:\\:\\:\\:\\:\\: v_{out} = v_{int} + q_e$$\n",
    "\n",
    "$$NTF =  \\dfrac{v_{out}}{q_{e}} = 1-z^{-1} $$\n"
   ]
  },
  {
   "cell_type": "markdown",
   "metadata": {},
   "source": [
    " - Because it is added to the output after the integrator, the quantization error is differentiated instead of integrated\n",
    " - The transfer function with respect to the quantization noise has a highpass characteristic, suppressing it at low frequencies\n",
    " - This characteristic of the Delta-Sigma Modulator is referred to as “noise shaping,” and it is the fundamental advantage of the architecture"
   ]
  },
  {
   "cell_type": "markdown",
   "metadata": {
    "slideshow": {
     "slide_type": "slide"
    }
   },
   "source": [
    "## Noise transfer function"
   ]
  },
  {
   "cell_type": "code",
   "execution_count": 48,
   "metadata": {},
   "outputs": [
    {
     "data": {
      "image/png": "[encoded data removed]",
      "text/plain": [
       "<Figure size 720x540 with 1 Axes>"
      ]
     },
     "metadata": {
      "needs_background": "light"
     },
     "output_type": "display_data"
    }
   ],
   "source": [
    "fs = 10e3\n",
    "Vref = 3.3\n",
    "nbits = 1\n",
    "f = np.linspace(1, fs/2, 1000)\n",
    "\n",
    "ntf = np.abs(1 - np.exp(-1j*2*np.pi*f/fs))**2\n",
    "plot_x2y(f/fs, ntf, np.ones(np.size(f)), r'Normalized Frequency [$f/f_s$]', \n",
    "         r'$|NTF|^2$', 'with noise shaping', 'without')"
   ]
  },
  {
   "cell_type": "markdown",
   "metadata": {},
   "source": [
    " - At frequencies well below $f_s/2$, the NTF magnitude is much lower than 1\n",
    " - This means that if we filter the quantization noise with a noise bandwidth much lower than $f_s/2$, we can substantially reduce the effective quantization error"
   ]
  },
  {
   "cell_type": "markdown",
   "metadata": {
    "slideshow": {
     "slide_type": "slide"
    }
   },
   "source": [
    "## RMS quantization noise"
   ]
  },
  {
   "cell_type": "markdown",
   "metadata": {},
   "source": [
    " - With oversampling alone, the in-band quantization noise is given by\n",
    " \n",
    "$$ v_{nq,os(rms)} =  \\dfrac{V_{LSB}}{\\sqrt{12}} \\cdot \\dfrac{1}{\\sqrt{OSR}} $$\n",
    "\n",
    " - With first-order noise shaping, the benefit is much more pronounced:\n",
    " \n",
    "$$ v_{nq,ns(rms)} =  \\dfrac{V_{LSB}}{\\sqrt{12}} \\cdot \\dfrac{\\pi}{3} \\cdot \\dfrac{1}{OSR^{3/2}} $$\n"
   ]
  },
  {
   "cell_type": "code",
   "execution_count": 51,
   "metadata": {
    "scrolled": false,
    "slideshow": {
     "slide_type": "subslide"
    }
   },
   "outputs": [
    {
     "data": {
      "image/png": "[encoded data removed]",
      "text/plain": [
       "<Figure size 720x540 with 1 Axes>"
      ]
     },
     "metadata": {
      "needs_background": "light"
     },
     "output_type": "display_data"
    }
   ],
   "source": [
    "en_qe_2 = (Vref/2)**2/12/fs*np.ones(np.size(f))\n",
    "vn_rms = np.sqrt(integrate.cumtrapz(2*en_qe_2, f, initial=0))\n",
    "vn_rms_ns = np.sqrt(integrate.cumtrapz(en_qe_2*ntf, f, initial=0))\n",
    "vn_rms_tot = Vref/np.sqrt(12)/2\n",
    "\n",
    "plot_logx2y(fs/f/2, vn_rms/vn_rms_tot, vn_rms_ns/vn_rms_tot, 'Oversampling Ratio (OSR)',\n",
    "        'Normalized RMS Quantization Noise', 'oversampling', 'noise shaping')"
   ]
  },
  {
   "cell_type": "markdown",
   "metadata": {
    "slideshow": {
     "slide_type": "slide"
    }
   },
   "source": [
    "## Effective resolution"
   ]
  },
  {
   "cell_type": "markdown",
   "metadata": {},
   "source": [
    " - The effect of oversampling/noiseshaping on ADC performance can be quantified as an improvement in the effective resolution in terms of bits added\n",
    " - For oversampling alone, every doubling of the oversampling rate adds only 0.5 bits of resolution ▪ With 1st–order noise shaping, doubling the OSR adds 1.5 bits of resolution\n",
    " - Higher order DSMs can improve this even further!"
   ]
  },
  {
   "cell_type": "code",
   "execution_count": 52,
   "metadata": {
    "scrolled": false,
    "slideshow": {
     "slide_type": "subslide"
    }
   },
   "outputs": [
    {
     "name": "stderr",
     "output_type": "stream",
     "text": [
      "<ipython-input-52-00fe2b6ff097>:2: RuntimeWarning: divide by zero encountered in true_divide\n",
      "  plot_logx2y(fs/f/2,  (20*np.log10(vfs_rms/vn_rms)-1.76)/6.02 - 1, (20*np.log10(vfs_rms/vn_rms_ns)-1.76)/6.02 - 1,\n"
     ]
    },
    {
     "data": {
      "image/png": "[encoded data removed]",
      "text/plain": [
       "<Figure size 720x540 with 1 Axes>"
      ]
     },
     "metadata": {
      "needs_background": "light"
     },
     "output_type": "display_data"
    }
   ],
   "source": [
    "vfs_rms = Vref/2/np.sqrt(2)\n",
    "plot_logx2y(fs/f/2,  (20*np.log10(vfs_rms/vn_rms)-1.76)/6.02 - 1, (20*np.log10(vfs_rms/vn_rms_ns)-1.76)/6.02 - 1,\n",
    "           'Oversampling Ratio (OSR)', 'Resolution Improvement [bits]', 'oversampling', 'noise shaping')"
   ]
  },
  {
   "cell_type": "markdown",
   "metadata": {
    "slideshow": {
     "slide_type": "slide"
    }
   },
   "source": [
    "## Higher-order modulators"
   ]
  },
  {
   "cell_type": "markdown",
   "metadata": {},
   "source": [
    " - The “order” of a Delta-Sigma modulator is increased by adding additional integrator stages\n",
    " - The noise transfer function for higher-order modulators can be expressed as\n",
    "\n",
    "$$  |NTF|^M = |NTF_1|^M = \\left(4\\sin^2{\\pi\\frac{f}{f_s}}\\right)^M $$\n",
    "\n",
    " - The quantization noise of an $M^{th}$-order modulator is given by\n",
    "\n",
    "$$ v_{nq,M(rms)} = \\dfrac{V_{LSB}}{\\sqrt{12}} \\cdot = \\dfrac{\\pi^M}{\\sqrt{2M+1}} \\cdot \\dfrac{1}{OSR^{M+1/2}} $$\n"
   ]
  },
  {
   "cell_type": "code",
   "execution_count": 53,
   "metadata": {
    "slideshow": {
     "slide_type": "subslide"
    }
   },
   "outputs": [
    {
     "name": "stderr",
     "output_type": "stream",
     "text": [
      "<ipython-input-53-b7a3cad8dd60>:6: RuntimeWarning: divide by zero encountered in true_divide\n",
      "  plot_logx3y(fs/f/2, (20*np.log10(vfs_rms/vn_rms_ns)-1.76)/6.02 - 1, (20*np.log10(vfs_rms/vn_rms_2)-1.76)/6.02 - 1,\n",
      "<ipython-input-53-b7a3cad8dd60>:7: RuntimeWarning: divide by zero encountered in true_divide\n",
      "  (20*np.log10(vfs_rms/vn_rms_3)-1.76)/6.02 - 1, r'Oversampling Ratio (OSR)', r'Resolution Improvement [bits]',\n"
     ]
    },
    {
     "data": {
      "image/png": "[encoded data removed]",
      "text/plain": [
       "<Figure size 720x540 with 1 Axes>"
      ]
     },
     "metadata": {
      "needs_background": "light"
     },
     "output_type": "display_data"
    }
   ],
   "source": [
    "ntf_2 = ntf**2\n",
    "ntf_3 = ntf**3\n",
    "vn_rms_2 = np.sqrt(integrate.cumtrapz(2*en_qe_2*ntf_2, f, initial=0))\n",
    "vn_rms_3 = np.sqrt(integrate.cumtrapz(2*en_qe_2*ntf_3, f, initial=0))\n",
    "\n",
    "plot_logx3y(fs/f/2, (20*np.log10(vfs_rms/vn_rms_ns)-1.76)/6.02 - 1, (20*np.log10(vfs_rms/vn_rms_2)-1.76)/6.02 - 1,\n",
    "            (20*np.log10(vfs_rms/vn_rms_3)-1.76)/6.02 - 1, r'Oversampling Ratio (OSR)', r'Resolution Improvement [bits]',\n",
    "            r'$1^{st}$-order noise shaping', r'$2^{nd}$-order noise shaping', r'$3^{rd}$-order noise shaping')\n",
    "            "
   ]
  },
  {
   "cell_type": "code",
   "execution_count": null,
   "metadata": {},
   "outputs": [],
   "source": []
  }
 ],
 "metadata": {
  "celltoolbar": "Slideshow",
  "kernelspec": {
   "display_name": "Python 3",
   "language": "python",
   "name": "python3"
  },
  "language_info": {
   "codemirror_mode": {
    "name": "ipython",
    "version": 3
   },
   "file_extension": ".py",
   "mimetype": "text/x-python",
   "name": "python",
   "nbconvert_exporter": "python",
   "pygments_lexer": "ipython3",
   "version": "3.8.2"
  },
  "livereveal": {
   "controls": false,
   "scroll": true,
   "theme": "simple"
  },
  "rise": {
   "enable_chalkboard": true,
   "slideNumber": true
  }
 },
 "nbformat": 4,
 "nbformat_minor": 4
}
