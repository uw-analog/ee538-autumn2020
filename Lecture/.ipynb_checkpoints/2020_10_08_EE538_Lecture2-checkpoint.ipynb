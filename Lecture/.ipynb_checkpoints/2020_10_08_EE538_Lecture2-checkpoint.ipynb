{
 "cells": [
  {
   "cell_type": "markdown",
   "metadata": {
    "cell_style": "center",
    "slideshow": {
     "slide_type": "slide"
    }
   },
   "source": [
    "# EE 538: Analog Circuits for Sensor Systems\n",
    "## Autumn 2020\n",
    "## Instructor: Jason Silver"
   ]
  },
  {
   "cell_type": "markdown",
   "metadata": {
    "slideshow": {
     "slide_type": "slide"
    }
   },
   "source": [
    "## Announcements"
   ]
  },
  {
   "cell_type": "markdown",
   "metadata": {
    "slideshow": {
     "slide_type": "fragment"
    }
   },
   "source": [
    " - Assignment 1 due Sunday, October 11 at midnight\n",
    "    - Jupyter Notebook (.ipyb) submission on Canvas\n",
    "    - For LTspice problems, include image (e.g. screen capture) of schematic(s)"
   ]
  },
  {
   "cell_type": "markdown",
   "metadata": {
    "slideshow": {
     "slide_type": "slide"
    }
   },
   "source": [
    "## Week 2"
   ]
  },
  {
   "cell_type": "markdown",
   "metadata": {
    "slideshow": {
     "slide_type": "fragment"
    }
   },
   "source": [
    " - Art of Electronics (AoE) Chapter 2\n",
    " - Microelectronics (Sedra/Smith) Chapter 6"
   ]
  },
  {
   "cell_type": "markdown",
   "metadata": {
    "slideshow": {
     "slide_type": "slide"
    }
   },
   "source": [
    "## Overview"
   ]
  },
  {
   "cell_type": "markdown",
   "metadata": {
    "slideshow": {
     "slide_type": "fragment"
    }
   },
   "source": [
    " - Last time...\n",
    "    - Sensor interfaces\n",
    "    - Thevenin/Norton models\n",
    "    - Frequency response\n",
    "    - Transient response\n",
    " - Today...\n",
    "     - BJT physics\n",
    "     - Ebers Moll BJT model\n",
    "     - Small-signal BJT model\n",
    "     - Common-emitter amplifier\n",
    "     - Emitter-follower"
   ]
  },
  {
   "cell_type": "markdown",
   "metadata": {
    "slideshow": {
     "slide_type": "slide"
    }
   },
   "source": [
    "## Python packages/modules"
   ]
  },
  {
   "cell_type": "code",
   "execution_count": 77,
   "metadata": {
    "slideshow": {
     "slide_type": "fragment"
    }
   },
   "outputs": [],
   "source": [
    "import matplotlib\n",
    "from matplotlib import pyplot as plt\n",
    "import numpy as np\n",
    "from scipy import signal\n",
    "#%matplotlib notebook\n",
    "\n",
    "def plot_xy(x, y, xlabel, ylabel):\n",
    "    fig, ax = plt.subplots(figsize=(8.0, 6.0));\n",
    "    ax.plot(x, y, 'b');\n",
    "    ax.grid();\n",
    "    ax.set_xlabel(xlabel);\n",
    "    ax.set_ylabel(ylabel);\n",
    "    \n",
    "def plot_xy2(x1, y1, x1label, y1label, x2, y2, x2label, y2label):\n",
    "    fig, ax = plt.subplots(2, figsize = (8.0, 6.0));\n",
    "    ax[0].plot(x1, y1, 'b');\n",
    "    ax[0].set_ylabel(y1label)\n",
    "    ax[0].grid()\n",
    "    \n",
    "    ax[1].plot(x2, y2, 'b');\n",
    "    ax[1].set_xlabel(x1label)\n",
    "    ax[1].set_xlabel(x2label);\n",
    "    ax[1].set_ylabel(y2label);\n",
    "    ax[1].grid();\n",
    "    \n",
    "    fig.align_ylabels(ax[:])\n",
    "    \n",
    "def plot_xlogy(x, y, xlabel, ylabel):\n",
    "    fig, ax = plt.subplots(figsize=(8.0, 6.0));\n",
    "    ax.semilogy(x, y, 'b');\n",
    "    ax.grid();\n",
    "    ax.set_xlabel(xlabel);\n",
    "    ax.set_ylabel(ylabel);"
   ]
  },
  {
   "cell_type": "markdown",
   "metadata": {
    "slideshow": {
     "slide_type": "slide"
    }
   },
   "source": [
    "# Lecture 2 - Bipolar junction transistors"
   ]
  },
  {
   "cell_type": "markdown",
   "metadata": {
    "slideshow": {
     "slide_type": "slide"
    }
   },
   "source": [
    "## Ideal transistor"
   ]
  },
  {
   "cell_type": "markdown",
   "metadata": {
    "cell_style": "split",
    "slideshow": {
     "slide_type": "fragment"
    }
   },
   "source": [
    "<center><img src=\"img/ideal_transistor.png\" width=200 /></center>"
   ]
  },
  {
   "cell_type": "markdown",
   "metadata": {
    "cell_style": "split",
    "slideshow": {
     "slide_type": "fragment"
    }
   },
   "source": [
    "$$ I_{out} = G\\cdot V_{ctrl}$$\n",
    "$$ [G] = A/V = S = \\Omega^{-1} $$\n",
    "$$ I_{in} \\rightarrow 0 $$\n",
    "$$ R_{eq} \\rightarrow \\infty $$"
   ]
  },
  {
   "cell_type": "markdown",
   "metadata": {
    "slideshow": {
     "slide_type": "fragment"
    }
   },
   "source": [
    " - An ideal transistor is a 3-terminal device, allowing control of the output current $I_{out}$ via the control voltage $V_{ctrl}$ (voltage-controlled current source)\n",
    " - Gain is possible because $I_{out}$ is supplied by the output's power supply, not the driving circuit\n",
    " - The fact that $I_{in} = 0$ also means there is no DC loading of the driving circuit\n",
    " - The absence of static loading is what makes ultra-low power digital circuits possible"
   ]
  },
  {
   "cell_type": "markdown",
   "metadata": {
    "slideshow": {
     "slide_type": "slide"
    }
   },
   "source": [
    "## Realizing voltage gain"
   ]
  },
  {
   "cell_type": "markdown",
   "metadata": {
    "cell_style": "split",
    "slideshow": {
     "slide_type": "fragment"
    }
   },
   "source": [
    "<center><img src=\"img/gain_circuit.png\" width=500 /></center>"
   ]
  },
  {
   "cell_type": "markdown",
   "metadata": {
    "cell_style": "split",
    "slideshow": {
     "slide_type": "fragment"
    }
   },
   "source": [
    "$$I_{in} = 0 \\rightarrow V_{in} = V_S $$\n",
    "$$V_{out} = -GV_{in}\\cdot R_{out}$$\n",
    "$$A_v = \\dfrac{V_{out}}{V_{in}} = -GR_{out} $$"
   ]
  },
  {
   "cell_type": "markdown",
   "metadata": {
    "slideshow": {
     "slide_type": "fragment"
    }
   },
   "source": [
    " - Input voltage is converted to a current via transconductance $G$ \n",
    " - Transconductances has units of siemens, symbol __S__, where 1 __S__ = 1 A/V\n",
    " - Output voltage is the product of current and output resistance $R_{out}$\n",
    " - This is the approach used to realize voltage gain in circuits based on BJTs, FETs, and even vacuum tubes"
   ]
  },
  {
   "cell_type": "markdown",
   "metadata": {
    "slideshow": {
     "slide_type": "slide"
    }
   },
   "source": [
    "## Bipolar junction transistor (npn BJT)"
   ]
  },
  {
   "cell_type": "markdown",
   "metadata": {
    "cell_style": "center",
    "slideshow": {
     "slide_type": "fragment"
    }
   },
   "source": [
    "<center><img src=\"img/npn_simple.png\" width=200 /></center>"
   ]
  },
  {
   "cell_type": "markdown",
   "metadata": {
    "slideshow": {
     "slide_type": "fragment"
    }
   },
   "source": [
    " - 3-terminal device consisting of base ($B$), collector ($C$), and emitter ($E$)\n",
    " - Collector current $I_C$, controlled by the base-emitter voltage $V_{BE}$, flows from collector to emitter"
   ]
  },
  {
   "cell_type": "markdown",
   "metadata": {
    "slideshow": {
     "slide_type": "slide"
    }
   },
   "source": [
    "## BJT physical structure"
   ]
  },
  {
   "cell_type": "markdown",
   "metadata": {
    "slideshow": {
     "slide_type": "fragment"
    }
   },
   "source": [
    "<center><img src=\"img/npn_structure.png\" width=500 /></center>"
   ]
  },
  {
   "cell_type": "markdown",
   "metadata": {
    "slideshow": {
     "slide_type": "fragment"
    }
   },
   "source": [
    " - BJT consists of two *pn*-junctions (diodes), the base-emitter junction and the base-collector junction\n",
    " - The *bias* condition of each diode (i.e. the voltage across it) determines the BJT mode of operation\n",
    " - In the *active* mode, which we use when we want the BJT to operate as an amplifier, the base-emitter voltage controls the current flowing from collector to emitter"
   ]
  },
  {
   "cell_type": "markdown",
   "metadata": {
    "slideshow": {
     "slide_type": "slide"
    }
   },
   "source": [
    "## Current flow in an *npn* BJT"
   ]
  },
  {
   "cell_type": "markdown",
   "metadata": {
    "slideshow": {
     "slide_type": "fragment"
    }
   },
   "source": [
    "<center><img src=\"img/npn_current.png\" width=450 /></center>"
   ]
  },
  {
   "cell_type": "markdown",
   "metadata": {
    "slideshow": {
     "slide_type": "fragment"
    }
   },
   "source": [
    " - In active mode, electrons diffuse from the emitter to base, and are swept into the collector as long as $V_{CB} > 0$\n",
    " - The base-emitter *pn*-junction is *forward-biased*, while the base-collector junction is *reverse-biased*"
   ]
  },
  {
   "cell_type": "markdown",
   "metadata": {
    "slideshow": {
     "slide_type": "slide"
    }
   },
   "source": [
    "## Ebers-Moll model"
   ]
  },
  {
   "cell_type": "markdown",
   "metadata": {
    "cell_style": "split",
    "slideshow": {
     "slide_type": "fragment"
    }
   },
   "source": [
    "<center><img src=\"img/NPN_transistor.png\" width=200 /></center>"
   ]
  },
  {
   "cell_type": "markdown",
   "metadata": {
    "cell_style": "split",
    "slideshow": {
     "slide_type": "fragment"
    }
   },
   "source": [
    "$$I_C = I_S(e^{V_{BE}/V_T} - 1) $$\n",
    "\n",
    "$$ I_B = I_C/\\beta $$\n",
    "\n",
    "$$ V_{BE} = \\dfrac{kT}{q}ln\\left(\\dfrac{I_C}{I_S}+1\\right) $$\n",
    "\n"
   ]
  },
  {
   "cell_type": "markdown",
   "metadata": {
    "slideshow": {
     "slide_type": "fragment"
    }
   },
   "source": [
    " - For a constant base-emitter voltage ($V_{BE}$), collector current ($I_C$) is an *exponential* function of $V_{BE}$\n",
    " - Base current ($I_B$) is smaller than $I_C$ by an (approximately) constant factor $\\beta$, which is typically in the range of 10 to several hundred\n",
    " - If $I_C$ is held constant, $V_{BE}$ is a *logarithmic* function of $I_C$"
   ]
  },
  {
   "cell_type": "markdown",
   "metadata": {
    "slideshow": {
     "slide_type": "slide"
    }
   },
   "source": [
    "## *npn* I-V relationship"
   ]
  },
  {
   "cell_type": "markdown",
   "metadata": {
    "slideshow": {
     "slide_type": "fragment"
    }
   },
   "source": [
    " - Let's define a function that uses the exponential model to calculate $I_C$ for an arbitrary $V_{BE}$:"
   ]
  },
  {
   "cell_type": "code",
   "execution_count": 24,
   "metadata": {
    "slideshow": {
     "slide_type": "fragment"
    }
   },
   "outputs": [],
   "source": [
    "def npn_iv(V_be):\n",
    "    Is = 1e-15      # saturation current (device parameter)\n",
    "    k = 1.38e-23    # Boltzmann constant (physical constant)\n",
    "    T = 300         # absolute temperature\n",
    "    q = 1.6e-19     # charge of an electron\n",
    "    V_T = k*T/q     # thermal voltage\n",
    "    \n",
    "    I_c = Is*(np.exp(V_be/V_T) - 1) \n",
    "\n",
    "    return I_c"
   ]
  },
  {
   "cell_type": "markdown",
   "metadata": {
    "slideshow": {
     "slide_type": "subslide"
    }
   },
   "source": [
    " - Using linear axes:"
   ]
  },
  {
   "cell_type": "code",
   "execution_count": 25,
   "metadata": {
    "slideshow": {
     "slide_type": "fragment"
    }
   },
   "outputs": [
    {
     "data": {
      "image/png": "[encoded data removed]",
      "text/plain": [
       "<Figure size 576x432 with 1 Axes>"
      ]
     },
     "metadata": {
      "needs_background": "light"
     },
     "output_type": "display_data"
    }
   ],
   "source": [
    "V_be = np.linspace(0.5,0.8,num=700)\n",
    "I_c = npn_iv(V_be)\n",
    "plot_xy(V_be, 1e3*I_c, '$V_{BE}$ [V]', '$I_C$ [mA]') "
   ]
  },
  {
   "cell_type": "markdown",
   "metadata": {
    "slideshow": {
     "slide_type": "fragment"
    }
   },
   "source": [
    " - Due to the expoential dependence on $V_{BE}$, $I_C$ remains vanishingly small until $V_{BE} \\approx 0.6V$ \n",
    " - Beyond this, the I-V curve becomes very steep, as $V_{BE}$ remains relatively constant while $I_C$ continues to increase"
   ]
  },
  {
   "cell_type": "markdown",
   "metadata": {
    "slideshow": {
     "slide_type": "subslide"
    }
   },
   "source": [
    " - Using a logarithmic axis for current:"
   ]
  },
  {
   "cell_type": "code",
   "execution_count": 37,
   "metadata": {
    "scrolled": true,
    "slideshow": {
     "slide_type": "fragment"
    }
   },
   "outputs": [
    {
     "data": {
      "image/png": "[encoded data removed]",
      "text/plain": [
       "<Figure size 576x432 with 1 Axes>"
      ]
     },
     "metadata": {
      "needs_background": "light"
     },
     "output_type": "display_data"
    }
   ],
   "source": [
    "plot_xlogy(V_be, 1e3*I_c, '$V_{BE}$ [V]', '$I_C$ [mA]' )"
   ]
  },
  {
   "cell_type": "markdown",
   "metadata": {
    "slideshow": {
     "slide_type": "fragment"
    }
   },
   "source": [
    " - Every ~60mV increase in $V_{BE}$ results in a 10-fold increase in $I_C$"
   ]
  },
  {
   "cell_type": "markdown",
   "metadata": {
    "slideshow": {
     "slide_type": "slide"
    }
   },
   "source": [
    "## Our first amplifier (common-emitter)"
   ]
  },
  {
   "cell_type": "markdown",
   "metadata": {
    "cell_style": "split",
    "slideshow": {
     "slide_type": "fragment"
    }
   },
   "source": [
    "<center><img src=\"img/common_emitter.png\" width=300 /></center>"
   ]
  },
  {
   "cell_type": "markdown",
   "metadata": {
    "cell_style": "split",
    "slideshow": {
     "slide_type": "fragment"
    }
   },
   "source": [
    "\\begin{align} I_C &= I_Se^{V_{BE}/V_T} \\end{align}\n",
    "\n",
    "\\begin{align} I_B &= I_C/ \\beta \\end{align}\n",
    "\n",
    "\\begin{align}\n",
    "V_{out} &= V_{CC} - I_C R_C \\\\\n",
    "&= V_{CC} - I_Se^{V_{BE}/V_T} R_C\\\\\n",
    "\\end{align}"
   ]
  },
  {
   "cell_type": "markdown",
   "metadata": {
    "slideshow": {
     "slide_type": "fragment"
    }
   },
   "source": [
    " - $V_{in}$ increases $I_C$ to produce a voltage drop across $V_{CC}$\n",
    " - As $V_{in}$ increases, $V_{out}$ decreases, resulting in an *inverting* relationship\n",
    " - $V_{out}$ becomes *more negative* (not smaller) as $V_{in}$ increases\n",
    " - This is referred to as the *common-emitter* configuration, and it is the primary structure used to produce gain in analog circuits"
   ]
  },
  {
   "cell_type": "markdown",
   "metadata": {
    "slideshow": {
     "slide_type": "slide"
    }
   },
   "source": [
    "## Plotting voltage gain"
   ]
  },
  {
   "cell_type": "code",
   "execution_count": 27,
   "metadata": {
    "scrolled": false,
    "slideshow": {
     "slide_type": "fragment"
    }
   },
   "outputs": [
    {
     "data": {
      "image/png": "[encoded data removed]",
      "text/plain": [
       "<Figure size 576x432 with 1 Axes>"
      ]
     },
     "metadata": {
      "needs_background": "light"
     },
     "output_type": "display_data"
    }
   ],
   "source": [
    "V_CC = 5\n",
    "R_C = 100\n",
    "V_in = np.arange(0, .9, step=0.01)\n",
    "V_out = V_CC -  R_C*npn_iv(V_in)\n",
    "\n",
    "plot_xy(V_in, V_out, '$V_{in}$ [V]', '$V_{out} [V]$')"
   ]
  },
  {
   "cell_type": "markdown",
   "metadata": {
    "slideshow": {
     "slide_type": "fragment"
    }
   },
   "source": [
    " - Something is wrong. $V_{out}$ appears to become arbitrarily small, even negative, as $V_{in}$ increases. What are we missing?"
   ]
  },
  {
   "cell_type": "markdown",
   "metadata": {
    "slideshow": {
     "slide_type": "slide"
    }
   },
   "source": [
    "## Dependence on collector voltage"
   ]
  },
  {
   "cell_type": "markdown",
   "metadata": {
    "slideshow": {
     "slide_type": "fragment"
    }
   },
   "source": [
    " - Intuitively, we expect the minimum value of $V_{out}$ to be limited by the ground voltage (0V)\n",
    " - This requires some mechanism to limit $I_C$ from continuing to increase once $V_{out}$ moves close to ground\n",
    " - Recall that to remain in active mode, $V_{CB}$ should be greater than zero\n",
    " - Let's take a look at an example using SPICE"
   ]
  },
  {
   "cell_type": "markdown",
   "metadata": {
    "slideshow": {
     "slide_type": "slide"
    }
   },
   "source": [
    "## Voltage gain"
   ]
  },
  {
   "cell_type": "markdown",
   "metadata": {
    "slideshow": {
     "slide_type": "fragment"
    }
   },
   "source": [
    " - Let's import the SPICE simulation data using the data analysis package __pandas__:"
   ]
  },
  {
   "cell_type": "code",
   "execution_count": 63,
   "metadata": {
    "slideshow": {
     "slide_type": "fragment"
    }
   },
   "outputs": [
    {
     "data": {
      "image/png": "[encoded data removed]",
      "text/plain": [
       "<Figure size 576x432 with 1 Axes>"
      ]
     },
     "metadata": {
      "needs_background": "light"
     },
     "output_type": "display_data"
    }
   ],
   "source": [
    "import pandas as pd\n",
    "V_out = pd.read_csv('common_emitter.csv', sep='\\t')\n",
    "plot_xy(V_out['v2'], V_out['V(vout)'], 'Vin [V]', 'Vout [V]')"
   ]
  },
  {
   "cell_type": "markdown",
   "metadata": {
    "slideshow": {
     "slide_type": "fragment"
    }
   },
   "source": [
    " - As expected, $V_{out}$ decreases from $V_{CC}$ until it reaches 0, at which point it stops changing"
   ]
  },
  {
   "cell_type": "markdown",
   "metadata": {
    "slideshow": {
     "slide_type": "subslide"
    }
   },
   "source": [
    " - To calcuate the gain of the amplifier, we need to determine the *change* in $V_{out}$ versus the *change* in $V_{in}$, which is equivalent to taking the derivative:"
   ]
  },
  {
   "cell_type": "code",
   "execution_count": 79,
   "metadata": {
    "slideshow": {
     "slide_type": "fragment"
    }
   },
   "outputs": [
    {
     "data": {
      "image/png": "[encoded data removed]",
      "text/plain": [
       "<Figure size 576x432 with 2 Axes>"
      ]
     },
     "metadata": {
      "needs_background": "light"
     },
     "output_type": "display_data"
    }
   ],
   "source": [
    "dV_out = np.diff(V_out['V(vout)'])/np.diff(V_out['v2'])\n",
    "plot_xy2(V_out['v2'], V_out['V(vout)'], 'Vin [V]', 'Vout [V]',\n",
    "         V_out['v2'][0:-1], dV_out, r'$V_{in} [V]$', r'$\\frac{dV_{out}}{dV_{in}}$')"
   ]
  },
  {
   "cell_type": "markdown",
   "metadata": {
    "slideshow": {
     "slide_type": "fragment"
    }
   },
   "source": [
    " - Note that \"gain\" is a function of the input voltage, reaching a maximum value of about $-120V/V$ for $V_{in} \\approx 0.7V$\n",
    " - This dependence of gain on the input voltage is due to the nonlinear relationship between $V_{in}$ and $I_C$"
   ]
  },
  {
   "cell_type": "markdown",
   "metadata": {
    "slideshow": {
     "slide_type": "slide"
    }
   },
   "source": [
    "## Small-signal transconductance"
   ]
  },
  {
   "cell_type": "markdown",
   "metadata": {
    "slideshow": {
     "slide_type": "fragment"
    }
   },
   "source": [
    "<center><img src=\"img/npn_gm.png\" width=1000 /></center>"
   ]
  },
  {
   "cell_type": "markdown",
   "metadata": {
    "slideshow": {
     "slide_type": "fragment"
    }
   },
   "source": [
    " - The Ebers-Moll model describes the relationship between $I_C$ and $V_{BE}$ over a wide range of voltages/currents (large signal)\n",
    " - $g_m$ describes how the the collector current responds to *small changes* in $V_{BE}$ (small-signal)\n",
    " - Linear circuit design is based on this *small-signal approximation*"
   ]
  },
  {
   "cell_type": "markdown",
   "metadata": {
    "slideshow": {
     "slide_type": "slide"
    }
   },
   "source": [
    "## Plotting transconductance"
   ]
  },
  {
   "cell_type": "code",
   "execution_count": 34,
   "metadata": {
    "slideshow": {
     "slide_type": "fragment"
    }
   },
   "outputs": [],
   "source": [
    "def g_m(V_BE0):\n",
    "    Is = 1e-15      # saturation current (device parameter)\n",
    "    k = 1.38e-23    # Boltzmann constant (physical constant)\n",
    "    T = 300         # absolute temperature\n",
    "    q = 1.6e-19     # charge of an electron\n",
    "    V_T = k*T/q     # thermal voltage\n",
    "    I_C0 = npn_iv(V_BE0)\n",
    "    return I_C0/V_T \n",
    "\n",
    "def gm_line (V_be, V_BE0, I_C0):\n",
    "    return g_m(V_BE0)*(V_be - V_BE0) + I_C0\n",
    "\n",
    "def plot_gm(V_be, V_BE1, V_be_range):\n",
    "    fig, ax = plt.subplots(figsize=(8.0,6.0))\n",
    "    ax.plot(V_be, 1e3*npn_iv(V_be), \n",
    "            label=r'$I_Se^{V_{be}/V_T}-1$')\n",
    "    I_C1 = npn_iv(V_BE1)\n",
    "    ax.scatter(V_BE1, 1e3*I_C1, color='C1',s=10)\n",
    "    ax.plot(V_be_range, 1e3*gm_line(V_be_range, V_BE1, I_C1), \n",
    "            'C1--', linewidth=2, label=r'$g_mV_{be}$')\n",
    "    ax.set_xlabel(r'$V_{be} [V]$')\n",
    "    ax.set_ylabel(r'$I_{C} [mA]$')\n",
    "    ax.grid()\n",
    "    ax.legend()"
   ]
  },
  {
   "cell_type": "markdown",
   "metadata": {
    "slideshow": {
     "slide_type": "subslide"
    }
   },
   "source": [
    "### Linear versus exponential model"
   ]
  },
  {
   "cell_type": "code",
   "execution_count": 35,
   "metadata": {
    "scrolled": false,
    "slideshow": {
     "slide_type": "fragment"
    }
   },
   "outputs": [
    {
     "data": {
      "image/png": "[encoded data removed]",
      "text/plain": [
       "<Figure size 576x432 with 1 Axes>"
      ]
     },
     "metadata": {
      "needs_background": "light"
     },
     "output_type": "display_data"
    }
   ],
   "source": [
    "V_be = np.linspace(0.5,0.8,num=700)\n",
    "V_BE1 = 0.75\n",
    "V_be_range = np.linspace(V_BE1-0.05, V_BE1+0.05, 10)\n",
    "plot_gm(V_be, V_BE1, V_be_range)"
   ]
  },
  {
   "cell_type": "markdown",
   "metadata": {
    "slideshow": {
     "slide_type": "fragment"
    }
   },
   "source": [
    " - The *small-signal* transconductance $g_m$ is the slope of the exponential I-V curve at a given operating point (in this case, at $V_{BE} = 0.75V$) \n",
    " - Note that the linear model only exactly matches the exponential model at this point; for all other values of $V_{be}$ an error is incurred"
   ]
  },
  {
   "cell_type": "markdown",
   "metadata": {
    "slideshow": {
     "slide_type": "slide"
    }
   },
   "source": [
    "## A few words on notation"
   ]
  },
  {
   "cell_type": "markdown",
   "metadata": {
    "slideshow": {
     "slide_type": "fragment"
    }
   },
   "source": [
    " - Throughout this course, we will use the following conventions to distinguish betwee DC voltages/currents, small-signal voltages/currents, and those that contain both.\n",
    "     - DC voltages/currents will be indicated by a capital letter and capital subscript. Examples:\n",
    "     \n",
    "     $$V_E, I_C, V_{BIAS}$$\n",
    "     \n",
    "     - Small-signal voltages/currents will be indicated by a lowercase letter and lowercase subscript. Examples:\n",
    "     \n",
    "     $$v_e, i_c, v_{in}, v_{out}$$\n",
    "     \n",
    "     - Voltages/currents that contain both DC and small-signal components will be indicated by a capital letter and lowercase subscript. Examples:\n",
    "     \n",
    "     $$ V_{in}, I_c, V_{out} $$"
   ]
  },
  {
   "cell_type": "markdown",
   "metadata": {
    "slideshow": {
     "slide_type": "slide"
    }
   },
   "source": [
    "## Signals"
   ]
  },
  {
   "cell_type": "markdown",
   "metadata": {
    "slideshow": {
     "slide_type": "fragment"
    }
   },
   "source": [
    " - Analog signals are often described as sine waves (or sums of sine waves at several frequencies)\n",
    " - For example\n",
    "$$ f(t) = A \\cdot \\sin{2 \\pi f t}, $$\n",
    "\n",
    "    where $A$ is the amplitude and $f$ the frequency in Hz\n",
    " - Another common specification of sinusoidal (and other) signals is the root-mean-square (RMS) amplitude, defined as the square root of the mean squared \n",
    " \n",
    "$$ f_{RMS} = \\sqrt{\\frac{1}{T_{1} - T_{2}}\\int_{T_1}^{T_2}{[f(t)]^2dt}} $$"
   ]
  },
  {
   "cell_type": "markdown",
   "metadata": {
    "slideshow": {
     "slide_type": "slide"
    }
   },
   "source": [
    "## Fourier transform"
   ]
  },
  {
   "cell_type": "markdown",
   "metadata": {
    "slideshow": {
     "slide_type": "fragment"
    }
   },
   "source": [
    " - Signals can be represented in the frequency domain using the Fourier Transform\n",
    " \n",
    " $$ F(j\\omega) = \\int_{-\\infty}^{\\infty}f(t) \\cdot e^{-j\\omega t}dt$$\n",
    "   \n",
    "     where $\\omega$ is given in rads/sec and $j$ is the imaginary number ($j^2 = -1$)\n",
    " - Whereas the Laplace Transform allows us to transition between the time and frequency domains for *systems*, the Fourier Transform is our link between the two domains for *signals*"
   ]
  },
  {
   "cell_type": "markdown",
   "metadata": {
    "slideshow": {
     "slide_type": "subslide"
    }
   },
   "source": [
    "## Fourier transform of a sine wave"
   ]
  },
  {
   "cell_type": "markdown",
   "metadata": {
    "slideshow": {
     "slide_type": "fragment"
    }
   },
   "source": [
    " - Applying Euler's formula, we can express a sine wave as \n",
    " \n",
    " $$ A \\cdot \\cos{\\omega_1 t} = A \\frac{e^{j\\omega_1 t} + e^{-j\\omega_1 t}}{2} $$\n",
    " - The Fourier transform is thus \n",
    " \n",
    " $$F(j\\omega) = \\frac{A}{2}\\cdot [\\int_{-\\infty}^{\\infty}e^{j\\omega_1t}e^{-j\\omega_1t}dt+\\int_{-\\infty}^{\\infty}e^{-j\\omega_1t}e^{-j\\omega_1t}dt] $$\n",
    " - Applying the Fourier transform of a complex exponential results in \n",
    " \n",
    " $$F(j\\omega) = \\frac{A}{2}\\cdot [\\delta(\\omega+\\omega_1)+\\delta(\\omega-\\omega_1)]$$\n",
    " - Which is just two unit impulse functions at $2\\pi f_1$ and $-2\\pi f_2$ "
   ]
  },
  {
   "cell_type": "markdown",
   "metadata": {
    "slideshow": {
     "slide_type": "slide"
    }
   },
   "source": [
    "## Computing and plotting the FFT"
   ]
  },
  {
   "cell_type": "code",
   "execution_count": null,
   "metadata": {
    "slideshow": {
     "slide_type": "fragment"
    }
   },
   "outputs": [],
   "source": [
    "from scipy.fft import fft\n",
    "def fft_mag(x, N, T, t):\n",
    "    fft_sig  = fft(x, N)  \n",
    "    freqs = np.linspace(0.0, 1.0/(2.0*T), N//2)\n",
    "    mags = 2.0/N * np.abs(fft_sig[0:N//2]) # single-sided FFT\n",
    "    \n",
    "    return freqs, mags"
   ]
  },
  {
   "cell_type": "code",
   "execution_count": null,
   "metadata": {
    "slideshow": {
     "slide_type": "fragment"
    }
   },
   "outputs": [],
   "source": [
    "def plot_fft_dB(freqs, mags, fmin, fmax):\n",
    "    fig, ax = plt.subplots(figsize = (8.0,6.0))\n",
    "    ax.plot(1e-3*freqs, 20*np.log10(mags), 'b')\n",
    "    ax.set_xlim(fmin, fmax)\n",
    "    ax.set_xlabel('Frequency [kHz]')\n",
    "    ax.set_ylabel('Magnitude [dB]')\n",
    "    ax.grid()"
   ]
  },
  {
   "cell_type": "markdown",
   "metadata": {
    "slideshow": {
     "slide_type": "slide"
    }
   },
   "source": [
    "## FFT of a sinusoidal signal"
   ]
  },
  {
   "cell_type": "markdown",
   "metadata": {
    "slideshow": {
     "slide_type": "subslide"
    }
   },
   "source": [
    "### Sine wave in the time domain"
   ]
  },
  {
   "cell_type": "code",
   "execution_count": null,
   "metadata": {
    "slideshow": {
     "slide_type": "fragment"
    }
   },
   "outputs": [],
   "source": [
    "# frequency of sine wave, in Hz\n",
    "f = 1e3               \n",
    "\n",
    "# frequency in radians\n",
    "w = 2*np.pi*f\n",
    "\n",
    "# length of simulation in seconds\n",
    "t_sim = 10e-3           \n",
    "\n",
    "# number of sample points\n",
    "N = 300         \n",
    "\n",
    "# time array\n",
    "t_in = np.linspace(0, t_sim, N)\n",
    "\n",
    "# time-domain signal\n",
    "v_in = np.sin(w*t_in+ np.pi/3)     "
   ]
  },
  {
   "cell_type": "markdown",
   "metadata": {
    "slideshow": {
     "slide_type": "fragment"
    }
   },
   "source": [
    "Note that the effective sample rate of the sine wave is $f_s = \\frac{N}{t_{sim}} = 30kHz$"
   ]
  },
  {
   "cell_type": "markdown",
   "metadata": {
    "slideshow": {
     "slide_type": "subslide"
    }
   },
   "source": [
    "### Time-domain plot"
   ]
  },
  {
   "cell_type": "code",
   "execution_count": null,
   "metadata": {
    "slideshow": {
     "slide_type": "fragment"
    }
   },
   "outputs": [],
   "source": [
    "plot_xy(1e3*t_in, v_in, 'Time [ms]', 'Voltage [V]')"
   ]
  },
  {
   "cell_type": "markdown",
   "metadata": {
    "slideshow": {
     "slide_type": "subslide"
    }
   },
   "source": [
    "### FFT magnitude plot (sine wave)"
   ]
  },
  {
   "cell_type": "code",
   "execution_count": null,
   "metadata": {
    "slideshow": {
     "slide_type": "fragment"
    }
   },
   "outputs": [],
   "source": [
    "NFFT = 2**10\n",
    "fft_freq, fft_mag_in = fft_mag(v_in, NFFT, t_sim/NFFT, t_sim)\n",
    "freq_abs = fft_freq*N/NFFT\n",
    "plot_fft_dB(freq_abs, fft_mag_in*NFFT/N, 0, 15)  "
   ]
  },
  {
   "cell_type": "markdown",
   "metadata": {
    "slideshow": {
     "slide_type": "fragment"
    }
   },
   "source": [
    "The Fourier Transform only contains information up to the Nyquist frequency, $f_n = f_s/2$"
   ]
  },
  {
   "cell_type": "markdown",
   "metadata": {
    "slideshow": {
     "slide_type": "subslide"
    }
   },
   "source": [
    "## Rectangular window"
   ]
  },
  {
   "cell_type": "code",
   "execution_count": null,
   "metadata": {
    "slideshow": {
     "slide_type": "fragment"
    }
   },
   "outputs": [],
   "source": [
    "from scipy.signal import boxcar\n",
    "rect_win = boxcar(N)\n",
    "fft_freq, fft_rect_win= fft_mag(rect_win, NFFT, t_sim/NFFT, t_sim)            \n",
    "plot_fft_dB(fft_freq, fft_rect_win, 0, 50)  "
   ]
  },
  {
   "cell_type": "markdown",
   "metadata": {
    "slideshow": {
     "slide_type": "subslide"
    }
   },
   "source": [
    "### Window example (Hann)"
   ]
  },
  {
   "cell_type": "code",
   "execution_count": null,
   "metadata": {
    "slideshow": {
     "slide_type": "fragment"
    }
   },
   "outputs": [],
   "source": [
    "from scipy.signal import hann\n",
    "from scipy.signal import blackman\n",
    "from scipy.signal import hamming\n",
    "win_hann = hann(N)\n",
    "v_in_windowed = v_in*win_hann\n",
    "plot_xy(1e3*t_in, v_in_windowed, 'Time [ms]', 'Voltage [V]')"
   ]
  },
  {
   "cell_type": "markdown",
   "metadata": {
    "slideshow": {
     "slide_type": "subslide"
    }
   },
   "source": [
    "### Windowed FFT (sine wave)"
   ]
  },
  {
   "cell_type": "code",
   "execution_count": null,
   "metadata": {
    "slideshow": {
     "slide_type": "fragment"
    }
   },
   "outputs": [],
   "source": [
    "fft_freq, fft_mag_windowed = fft_mag(v_in_windowed, NFFT, t_sim/NFFT, t_sim)            \n",
    "plot_fft_dB(fft_freq, fft_mag_windowed*NFFT/N, 0, 50)  "
   ]
  },
  {
   "cell_type": "code",
   "execution_count": null,
   "metadata": {},
   "outputs": [],
   "source": []
  }
 ],
 "metadata": {
  "celltoolbar": "Slideshow",
  "kernelspec": {
   "display_name": "Python 3",
   "language": "python",
   "name": "python3"
  },
  "language_info": {
   "codemirror_mode": {
    "name": "ipython",
    "version": 3
   },
   "file_extension": ".py",
   "mimetype": "text/x-python",
   "name": "python",
   "nbconvert_exporter": "python",
   "pygments_lexer": "ipython3",
   "version": "3.8.2"
  },
  "livereveal": {
   "controls": false,
   "scroll": true,
   "theme": "simple"
  },
  "rise": {
   "enable_chalkboard": true,
   "slideNumber": true
  }
 },
 "nbformat": 4,
 "nbformat_minor": 4
}
