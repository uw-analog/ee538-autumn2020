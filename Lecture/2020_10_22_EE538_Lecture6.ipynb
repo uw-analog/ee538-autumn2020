{
 "cells": [
  {
   "cell_type": "markdown",
   "metadata": {
    "cell_style": "center",
    "slideshow": {
     "slide_type": "slide"
    }
   },
   "source": [
    "# EE 538: Analog Circuits for Sensor Systems\n",
    "## Autumn 2020\n",
    "## Instructor: Jason Silver"
   ]
  },
  {
   "cell_type": "markdown",
   "metadata": {
    "slideshow": {
     "slide_type": "slide"
    }
   },
   "source": [
    "## Announcements"
   ]
  },
  {
   "cell_type": "markdown",
   "metadata": {
    "slideshow": {
     "slide_type": "-"
    }
   },
   "source": [
    " - Solution to Assignment 4 posted on JupyterHub and Canvas\n",
    " - Assignment 5 due Sunday, November 8 at midnight\n",
    "    - Jupyter Notebook (.ipyb) submission on Canvas\n",
    "    - For LTspice problems, include image (e.g. screen capture) of schematic(s)"
   ]
  },
  {
   "cell_type": "markdown",
   "metadata": {
    "slideshow": {
     "slide_type": "slide"
    }
   },
   "source": [
    "## Week 6"
   ]
  },
  {
   "cell_type": "markdown",
   "metadata": {
    "slideshow": {
     "slide_type": "-"
    }
   },
   "source": [
    " - Art of Electronics (AoE) Chapter 8"
   ]
  },
  {
   "cell_type": "markdown",
   "metadata": {
    "slideshow": {
     "slide_type": "slide"
    }
   },
   "source": [
    "## Overview"
   ]
  },
  {
   "cell_type": "markdown",
   "metadata": {
    "slideshow": {
     "slide_type": "-"
    }
   },
   "source": [
    "- Last time...\n",
    "    - Sources of error\n",
    "    - Differential signaling\n",
    "    - Difference amplifier\n",
    "    - Instrumentation amplifier\n",
    "- Today...\n",
    "    - Types of noise\n",
    "    - Noise in resistors\n",
    "    - Noise bandwidth\n",
    "    - Transistor noise\n",
    "    - Analyzing noise in circuits  "
   ]
  },
  {
   "cell_type": "markdown",
   "metadata": {
    "slideshow": {
     "slide_type": "skip"
    }
   },
   "source": [
    "## Python packages/modules"
   ]
  },
  {
   "cell_type": "code",
   "execution_count": 2,
   "metadata": {
    "slideshow": {
     "slide_type": "skip"
    }
   },
   "outputs": [],
   "source": [
    "import matplotlib\n",
    "from matplotlib import pyplot as plt\n",
    "import numpy as np\n",
    "from scipy import signal\n",
    "#%matplotlib notebook\n",
    "\n",
    "def plot_xy(x, y, xlabel, ylabel):\n",
    "    fig, ax = plt.subplots(figsize=(10.0, 7.5));\n",
    "    ax.plot(x, y, 'b')\n",
    "    ax.grid()\n",
    "    ax.set_xlabel(xlabel)\n",
    "    ax.set_ylabel(ylabel)\n",
    "    \n",
    "def plot_xy2(x1, y1, x1label, y1label, x2, y2, x2label, y2label):\n",
    "    fig, ax = plt.subplots(2, figsize = (10.0, 7.5));\n",
    "    ax[0].plot(x1, y1, 'b')\n",
    "    ax[0].set_ylabel(y1label)\n",
    "    ax[0].grid()\n",
    "    \n",
    "    ax[1].plot(x2, y2, 'b')\n",
    "    ax[1].set_xlabel(x1label)\n",
    "    ax[1].set_xlabel(x2label)\n",
    "    ax[1].set_ylabel(y2label)\n",
    "    ax[1].grid()\n",
    "    \n",
    "    fig.align_ylabels(ax[:])\n",
    "\n",
    "def plot_xy3(x, y1, y2, y3, xlabel, y1label, y2label, y3label):\n",
    "    fig, ax = plt.subplots(3, figsize=(10.0,7.5))\n",
    "    \n",
    "    ax[0].plot(x, y1)\n",
    "    ax[0].set_ylabel(y1label)\n",
    "    ax[0].grid()\n",
    "    \n",
    "    ax[1].plot(x, y2)\n",
    "    ax[1].set_ylabel(y2label)\n",
    "    ax[1].grid()\n",
    "    \n",
    "    ax[2].plot(x, y3)  \n",
    "    ax[2].set_ylabel(y3label)\n",
    "    ax[2].set_xlabel(xlabel)\n",
    "    ax[2].grid()\n",
    "    \n",
    "def plot_logxy3(x, y1, y2, y3, xlabel, y1label, y2label, y3label):\n",
    "    fig, ax = plt.subplots(3, figsize=(10.0,7.5))\n",
    "    \n",
    "    ax[0].semilogx(x, y1)\n",
    "    ax[0].set_ylabel(y1label)\n",
    "    ax[0].grid()\n",
    "    \n",
    "    ax[1].semilogx(x, y2)\n",
    "    ax[1].set_ylabel(y2label)\n",
    "    ax[1].grid()\n",
    "    \n",
    "    ax[2].semilogx(x, y3)  \n",
    "    ax[2].set_ylabel(y3label)\n",
    "    ax[2].set_xlabel(xlabel)\n",
    "    ax[2].grid()\n",
    "\n",
    "def plot_logxy(x, y, xlabel, ylabel):\n",
    "    fig, ax = plt.subplots(figsize=(10.0, 7.5))\n",
    "    ax.semilogx(x, y, 'b')\n",
    "    ax.grid();\n",
    "    ax.set_xlabel(xlabel)\n",
    "    ax.set_ylabel(ylabel)\n",
    "    \n",
    "def plot_xlogy(x, y, xlabel, ylabel):\n",
    "    fig, ax = plt.subplots(figsize=(10.0, 7.5));\n",
    "    ax.semilogy(x, y, 'b');\n",
    "    ax.grid();\n",
    "    ax.set_xlabel(xlabel);\n",
    "    ax.set_ylabel(ylabel);\n",
    "    \n",
    "def read_ltspice_ac(file_name):\n",
    "    with open(file_name, 'r') as data:\n",
    "        x = []\n",
    "        y = []\n",
    "        z = []\n",
    "        next(data) # skip header line\n",
    "        for line in data:\n",
    "            p = line.split()\n",
    "            x.append(float(p[0]))\n",
    "            complex = p[1].split(\",\")\n",
    "            y.append(float(complex[0]))\n",
    "            z.append(float(complex[1]))\n",
    "\n",
    "    return x, y, z\n",
    "\n",
    "def plot_logxy2(x1, y1, x2, y2, x1label, y1label, x2label, y2label):\n",
    "    fig, ax = plt.subplots(2, figsize = (10.0, 7.5));\n",
    "    ax[0].semilogx(x1, y1, 'b');\n",
    "    ax[0].set_ylabel(y1label)\n",
    "    ax[0].grid()\n",
    "    \n",
    "    ax[1].semilogx(x2, y2, 'b');\n",
    "    ax[1].set_xlabel(x1label)\n",
    "    ax[1].set_xlabel(x2label);\n",
    "    ax[1].set_ylabel(y2label);\n",
    "    ax[1].grid();\n",
    "    \n",
    "    fig.align_ylabels(ax[:])\n",
    "    \n",
    "def plot_noise_bandwidth(f, mag):\n",
    "    fig, ax = plt.subplots(2, figsize=(10.0,7.5))\n",
    "    ax[0].semilogx(f, RC_mag)\n",
    "    ax[0].set_xscale(\"log\")\n",
    "    ax[0].set_xlim(f[0], f[-1])\n",
    "    ax[0].set_xticks(np.logspace(0.1,4,5))\n",
    "    ax[0].set_xticklabels([])\n",
    "    ax[0].set_ylabel('Magnitude [V/V]')\n",
    "    ax[0].set_title('Equivalent Noise Bandwidth')\n",
    "    ax[0].grid()\n",
    "\n",
    "    ax[1].hlines(1, 0, f_enb, color='tab:blue')\n",
    "    ax[1].hlines(0, f_enb, f[-1], color='tab:blue')\n",
    "    ax[1].vlines(f_enb, 0, 1, color='tab:blue')\n",
    "    ax[1].set_xlim(f[0], f[-1])\n",
    "    ax[1].set_xscale(\"log\")\n",
    "    ax[1].set_xticks(np.logspace(0.1,4,5))\n",
    "    ax[1].set_xticklabels([r'$10^0$',r'$10^1$', r'$10^2$', r'$10^3$', r'$10^4$'])\n",
    "    ax[1].set_ylabel('Magnitude [V/V]')\n",
    "    ax[1].set_xlabel('Frequency [Hz]')\n",
    "    ax[1].grid()"
   ]
  },
  {
   "cell_type": "code",
   "execution_count": 3,
   "metadata": {
    "slideshow": {
     "slide_type": "skip"
    }
   },
   "outputs": [],
   "source": [
    "def fftnoise(f):\n",
    "    f = np.array(f, dtype='complex')\n",
    "    Np = (len(f) - 1) // 2\n",
    "    phases = np.random.rand(Np) * 2 * np.pi\n",
    "    phases = np.cos(phases) + 1j * np.sin(phases)\n",
    "    f[1:Np+1] *= phases\n",
    "    f[-1:-1-Np:-1] = np.conj(f[1:Np+1])\n",
    "    return np.fft.ifft(f).real\n",
    "\n",
    "def band_limited_noise(min_freq, max_freq, samples=1024, samplerate=1):\n",
    "    freqs = np.abs(np.fft.fftfreq(samples, 1/samplerate))\n",
    "    f = np.zeros(samples)\n",
    "    idx = np.where(np.logical_and(freqs>=min_freq, freqs<=max_freq))[0]\n",
    "    f[idx] = 1\n",
    "    return fftnoise(f)"
   ]
  },
  {
   "cell_type": "markdown",
   "metadata": {
    "slideshow": {
     "slide_type": "slide"
    }
   },
   "source": [
    "# Lecture 6 - Noise"
   ]
  },
  {
   "cell_type": "markdown",
   "metadata": {
    "slideshow": {
     "slide_type": "slide"
    }
   },
   "source": [
    "## Noise"
   ]
  },
  {
   "cell_type": "markdown",
   "metadata": {},
   "source": [
    " - For most applications, the ultimate limit of the detectability of weak signals is determined by noise\n",
    " - Noise is defined as any unwanted “signals” that obscured the desired signal\n",
    " - Some forms of noise are unavoidable (e.g. thermal noise) and can only be overcome by averaging or bandwidth limiting\n",
    " - Other forms can be reduced or eliminated by circuit/system architecture (e.g. ground loops and other common-mode interference)\n",
    " - A significant amount of design effort in signal conditioning is devoted to reducing/managing noise\n",
    "\n"
   ]
  },
  {
   "cell_type": "markdown",
   "metadata": {
    "slideshow": {
     "slide_type": "slide"
    }
   },
   "source": [
    "## Physical Noise"
   ]
  },
  {
   "cell_type": "markdown",
   "metadata": {
    "slideshow": {
     "slide_type": "-"
    }
   },
   "source": [
    "- Although noise can take on many definitions, the term typically refers to “random” noise that has some physical origin\n",
    "- Some examples are\n",
    "    - __Johnson noise__: Random voltage noise caused by thermal fluctuations in a resistor\n",
    "    - __Shot noise__: Random statistical fluctuations in current caused by the discrete nature of charge\n",
    "    - __Flicker noise ($1/f$)__: Random noise, caused by a variety of factors, characterized by an increase in power at low frequencies\n",
    "    - __Burst noise__: Low-frequency noise typically seen as random jumps between two signal levels"
   ]
  },
  {
   "cell_type": "markdown",
   "metadata": {
    "slideshow": {
     "slide_type": "slide"
    }
   },
   "source": [
    "## Johnson-Nyquist (thermal) noise"
   ]
  },
  {
   "cell_type": "markdown",
   "metadata": {
    "cell_style": "split"
   },
   "source": [
    " - A resistor unconnected to anything generates a noise voltage across its terminals due to the thermal energy of electrons\n",
    " - Thermal noise has the same power in every $1Hz$ bandwidth of frequency ($\\Delta f = 1Hz$)\n",
    " - Another way of stating this is that the rms thermal noise-voltage density, $e_n$ (rms voltage per square root bandwidth), is constant with frequency\n",
    " - We often refer to the mean square noise density $e_n^2$, which is the just the square of the noise-voltage density\n",
    " - $k = 1.38E^{-23} J/K$: Boltzmann's constant\n",
    " - $T$: Absolute temperature in Kelvin\n",
    "\n"
   ]
  },
  {
   "cell_type": "markdown",
   "metadata": {
    "cell_style": "split"
   },
   "source": [
    "<center><img src=\"img/resistor_noise.png\" width=250 /></center>\n",
    "\n",
    "\n",
    "$$ e_n = \\sqrt{4kTR} \\; V/\\sqrt{Hz} $$\n",
    "\n",
    "$$ e_n^2 = 4kTR \\; V^2/Hz $$\n"
   ]
  },
  {
   "cell_type": "markdown",
   "metadata": {
    "slideshow": {
     "slide_type": "slide"
    }
   },
   "source": [
    "## RMS noise"
   ]
  },
  {
   "cell_type": "markdown",
   "metadata": {},
   "source": [
    "<center><img src=\"img/rms_noise.png\" width=700 /></center>"
   ]
  },
  {
   "cell_type": "markdown",
   "metadata": {
    "slideshow": {
     "slide_type": "-"
    }
   },
   "source": [
    " - The rms noise is the voltage we would measure if we connected the resistor to an ideal (noiseless) amplifier and bandpass filter and looked at the output on a spectrum analyzer\n",
    " - For a resistor with resistance $R$ and a bandwidth of $\\Delta f$, this is given by\n",
    " \n",
    " $$ v_{n(rms)} = e_n \\Delta f = \\sqrt{4kTR \\Delta f} $$\n",
    " \n",
    " - This definition of $rms$ noise tells us that noise *increases with bandwidth*\n",
    " - Note that this does not say anything about the voltage we measure at any given time instant, only its average (rms) value"
   ]
  },
  {
   "cell_type": "markdown",
   "metadata": {
    "slideshow": {
     "slide_type": "slide"
    }
   },
   "source": [
    "## Thermal noise density"
   ]
  },
  {
   "cell_type": "markdown",
   "metadata": {},
   "source": [
    " - As an example, a $10k\\Omega$ resistor at room temperature ($25C$) has an open-circuit noise density $e_n = 13nV/\\sqrt{Hz} $"
   ]
  },
  {
   "cell_type": "code",
   "execution_count": 4,
   "metadata": {
    "slideshow": {
     "slide_type": "-"
    }
   },
   "outputs": [
    {
     "ename": "NameError",
     "evalue": "name 'f' is not defined",
     "output_type": "error",
     "traceback": [
      "\u001b[1;31m---------------------------------------------------------------------------\u001b[0m",
      "\u001b[1;31mNameError\u001b[0m                                 Traceback (most recent call last)",
      "\u001b[1;32m<ipython-input-4-f1d4e5e945d5>\u001b[0m in \u001b[0;36m<module>\u001b[1;34m\u001b[0m\n\u001b[0;32m      2\u001b[0m \u001b[0mT\u001b[0m \u001b[1;33m=\u001b[0m \u001b[1;36m300\u001b[0m\u001b[1;33m\u001b[0m\u001b[1;33m\u001b[0m\u001b[0m\n\u001b[0;32m      3\u001b[0m \u001b[0mR\u001b[0m \u001b[1;33m=\u001b[0m \u001b[1;36m10e3\u001b[0m\u001b[1;33m\u001b[0m\u001b[1;33m\u001b[0m\u001b[0m\n\u001b[1;32m----> 4\u001b[1;33m \u001b[0men_10k\u001b[0m \u001b[1;33m=\u001b[0m \u001b[0mnp\u001b[0m\u001b[1;33m.\u001b[0m\u001b[0msqrt\u001b[0m\u001b[1;33m(\u001b[0m\u001b[1;36m4\u001b[0m\u001b[1;33m*\u001b[0m\u001b[0mk\u001b[0m\u001b[1;33m*\u001b[0m\u001b[0mT\u001b[0m\u001b[1;33m*\u001b[0m\u001b[0mR\u001b[0m\u001b[1;33m)\u001b[0m\u001b[1;33m*\u001b[0m\u001b[0mnp\u001b[0m\u001b[1;33m.\u001b[0m\u001b[0mones\u001b[0m\u001b[1;33m(\u001b[0m\u001b[0mnp\u001b[0m\u001b[1;33m.\u001b[0m\u001b[0mshape\u001b[0m\u001b[1;33m(\u001b[0m\u001b[0mf\u001b[0m\u001b[1;33m)\u001b[0m\u001b[1;33m)\u001b[0m \u001b[1;31m# noise is constant with frequency\u001b[0m\u001b[1;33m\u001b[0m\u001b[1;33m\u001b[0m\u001b[0m\n\u001b[0m\u001b[0;32m      5\u001b[0m \u001b[0men_10k_2\u001b[0m \u001b[1;33m=\u001b[0m \u001b[0men_10k\u001b[0m\u001b[1;33m**\u001b[0m\u001b[1;36m2\u001b[0m \u001b[1;31m# mean-square noise\u001b[0m\u001b[1;33m\u001b[0m\u001b[1;33m\u001b[0m\u001b[0m\n",
      "\u001b[1;31mNameError\u001b[0m: name 'f' is not defined"
     ]
    }
   ],
   "source": [
    "k = 1.38e-23\n",
    "T = 300\n",
    "R = 10e3\n",
    "en_10k = np.sqrt(4*k*T*R)*np.ones(np.shape(f)) # noise is constant with frequency\n",
    "en_10k_2 = en_10k**2 # mean-square noise"
   ]
  },
  {
   "cell_type": "markdown",
   "metadata": {},
   "source": [
    " - To determine the noise over a given bandwidth $\\Delta f$, we integrate the mean-square noise $e_n^2$ over that bandwidth and take the square root"
   ]
  },
  {
   "cell_type": "code",
   "execution_count": null,
   "metadata": {},
   "outputs": [],
   "source": [
    "f = np.logspace(0,7,num=700)\n",
    "vn_rms = []\n",
    "for fbw in f:\n",
    "    vn_rms.append(np.sqrt(4*k*T*R*fbw))\n",
    "vn_rms = np.asarray(vn_rms)"
   ]
  },
  {
   "cell_type": "code",
   "execution_count": null,
   "metadata": {
    "slideshow": {
     "slide_type": "subslide"
    }
   },
   "outputs": [],
   "source": [
    "plot_logxy3(f, 1e9*en_10k, 1e9**2*en_10k_2, 1e6*vn_rms,\n",
    "        'Frequency, Bandwidth [Hz]', r'${e_n}$ [${nV}/\\sqrt{Hz}$]', \n",
    "        r'${e_n}^2$ [${nV}^2/Hz$]', r'$v_{n(rms)}$ [$\\mu V$]' )"
   ]
  },
  {
   "cell_type": "markdown",
   "metadata": {},
   "source": [
    " - Over a 10kHz bandwidth, the $10k$ resistor generates an $rms$ voltage noise of $1.3\\mu V$ \n",
    " - For a 100kHz bandwidth, the rms voltage noise is about $40 \\mu V$"
   ]
  },
  {
   "cell_type": "markdown",
   "metadata": {
    "slideshow": {
     "slide_type": "slide"
    }
   },
   "source": [
    "## Short-circuit noise current"
   ]
  },
  {
   "cell_type": "markdown",
   "metadata": {
    "cell_style": "split"
   },
   "source": [
    " - Because it is still a linear circuit, a resistor's voltage noise can be converted to a noise current by shorting the two terminals (Norton equivalent)\n",
    " - The bidrectional current source just means that the noise current can flow in either direction (random)\n",
    " - Thermal *current* noise density decreases with resistane magnitude, and is specified in units of $A/\\sqrt{Hz}$\n",
    " "
   ]
  },
  {
   "cell_type": "markdown",
   "metadata": {
    "cell_style": "split"
   },
   "source": [
    "<center><img src=\"img/resistor_current_noise.png\" height=400 /></center>\n",
    "\n",
    "\n",
    "$$ i_n = \\sqrt{4kT/R} \\; A/\\sqrt{Hz} $$\n",
    "\n",
    "$$ e_n = i_n \\cdot R = \\sqrt{4kTR} \\; V/\\sqrt{Hz} $$\n",
    "\n",
    "$$ i_n^2 = 4kT/R \\; A^2/Hz $$\n"
   ]
  },
  {
   "cell_type": "markdown",
   "metadata": {
    "slideshow": {
     "slide_type": "slide"
    }
   },
   "source": [
    "## Combining noise sources"
   ]
  },
  {
   "cell_type": "markdown",
   "metadata": {
    "cell_style": "split"
   },
   "source": [
    "- Because we deal with rms values of noise voltages and currents, our treatment of them in circuits is slightly different from that of other sources\n",
    "- RMS sources that are uncorrelated (i.e. independent of each other) cannot be added together directly, but must be added as *mean-square* quantities\n",
    "- To combine two uncorrelated noise sources we compute the square-root of the sum of their mean-square values"
   ]
  },
  {
   "cell_type": "markdown",
   "metadata": {
    "cell_style": "split"
   },
   "source": [
    "<center><img src=\"img/multiple_noise_currents.png\" height=400 /></center>\n",
    "\n",
    "\n",
    "$$ i_{n1} = \\sqrt{4kT/R_1} \\; A/\\sqrt{Hz} $$\n",
    "\n",
    "$$ i_{n2} = \\sqrt{4kT/R_2} \\; A/\\sqrt{Hz} $$\n",
    "\n",
    "$$ i_{n,tot}^2 =  i_{n1}^2 + i_{n2}^2 \\; A^2/Hz$$\n",
    "\n",
    "$$ i_{n,tot} =  \\sqrt{i_{n,tot}^2} \\; A/\\sqrt{Hz} $$"
   ]
  },
  {
   "cell_type": "markdown",
   "metadata": {
    "slideshow": {
     "slide_type": "slide"
    }
   },
   "source": [
    "## Voltage divider noise"
   ]
  },
  {
   "cell_type": "markdown",
   "metadata": {
    "cell_style": "center"
   },
   "source": [
    "<center><img src=\"img/voltage_divider_noise.png\" width=900 /></center>"
   ]
  },
  {
   "cell_type": "markdown",
   "metadata": {},
   "source": [
    " - We can assess the effect of each noise source separately, and combine them using superposition\n",
    " - The contribution of $e_{n1}$ to the output noise is given by\n",
    " \n",
    "$$ e_{n1,out} = \\dfrac{R_2}{R_1+R_2}\\cdot e_{n1} $$\n",
    " \n",
    " - Similarly, for $e_{n2}$\n",
    " \n",
    "$$ e_{n2,out} = \\dfrac{R_1}{R_1+R_2}\\cdot e_{n2} $$\n",
    "  \n",
    " - The total noise is the $rms$ sum of the two\n",
    "\n",
    "$$ e_{n,out} = \\sqrt{e_{n1,out}^2 + e_{n2,out}^2} = \\sqrt{4kTR \\dfrac{R_1R_2}{R_1+R_2}} \\; \\dfrac{V}{\\sqrt{Hz}}$$"
   ]
  },
  {
   "cell_type": "markdown",
   "metadata": {
    "slideshow": {
     "slide_type": "slide"
    }
   },
   "source": [
    "## Noise-equivalent circuit"
   ]
  },
  {
   "cell_type": "markdown",
   "metadata": {},
   "source": [
    "<center><img src=\"img/divider_noise_equivalent_circuit.png\" width=800 /></center>"
   ]
  },
  {
   "cell_type": "markdown",
   "metadata": {},
   "source": [
    "- A simpler approach to determining the output noise is to use the Thevenin equivalent circuit\n",
    "- From the perspective of the divider output, $R_1$ and $R_2$ appear in parallel\n",
    "- $e_{n,out}$ is just the voltage noise of an equivalent resistance formed by the parallel combination of $R_1$ and $R_2$\n",
    "\n",
    "$$ e_{n,out} = \\sqrt{4kTR_1||R_2} = \\sqrt{4kTR \\dfrac{R_1R_2}{R_1+R_2}} \\; \\dfrac{V}{\\sqrt{Hz}} $$"
   ]
  },
  {
   "cell_type": "markdown",
   "metadata": {
    "slideshow": {
     "slide_type": "slide"
    }
   },
   "source": [
    "## Bandwidth-limited noise"
   ]
  },
  {
   "cell_type": "markdown",
   "metadata": {
    "cell_style": "split",
    "slideshow": {
     "slide_type": "-"
    }
   },
   "source": [
    "<center><img src=\"img/RC_noise.png\" width=500 /></center>"
   ]
  },
  {
   "cell_type": "markdown",
   "metadata": {
    "cell_style": "split"
   },
   "source": [
    "$$ e_n^2 = 4kTR \\; V^2/Hz $$\n",
    "\n",
    "\n",
    "$$ \\left| \\dfrac{e_{n,out}^2}{e_n^2} \\right | = \\dfrac{1}{1+(2\\pi f RC)^2}$$"
   ]
  },
  {
   "cell_type": "markdown",
   "metadata": {},
   "source": [
    " - The bandwidth of any circuit is limited by capacitance, which also limits the $rms$ noise\n",
    " - For example, the voltage noise above the $3dB$ bandwidth of an RC lowpass filter becomes increasingly small with frequency\n",
    " - The total $rms$ noise is the *square root of the integral* of the mean-square noise density over frequency\n",
    " \n",
    " $$ v_{n,out(rms)} = \\sqrt{\\int_{0}^{\\infty}\\dfrac{4kTR}{1+(2\\pi RC)^2}df} = \\sqrt{\\dfrac{kT}{C}} $$"
   ]
  },
  {
   "cell_type": "markdown",
   "metadata": {
    "slideshow": {
     "slide_type": "slide"
    }
   },
   "source": [
    "## Thermal noise amplitude"
   ]
  },
  {
   "cell_type": "markdown",
   "metadata": {},
   "source": []
  },
  {
   "cell_type": "markdown",
   "metadata": {
    "slideshow": {
     "slide_type": "slide"
    }
   },
   "source": [
    "## Noise in the time domain"
   ]
  },
  {
   "cell_type": "code",
   "execution_count": null,
   "metadata": {
    "scrolled": false
   },
   "outputs": [],
   "source": [
    "R = 10e3\n",
    "C = 1e-6\n",
    "fc = 1/R/C/2/np.pi\n",
    "t = np.linspace(0,1e-3,num=10000)\n",
    "vn_rms = np.sqrt(k*T/C)\n",
    "noise_filt = band_limited_noise(0, fc, samples=np.size(t), samplerate=1)\n",
    "vn_t = noise_filt*vn_rms/np.std(noise_filt)\n",
    "plot_xy(1e3*t, 1e9*vn_t, 'Time[ms]', 'Voltage [nV]')"
   ]
  },
  {
   "cell_type": "markdown",
   "metadata": {
    "slideshow": {
     "slide_type": "slide"
    }
   },
   "source": [
    "## kT/C noise"
   ]
  },
  {
   "cell_type": "markdown",
   "metadata": {
    "cell_style": "split"
   },
   "source": [
    "- An interesting result of the preceding analysis is that the $rms$ noise of an RC lowpass filter depends only on the capacitor value\n",
    "- If we increase the resistance value, the noise density goes up, but the bandwidth goes down proportionately, keeping the total noise constant\n",
    "- Because thermal noise density is constant with frequency, it is convenient to define an effective “noise bandwidth,” the bandwidth of an ideal lowpass filter that would result in the same total noise...\n"
   ]
  },
  {
   "cell_type": "markdown",
   "metadata": {
    "cell_style": "split"
   },
   "source": [
    "<center><img src=\"img/RC_noise.png\" width=500 /></center>\n",
    "\n",
    "\n",
    "$$ e_n = \\sqrt{4kTR} \\; V/\\sqrt{Hz} $$\n",
    "\n",
    "$$f_{3dB} = \\dfrac{1}{2\\pi RC} $$\n",
    "\n",
    "$$ v_{n,out(rms)} = \\sqrt{\\dfrac{kT}{C}} $$"
   ]
  },
  {
   "cell_type": "markdown",
   "metadata": {
    "slideshow": {
     "slide_type": "slide"
    }
   },
   "source": [
    "## Equivalent noise bandwidth"
   ]
  },
  {
   "cell_type": "markdown",
   "metadata": {},
   "source": [
    " - The equivalent noise bandwidth ($f_{enb}$) of a circuit is the bandwidth of an ideal \"brick-wall\" filter that would result in the same $rms$ noise as the real filter\n",
    " - Because white noise has a flat (constant-value) spectrum, multiplication of $e_n$ by the noise bandwidth will conveniently yield the same $rms$ noise value as that obtained via integration of the filter magitude response\n",
    " \n",
    "$$ v_{n,out(rms)} = \\sqrt{e_n^2\\cdot f_{enb}} $$\n",
    "\n",
    " - For the first-order RC filter this is\n",
    " \n",
    "$$ v_{n,out(rms)} = \\sqrt{\\dfrac{kT}{C}} =  \\sqrt{4kTR \\cdot f_{enb}} $$\n",
    "\n",
    "$$ \\rightarrow \\boxed{f_{enb} = \\sqrt{\\int_{0}^{\\infty}\\dfrac{1}{1+(2\\pi RC)^2}df} = \\dfrac{1}{4RC} = \\dfrac{\\pi}{2}f_{3dB}} $$\n",
    "\n",
    " - Note that the concept of noise bandwidth *only applies to situations where white noise is the dominant type of noise*\n"
   ]
  },
  {
   "cell_type": "code",
   "execution_count": null,
   "metadata": {
    "slideshow": {
     "slide_type": "subslide"
    }
   },
   "outputs": [],
   "source": [
    "f = np.arange(.5, 1e5+.5 , step=1)\n",
    "w = 2*np.pi*f\n",
    "R = 10e3\n",
    "C = 1e-6\n",
    "tau = R*C\n",
    "RC_mag = 1/np.sqrt(1+(w*tau)**2)\n",
    "f_enb = np.sum(RC_mag**2)\n",
    "\n",
    "plot_noise_bandwidth(f, RC_mag)"
   ]
  },
  {
   "cell_type": "markdown",
   "metadata": {
    "slideshow": {
     "slide_type": "slide"
    }
   },
   "source": [
    "## Flicker (1/f) noise"
   ]
  },
  {
   "cell_type": "markdown",
   "metadata": {
    "cell_style": "split"
   },
   "source": [
    " - Flicker ($1/f$) noise arises in devices due to a variety of factors, including device (e.g. resistor, transistor) construction\n",
    " - Flicker noise has approximately a $1/f$ power spectrum, and is sometimes called “pink noise”\n",
    " - The $1/f$ noise of a given circuit is typically described by its \"corner\" frequency $f_c$, the frequency at which flicker and white noise contributions to the total noise are equal \n",
    " - Many devices exhibit $1/f$ noise, but certain devices (such as MOSFET’s) exhibit high values of $f_c$"
   ]
  },
  {
   "cell_type": "code",
   "execution_count": 5,
   "metadata": {
    "cell_style": "split"
   },
   "outputs": [
    {
     "data": {
      "image/png": "[encoded data removed]",
      "text/plain": [
       "<Figure size 720x540 with 1 Axes>"
      ]
     },
     "metadata": {
      "needs_background": "light"
     },
     "output_type": "display_data"
    }
   ],
   "source": [
    "f = np.logspace(-1,5,num=300)\n",
    "R = 10e3\n",
    "\n",
    "#flicker noise corner\n",
    "f_c = 100\n",
    "e_n_w = np.sqrt(4*k*T*R)\n",
    "e_n_tot = e_n_w*np.sqrt(1+f_c/f)\n",
    "\n",
    "# Plot noise voltage spectrum\n",
    "plot_logxy(f, e_n_tot, 'Frequency', 'Voltage Noise')"
   ]
  },
  {
   "cell_type": "markdown",
   "metadata": {
    "slideshow": {
     "slide_type": "slide"
    }
   },
   "source": [
    "## RMS noise versus bandwidth"
   ]
  },
  {
   "cell_type": "markdown",
   "metadata": {
    "cell_style": "split"
   },
   "source": [
    " - For narrow measurement bandwidths beginning at low frequencies, flicker noise dominates the RMS noise\n",
    " - As bandwidth increases, wideband thermal/shot noise density is much higher than that of 1/f noise, so the total noise can be approximated by white noise alone\n",
    " - For applications requiring high precision at very low frequencies, 1/f noise can have a substantial impact"
   ]
  },
  {
   "cell_type": "code",
   "execution_count": 14,
   "metadata": {
    "cell_style": "center"
   },
   "outputs": [
    {
     "data": {
      "text/plain": [
       "<matplotlib.legend.Legend at 0x50f0718>"
      ]
     },
     "execution_count": 14,
     "metadata": {},
     "output_type": "execute_result"
    },
    {
     "data": {
      "image/png": "[encoded data removed]",
      "text/plain": [
       "<Figure size 720x540 with 2 Axes>"
      ]
     },
     "metadata": {
      "needs_background": "light"
     },
     "output_type": "display_data"
    }
   ],
   "source": [
    "\"\"\" RMS Noise vs Bandwidth \"\"\"\n",
    "k = 1.38e-23\n",
    "f = np.logspace(-1,5,num=1000)\n",
    "T = 300\n",
    "R = 10e3\n",
    "\n",
    "#flicker noise corner\n",
    "f_c = 100\n",
    "\n",
    "e_n_w_2 = 4*k*T*R\n",
    "e_n_w = np.sqrt(e_n_w_2)\n",
    "e_n_tot = e_n_w*np.sqrt(1+f_c/f)\n",
    "e_n_tot_2 = e_n_tot**2\n",
    "\n",
    "vn2 = np.cumsum(e_n_tot_2)\n",
    "vn_rms = np.sqrt(vn2)\n",
    "vn_w_2 = np.cumsum(e_n_w_2*np.ones(np.shape(f)))\n",
    "vn_w_rms = np.sqrt(vn_w_2)\n",
    "\n",
    " # Plot noise voltage spectrum\n",
    "fig, ax = plt.subplots(2, figsize=(10.0,7.5))\n",
    "ax[0].loglog(f, 1e9*(e_n_tot), label=r'1/f + white noise')\n",
    "ax[0].loglog(f, 1e9*(e_n_w*np.ones(np.shape(f))), color='tab:red', label = 'white noise only')\n",
    "ax[0].set_ylabel(r'Noise Voltage Density, $e_n$ $[nV/\\sqrt{Hz}]$')\n",
    "ax[0].grid()\n",
    "\n",
    "# Plot the RMS noise as a function of bandwidth\n",
    "#ax[1].semilogx(f, 1e6*vn_rms)\n",
    "ax[1].semilogx(f, 1e6*vn_w_rms, color='tab:red')\n",
    "ax[1].set_ylabel(r'RMS Voltage Noise, $[\\mu V]$')\n",
    "ax[1].set_xlabel(r'Frequency [Hz]')\n",
    "ax[1].grid()\n",
    "fig.align_ylabels(ax[:])\n",
    "\n",
    "ax[0].legend()\n",
    "ax[0].legend(loc='upper center', ncol=2, fancybox=True, \n",
    "           shadow=True, bbox_to_anchor=(0.5,1.2) )\n",
    "       "
   ]
  },
  {
   "cell_type": "code",
   "execution_count": null,
   "metadata": {},
   "outputs": [],
   "source": []
  }
 ],
 "metadata": {
  "celltoolbar": "Slideshow",
  "kernelspec": {
   "display_name": "Python 3",
   "language": "python",
   "name": "python3"
  },
  "language_info": {
   "codemirror_mode": {
    "name": "ipython",
    "version": 3
   },
   "file_extension": ".py",
   "mimetype": "text/x-python",
   "name": "python",
   "nbconvert_exporter": "python",
   "pygments_lexer": "ipython3",
   "version": "3.8.2"
  },
  "livereveal": {
   "controls": false,
   "scroll": true,
   "theme": "simple"
  },
  "rise": {
   "enable_chalkboard": true,
   "slideNumber": true
  }
 },
 "nbformat": 4,
 "nbformat_minor": 4
}
