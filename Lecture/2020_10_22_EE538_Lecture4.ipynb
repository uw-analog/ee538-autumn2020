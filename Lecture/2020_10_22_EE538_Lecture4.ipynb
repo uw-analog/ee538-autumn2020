{
 "cells": [
  {
   "cell_type": "markdown",
   "metadata": {
    "cell_style": "center",
    "slideshow": {
     "slide_type": "slide"
    }
   },
   "source": [
    "# EE 538: Analog Circuits for Sensor Systems\n",
    "## Autumn 2020\n",
    "## Instructor: Jason Silver"
   ]
  },
  {
   "cell_type": "markdown",
   "metadata": {
    "slideshow": {
     "slide_type": "slide"
    }
   },
   "source": [
    "## Announcements"
   ]
  },
  {
   "cell_type": "markdown",
   "metadata": {
    "slideshow": {
     "slide_type": "-"
    }
   },
   "source": [
    " - Solution to Assignment 2 posted on JupyterHub\n",
    " - Assignment 2 due Sunday, October 25 at midnight\n",
    "    - Jupyter Notebook (.ipyb) submission on Canvas\n",
    "    - For LTspice problems, include image (e.g. screen capture) of schematic(s)"
   ]
  },
  {
   "cell_type": "markdown",
   "metadata": {
    "slideshow": {
     "slide_type": "slide"
    }
   },
   "source": [
    "## Week 4"
   ]
  },
  {
   "cell_type": "markdown",
   "metadata": {
    "slideshow": {
     "slide_type": "-"
    }
   },
   "source": [
    " - Art of Electronics (AoE) Chapters 4\n",
    " - Microelectronics (Sedra/Smith) Chapter 2"
   ]
  },
  {
   "cell_type": "markdown",
   "metadata": {
    "slideshow": {
     "slide_type": "slide"
    }
   },
   "source": [
    "## Overview"
   ]
  },
  {
   "cell_type": "markdown",
   "metadata": {
    "slideshow": {
     "slide_type": "-"
    }
   },
   "source": [
    " - Last time...\n",
    "    - Common-emitter amplifier, cont.\n",
    "    - Emitter-follower\n",
    "    - Field-effect transistor\n",
    "    - Small-signal FET model\n",
    " - Today...\n",
    "     - Ideal opamp\n",
    "     - Opamp characteristics\n",
    "     - Opamp frequency response\n",
    "     - Feedback\n",
    "     - Stability\n"
   ]
  },
  {
   "cell_type": "markdown",
   "metadata": {
    "slideshow": {
     "slide_type": "skip"
    }
   },
   "source": [
    "## Python packages/modules"
   ]
  },
  {
   "cell_type": "code",
   "execution_count": 46,
   "metadata": {
    "slideshow": {
     "slide_type": "skip"
    }
   },
   "outputs": [],
   "source": [
    "import matplotlib\n",
    "from matplotlib import pyplot as plt\n",
    "import numpy as np\n",
    "from scipy import signal\n",
    "#%matplotlib notebook\n",
    "\n",
    "def plot_xy(x, y, xlabel, ylabel):\n",
    "    fig, ax = plt.subplots(figsize=(10.0, 7.5));\n",
    "    ax.plot(x, y, 'b')\n",
    "    ax.grid()\n",
    "    ax.set_xlabel(xlabel)\n",
    "    ax.set_ylabel(ylabel)\n",
    "    \n",
    "def plot_xy2(x1, y1, x1label, y1label, x2, y2, x2label, y2label):\n",
    "    fig, ax = plt.subplots(2, figsize = (10.0, 7.5));\n",
    "    ax[0].plot(x1, y1, 'b')\n",
    "    ax[0].set_ylabel(y1label)\n",
    "    ax[0].grid()\n",
    "    \n",
    "    ax[1].plot(x2, y2, 'b')\n",
    "    ax[1].set_xlabel(x1label)\n",
    "    ax[1].set_xlabel(x2label)\n",
    "    ax[1].set_ylabel(y2label)\n",
    "    ax[1].grid()\n",
    "    \n",
    "    fig.align_ylabels(ax[:])\n",
    "\n",
    "def plot_logxy(x, y, xlabel, ylabel):\n",
    "    fig, ax = plt.subplots(figsize=(10.0, 7.5))\n",
    "    ax.semilogx(x, y, 'b')\n",
    "    ax.grid();\n",
    "    ax.set_xlabel(xlabel)\n",
    "    ax.set_ylabel(ylabel)\n",
    "    \n",
    "def plot_xlogy(x, y, xlabel, ylabel):\n",
    "    fig, ax = plt.subplots(figsize=(10.0, 7.5));\n",
    "    ax.semilogy(x, y, 'b');\n",
    "    ax.grid();\n",
    "    ax.set_xlabel(xlabel);\n",
    "    ax.set_ylabel(ylabel);\n",
    "    \n",
    "def read_ltspice_ac(file_name):\n",
    "    with open(file_name, 'r') as data:\n",
    "        x = []\n",
    "        y = []\n",
    "        z = []\n",
    "        next(data) # skip header line\n",
    "        for line in data:\n",
    "            p = line.split()\n",
    "            x.append(float(p[0]))\n",
    "            complex = p[1].split(\",\")\n",
    "            y.append(float(complex[0]))\n",
    "            z.append(float(complex[1]))\n",
    "\n",
    "    return x, y, z\n",
    "\n",
    "def plot_logxy2(x1, y1, x2, y2, x1label, y1label, x2label, y2label):\n",
    "    fig, ax = plt.subplots(2, figsize = (10.0, 7.5));\n",
    "    ax[0].semilogx(x1, y1, 'b');\n",
    "    ax[0].set_ylabel(y1label)\n",
    "    ax[0].grid()\n",
    "    \n",
    "    ax[1].semilogx(x2, y2, 'b');\n",
    "    ax[1].set_xlabel(x1label)\n",
    "    ax[1].set_xlabel(x2label);\n",
    "    ax[1].set_ylabel(y2label);\n",
    "    ax[1].grid();\n",
    "    \n",
    "    fig.align_ylabels(ax[:])"
   ]
  },
  {
   "cell_type": "markdown",
   "metadata": {
    "slideshow": {
     "slide_type": "slide"
    }
   },
   "source": [
    "## Texas Instruments LM741"
   ]
  },
  {
   "cell_type": "markdown",
   "metadata": {
    "cell_style": "split",
    "slideshow": {
     "slide_type": "-"
    }
   },
   "source": [
    "<center><img src=\"img/LM741.png\" width=1000 /></center>"
   ]
  },
  {
   "cell_type": "markdown",
   "metadata": {
    "cell_style": "split"
   },
   "source": [
    " - The LM741 is a general purpose \"classic\" opamp available from Texas Instruments\n",
    " - If we look closely, we can see that this amplifier is constructed using familiar structures\n",
    " - For example, $Q_1$ and $Q_2$ form a common-emitter differential pair, the core gain stage of the amplifier \n",
    " - $Q_3$, $Q_4$, $R_1$, and $R_2$ serve to increase the output impedance, and thus the gain, of the first stage\n",
    " - $C_1$ is an internal compensation capacitor that sets the opamp bandwidth\n",
    " - $Q_{14}$ and $Q_{20}$ form a \"push-pull\" emitter follower output stage"
   ]
  },
  {
   "cell_type": "markdown",
   "metadata": {
    "slideshow": {
     "slide_type": "slide"
    }
   },
   "source": [
    "## Ideal Opamp"
   ]
  },
  {
   "cell_type": "markdown",
   "metadata": {
    "cell_style": "split",
    "slideshow": {
     "slide_type": "-"
    }
   },
   "source": [
    "<center><img src=\"img/opamp_model.png\" width=500 /></center>"
   ]
  },
  {
   "cell_type": "markdown",
   "metadata": {
    "cell_style": "split"
   },
   "source": [
    "$$ R_{in} \\rightarrow \\infty $$\n",
    "\n",
    "\n",
    "$$ R_{out} \\rightarrow 0 $$\n",
    "\n",
    "\n",
    "$$ A_{0} \\rightarrow \\infty $$"
   ]
  },
  {
   "cell_type": "markdown",
   "metadata": {
    "slideshow": {
     "slide_type": "-"
    }
   },
   "source": [
    " - An opamp converts a differential input voltage $v^+$ to an output voltage $v_{out}$ via the relation\n",
    " \n",
    " $$ v_{out} = A_0\\cdot (v^+ - v^-)$$\n",
    " \n",
    " - For an ideal opamp, both gain and input resistance are infinite, while output resistance is zero\n",
    " - An ideal opamp's output changes instantaneously with a change in the input\n",
    " - An ideal opamp contributes no offset or added noise to the signal\n",
    " \n",
    " "
   ]
  },
  {
   "cell_type": "markdown",
   "metadata": {
    "slideshow": {
     "slide_type": "slide"
    }
   },
   "source": [
    "## Opamp golden rules"
   ]
  },
  {
   "cell_type": "markdown",
   "metadata": {
    "cell_style": "split"
   },
   "source": [
    "<center><img src=\"img/opamp_symbol.png\" width=400 /></center>"
   ]
  },
  {
   "cell_type": "markdown",
   "metadata": {
    "cell_style": "split"
   },
   "source": [
    "$$ A_0 \\rightarrow \\infty $$ $$\\rightarrow  v^+ = v^-$$\n",
    "\n",
    "$$ i^+ = i^- = 0 $$"
   ]
  },
  {
   "cell_type": "markdown",
   "metadata": {},
   "source": [
    " When analyzing opamp circuits, always keep in mind the following \"golden rules\"\n",
    " 1. The opamp tries to do whatever it takes to make the voltage difference between the inputs zero\n",
    " 2. The input(s) draw no current\n",
    " "
   ]
  },
  {
   "cell_type": "markdown",
   "metadata": {
    "slideshow": {
     "slide_type": "slide"
    }
   },
   "source": [
    "## Ideal inverting amplifier"
   ]
  },
  {
   "cell_type": "markdown",
   "metadata": {
    "cell_style": "split"
   },
   "source": [
    "<center><img src=\"img/ideal_inverting.png\" width=500 /></center>\n",
    "\n",
    "$$ v^- = v^+ = 0 $$"
   ]
  },
  {
   "cell_type": "markdown",
   "metadata": {
    "cell_style": "split"
   },
   "source": [
    "$$ v_{out} = 0 - \\frac{v_{in}}{R_i}\\cdot R_f $$\n",
    "\n",
    "$$ G_0 = \\frac{v_{out}}{v_{in}} = -\\dfrac{R_f}{R_i} $$"
   ]
  },
  {
   "cell_type": "markdown",
   "metadata": {},
   "source": [
    " - Infinite DC gain ensures that the voltage at the inverting terminal $v^-$ is maintained at ground\n",
    " - The \"zero-input-current\" property of the opamp ensures that the current through $R_f$ is equal to that through $R_i$\n",
    " - For an ideal opamp, the *closed-loop* gain only depends on the ratio of $R_f$ to $R_i$\n",
    " - *Note*: If the opamp uses a single supply (i.e. $-V_{EE} = 0$), the non-inverting terminal should be connected to a DC voltage between $V_{CC}$ and ground. However, the analysis of the gain is identical, as the non-inverting terminal can be treated as an AC ground.  "
   ]
  },
  {
   "cell_type": "markdown",
   "metadata": {
    "slideshow": {
     "slide_type": "slide"
    }
   },
   "source": [
    "## Finite open-loop gain"
   ]
  },
  {
   "cell_type": "markdown",
   "metadata": {
    "cell_style": "split"
   },
   "source": [
    "<center><img src=\"img/inverting_amplifier.png\" width=500 /></center>\n",
    "\n",
    "$$ v^- = v^+ - v_{out}/A_v = - v_{out}/A_v $$\n"
   ]
  },
  {
   "cell_type": "markdown",
   "metadata": {
    "cell_style": "split"
   },
   "source": [
    "\\begin{equation}\n",
    "i_{in} = \\dfrac{v_{in} - v^-}{R_i}  = \\dfrac{v_{in} + \\frac{v_{out}}{A_0}}{R_i}\n",
    "\\end{equation}\n",
    "\n",
    "\\begin{equation}\n",
    "v_{out} = \\dfrac{-v_{out}}{A_0} -\\dfrac{v_{in} + \\frac{v_{out}}{A_0}}{R_i}\\cdot R_f\n",
    "\\end{equation}\n",
    "\n",
    "$$ G_0 = \\dfrac{v_{out}}{v_{in}} = -\\dfrac{R_f}{R_i}\\cdot \\dfrac{1}{1+\\frac{1}{A_0}\\left(1+\\frac{R_f}{R_i}\\right)}$$"
   ]
  },
  {
   "cell_type": "markdown",
   "metadata": {
    "slideshow": {
     "slide_type": "-"
    }
   },
   "source": [
    " - With finite gain, the opamp input current is still zero, but $v^- \\ne v^+$\n",
    " - The finite *open-loop* gain $A_0$ results an error in the *closed-loop* gain that is dependent on the magnitude of $A_0$\n",
    " - This is a clear example of how the *precision* of closed-loop gain depends on the magnitude of the open-loop gain in a negative feedback system"
   ]
  },
  {
   "cell_type": "markdown",
   "metadata": {
    "slideshow": {
     "slide_type": "slide"
    }
   },
   "source": [
    "## Negative feedback"
   ]
  },
  {
   "cell_type": "markdown",
   "metadata": {
    "cell_style": "split"
   },
   "source": [
    "<center><img src=\"img/basic_feedback.png\" width=600 /></center>\n"
   ]
  },
  {
   "cell_type": "markdown",
   "metadata": {
    "cell_style": "split"
   },
   "source": [
    "$$ G = \\dfrac{s_o}{s_i} = \\dfrac{A}{1+\\beta A} $$\n",
    "<br>\n",
    "<center>as $A \\rightarrow \\infty $, $\\; G \\rightarrow \\dfrac{1}{\\beta}$</center>"
   ]
  },
  {
   "cell_type": "markdown",
   "metadata": {},
   "source": [
    " - Negative feedback is used to process the *error* signal $s_i - \\beta s_o $\n",
    " - A larger value of $A$, sometimes called the *forward gain* results in a smaller error, as $\\beta s_o \\rightarrow s_i$\n",
    " - The *feedback factor* $\\beta \\leq 1$ is the fraction of the output signal fed back to be compared with the input\n",
    " - $s_i$ and $s_o$ can be either voltages or currents, affecting the units of $A$ and $\\beta$\n"
   ]
  },
  {
   "cell_type": "markdown",
   "metadata": {
    "slideshow": {
     "slide_type": "slide"
    }
   },
   "source": [
    "## Non-inverting amplifier"
   ]
  },
  {
   "cell_type": "markdown",
   "metadata": {
    "cell_style": "split"
   },
   "source": [
    "<center><img src=\"img/non_inverting_amplifier.png\" width=600 /></center>"
   ]
  },
  {
   "cell_type": "markdown",
   "metadata": {
    "cell_style": "split"
   },
   "source": [
    "$$ A = A_0 $$\n",
    "\n",
    "$$ \\beta = \\dfrac{R_i}{R_i + R_f} $$\n",
    "\n",
    "$$G_0 = \\dfrac{v_{out}}{v_{in}} = \\dfrac{A_0}{1+\\beta A_0} = \\dfrac{A_0}{1 + \\dfrac{R_i}{R_i + R_f}\\cdot A_0}$$\n",
    "\n",
    "<center>as $A_0 \\rightarrow \\infty$, $\\; G_0 \\rightarrow \\boxed{1+\\dfrac{R_f}{R_i}}$"
   ]
  },
  {
   "cell_type": "markdown",
   "metadata": {},
   "source": [
    " - We see that the closed-loop gain $G_0$ is $1+\\beta A_0$ times *lower* than the open-loop gain $A_0$\n",
    " - As the *open-loop* gain $A_0$ is increased, the *closed-loop* gain becomes less dependent on $A_0$, and more defined by $\\beta$\n",
    " - The term $\\beta A_0$ is sometimes called the *loop gain*, and its magnitude determines closed-loop precision, input impedance, output impedance, and bandwidth\n",
    " - *Note*: The non-inverting amplifier is an example of *series-shunt* feedback"
   ]
  },
  {
   "cell_type": "markdown",
   "metadata": {
    "slideshow": {
     "slide_type": "slide"
    }
   },
   "source": [
    "## Closed-loop precision"
   ]
  },
  {
   "cell_type": "code",
   "execution_count": 47,
   "metadata": {
    "slideshow": {
     "slide_type": "skip"
    }
   },
   "outputs": [],
   "source": [
    "def plot_logxy2_1axis(x, y1, y2, xlabel, y1label, y2label):\n",
    "    fig, ax1 = plt.subplots(figsize=(10.0, 8.0))\n",
    "    color='blue'\n",
    "    ax1.set_xlabel(xlabel)\n",
    "    ax1.set_ylabel(y1label, color=color)\n",
    "    ax1.semilogx(x, y1)\n",
    "    ax1.grid()\n",
    "    ax1.tick_params(axis='y', labelcolor=color)\n",
    "\n",
    "    ax2 = ax1.twinx() \n",
    "\n",
    "    color = 'red'\n",
    "    ax2.set_ylabel(y2label, color=color)  \n",
    "    ax2.semilogx(x, y2, color=color)\n",
    "    ax2.grid()\n",
    "    ax2.tick_params(axis='y', labelcolor=color)\n",
    "\n",
    "    fig.tight_layout()  \n"
   ]
  },
  {
   "cell_type": "code",
   "execution_count": 48,
   "metadata": {
    "scrolled": false,
    "slideshow": {
     "slide_type": "-"
    }
   },
   "outputs": [
    {
     "data": {
      "image/png": "[encoded data removed]",
      "text/plain": [
       "<Figure size 720x576 with 2 Axes>"
      ]
     },
     "metadata": {
      "needs_background": "light"
     },
     "output_type": "display_data"
    }
   ],
   "source": [
    "A0_vals = np.logspace(1,7,num=100)      # min: 0dB, max: 140dB\n",
    "beta = 0.5                              # R1 = R2\n",
    "G_vals = A0_vals/(1+beta*A0_vals)       # closed-loop gain\n",
    "plot_logxy2_1axis(A0_vals, G_vals, 100*(1/beta-G_vals)/(1/beta), 'Open-loop gain', 'Closed-loop gain', 'Error [%]')"
   ]
  },
  {
   "cell_type": "markdown",
   "metadata": {},
   "source": [
    " - As the open-loop gain is increased we see a smaller error between the ideal and actual closed-loop gain values"
   ]
  },
  {
   "cell_type": "markdown",
   "metadata": {
    "slideshow": {
     "slide_type": "slide"
    }
   },
   "source": [
    "## Input impedance"
   ]
  },
  {
   "cell_type": "markdown",
   "metadata": {
    "cell_style": "split"
   },
   "source": [
    "<center><img src=\"img/non_inverting_Zin.png\" width=600 /></center>"
   ]
  },
  {
   "cell_type": "markdown",
   "metadata": {
    "cell_style": "split"
   },
   "source": [
    "$$ v^- \\approx \\dfrac{R_1}{R_1+R_2} \\cdot v_o = \\beta v_o$$\n",
    "\n",
    "$$ v_o = A_v\\cdot (v_t - v^-) = A_v\\cdot (v_t - \\beta v_o)$$\n",
    "\n",
    "$$ v_o = \\dfrac{A_v}{1+\\beta A_v}\\cdot v_t $$\n",
    "\n",
    "$$ i_t =  \\dfrac{v_t-\\beta v_o}{R_{in}} = \\dfrac{v_t-\\beta v_o}{R_{in}} = \\dfrac{(1+\\beta A_v)\\cdot v_t - \\beta A_v v_t}{(1+\\beta A_v)\\cdot R_{in}}$$\n",
    "\n",
    "$$ \\boxed{R_{in,CL} = \\dfrac{v_t}{i_t} = (1+\\beta A_v)\\cdot R_{in}} $$"
   ]
  },
  {
   "cell_type": "markdown",
   "metadata": {},
   "source": [
    " - Assuming minimal loading at the input and output of the opamp, the closed-loop input impedance is just $1+\\beta A_v$ times that for the open-loop amplifier\n",
    " - This can be understood by the opamp \"golden rule\" related to equalization of the input voltages $v_+$ and $v_-$\n",
    " - A higher open-loop gain reduces the error voltage $v_+ - v_-$, minimizing $i_t$"
   ]
  },
  {
   "cell_type": "markdown",
   "metadata": {
    "slideshow": {
     "slide_type": "slide"
    }
   },
   "source": [
    "## Output impedance"
   ]
  },
  {
   "cell_type": "markdown",
   "metadata": {
    "cell_style": "split"
   },
   "source": [
    "<center><img src=\"img/non_inverting_Zout.png\" width=600 /></center>"
   ]
  },
  {
   "cell_type": "markdown",
   "metadata": {
    "cell_style": "split"
   },
   "source": [
    "$$ v_- = \\beta v_t $$\n",
    "\n",
    "$$ i_t = \\dfrac{v_t}{R_1 + R_2} + \\dfrac{(1+\\beta A_v)}{R_{out}}\\cdot v_t $$\n",
    "\n",
    "$$ \\dfrac{v_t}{i_t} = \\dfrac{1}{\\dfrac{1}{R_1+R_2} + \\dfrac{1+\\beta A_v}{R_{out}}} $$\n",
    "\n",
    "\\begin{align}\n",
    "R_{out,CL} &= \\dfrac{v_t}{i_t} = (R_1+R_2)\\lvert \\rvert\\dfrac{R_{out}}{1+\\beta A_v}\\\\\n",
    "&\\approx \\boxed{\\dfrac{R_{out}}{1+\\beta A_v}}\n",
    "\\end{align}"
   ]
  },
  {
   "cell_type": "markdown",
   "metadata": {},
   "source": [
    " - Again ignoring loading due to finite input resistance, the open-loop output resistance is scaled, in this case reduced, by the factor $1+\\beta A_v$\n",
    " - Feedback ensures that any change in output voltage is \"compensated\" by a change in the opamp input voltage $v_+ - v_-$, increasing the current through the opamp open-loop output resistance $R_{out}$\n",
    " - Once again we see that feedback is advantageous, as an ideal voltage source has zero output resistance, and feedback gets us closer to this goal"
   ]
  },
  {
   "cell_type": "markdown",
   "metadata": {
    "slideshow": {
     "slide_type": "slide"
    }
   },
   "source": [
    "## Finite bandwidth"
   ]
  },
  {
   "cell_type": "markdown",
   "metadata": {
    "cell_style": "split"
   },
   "source": [
    " - Real opamps cannot respond instantaneously to changes in their input voltages, and are subject to finite bandwidth\n",
    " - For most purposes, the *open-loop* frequency response of an opamp can be treated as first-order (single pole)\n",
    " - Opamp datasheets specify bandwidth as *transit frequency* or *gain-bandwidth* product, which for a first-order system is the product of the DC gain $A_0$ and the $3dB$ bandwidth $f_{3dB} = \\dfrac{\\omega_0}{2 \\pi}$:\n",
    " \n",
    "$$ f_t \\approx A_0 \\cdot f_{3dB} =  \\dfrac{A_0\\cdot \\omega_0}{2\\pi}$$"
   ]
  },
  {
   "cell_type": "markdown",
   "metadata": {
    "cell_style": "split"
   },
   "source": [
    "$$ A_v(j\\omega) = \\dfrac{A_0}{1+j\\omega/\\omega_0}$$\n",
    "\n",
    "$$ |A_v(j\\omega)| = \\dfrac{A_0}{\\sqrt{1+\\omega^2/\\omega_0^2}} $$\n",
    "\n",
    "$$ |A_v(j\\omega_t)| = \\dfrac{A_0}{\\sqrt{1+\\omega_t^2/\\omega_0^2}} = 1$$\n",
    "\n",
    "$$ A_0^2 = 1 + \\omega_t^2/\\omega_0^2 \\approx \\omega_t^2/\\omega_0^2$$\n",
    "\n",
    "$$ \\rightarrow \\boxed{\\omega_t \\approx A_0\\cdot \\omega_0} $$"
   ]
  },
  {
   "cell_type": "markdown",
   "metadata": {
    "slideshow": {
     "slide_type": "slide"
    }
   },
   "source": [
    "## Gain-bandwidth product"
   ]
  },
  {
   "cell_type": "markdown",
   "metadata": {
    "cell_style": "split"
   },
   "source": [
    "<center><img src=\"img/CE_bandwidth.png\" width=400 /></center>"
   ]
  },
  {
   "cell_type": "markdown",
   "metadata": {
    "cell_style": "split"
   },
   "source": [
    "$$ A_0 = -g_m\\cdot R_C $$\n",
    "\n",
    "$$ \\omega_0 = \\dfrac{1}{R_C\\cdot C_L}$$\n",
    "\n",
    "$$ A_v(j\\omega) = \\dfrac{A_0}{1+j\\omega/\\omega_0}$$\n",
    "\n",
    "$$ f_t \\approx A_0 \\cdot f_{3dB} =  \\dfrac{-g_m \\cdot R_C}{2\\pi \\cdot R_C \\cdot C_L} = \\dfrac{g_m}{2\\pi \\cdot C_L}$$"
   ]
  },
  {
   "cell_type": "markdown",
   "metadata": {},
   "source": [
    " - Although opamps are significantly more complex, the concept of gain-bandwidth product can be demonstrated using a simple gain stage like the common-emitter amplifier \n",
    " - Because the output resistance $R_C$ appears in the expressions for both gain and $3 dB$ bandwidth, an increase in $R_C$ increases gain while decreasing bandwidth, making their product constant\n",
    " - Gain and bandwidth for opamps are determined in a similar manner, just with different resistances and capacitances\n",
    " - Note that the dependence of bandwidth on $g_m$ indicates a tradeoff between speed and power, since $g_m$ depends on bias current"
   ]
  },
  {
   "cell_type": "markdown",
   "metadata": {
    "slideshow": {
     "slide_type": "slide"
    }
   },
   "source": [
    "## Opamp frequency response"
   ]
  },
  {
   "cell_type": "markdown",
   "metadata": {},
   "source": [
    " - A typical opamp has DC gain ($A_0$) from $100-160dB$ and gain-bandwidth product ($f_t$) from $1-100MHz$\n",
    " - From these two parametsr we can determine the frequency response"
   ]
  },
  {
   "cell_type": "code",
   "execution_count": 49,
   "metadata": {},
   "outputs": [
    {
     "data": {
      "image/png": "[encoded data removed]",
      "text/plain": [
       "<Figure size 720x540 with 2 Axes>"
      ]
     },
     "metadata": {
      "needs_background": "light"
     },
     "output_type": "display_data"
    }
   ],
   "source": [
    "A_dB = 120\n",
    "A_0 = 10**(A_dB/20)\n",
    "f_t = 10e6\n",
    "f_3dB = f_t/A_0\n",
    "w_0 = f_3dB*2*np.pi\n",
    "f = np.logspace(0,8, num=100)\n",
    "A_s = signal.TransferFunction([A_0], [1/w_0, 1])\n",
    "w, mag, phase = A_s.bode(w=f*2*np.pi)               \n",
    "plot_logxy2(f, mag, f, phase, 'Frequency [Hz]', 'Magnitude [dB]',\n",
    "           'Frequency [Hz]', 'Phase [deg]')"
   ]
  },
  {
   "cell_type": "markdown",
   "metadata": {},
   "source": [
    " - Note that we didn't need the $3dB$ bandwidth to determine the frequency response!"
   ]
  },
  {
   "cell_type": "markdown",
   "metadata": {
    "slideshow": {
     "slide_type": "slide"
    }
   },
   "source": [
    "## Closed-loop frequency response"
   ]
  },
  {
   "cell_type": "markdown",
   "metadata": {},
   "source": [
    " - We can readily determine the closed-loop frequency response using the following expression\n",
    " \n",
    "$$ G(s) = \\dfrac{A_v(s)}{1+\\beta A_v(s)} $$\n",
    " \n",
    " - Substituting $ A_v(s) = \\frac{A_0}{(1+s/\\omega_0)} $ gives\n",
    " \n",
    "$$ G(j\\omega) = \\dfrac{A_v(s)}{1+\\beta A_v(s)} =  \\dfrac{A_0}{1+s/\\omega_0+\\beta A_0}$$\n",
    "\n",
    " - We can solve for the pole location by setting the denominator equal to $0$:\n",
    " \n",
    "$$ 1+s/\\omega_0+\\beta A_0 = 0 \\rightarrow \\boxed{s = -\\omega_0\\cdot(1+\\beta A_0)} $$\n",
    "\n",
    " - The pole frequency is the *magnitude* of this expression\n",
    " \n",
    "$$ \\omega_{3dB,CL} = \\lvert-\\omega_0\\cdot(1+\\beta A_0)\\rvert = \\omega_0 \\cdot (1+\\beta A_0)$$"
   ]
  },
  {
   "cell_type": "markdown",
   "metadata": {
    "slideshow": {
     "slide_type": "slide"
    }
   },
   "source": [
    "## Closed-loop bandwidth"
   ]
  },
  {
   "cell_type": "markdown",
   "metadata": {},
   "source": [
    " - From the preceding analysis, we see that the closed-loop pole frequency is approximately $1 + \\beta A_0$ times *higher* than that of the open-loop pole\n",
    " - Like gain, input impedance, and output impedance, closed-loop bandwidth is scaled by the term $1 + \\beta A_0$\n",
    " - It is important to note that while the closed-loop pole frequency changes with $1 + \\beta A_0$, the gain-bandwidth product $f_t = A_0 \\cdot f_{3dB}$ remains constant\n",
    " - However, the settling response of an amplifier is determined by $f_{3dB}$, based on the relation\n",
    " \n",
    " $$ \\tau = \\dfrac{2\\pi}{f_{3dB,CL}} = \\dfrac{1}{\\omega_{3dB,CL}} \\approx \\dfrac{1}{\\omega_0 \\cdot(1+\\beta A_0)}$$"
   ]
  },
  {
   "cell_type": "markdown",
   "metadata": {
    "slideshow": {
     "slide_type": "subslide"
    }
   },
   "source": [
    " - Let's take a look at the closed-loop bandwidth as a function of the feedback factor $\\beta$"
   ]
  },
  {
   "cell_type": "code",
   "execution_count": 86,
   "metadata": {
    "slideshow": {
     "slide_type": "skip"
    }
   },
   "outputs": [],
   "source": [
    "def plot_CL_freq(A_dB, f_t, betas, w):\n",
    "    A_0 = 10**(A_dB/20)\n",
    "    w_0 = f_3dB*2*np.pi\n",
    "    A_s = np.array([])\n",
    "\n",
    "    fig, axs = plt.subplots(2, figsize=(10.0, 8.0))\n",
    "    for b in betas:\n",
    "        Av_cl = signal.TransferFunction([A_0], [1/w_0, 1 + b*A_0])\n",
    "        w, mag, phase = Av_cl.bode(w=w)       # rad/s, dB, degrees \n",
    "        f = w/2/np.pi   \n",
    "\n",
    "        # Plot the frequency response for multiple values of beta\n",
    "        fig.suptitle('Opamp Closed-Loop Frequency Response')\n",
    "        axs[0].semilogx(f, mag)\n",
    "        axs[0].grid()\n",
    "        axs[0].set_ylabel('Magnitude [dB]')\n",
    "        axs[1].semilogx(f,phase)\n",
    "        axs[1].grid()\n",
    "        axs[1].set_ylabel('Phase [deg]')\n",
    "        axs[1].set_xlabel('Frequency [Hz]')\n",
    "        fig.align_ylabels(axs[:])\n",
    "        \n",
    "def plot_CL_step(A_dB, f_t, betas, w):\n",
    "    A_0 = 10**(A_dB/20)\n",
    "    w_0 = f_3dB*2*np.pi\n",
    "    A_s = np.array([])\n",
    "    \n",
    "    fig, axs = plt.subplots(2, figsize=(10.0, 8.0))\n",
    "    for b in betas:\n",
    "        Av_cl = signal.TransferFunction([A_0], [1/w_0, 1 + b*A_0])\n",
    "        tin = np.linspace(0,20e-6,100)\n",
    "        u_step = np.concatenate( (0, np.ones(99)), axis=None)\n",
    "        tout,vout = signal.step(Av_cl, X0=None, T=tin)\n",
    "\n",
    "        # Plot the step response for multiple values of beta\n",
    "        fig.suptitle('Opamp Closed-Loop Step Response')\n",
    "        axs[0].plot(1e6*tout, b*vout)\n",
    "        axs[0].grid()\n",
    "        axs[0].set_ylabel(r'$\\beta V_o$ [V]')\n",
    "        axs[1].plot(1e6*tin,u_step)\n",
    "        axs[1].grid()\n",
    "        axs[1].set_ylabel('Input Voltage [V]')\n",
    "        axs[1].set_xlabel('Time [$\\mu $s]')\n",
    "        fig.align_ylabels(axs[:])\n"
   ]
  },
  {
   "cell_type": "code",
   "execution_count": 87,
   "metadata": {},
   "outputs": [
    {
     "data": {
      "image/png": "[encoded data removed]",
      "text/plain": [
       "<Figure size 720x576 with 2 Axes>"
      ]
     },
     "metadata": {
      "needs_background": "light"
     },
     "output_type": "display_data"
    }
   ],
   "source": [
    "betas = np.logspace(-4, 0, num=5)\n",
    "w = 2*np.pi*np.logspace(0,9,num=100)\n",
    "plot_CL_freq(120, 10e6, betas, w)"
   ]
  },
  {
   "cell_type": "markdown",
   "metadata": {
    "slideshow": {
     "slide_type": "subslide"
    }
   },
   "source": [
    " - As expected based on the frequency response, the settling time is inversely proportional to the factor $1+\\beta A_0$"
   ]
  },
  {
   "cell_type": "code",
   "execution_count": 90,
   "metadata": {
    "scrolled": false
   },
   "outputs": [
    {
     "data": {
      "image/png": "[encoded data removed]",
      "text/plain": [
       "<Figure size 720x576 with 2 Axes>"
      ]
     },
     "metadata": {
      "needs_background": "light"
     },
     "output_type": "display_data"
    }
   ],
   "source": [
    "plot_CL_step(120, 10e6, betas, w)"
   ]
  },
  {
   "cell_type": "markdown",
   "metadata": {
    "slideshow": {
     "slide_type": "slide"
    }
   },
   "source": [
    "## Input offset voltage"
   ]
  },
  {
   "cell_type": "markdown",
   "metadata": {
    "cell_style": "split"
   },
   "source": [
    "<center><img src=\"img/opamp_offset.png\" width=400 /></center>"
   ]
  },
  {
   "cell_type": "markdown",
   "metadata": {
    "cell_style": "split"
   },
   "source": [
    "$$ v_o = A_v \\cdot (v^+ - v^- - v_{os}) $$"
   ]
  },
  {
   "cell_type": "markdown",
   "metadata": {},
   "source": [
    " - Random variations in the characteristics of the transistors that comprise the opamp give rise to asymmetry in its behavior \n",
    " - This is especially true of FET-based opamps, in which the threshold voltages of the input devices can differ by several millivolts\n",
    " - The asymmetry is modeled by a single \"voltage\" referred to as the offset \n",
    " - To properly account for DC errors, the offset voltage should be included in our analysis of opamp circuits\n",
    " - Note that the offset voltage is merely a model - there is not a physical voltage source connected to the opamp terminals\n",
    " - Input offset also changes with temperature, a phenomenon referred to as \"drift\""
   ]
  },
  {
   "cell_type": "markdown",
   "metadata": {
    "slideshow": {
     "slide_type": "slide"
    }
   },
   "source": [
    "## Circuit analysis with offset"
   ]
  },
  {
   "cell_type": "markdown",
   "metadata": {
    "cell_style": "split"
   },
   "source": [
    "<center><img src=\"img/inverting_offset.png\" width=600 /></center>"
   ]
  },
  {
   "cell_type": "markdown",
   "metadata": {
    "cell_style": "split"
   },
   "source": [
    "$$ \\dfrac{v_{in}-v_{os}}{R_1} = \\dfrac{v_{os}-v_{out}}{R_2} $$\n",
    "\n",
    "$$v_{out} = -\\dfrac{R_2}{R_1}\\cdot v_{in} +  \\left(1+\\dfrac{R_2}{R_1}\\right) \\cdot v_{os} $$"
   ]
  },
  {
   "cell_type": "markdown",
   "metadata": {},
   "source": [
    " - Note that the input voltage $v_{in}$ \"sees\" the gain of the inverting amplifier, while the offset \"sees\" a non-inverting gain\n",
    " - In general, it is simpler to determine the effects of offset and input voltage on the ouput voltage separately, then combine them using superposition"
   ]
  },
  {
   "cell_type": "markdown",
   "metadata": {
    "slideshow": {
     "slide_type": "slide"
    }
   },
   "source": [
    "## Alternative approach, using superposition"
   ]
  },
  {
   "cell_type": "markdown",
   "metadata": {
    "cell_style": "split"
   },
   "source": [
    "<center><img src=\"img/non_inverting_offset.png\" width=500 /></center>"
   ]
  },
  {
   "cell_type": "markdown",
   "metadata": {
    "cell_style": "split"
   },
   "source": [
    "$$ v_{out} (v_{in}) =  -\\dfrac{R_2}{R_1}\\cdot v_{in} $$\n",
    "\n",
    "$$v_{out} (v_{os}) = \\left(1+\\dfrac{R_2}{R_1} \\right )\\cdot v_{os} $$\n",
    "\n",
    "\\begin{align}\n",
    "v_{out} &= v_{out} (v_{in}) + v_{out} (v_{os}) \\\\\n",
    "\\\\\n",
    "&= -\\dfrac{R_2}{R_1}\\cdot v_{in} + \\left(1+\\dfrac{R_2}{R_1} \\right )\\cdot v_{os}\n",
    "\\end{align}"
   ]
  },
  {
   "cell_type": "markdown",
   "metadata": {},
   "source": [
    " - For the offset, this circuit is (nearly, as we are ignoring finite gain) identical to the previous one \n",
    " - Recall that the opamp will do whatever it takes equalize the voltage at its input terminals, so this configuration forces a \"virtual offset\" at the inverting terminal\n",
    " - This approach is more intuitive, since we can follow the path to the output for the input and offset separately\n",
    " - We will follow a similar approach when analyzing the effect of opamp noise on amplifier precision"
   ]
  },
  {
   "cell_type": "markdown",
   "metadata": {
    "slideshow": {
     "slide_type": "slide"
    }
   },
   "source": [
    "## Input bias current"
   ]
  },
  {
   "cell_type": "markdown",
   "metadata": {
    "cell_style": "split"
   },
   "source": [
    "<center><img src=\"img/opamp_bias_current.png\" width=500 /></center>"
   ]
  },
  {
   "cell_type": "markdown",
   "metadata": {
    "cell_style": "split"
   },
   "source": [
    "$$ v^- = 0$$\n",
    "\n",
    "$$ I_{R1} = 0 $$\n",
    "\n",
    "$$I_{R2} = I_B $$\n",
    "\n",
    "$$ V_{out} (I_B) = I_B R_2 $$"
   ]
  },
  {
   "attachments": {},
   "cell_type": "markdown",
   "metadata": {},
   "source": [
    " - Opamp input currents cause an offset error in the output voltage proportional to the resistance of the feedback network\n",
    " - Input currents can be as low as single-digit picoamperes (FET inputs), or into the microampere range (BJT inputs)\n",
    " - Here we are considering only the bias current, use superposition to combine this with the appropriate configuration for the input voltage (i.e. inverting or non-inverting amplifier)\n",
    " - To avoid large voltage errors, use smaller resistances (but not so small as to load the opamp) "
   ]
  },
  {
   "cell_type": "markdown",
   "metadata": {
    "slideshow": {
     "slide_type": "slide"
    }
   },
   "source": [
    "## Bias current compensation"
   ]
  },
  {
   "cell_type": "markdown",
   "metadata": {
    "cell_style": "split"
   },
   "source": [
    "<center><img src=\"img/bias_current_compensation.png\" width=500 /></center>"
   ]
  },
  {
   "cell_type": "markdown",
   "metadata": {
    "cell_style": "split"
   },
   "source": [
    "$$ v^+ = -I_BR_3 = v^- $$\n",
    "\n",
    "$$ V_{out} = I_BR_2 - \\left(1+\\dfrac{R_2}{R_1} \\right) \\cdot I_B R_3  = 0$$\n",
    "\n",
    "$$ \\rightarrow \\boxed{R_3 = R_1||R_2} $$"
   ]
  },
  {
   "cell_type": "markdown",
   "metadata": {
    "slideshow": {
     "slide_type": "-"
    }
   },
   "source": [
    " - A solution is to add a resistor $R_3$ to the non-inverting terminal of the opamp to counteract the output offset voltage due to $I_B$\n",
    " - If the value of $R_3$ is equal to the *parallel combination of $R_1$ and $R_2$, the offset can be \"cancelled\"  \n",
    " - Because $R_1$ and $R_2$ won't match perfectly, it is good practice to keep them as small as possible\n",
    " - The minimum values of $R_1$ and $R_2$ depending on loading effects, both at the circuit input and opamp output"
   ]
  },
  {
   "cell_type": "markdown",
   "metadata": {
    "slideshow": {
     "slide_type": "slide"
    }
   },
   "source": [
    "## Input offset current"
   ]
  },
  {
   "cell_type": "markdown",
   "metadata": {
    "cell_style": "split"
   },
   "source": [
    "<center><img src=\"img/input_offset_current.png\" width=500 /></center>"
   ]
  },
  {
   "cell_type": "markdown",
   "metadata": {
    "cell_style": "split"
   },
   "source": [
    "$$ I_{OS} = I_B^+ - I_B^-$$\n",
    "\n",
    "\\begin{align}\n",
    "V_{out} &= - \\left(1+\\dfrac{R_2}{R_2} \\right)I_B^+R_3 + I_B^-R_2 \\\\\n",
    "\\\\\n",
    "&= R_2 \\left(I_B^- - I_B^+ \\right) = R_2\\cdot I_{OS} \n",
    "\\end{align}\n",
    "\n"
   ]
  },
  {
   "attachments": {},
   "cell_type": "markdown",
   "metadata": {},
   "source": [
    " - Input bias current can be managed using balanced (i.e. matched) circuits, as in the previous example\n",
    " - However, a mismatch between $I_B^+$ and $I_B^-$ ($I_{OS}$) will still cause an error\n",
    " - The only recourse in this case is to use small resistance values in the feedback network (while still ensuring minimal loading of the opamp output)\n",
    " - Input offset current is typically around 10 – 25% of input bias current"
   ]
  },
  {
   "cell_type": "markdown",
   "metadata": {
    "slideshow": {
     "slide_type": "slide"
    }
   },
   "source": [
    "## TI LM741 specifications"
   ]
  },
  {
   "cell_type": "markdown",
   "metadata": {
    "cell_style": "split"
   },
   "source": [
    "<center><img src=\"img/LM741.png\" width=1000 /></center>"
   ]
  },
  {
   "cell_type": "markdown",
   "metadata": {
    "cell_style": "split"
   },
   "source": [
    "| Parameter | Typical value |\n",
    "| :---------| :------------:|\n",
    "| Open-loop gain | $106 dB$   |\n",
    "| Bandwidth ($f_t$) | $1.5 MHz$ |\n",
    "| Input resistance | $2 M\\Omega$ |\n",
    "| Input offset voltage | $ 1mV$ |\n",
    "| Offset voltage drift | $15 \\mu V/^\\circ C$| \n",
    "| Input bias current | $80 nA$ |\n",
    "| Input offset current | $20 nA$ |\n",
    "| Supply current | $1.67 mA$ |"
   ]
  }
 ],
 "metadata": {
  "celltoolbar": "Slideshow",
  "kernelspec": {
   "display_name": "Python 3",
   "language": "python",
   "name": "python3"
  },
  "language_info": {
   "codemirror_mode": {
    "name": "ipython",
    "version": 3
   },
   "file_extension": ".py",
   "mimetype": "text/x-python",
   "name": "python",
   "nbconvert_exporter": "python",
   "pygments_lexer": "ipython3",
   "version": "3.8.2"
  },
  "livereveal": {
   "controls": false,
   "scroll": true,
   "theme": "simple"
  },
  "rise": {
   "enable_chalkboard": true,
   "slideNumber": true
  }
 },
 "nbformat": 4,
 "nbformat_minor": 4
}
