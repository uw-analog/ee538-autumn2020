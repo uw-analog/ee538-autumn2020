{
 "cells": [
  {
   "cell_type": "markdown",
   "metadata": {
    "cell_style": "center",
    "slideshow": {
     "slide_type": "slide"
    }
   },
   "source": [
    "# EE 538: Analog Circuits for Sensor Systems\n",
    "## Autumn 2020\n",
    "## Instructor: Jason Silver"
   ]
  },
  {
   "cell_type": "markdown",
   "metadata": {
    "slideshow": {
     "slide_type": "slide"
    }
   },
   "source": [
    "## Announcements"
   ]
  },
  {
   "cell_type": "markdown",
   "metadata": {
    "slideshow": {
     "slide_type": "-"
    }
   },
   "source": [
    " - Solution to Assignment 2 posted on JupyterHub\n",
    " - Assignment 2 due Sunday, October 25 at midnight\n",
    "    - Jupyter Notebook (.ipyb) submission on Canvas\n",
    "    - For LTspice problems, include image (e.g. screen capture) of schematic(s)"
   ]
  },
  {
   "cell_type": "markdown",
   "metadata": {
    "slideshow": {
     "slide_type": "slide"
    }
   },
   "source": [
    "## Week 4"
   ]
  },
  {
   "cell_type": "markdown",
   "metadata": {
    "slideshow": {
     "slide_type": "-"
    }
   },
   "source": [
    " - Art of Electronics (AoE) Chapters 4\n",
    " - Microelectronics (Sedra/Smith) Chapter 2"
   ]
  },
  {
   "cell_type": "markdown",
   "metadata": {
    "slideshow": {
     "slide_type": "slide"
    }
   },
   "source": [
    "## Overview"
   ]
  },
  {
   "cell_type": "markdown",
   "metadata": {
    "slideshow": {
     "slide_type": "-"
    }
   },
   "source": [
    " - Last time...\n",
    "    - Common-emitter amplifier, cont.\n",
    "    - Emitter-follower\n",
    "    - Field-effect transistor\n",
    "    - Small-signal FET model\n",
    " - Today...\n",
    "     - Ideal opamp\n",
    "     - Opamp characteristics\n",
    "     - Opamp frequency response\n",
    "     - Feedback\n",
    "     - Stability\n"
   ]
  },
  {
   "cell_type": "markdown",
   "metadata": {
    "slideshow": {
     "slide_type": "skip"
    }
   },
   "source": [
    "## Python packages/modules"
   ]
  },
  {
   "cell_type": "code",
   "execution_count": 2,
   "metadata": {
    "slideshow": {
     "slide_type": "skip"
    }
   },
   "outputs": [],
   "source": [
    "import matplotlib\n",
    "from matplotlib import pyplot as plt\n",
    "import numpy as np\n",
    "from scipy import signal\n",
    "#%matplotlib notebook\n",
    "\n",
    "def plot_xy(x, y, xlabel, ylabel):\n",
    "    fig, ax = plt.subplots(figsize=(10.0, 7.5));\n",
    "    ax.plot(x, y, 'b')\n",
    "    ax.grid()\n",
    "    ax.set_xlabel(xlabel)\n",
    "    ax.set_ylabel(ylabel)\n",
    "    \n",
    "def plot_xy2(x1, y1, x1label, y1label, x2, y2, x2label, y2label):\n",
    "    fig, ax = plt.subplots(2, figsize = (10.0, 7.5));\n",
    "    ax[0].plot(x1, y1, 'b')\n",
    "    ax[0].set_ylabel(y1label)\n",
    "    ax[0].grid()\n",
    "    \n",
    "    ax[1].plot(x2, y2, 'b')\n",
    "    ax[1].set_xlabel(x1label)\n",
    "    ax[1].set_xlabel(x2label)\n",
    "    ax[1].set_ylabel(y2label)\n",
    "    ax[1].grid()\n",
    "    \n",
    "    fig.align_ylabels(ax[:])\n",
    "\n",
    "def plot_logxy(x, y, xlabel, ylabel):\n",
    "    fig, ax = plt.subplots(figsize=(10.0, 7.5))\n",
    "    ax.semilogx(x, y, 'b')\n",
    "    ax.grid();\n",
    "    ax.set_xlabel(xlabel)\n",
    "    ax.set_ylabel(ylabel)\n",
    "    \n",
    "def plot_xlogy(x, y, xlabel, ylabel):\n",
    "    fig, ax = plt.subplots(figsize=(10.0, 7.5));\n",
    "    ax.semilogy(x, y, 'b');\n",
    "    ax.grid();\n",
    "    ax.set_xlabel(xlabel);\n",
    "    ax.set_ylabel(ylabel);\n",
    "    \n",
    "def read_ltspice_ac(file_name):\n",
    "    with open(file_name, 'r') as data:\n",
    "        x = []\n",
    "        y = []\n",
    "        z = []\n",
    "        next(data) # skip header line\n",
    "        for line in data:\n",
    "            p = line.split()\n",
    "            x.append(float(p[0]))\n",
    "            complex = p[1].split(\",\")\n",
    "            y.append(float(complex[0]))\n",
    "            z.append(float(complex[1]))\n",
    "\n",
    "    return x, y, z\n",
    "\n",
    "def plot_logxy2(x1, y1, x2, y2, x1label, y1label, x2label, y2label):\n",
    "    fig, ax = plt.subplots(2, figsize = (8.0, 6.0));\n",
    "    ax[0].semilogx(x1, y1, 'b');\n",
    "    ax[0].set_ylabel(y1label)\n",
    "    ax[0].grid()\n",
    "    \n",
    "    ax[1].semilogx(x2, y2, 'b');\n",
    "    ax[1].set_xlabel(x1label)\n",
    "    ax[1].set_xlabel(x2label);\n",
    "    ax[1].set_ylabel(y2label);\n",
    "    ax[1].grid();\n",
    "    \n",
    "    fig.align_ylabels(ax[:])"
   ]
  },
  {
   "cell_type": "markdown",
   "metadata": {
    "slideshow": {
     "slide_type": "slide"
    }
   },
   "source": [
    "## Ideal Opamp"
   ]
  },
  {
   "cell_type": "markdown",
   "metadata": {
    "cell_style": "split",
    "slideshow": {
     "slide_type": "-"
    }
   },
   "source": [
    "<center><img src=\"img/opamp_model.png\" width=600 /></center>"
   ]
  },
  {
   "cell_type": "markdown",
   "metadata": {
    "cell_style": "split"
   },
   "source": [
    "$$ R_{in} \\rightarrow \\infty $$\n",
    "\n",
    "\n",
    "$$ R_{out} \\rightarrow 0 $$\n",
    "\n",
    "\n",
    "$$ A_{0} \\rightarrow \\infty $$"
   ]
  },
  {
   "cell_type": "markdown",
   "metadata": {
    "slideshow": {
     "slide_type": "-"
    }
   },
   "source": [
    " - An opamp converts a differential input voltage $v^+$ to an output voltage $v_{out}$ via the relation\n",
    " \n",
    " $$ v_{out} = A_0\\cdot (v^+ - v^-)$$\n",
    " \n",
    " - For an ideal opamp, both gain and input resistance are infinite, while output resistance is zero\n",
    " - An ideal opamp's output changes instantaneously with a change in the input\n",
    " - An ideal opamp contributes no offset or added noise to the signal\n",
    " \n",
    " "
   ]
  },
  {
   "cell_type": "markdown",
   "metadata": {
    "slideshow": {
     "slide_type": "slide"
    }
   },
   "source": [
    "## Opamp golden rules"
   ]
  },
  {
   "cell_type": "markdown",
   "metadata": {
    "cell_style": "split"
   },
   "source": [
    "<center><img src=\"img/opamp_symbol.png\" width=400 /></center>"
   ]
  },
  {
   "cell_type": "markdown",
   "metadata": {
    "cell_style": "split"
   },
   "source": [
    "$$ A_0 \\rightarrow \\infty $$ $$\\rightarrow  v^+ = v^-$$\n",
    "\n",
    "$$ i^+ = i^- = 0 $$"
   ]
  },
  {
   "cell_type": "markdown",
   "metadata": {},
   "source": [
    " When analyzing opamp circuits, always keep in mind the following \"golden rules\"\n",
    " 1. The opamp tries to do whatever it takes to make the voltage difference between the inputs zero\n",
    " 2. The input(s) draw no current\n",
    " "
   ]
  },
  {
   "cell_type": "markdown",
   "metadata": {
    "slideshow": {
     "slide_type": "slide"
    }
   },
   "source": [
    "## Ideal inverting amplifier"
   ]
  },
  {
   "cell_type": "markdown",
   "metadata": {
    "cell_style": "split"
   },
   "source": [
    "<center><img src=\"img/ideal_inverting.png\" width=500 /></center>\n",
    "\n",
    "$$ v^- = v^+ = 0 $$"
   ]
  },
  {
   "cell_type": "markdown",
   "metadata": {
    "cell_style": "split"
   },
   "source": [
    "$$ v_{out} = 0 - \\frac{v_{in}}{R_i}\\cdot R_f $$\n",
    "\n",
    "$$ G_0 = \\frac{v_{out}}{v_{in}} = -\\dfrac{R_f}{R_i} $$"
   ]
  },
  {
   "cell_type": "markdown",
   "metadata": {},
   "source": [
    " - Infinite DC gain ensures that the voltage at the inverting terminal $v^-$ is maintained at ground\n",
    " - The \"zero-input-current\" property of the opamp ensures that the current through $R_f$ is equal to that through $R_i$\n",
    " - For an ideal opamp, the *closed-loop* gain only depends on the ratio of $R_f$ to $R_i$\n",
    " - *Note*: If the opamp uses a single supply (i.e. $-V_{EE} = 0$), the non-inverting terminal should be connected to a DC voltage between $V_{CC}$ and ground. However, the analysis of the gain is identical, as the non-inverting terminal can be treated as an AC ground.  "
   ]
  },
  {
   "cell_type": "markdown",
   "metadata": {
    "slideshow": {
     "slide_type": "slide"
    }
   },
   "source": [
    "## Finite open-loop gain"
   ]
  },
  {
   "cell_type": "markdown",
   "metadata": {
    "cell_style": "split"
   },
   "source": [
    "<center><img src=\"img/inverting_amplifier.png\" width=500 /></center>\n",
    "\n",
    "$$ v^- = v^+ - v_{out}/A_v = - v_{out}/A_v $$\n"
   ]
  },
  {
   "cell_type": "markdown",
   "metadata": {
    "cell_style": "split"
   },
   "source": [
    "\\begin{equation}\n",
    "i_{in} = \\dfrac{v_{in} - v^-}{R_i}  = \\dfrac{v_{in} + \\frac{v_{out}}{A_0}}{R_i}\n",
    "\\end{equation}\n",
    "\n",
    "\\begin{equation}\n",
    "v_{out} = \\dfrac{-v_{out}}{A_0} -\\dfrac{v_{in} + \\frac{v_{out}}{A_0}}{R_i}\\cdot R_f\n",
    "\\end{equation}\n",
    "\n",
    "$$ G_0 = \\dfrac{v_{out}}{v_{in}} = -\\dfrac{R_f}{R_i}\\cdot \\dfrac{1}{1+\\frac{1}{A_0}\\left(1+\\frac{R_f}{R_i}\\right)}$$"
   ]
  },
  {
   "cell_type": "markdown",
   "metadata": {
    "slideshow": {
     "slide_type": "-"
    }
   },
   "source": [
    " - With finite gain, the opamp input current is still zero, but $v^- \\ne v^+$\n",
    " - The finite *open-loop* gain $A_0$ results an error in the *closed-loop* gain that is dependent on the magnitude of $A_0$\n",
    " - This is a clear example of how the *precision* of closed-loop gain depends on the magnitude of the open-loop gain in a negative feedback system"
   ]
  },
  {
   "cell_type": "markdown",
   "metadata": {
    "slideshow": {
     "slide_type": "slide"
    }
   },
   "source": [
    "## Negative feedback"
   ]
  },
  {
   "cell_type": "markdown",
   "metadata": {
    "cell_style": "split"
   },
   "source": [
    "<center><img src=\"img/basic_feedback.png\" width=600 /></center>\n"
   ]
  },
  {
   "cell_type": "markdown",
   "metadata": {
    "cell_style": "split"
   },
   "source": [
    "$$ G = \\dfrac{s_o}{s_i} = \\dfrac{A}{1+\\beta A} $$\n",
    "<br>\n",
    "<center>as $A \\rightarrow \\infty $, $\\; G \\rightarrow \\dfrac{1}{\\beta}$</center>"
   ]
  },
  {
   "cell_type": "markdown",
   "metadata": {},
   "source": [
    " - Negative feedback is used to process the *error* signal $s_i - \\beta s_o $\n",
    " - A larger value of $A$, sometimes called the *forward gain* results in a smaller error, as $\\beta s_o \\rightarrow s_i$\n",
    " - The *feedback factor* $\\beta \\leq 1$ is the fraction of the output signal fed back to be compared with the input\n",
    " - $s_i$ and $s_o$ can be either voltages or currents, affecting the units of $A$ and $\\beta$\n"
   ]
  },
  {
   "cell_type": "markdown",
   "metadata": {
    "slideshow": {
     "slide_type": "slide"
    }
   },
   "source": [
    "## Non-inverting amplifier"
   ]
  },
  {
   "cell_type": "markdown",
   "metadata": {
    "cell_style": "split"
   },
   "source": [
    "<center><img src=\"img/non_inverting_amplifier.png\" width=600 /></center>"
   ]
  },
  {
   "cell_type": "markdown",
   "metadata": {
    "cell_style": "split"
   },
   "source": [
    "$$ A = A_0 $$\n",
    "\n",
    "$$ \\beta = \\dfrac{R_i}{R_i + R_f} $$\n",
    "\n",
    "$$G_0 = \\dfrac{v_{out}}{v_{in}} = \\dfrac{A_0}{1+\\beta A_0} = \\dfrac{A_0}{1 + \\dfrac{R_i}{R_i + R_f}\\cdot A_0}$$\n",
    "\n",
    "<center>as $A_0 \\rightarrow \\infty$, $\\; G_0 \\rightarrow \\boxed{1+\\dfrac{R_f}{R_i}}$"
   ]
  },
  {
   "cell_type": "markdown",
   "metadata": {},
   "source": [
    " - We see that the closed-loop gain $G_0$ is $1+\\beta A_0$ times *lower* than the open-loop gain $A_0$\n",
    " - As the *open-loop* gain $A_0$ is increased, the *closed-loop* gain becomes less dependent on $A_0$, and more defined by $\\beta$\n",
    " - The term $\\beta A_0$ is sometimes called the *loop gain*, and its magnitude determines closed-loop precision, input impedance, output impedance, and bandwidth\n",
    " - *Note*: The non-inverting amplifier is an example of *series-shunt* feedback"
   ]
  },
  {
   "cell_type": "markdown",
   "metadata": {
    "slideshow": {
     "slide_type": "slide"
    }
   },
   "source": [
    "## Closed-loop gain precision"
   ]
  },
  {
   "cell_type": "code",
   "execution_count": 3,
   "metadata": {
    "slideshow": {
     "slide_type": "skip"
    }
   },
   "outputs": [],
   "source": [
    "def plot_logxy2_1axis(x, y1, y2, xlabel, y1label, y2label):\n",
    "    fig, ax1 = plt.subplots(figsize=(10.0, 8.0))\n",
    "    color='blue'\n",
    "    ax1.set_xlabel(xlabel)\n",
    "    ax1.set_ylabel(y1label, color=color)\n",
    "    ax1.semilogx(x, y1)\n",
    "    ax1.grid()\n",
    "    ax1.tick_params(axis='y', labelcolor=color)\n",
    "\n",
    "    ax2 = ax1.twinx() \n",
    "\n",
    "    color = 'red'\n",
    "    ax2.set_ylabel(y2label, color=color)  \n",
    "    ax2.semilogx(x, y2, color=color)\n",
    "    ax2.grid()\n",
    "    ax2.tick_params(axis='y', labelcolor=color)\n",
    "\n",
    "    fig.tight_layout()  \n"
   ]
  },
  {
   "cell_type": "code",
   "execution_count": 8,
   "metadata": {
    "scrolled": false,
    "slideshow": {
     "slide_type": "-"
    }
   },
   "outputs": [
    {
     "data": {
      "image/png": "[encoded data removed]",
      "text/plain": [
       "<Figure size 720x576 with 2 Axes>"
      ]
     },
     "metadata": {
      "needs_background": "light"
     },
     "output_type": "display_data"
    }
   ],
   "source": [
    "A0_vals = np.logspace(1,7,num=100)      # min: 0dB, max: 140dB\n",
    "beta = 0.5                              # R1 = R2\n",
    "G_vals = A0_vals/(1+beta*A0_vals)       # closed-loop gain\n",
    "plot_logxy2_1axis(A0_vals, G_vals, 100*(1/beta-G_vals)/(1/beta), 'Open-loop gain', 'Closed-loop gain', 'Error [%]')"
   ]
  },
  {
   "cell_type": "markdown",
   "metadata": {},
   "source": [
    " - As the open-loop gain is increased we see a smaller error between the ideal and actual closed-loop gain values"
   ]
  },
  {
   "cell_type": "markdown",
   "metadata": {
    "slideshow": {
     "slide_type": "slide"
    }
   },
   "source": [
    "## Input impedance"
   ]
  },
  {
   "cell_type": "markdown",
   "metadata": {},
   "source": []
  },
  {
   "cell_type": "markdown",
   "metadata": {
    "slideshow": {
     "slide_type": "slide"
    }
   },
   "source": [
    "## Output impedance"
   ]
  },
  {
   "cell_type": "markdown",
   "metadata": {
    "slideshow": {
     "slide_type": "slide"
    }
   },
   "source": [
    "## Finite bandwidth"
   ]
  },
  {
   "cell_type": "markdown",
   "metadata": {
    "cell_style": "split"
   },
   "source": [
    " - Real opamps cannot respond instantaneously to changes in their input voltages\n",
    " - For most purposes, the *open-loop* frequency response of an opamp can be treated as first-order (single pole)\n",
    " - Opamp datasheets specify bandwidth as *transit frequency* or *gain-bandwidth* product, which for a first-order system is the product of the DC gain $A_0$ and the $3dB$ bandwidth $f_{3dB} = \\dfrac{\\omega_0}{2 \\pi}$:\n",
    " \n",
    "$$ f_t = A_0 \\cdot f_{3dB} =  \\dfrac{A_0\\cdot \\omega_0}{2\\pi}$$"
   ]
  },
  {
   "cell_type": "markdown",
   "metadata": {
    "cell_style": "split"
   },
   "source": [
    "$$ A_v(j\\omega) = \\dfrac{A_0}{1+j\\omega/\\omega_0}$$\n",
    "\n",
    "$$ |A_v(j\\omega)| = \\dfrac{A_0}{\\sqrt{1+\\omega^2/\\omega_0^2}} $$\n",
    "\n",
    "$$ \\angle A_v(j\\omega) = -\\tan^{-1}(\\omega/\\omega_0)$$"
   ]
  },
  {
   "cell_type": "markdown",
   "metadata": {
    "slideshow": {
     "slide_type": "slide"
    }
   },
   "source": [
    "## Gain-bandwidth product"
   ]
  },
  {
   "cell_type": "markdown",
   "metadata": {
    "cell_style": "split"
   },
   "source": [
    "<center><img src=\"img/CE_bandwidth.png\" width=400 /></center>"
   ]
  },
  {
   "cell_type": "markdown",
   "metadata": {
    "cell_style": "split"
   },
   "source": [
    "$$ A_0 = -g_m\\cdot R_C $$\n",
    "\n",
    "$$ \\omega_0 = \\dfrac{1}{R_C\\cdot C_L}$$\n",
    "\n",
    "$$ A_v(j\\omega) = \\dfrac{A_0}{1+j\\omega/\\omega_0}$$\n",
    "\n",
    "$$ f_t = A_0 \\cdot f_{3dB} =  \\dfrac{-g_m \\cdot R_C}{2\\pi \\cdot R_C \\cdot C_L} = \\dfrac{g_m}{2\\pi \\cdot C_L}$$"
   ]
  },
  {
   "cell_type": "markdown",
   "metadata": {},
   "source": [
    " - Although opamps are significantly more complex, the concept of gain-bandwidth product can be demonstrated using a simple gain stage like the common-emitter amplifier \n",
    " - Because the output resistance $R_C$ appears in the expressions for both gain and $3 dB$ bandwidth, an increase in $R_C$ increases gain while decreasing bandwidth, making their product constant\n",
    " - Gain and bandwidth for opamps are determined in a similar manner, just with different resistances and capacitances\n",
    " - Note that the dependence of bandwidth on $g_m$ indicates a tradeoff between speed and power, since $g_m$ depends on bias current"
   ]
  },
  {
   "cell_type": "markdown",
   "metadata": {
    "slideshow": {
     "slide_type": "slide"
    }
   },
   "source": [
    "## Opamp frequency response"
   ]
  },
  {
   "cell_type": "markdown",
   "metadata": {},
   "source": [
    " - A typical opamp has DC gain ($A_0$) from $100-160dB$ and gain-bandwidth product ($f_t$) from $1-100MHz$\n",
    " - From these two parametsr we can determine the frequency response"
   ]
  },
  {
   "cell_type": "code",
   "execution_count": 5,
   "metadata": {},
   "outputs": [
    {
     "data": {
      "image/png": "[encoded data removed]",
      "text/plain": [
       "<Figure size 576x432 with 2 Axes>"
      ]
     },
     "metadata": {
      "needs_background": "light"
     },
     "output_type": "display_data"
    }
   ],
   "source": [
    "A_dB = 120\n",
    "A_0 = 10**(A_dB/20)\n",
    "f_t = 10e6\n",
    "f_3dB = f_t/A_0\n",
    "w_0 = f_3dB*2*np.pi\n",
    "f = np.logspace(0,8, num=100)\n",
    "A_s = signal.TransferFunction([A_0], [1/w_0, 1])\n",
    "w, mag, phase = A_s.bode(w=f*2*np.pi)               \n",
    "plot_logxy2(f, mag, f, phase, 'Frequency [Hz]', 'Magnitude [dB]',\n",
    "           'Frequency [Hz]', 'Phase [deg]')"
   ]
  },
  {
   "cell_type": "markdown",
   "metadata": {},
   "source": [
    " - Note that we didn't need the $3dB$ bandwidth to determine the frequency response!"
   ]
  },
  {
   "cell_type": "markdown",
   "metadata": {
    "slideshow": {
     "slide_type": "slide"
    }
   },
   "source": [
    "## Closed-loop frequency response"
   ]
  },
  {
   "cell_type": "markdown",
   "metadata": {},
   "source": [
    " - We can readily determine the closed-loop frequency response using the following expression\n",
    " \n",
    "$$ G(s) = \\dfrac{A_v(s)}{1+\\beta A_v(s)} $$\n",
    " \n",
    " - Substituting $ A_v(s) = \\frac{A_0}{(1+s/\\omega_0)} $ gives\n",
    " \n",
    "$$ G(j\\omega) = \\dfrac{A_v(s)}{1+\\beta A_v(s)} =  \\dfrac{A_0}{1+s/\\omega_0+\\beta A_0}$$\n",
    "\n",
    " - We can solve for the pole location by setting the denominator equal to 0:\n",
    " \n",
    "$$ 1+s/\\omega_0+\\beta A_0 = 0 \\rightarrow \\boxed{s = -\\omega_0\\cdot(1+\\beta A_0)} $$\n",
    "\n",
    " - The pole frequency is the *magnitude* of this expression\n",
    " \n",
    "$$ \\omega_{3dB,CL} = \\lvert-\\omega_0\\cdot(1+\\beta A_0)\\rvert = \\omega_0 \\cdot (1+\\beta A_0)$$"
   ]
  },
  {
   "cell_type": "markdown",
   "metadata": {
    "slideshow": {
     "slide_type": "slide"
    }
   },
   "source": [
    "## Closed-loop bandwidth"
   ]
  },
  {
   "cell_type": "markdown",
   "metadata": {},
   "source": [
    " - From the preceding analysis, we see that the closed-loop pole frequency is $1 + \\beta A_0$ times *higher* than that of the open-loop pole\n",
    " - The term $\\beta A_0$ is often referred to as the *loop gain*, and it can be used to understand the effect of feedback on "
   ]
  },
  {
   "cell_type": "code",
   "execution_count": null,
   "metadata": {},
   "outputs": [],
   "source": []
  }
 ],
 "metadata": {
  "celltoolbar": "Slideshow",
  "kernelspec": {
   "display_name": "Python 3",
   "language": "python",
   "name": "python3"
  },
  "language_info": {
   "codemirror_mode": {
    "name": "ipython",
    "version": 3
   },
   "file_extension": ".py",
   "mimetype": "text/x-python",
   "name": "python",
   "nbconvert_exporter": "python",
   "pygments_lexer": "ipython3",
   "version": "3.8.2"
  },
  "livereveal": {
   "controls": false,
   "scroll": true,
   "theme": "simple"
  },
  "rise": {
   "enable_chalkboard": true,
   "slideNumber": true
  }
 },
 "nbformat": 4,
 "nbformat_minor": 4
}
