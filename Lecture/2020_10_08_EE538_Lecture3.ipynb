{
 "cells": [
  {
   "cell_type": "markdown",
   "metadata": {
    "cell_style": "center",
    "slideshow": {
     "slide_type": "slide"
    }
   },
   "source": [
    "# EE 538: Analog Circuits for Sensor Systems\n",
    "## Autumn 2020\n",
    "## Instructor: Jason Silver"
   ]
  },
  {
   "cell_type": "markdown",
   "metadata": {
    "slideshow": {
     "slide_type": "slide"
    }
   },
   "source": [
    "## Announcements"
   ]
  },
  {
   "cell_type": "markdown",
   "metadata": {
    "slideshow": {
     "slide_type": "-"
    }
   },
   "source": [
    " - Solution to Assignment 1 posted on JupyterHub\n",
    " - Assignment 2 due Sunday, October 18 at midnight\n",
    "    - Jupyter Notebook (.ipyb) submission on Canvas\n",
    "    - For LTspice problems, include image (e.g. screen capture) of schematic(s)"
   ]
  },
  {
   "cell_type": "markdown",
   "metadata": {
    "slideshow": {
     "slide_type": "slide"
    }
   },
   "source": [
    "## Week 3"
   ]
  },
  {
   "cell_type": "markdown",
   "metadata": {
    "slideshow": {
     "slide_type": "-"
    }
   },
   "source": [
    " - Art of Electronics (AoE) Chapters 3, 4\n",
    " - Microelectronics (Sedra/Smith) Chapter 5, 6"
   ]
  },
  {
   "cell_type": "markdown",
   "metadata": {
    "slideshow": {
     "slide_type": "slide"
    }
   },
   "source": [
    "## Overview"
   ]
  },
  {
   "cell_type": "markdown",
   "metadata": {
    "slideshow": {
     "slide_type": "-"
    }
   },
   "source": [
    " - Last time...\n",
    "     - BJT physics\n",
    "     - Ebers Moll BJT model\n",
    "     - Small-signal BJT model\n",
    "     - Common-emitter amplifier\n",
    " - Today...\n",
    "    - Common-emitter amplifier, cont.\n",
    "    - Emitter-follower\n",
    "    - Field-effect transistor\n",
    "    - Small-signal FET model\n",
    "    - FET-based circuits"
   ]
  },
  {
   "cell_type": "markdown",
   "metadata": {
    "slideshow": {
     "slide_type": "slide"
    }
   },
   "source": [
    "## Words of wisdom"
   ]
  },
  {
   "cell_type": "markdown",
   "metadata": {},
   "source": [
    "“A good understanding of transistors is very important, even if most of your circuits are made from ICs, because you need to understand the input and output properties of the IC in order to connect it to the rest of your circuit and to the outside world.”\n",
    "\n",
    "– from The Art of Electronics \n"
   ]
  },
  {
   "cell_type": "markdown",
   "metadata": {
    "slideshow": {
     "slide_type": "skip"
    }
   },
   "source": [
    "## Python packages/modules"
   ]
  },
  {
   "cell_type": "code",
   "execution_count": 4,
   "metadata": {
    "slideshow": {
     "slide_type": "skip"
    }
   },
   "outputs": [],
   "source": [
    "import matplotlib\n",
    "from matplotlib import pyplot as plt\n",
    "import numpy as np\n",
    "from scipy import signal\n",
    "#%matplotlib notebook\n",
    "\n",
    "def plot_xy(x, y, xlabel, ylabel):\n",
    "    fig, ax = plt.subplots(figsize=(10.0, 7.5));\n",
    "    ax.plot(x, y, 'b');\n",
    "    ax.grid();\n",
    "    ax.set_xlabel(xlabel);\n",
    "    ax.set_ylabel(ylabel);\n",
    "    \n",
    "def plot_xy2(x1, y1, x1label, y1label, x2, y2, x2label, y2label):\n",
    "    fig, ax = plt.subplots(2, figsize = (10.0, 7.5));\n",
    "    ax[0].plot(x1, y1, 'b');\n",
    "    ax[0].set_ylabel(y1label)\n",
    "    ax[0].grid()\n",
    "    \n",
    "    ax[1].plot(x2, y2, 'b');\n",
    "    ax[1].set_xlabel(x1label)\n",
    "    ax[1].set_xlabel(x2label);\n",
    "    ax[1].set_ylabel(y2label);\n",
    "    ax[1].grid();\n",
    "    \n",
    "    fig.align_ylabels(ax[:])\n",
    "    \n",
    "def plot_xlogy(x, y, xlabel, ylabel):\n",
    "    fig, ax = plt.subplots(figsize=(10.0, 7.5));\n",
    "    ax.semilogy(x, y, 'b');\n",
    "    ax.grid();\n",
    "    ax.set_xlabel(xlabel);\n",
    "    ax.set_ylabel(ylabel);\n",
    "    \n",
    "def read_ltspice_ac(file_name):\n",
    "    with open(file_name, 'r') as data:\n",
    "        x = []\n",
    "        y = []\n",
    "        z = []\n",
    "        next(data) # skip header line\n",
    "        for line in data:\n",
    "            p = line.split()\n",
    "            x.append(float(p[0]))\n",
    "            complex = p[1].split(\",\")\n",
    "            y.append(float(complex[0]))\n",
    "            z.append(float(complex[1]))\n",
    "\n",
    "    return x, y, z\n",
    "\n",
    "def plot_logxy2(x1, y1, x2, y2, x1label, y1label, x2label, y2label):\n",
    "    fig, ax = plt.subplots(2, figsize = (8.0, 6.0));\n",
    "    ax[0].semilogx(x1, y1, 'b');\n",
    "    ax[0].set_ylabel(y1label)\n",
    "    ax[0].grid()\n",
    "    \n",
    "    ax[1].semilogx(x2, y2, 'b');\n",
    "    ax[1].set_xlabel(x1label)\n",
    "    ax[1].set_xlabel(x2label);\n",
    "    ax[1].set_ylabel(y2label);\n",
    "    ax[1].grid();\n",
    "    \n",
    "    fig.align_ylabels(ax[:])"
   ]
  },
  {
   "cell_type": "markdown",
   "metadata": {
    "slideshow": {
     "slide_type": "slide"
    }
   },
   "source": [
    "## Common-emitter, revisited"
   ]
  },
  {
   "cell_type": "markdown",
   "metadata": {
    "slideshow": {
     "slide_type": "-"
    }
   },
   "source": [
    "<center><img src=\"img/CE_small_signal_full.png\" width=800 /></center>"
   ]
  },
  {
   "cell_type": "markdown",
   "metadata": {
    "slideshow": {
     "slide_type": "-"
    }
   },
   "source": [
    " - In the small-signal model, $V_{CC}$ (and any other DC voltage) becomes a \"virtual\" or \"AC\" ground\n",
    " - $r_o$ appears in parallel with $R_C$, resulting in a slightly modified expression for the gain:\n",
    " \n",
    "\\begin{align}\n",
    "v_{out} = -g_mv_{in} \\cdot r_o||R_C \\rightarrow A_v = \\dfrac{v_{out}}{v_{in}} = -g_m \\cdot r_o||R_C\n",
    "\\end{align}\n",
    " - However, $r_o$ is typically much larger than $R_C$, allowing the common approximation\n",
    " \n",
    "\\begin{align}\n",
    "A_v = \\dfrac{v_{out}}{v_{in}} \\approx -g_m \\cdot R_C \n",
    "\\end{align}\n",
    " "
   ]
  },
  {
   "cell_type": "markdown",
   "metadata": {
    "slideshow": {
     "slide_type": "slide"
    }
   },
   "source": [
    "## Load capacitance"
   ]
  },
  {
   "cell_type": "markdown",
   "metadata": {},
   "source": [
    "<center><img src=\"img/CE_small_signal_AC.png\" width=800 /></center>"
   ]
  },
  {
   "cell_type": "markdown",
   "metadata": {},
   "source": [
    " - $C_L$ represents either an explicit capacitor or device capacitance of the following stage\n",
    " - The resulting small-signal transfer function is given by\n",
    " \n",
    " $$\\dfrac{v_{out}}{v_{in}}(s) = -g_m\\cdot\\left(R_C||r_o||Z_{CL}\\right) $$\n",
    " \n",
    " - In this case, the transfer function can be easily separated into DC and AC components. Let $R_{eq} = R_C||r_o$:\n",
    " \n",
    "  $$\\dfrac{v_{out}}{v_{in}}(s) = -g_m \\cdot R_{eq}\\cdot\\dfrac{1}{1+sC_LR_{eq}} $$"
   ]
  },
  {
   "cell_type": "markdown",
   "metadata": {
    "slideshow": {
     "slide_type": "slide"
    }
   },
   "source": [
    "## Common-emitter frequency response"
   ]
  },
  {
   "cell_type": "code",
   "execution_count": 5,
   "metadata": {},
   "outputs": [
    {
     "data": {
      "image/png": "[encoded data removed]",
      "text/plain": [
       "<Figure size 576x432 with 2 Axes>"
      ]
     },
     "metadata": {
      "needs_background": "light"
     },
     "output_type": "display_data"
    }
   ],
   "source": [
    "# DC operating point\n",
    "I_C0 = 1e-3\n",
    "V_T = 26e-3\n",
    "V_A = 100\n",
    "\n",
    "# small-signal parameters\n",
    "g_m = I_C0/V_T\n",
    "r_o = V_A/I_C0\n",
    "\n",
    "# design values\n",
    "R_C = 2e3\n",
    "C_L = 100e-9\n",
    "R_eq = R_C*r_o/(R_C+r_o)\n",
    "\n",
    "gain_ac = signal.TransferFunction([-g_m*R_eq], [R_eq*C_L, 1])\n",
    "w, mag, phase = gain_ac.bode()       \n",
    "f = w/2/np.pi        \n",
    "plot_logxy2(f, mag, f, phase, 'Frequency [Hz]', 'Magnitude [dB]',\n",
    "           'Frequency [Hz]', 'Phase [deg]')"
   ]
  },
  {
   "cell_type": "markdown",
   "metadata": {
    "slideshow": {
     "slide_type": "slide"
    }
   },
   "source": [
    "## Temperature dependence"
   ]
  },
  {
   "cell_type": "markdown",
   "metadata": {
    "slideshow": {
     "slide_type": "-"
    }
   },
   "source": [
    " - Analog circuits must be designed to function over a wide range of temperatures to ensure robustness\n",
    " - Some example temperature ranges:\n",
    "     - Commercial temperature range: $0^{\\circ}C$ to $60^{\\circ}C$\n",
    "     - Industrial temperature range: $-40^{\\circ}C$ to $85^{\\circ}C$\n",
    "     - Military temperature range: $-40^{\\circ}C$ to $125^{\\circ}C$ \n",
    " - Both $I_S$ and $V_T$ exhibit temperature dependence, resulting in different values of $I_C$, $g_m$, and voltage gain at different temperatures:\n",
    " $$ A_v = -g_m\\cdot R_C = \\dfrac{1}{V_T}I_S(T)e^{\\frac{V_{BE}}{V_T}}R_C$$\n",
    " \n",
    " - This will be a problem it prevents our circuit from meeting specifications over the target temperature range\n",
    " - Let's take a look at a SPICE simulation of gain versus temperature for a common-emitter amplifier\n",
    " "
   ]
  },
  {
   "cell_type": "markdown",
   "metadata": {
    "slideshow": {
     "slide_type": "slide"
    }
   },
   "source": [
    "## Common-emitter gain versus temperature"
   ]
  },
  {
   "cell_type": "code",
   "execution_count": 6,
   "metadata": {
    "slideshow": {
     "slide_type": "-"
    }
   },
   "outputs": [
    {
     "data": {
      "image/png": "[encoded data removed]",
      "text/plain": [
       "<Figure size 720x540 with 1 Axes>"
      ]
     },
     "metadata": {
      "needs_background": "light"
     },
     "output_type": "display_data"
    }
   ],
   "source": [
    "temp, reals, imags = read_ltspice_ac('Av_vs_temp.csv')\n",
    "gain = np.sqrt(np.asarray(reals)**2 + np.asarray(imags)**2)\n",
    "plot_xy(temp, gain, 'Temperature [C]','$A_v [V/V]$')"
   ]
  },
  {
   "cell_type": "markdown",
   "metadata": {
    "slideshow": {
     "slide_type": "-"
    }
   },
   "source": [
    " - What a disaster! Even over the commercial temperature range, our voltage gain varies by several orders of magnitude, and the circuit becomes unusable (i.e. it does not provide gain) at high temperatures\n",
    " - How can we ensure a more robust design?"
   ]
  },
  {
   "cell_type": "markdown",
   "metadata": {
    "slideshow": {
     "slide_type": "slide"
    }
   },
   "source": [
    "## Addition of bias resistor R<sub>E</sub>"
   ]
  },
  {
   "cell_type": "markdown",
   "metadata": {
    "cell_style": "split",
    "slideshow": {
     "slide_type": "-"
    }
   },
   "source": [
    "<center><img src=\"img/CE_emitter_bias.png\" width=400 /></center>"
   ]
  },
  {
   "cell_type": "markdown",
   "metadata": {
    "cell_style": "split",
    "slideshow": {
     "slide_type": "-"
    }
   },
   "source": [
    " - If we make the assumption that $V_{BE}$ is constant (say, $600 mV$), we can set the base voltage $V_{B0}$ to produce a collector current that is approximately constant:\n",
    " \n",
    "$$ I_{C0} = \\dfrac{V_{E0}}{R_E} \\approx \\dfrac{V_{B0} - 0.6V}{R_E} $$\n",
    " \n",
    " - $V_{BE0}$ acts as a \"battery,\" while $R_E$ is used as a current source in conjuction with the resulting emitter voltage $V_{E0}$\n",
    " - We determine the bias voltage $V_{B0}$ as\n",
    " \n",
    " $$ V_{B0} = I_{C0} \\cdot R_E + 0.6V $$\n",
    "\n"
   ]
  },
  {
   "cell_type": "markdown",
   "metadata": {
    "slideshow": {
     "slide_type": "slide"
    }
   },
   "source": [
    "## Effect of R<sub>E</sub> on gain"
   ]
  },
  {
   "cell_type": "markdown",
   "metadata": {
    "cell_style": "split",
    "slideshow": {
     "slide_type": "-"
    }
   },
   "source": [
    "<center><img src=\"img/CE_degen_small_signal_qualitative.png\" width=500 /></center>\n",
    "\n",
    "$$ v_e \\approx v_{in} $$\n",
    "\n",
    "$$ i_c \\approx \\dfrac{v_{in}}{R_E}$$\n",
    "\n",
    "$$ v_{out} \\approx -R_C\\cdot \\dfrac{v_{in}}{R_E} $$"
   ]
  },
  {
   "cell_type": "markdown",
   "metadata": {
    "cell_style": "split",
    "slideshow": {
     "slide_type": "-"
    }
   },
   "source": [
    "<br>\n",
    "\n",
    " - $R_E$ acts to stabilize the emitter voltage $v_e$\n",
    " \n",
    " - As $v_{in}$ begins to increase, the current through $R_E$, and thus the voltage $v_e$, also starts increasing\n",
    " \n",
    " - However, the increase in $v_e$ results in a decrease in $v_{be}$, which counteracts the increase in $v_{in}$\n",
    " - This is a form of negative feedback, which causes $v_e$ to \"follow\" $v_{in}$\n",
    " - The result is a weaker dependence of the gain on the *temperature-dependent* value of $g_m$"
   ]
  },
  {
   "cell_type": "markdown",
   "metadata": {
    "cell_style": "center",
    "slideshow": {
     "slide_type": "slide"
    }
   },
   "source": [
    "## Small-signal voltage gain"
   ]
  },
  {
   "cell_type": "markdown",
   "metadata": {
    "cell_style": "split",
    "slideshow": {
     "slide_type": "-"
    }
   },
   "source": [
    "<center><img src=\"img/CE_degen_small_signal.png\" width=400 /></center>"
   ]
  },
  {
   "cell_type": "markdown",
   "metadata": {
    "cell_style": "split",
    "slideshow": {
     "slide_type": "-"
    }
   },
   "source": [
    "$$ i_b << g_m\\cdot v_{be} $$\n",
    "\n",
    "\\begin{align}\n",
    "v_e &\\approx g_m\\cdot (v_{in} - v_e)R_E\\\\\n",
    "\\\\\n",
    "v_e &\\approx \\dfrac{g_mR_E}{1+g_mR_E}v_{in}\n",
    "\\end{align}\n",
    "\n",
    "\\begin{align}\n",
    "\\dfrac{v_{out}}{v_{in}} &\\approx -\\dfrac{g_m}{1+g_mR_E}\\cdot R_C \n",
    "\\approx \\boxed{-\\dfrac{R_C}{R_E}}\n",
    "\\end{align}"
   ]
  },
  {
   "cell_type": "markdown",
   "metadata": {
    "slideshow": {
     "slide_type": "-"
    }
   },
   "source": [
    " - Here we're making the assumption that $g_m\\cdot R_E >> 1$. How accurate is this?\n",
    " - If $I_{C0} =200\\mu A$, $g_m \\approx 8 mS$\n",
    " - For $R_E = 1k\\Omega$, the product $g_m\\cdot R_E \\approx 8 V/V $ \n",
    " - We can consider the term $g_m/(1+g_mR_E)$ to be the *effective* transconductance\n",
    " - Due to the lower effective transconductance, we say that $g_m$ is \"degenerated\""
   ]
  },
  {
   "cell_type": "markdown",
   "metadata": {
    "slideshow": {
     "slide_type": "slide"
    }
   },
   "source": [
    "## Resulting gain versus temperature"
   ]
  },
  {
   "cell_type": "code",
   "execution_count": 7,
   "metadata": {
    "slideshow": {
     "slide_type": "-"
    }
   },
   "outputs": [
    {
     "data": {
      "image/png": "[encoded data removed]",
      "text/plain": [
       "<Figure size 720x540 with 1 Axes>"
      ]
     },
     "metadata": {
      "needs_background": "light"
     },
     "output_type": "display_data"
    }
   ],
   "source": [
    "temp, reals, imags = read_ltspice_ac('Av_vs_temp_degen.csv')\n",
    "gain = np.sqrt(np.asarray(reals)**2 + np.asarray(imags)**2)\n",
    "plot_xy(temp, gain, 'Temperature [C]','$A_v [V/V]$')"
   ]
  },
  {
   "cell_type": "markdown",
   "metadata": {
    "slideshow": {
     "slide_type": "-"
    }
   },
   "source": [
    " - The use of negative feedback has reduced the gain variation to about 2%!\n",
    " - The tradeoff is that the gain is much lower than without $R_E$\n",
    " - As we will see this is typical of negative feedback systems, which employ large *open-loop* gain to achieve a more precise (but lower) *closed-loop* gain"
   ]
  },
  {
   "cell_type": "markdown",
   "metadata": {
    "slideshow": {
     "slide_type": "slide"
    }
   },
   "source": [
    "## Input bias network"
   ]
  },
  {
   "cell_type": "markdown",
   "metadata": {
    "cell_style": "split",
    "slideshow": {
     "slide_type": "-"
    }
   },
   "source": [
    "<center><img src=\"img/CE_degen_bias.png\" width=600 /></center>"
   ]
  },
  {
   "cell_type": "markdown",
   "metadata": {
    "cell_style": "split",
    "slideshow": {
     "slide_type": "-"
    }
   },
   "source": [
    "$$ V_{B0} = \\dfrac{R_{B2}}{R_{B2}+R_{B1}}\\cdot V_{CC} $$\n",
    "\n",
    "$$ R_{in} = R_{B1}||R_{B2} $$\n",
    "\n",
    "$$ f_{3dB,HP} = \\dfrac{1}{2 \\pi (R_{bias}||r_{in}) C_{AC}}$$"
   ]
  },
  {
   "cell_type": "markdown",
   "metadata": {
    "slideshow": {
     "slide_type": "-"
    }
   },
   "source": [
    " - To employ a DC bias for the common-emitter amplifier, we can use a resistor divider combined with AC coupling for the signal\n",
    " - Note that the use of AC coupling prevents the passage of DC signals from input to output\n",
    " - The highpass corner frequency of the bias network depends on the bias resistor values, $C_{AC}$, and the input resistance of the amplifier\n",
    " - To minimize loading, the equivalent input resistance should be much larger than the source resistance $R_S$\n",
    " - The input resistance of the amplifier now comprises the parallel combination of $R_{B1}$, $R_{B2}$, and the resistance looking into the base of the transistor\n"
   ]
  },
  {
   "cell_type": "markdown",
   "metadata": {
    "slideshow": {
     "slide_type": "slide"
    }
   },
   "source": [
    "## Common-emitter output loading"
   ]
  },
  {
   "cell_type": "markdown",
   "metadata": {
    "cell_style": "split"
   },
   "source": [
    "<center><img src=\"img/CE_loading.png\" width=450 /></center>"
   ]
  },
  {
   "cell_type": "markdown",
   "metadata": {
    "cell_style": "split"
   },
   "source": [
    "<br>\n",
    "\n",
    "$$ \\dfrac{v_{out}}{v_{in}} \\approx -g_m\\cdot R_C || R_L $$\n",
    "\n",
    "$$ v_{out} = -g_mR_C \\cdot \\dfrac{R_L}{R_L + R_C} \\cdot v_{in} $$\n",
    "\n",
    "$$ R_L >> R_C $$"
   ]
  },
  {
   "cell_type": "markdown",
   "metadata": {},
   "source": [
    " - The high gain of the common-emitter amplifier makes it (and related structures) the typical means of achieving gain in operational amplifiers\n",
    " - However, $R_L$ should be much greater than $R_C$ to minimize loading and maintain the desired gain value\n",
    " - It is not always possible to guarantee the input resistance of the following stage will be large enough (e.g. when driving a speaker, the effect resistance is less than 100 $\\Omega$)\n",
    " - We need some means of \"buffering\" the output resistance of the gain stage from the low input resistance of other circuit blocks"
   ]
  },
  {
   "cell_type": "markdown",
   "metadata": {
    "slideshow": {
     "slide_type": "slide"
    }
   },
   "source": [
    "## Emitter follower"
   ]
  },
  {
   "cell_type": "markdown",
   "metadata": {
    "cell_style": "split",
    "slideshow": {
     "slide_type": "-"
    }
   },
   "source": [
    "<center><img src=\"img/emitter_follower.png\" width=400 /></center>"
   ]
  },
  {
   "cell_type": "markdown",
   "metadata": {
    "cell_style": "split"
   },
   "source": [
    " - To estimate the DC operating point, we can assume a constant $V_{BE}$ (say, 600mV):\n",
    " \n",
    " $$ I_{C0} = \\dfrac{V_{E}}{R_E} = \\dfrac{V_B - V_{BE}}{R_E} = \\dfrac{V_B - 0.6V}{R_E}$$\n",
    " \n",
    " - As with the degenerated emitter-follower, $v_e$ follows $v_{in}$, such that\n",
    " \n",
    " $$ v_{out} \\approx v_{in} $$\n",
    " \n",
    "    hence the name, \"emitter-follower\""
   ]
  },
  {
   "cell_type": "markdown",
   "metadata": {
    "slideshow": {
     "slide_type": "-"
    }
   },
   "source": [
    " - The *emitter-follower* does not provide gain (that is, the gain is ideally 1), but provides a high input impedance and low output impedance\n",
    " - This makes the emitter-follower well-suited for buffering gain stages against circuits with low input impedance\n",
    " - Note that the DC level of $V_{out}$ is approximately $600mV$ lower than that of $V_{in}$"
   ]
  },
  {
   "cell_type": "markdown",
   "metadata": {
    "slideshow": {
     "slide_type": "slide"
    }
   },
   "source": [
    "## Emitter follower output resistance"
   ]
  },
  {
   "cell_type": "markdown",
   "metadata": {
    "cell_style": "split"
   },
   "source": [
    "<center><img src=\"img/EF_output_resistance.png\" width=400 /></center>"
   ]
  },
  {
   "cell_type": "markdown",
   "metadata": {
    "cell_style": "split"
   },
   "source": [
    "$$ i_t = v_t \\left(g_m  + \\frac{1}{R_E}+ \\frac{1}{r_\\pi} \\right)$$\n",
    "\n",
    "$$ r_{out} = \\dfrac{v_t}{i_t} = \\dfrac{1}{g_m}||R_E|| r_{\\pi} $$\n",
    "\n",
    "$$  \\dfrac{1}{g_m} << R_E, r_{\\pi} $$ \n",
    "\n",
    "$$\\rightarrow \\boxed{r_{out} \\approx \\dfrac{1}{g_m}} $$"
   ]
  },
  {
   "cell_type": "markdown",
   "metadata": {},
   "source": [
    " - \"Looking into\" the output of the emitter-follower, we see an effective resistance of $\\dfrac{1}{g_m}$\n",
    " - The output resistance of the emitter-follower can be controlled (reduced) by increasing the bias current, which lowers the transconductance $g_m$\n",
    " - Due to its low output resistance, the emitter-follower is typically used as an output stage for operational amplifiers "
   ]
  },
  {
   "cell_type": "markdown",
   "metadata": {
    "slideshow": {
     "slide_type": "slide"
    }
   },
   "source": [
    "# Lecture 3 - Field effect transistors"
   ]
  },
  {
   "cell_type": "markdown",
   "metadata": {
    "slideshow": {
     "slide_type": "slide"
    }
   },
   "source": [
    "## MOS transistor"
   ]
  },
  {
   "cell_type": "markdown",
   "metadata": {
    "cell_style": "split",
    "slideshow": {
     "slide_type": "-"
    }
   },
   "source": [
    "<center><img src=\"img/mos_structure.png\" width=500 /></center>"
   ]
  },
  {
   "cell_type": "markdown",
   "metadata": {
    "cell_style": "split",
    "slideshow": {
     "slide_type": "-"
    }
   },
   "source": [
    "<center><img src=\"img/NMOS_symbol.png\" width=250 /></center>\n",
    "\n",
    "$$ I_d = f(V_{gs}, V_{ds}) $$"
   ]
  },
  {
   "cell_type": "markdown",
   "metadata": {
    "slideshow": {
     "slide_type": "-"
    }
   },
   "source": [
    " - MOSFET: __M__etal-__O__xide-__S__emiconductor __F__ield __E__ffect __T__ransistor\n",
    " - $n$-type transistors (NMOS) consist of $p$-doped bulk, $n$-doped source/drain, polysilicon gate, and $SiO_2$ insulating layer\n",
    " - For NMOS transistors, drain current $I_d$ is controlled by the gate-source voltage $V_{gs}$, similar to the $V_{be}-I_c$ relationship in an $npn$ BJT\n",
    " - The influence of $V_{ds}$ on $I_d$ is a \"second-order\" effect, similar to the Early effect in BJTs"
   ]
  },
  {
   "cell_type": "markdown",
   "metadata": {
    "slideshow": {
     "slide_type": "slide"
    }
   },
   "source": [
    "## Current flow in an NMOS transistor"
   ]
  },
  {
   "cell_type": "markdown",
   "metadata": {
    "slideshow": {
     "slide_type": "-"
    }
   },
   "source": [
    "<center><img src=\"img/NMOS_cross_section.png\" width=600 /></center>"
   ]
  },
  {
   "cell_type": "markdown",
   "metadata": {
    "slideshow": {
     "slide_type": "-"
    }
   },
   "source": [
    " - Inversion layer forms as minority carriers (electrons) are drawn from the $p$-type substrate to interface due to the *vertical* electric field formed by $V_{gs}$\n",
    " - Threshold voltage ($V_{th}$) defined as the $V_{gs}$ value at which the minority carrier (electrons) concentration equals that of the majority carriers (holes)\n",
    " - Electrons move from source to drain in the presence of a *lateral* electric field formed by $V_{ds}$"
   ]
  },
  {
   "cell_type": "markdown",
   "metadata": {
    "slideshow": {
     "slide_type": "slide"
    }
   },
   "source": [
    "## Square-law MOSFET model"
   ]
  },
  {
   "cell_type": "markdown",
   "metadata": {
    "cell_style": "split",
    "slideshow": {
     "slide_type": "-"
    }
   },
   "source": [
    "<center><img src=\"img/MOS_transistor.png\" width=300 /></center>"
   ]
  },
  {
   "cell_type": "markdown",
   "metadata": {
    "cell_style": "split",
    "slideshow": {
     "slide_type": "-"
    }
   },
   "source": [
    "$$I_d = \\frac{1}{2}\\mu C_{ox} \\frac{W}{L}\\left(V_{gs} - V_{th} \\right)^2 $$\n",
    "\n",
    "\\begin{align} I_g = 0 && I_s = I_d\n",
    "\\end{align}\n",
    "\n",
    "$$ V_{gs} = V_{th} + \\sqrt{\\frac{2\\cdot I_d}{\\mu C_{ox} \\left(\\frac{W}{L}\\right)}}$$"
   ]
  },
  {
   "cell_type": "markdown",
   "metadata": {},
   "source": [
    " - If $V_{gs} > V_{th}$ and $V_{ds} > V_{gs} - V_{th}$, the transistor is said to be in *saturation* (mode used for analog design) \n",
    " - In saturation, drain current ($I_c$) is a *quadratic* function of $V_{gs}$\n",
    " - At DC, gate current $I_g$ is effectively zero (extremely high input impedance)\n",
    " - If $I_d$ is held constant, $V_{gs}$ has a square-root dependence on $I_d$"
   ]
  },
  {
   "cell_type": "markdown",
   "metadata": {
    "slideshow": {
     "slide_type": "slide"
    }
   },
   "source": [
    "## MOSFET I-V relationship"
   ]
  },
  {
   "cell_type": "markdown",
   "metadata": {
    "slideshow": {
     "slide_type": "-"
    }
   },
   "source": [
    " - Let's define a function that uses the square-law model to calculate $I_d$ for an arbitrary $V_{gs}$:"
   ]
  },
  {
   "cell_type": "code",
   "execution_count": 8,
   "metadata": {
    "slideshow": {
     "slide_type": "-"
    }
   },
   "outputs": [],
   "source": [
    "def nmos_iv(V_gs, W, L):\n",
    "    u_n = 350                 # electron mobility (device parameter)\n",
    "    e_ox = 3.9*8.854e-12/100; # relative permittivity\n",
    "    t_ox = 9e-9*100;          # oxide thickness\n",
    "    C_ox = e_ox/t_ox          # oxide capacitance\n",
    "    V_th = 0.7                # threshold voltage (device parameter)\n",
    "    \n",
    "    I_d = 0.5*u_n*C_ox*(W/L)*(V_gs - V_th)**2 \n",
    "\n",
    "    return I_d"
   ]
  },
  {
   "cell_type": "markdown",
   "metadata": {
    "slideshow": {
     "slide_type": "subslide"
    }
   },
   "source": [
    " - Let's plot $I_d$ versus $V_{gs}$"
   ]
  },
  {
   "cell_type": "code",
   "execution_count": 9,
   "metadata": {
    "scrolled": false,
    "slideshow": {
     "slide_type": "-"
    }
   },
   "outputs": [
    {
     "data": {
      "image/png": "[encoded data removed]",
      "text/plain": [
       "<Figure size 720x540 with 1 Axes>"
      ]
     },
     "metadata": {
      "needs_background": "light"
     },
     "output_type": "display_data"
    }
   ],
   "source": [
    "V_gs = np.linspace(0.7,1,num=300)\n",
    "I_d = nmos_iv(V_gs, 1000, 1)\n",
    "plot_xy(V_gs, 1e3*I_d, '$V_{gs}$ [V]', '$I_d$ [mA]') "
   ]
  },
  {
   "cell_type": "markdown",
   "metadata": {
    "slideshow": {
     "slide_type": "-"
    }
   },
   "source": [
    " - The $I_d$ versus $V_{gs}$ curve is less steep than the $I_c$ versus $V_{be}$ for the BJT (quadratic versus exponential)\n",
    " - This results in a *lower value of $g_m$ for a given DC current*"
   ]
  },
  {
   "cell_type": "markdown",
   "metadata": {
    "slideshow": {
     "slide_type": "slide"
    }
   },
   "source": [
    "## Small-signal transconductance"
   ]
  },
  {
   "cell_type": "markdown",
   "metadata": {
    "slideshow": {
     "slide_type": "-"
    }
   },
   "source": [
    " - As with with the BJT, we can calculate the transconductance $g_m$ using the derivative of $I_d$ with respect to $V_{gs}$:\n",
    " \n",
    " \\begin{align}\n",
    " g_m = \\dfrac{\\partial}{\\partial V_{gs}} \\left[ \\frac{1}{2}\\mu C_{ox} \\frac{W}{L}\\left(V_{gs} - V_{th} \\right)^2  \\right]  = \\mu C_{ox} \\frac{W}{L}\\left(V_{gs} - V_{th} \\right)\n",
    " \\end{align}\n",
    " \n",
    " - Similar to the BJT, $g_m$ depends linearly on the DC collector current for a constant value of $V_{gs} - V_{th}$:\n",
    " \n",
    " \\begin{align}\n",
    " g_m = \\mu C_{ox} \\frac{W}{L}\\left(V_{gs} - V_{th} \\right) = \\dfrac{2\\cdot I_d}{V_{gs} - V_{th}}\n",
    " \\end{align}\n",
    " \n",
    " - The quantity $V_{gs} - V_{th}$, often referred to as the *overdrive voltage*, can be controlled by  adjusting $W$ and $L$ for a given current (i.e. by controlling current density)"
   ]
  },
  {
   "cell_type": "markdown",
   "metadata": {
    "slideshow": {
     "slide_type": "slide"
    }
   },
   "source": [
    "## Transconductance versus square law"
   ]
  },
  {
   "cell_type": "code",
   "execution_count": 10,
   "metadata": {
    "slideshow": {
     "slide_type": "skip"
    }
   },
   "outputs": [],
   "source": [
    "def g_m(V_GS0, W, L):\n",
    "    V_th = 0.7                # threshold voltage (device parameter)\n",
    "    I_D0 = nmos_iv(V_GS0, W, L)\n",
    "    \n",
    "    return 2*I_D0/(V_GS0 - V_th)\n",
    "\n",
    "def gm_line (V_gs, W, L, V_GS0, I_D0):\n",
    "    return g_m(V_GS0, W, L)*(V_gs - V_GS0) + I_D0\n",
    "\n",
    "def plot_gm(V_gs, W, L, V_GS1, V_gs_range):\n",
    "    fig, ax = plt.subplots(figsize=(10.0,7.5))\n",
    "    ax.plot(V_gs, 1e3*nmos_iv(V_gs, W, L), \n",
    "            label=r'$\\frac{1}{2}\\mu C_{ox}\\frac{W}{L}(V_{gs}-V_{th})^2$')\n",
    "    I_D1 = nmos_iv(V_GS1, W, L)\n",
    "    ax.scatter(V_GS1, 1e3*I_D1, color='C1',s=10)\n",
    "    ax.plot(V_gs_range, 1e3*gm_line(V_gs_range, W, L, V_GS1, I_D1), \n",
    "            'C1--', linewidth=2, label=r'$g_mV_{gs}$')\n",
    "    ax.set_xlabel(r'$V_{gs} [V]$')\n",
    "    ax.set_ylabel(r'$I_{D} [mA]$')\n",
    "    ax.grid()\n",
    "    ax.legend()"
   ]
  },
  {
   "cell_type": "code",
   "execution_count": 11,
   "metadata": {
    "slideshow": {
     "slide_type": "-"
    }
   },
   "outputs": [
    {
     "data": {
      "image/png": "[encoded data removed]",
      "text/plain": [
       "<Figure size 720x540 with 1 Axes>"
      ]
     },
     "metadata": {
      "needs_background": "light"
     },
     "output_type": "display_data"
    }
   ],
   "source": [
    "V_gs = np.linspace(0.7,1,num=300)\n",
    "V_GS1 = 0.9\n",
    "V_gs_range = np.linspace(V_GS1-0.05, V_GS1+0.05, 10)\n",
    "plot_gm(V_gs, 1000, 1, V_GS1, V_gs_range)"
   ]
  },
  {
   "cell_type": "markdown",
   "metadata": {
    "slideshow": {
     "slide_type": "slide"
    }
   },
   "source": [
    "## Channel-length modulation"
   ]
  },
  {
   "cell_type": "markdown",
   "metadata": {},
   "source": [
    "<center><img src=\"img/channel_length_modulation.png\" width=700 /></center>"
   ]
  },
  {
   "cell_type": "markdown",
   "metadata": {
    "slideshow": {
     "slide_type": "-"
    }
   },
   "source": [
    " - Current flow in a MOSFET results is due to the lateral electric field applied over a distance $L$, a device parameter\n",
    " - As with the BJT, the MOSFET drain current exhibits a small dependence on $V_{ds}$, partially due to the modulation of channel length ($\\Delta L$) as a function of the electric field near the drain implant region\n",
    " - This dependence is captured by a linear parameter $\\lambda$, typically called the \"channel-length modulation coefficient\"\n",
    " - The resulting drain current expression becomes\n",
    " \n",
    " $$I_d = \\frac{1}{2}\\mu C_{ox} \\frac{W}{L}\\left(V_{gs} - V_{th} \\right)^2\\cdot (1+\\lambda V_{ds}) $$"
   ]
  },
  {
   "cell_type": "markdown",
   "metadata": {
    "slideshow": {
     "slide_type": "slide"
    }
   },
   "source": [
    "## Finite output resistance"
   ]
  },
  {
   "cell_type": "markdown",
   "metadata": {
    "slideshow": {
     "slide_type": "-"
    }
   },
   "source": [
    " - The MOSFET drain current exhibits a *linear* dependence on $V_{ds}$ for $V_{ds} > V_{gs} - V_{th}$"
   ]
  },
  {
   "cell_type": "code",
   "execution_count": 19,
   "metadata": {
    "scrolled": false
   },
   "outputs": [
    {
     "data": {
      "image/png": "[encoded data removed]",
      "text/plain": [
       "<Figure size 720x540 with 1 Axes>"
      ]
     },
     "metadata": {
      "needs_background": "light"
     },
     "output_type": "display_data"
    }
   ],
   "source": [
    "import pandas as pd\n",
    "I_d = pd.read_csv('Id_Vds.csv', sep='\\t')\n",
    "plot_xy(I_d['v1'], 1e3*I_d['Id(M1)'], '$V_{ds}$ [V]', '$I_d$ [mA]')"
   ]
  },
  {
   "cell_type": "markdown",
   "metadata": {},
   "source": [
    " - For $V_{ds} < V_{gs} - V_{th}$, the MOSFET is said to be in *triode*, the region of operation used when the MOSFET operates a switch"
   ]
  },
  {
   "cell_type": "markdown",
   "metadata": {
    "slideshow": {
     "slide_type": "slide"
    }
   },
   "source": [
    "## MOS small-signal model (DC)"
   ]
  },
  {
   "cell_type": "markdown",
   "metadata": {
    "cell_style": "split",
    "slideshow": {
     "slide_type": "-"
    }
   },
   "source": [
    "<center><img src=\"img/MOS_small_signal_model.png\" width=500 /></center>"
   ]
  },
  {
   "cell_type": "markdown",
   "metadata": {
    "cell_style": "split",
    "slideshow": {
     "slide_type": "-"
    }
   },
   "source": [
    "$$ g_m = \\dfrac{2\\cdot I_{D0}}{V_{GS0}-V_{th}} $$\n",
    "\n",
    "$$r_o = \\dfrac{1}{\\lambda I_{D0}}$$"
   ]
  },
  {
   "cell_type": "markdown",
   "metadata": {
    "slideshow": {
     "slide_type": "-"
    }
   },
   "source": [
    " - The DC small-signal model of the MOSFET consists of the transconductance $g_m$ and output resistance $r_o$\n",
    " - This is analogous to the BJT small-signal model, but with *infinite input resistance at DC*\n",
    " - The product $g_m r_o$ is referred to as the *intrinsic gain* of the transistor, and represents the voltage gain with no external load resistance \n",
    " - Intrinsic gain is a fundamental device property that determines how effective it is as a gain device"
   ]
  },
  {
   "cell_type": "markdown",
   "metadata": {
    "slideshow": {
     "slide_type": "slide"
    }
   },
   "source": [
    "## Common-source amplifier"
   ]
  },
  {
   "cell_type": "markdown",
   "metadata": {
    "cell_style": "split",
    "slideshow": {
     "slide_type": "-"
    }
   },
   "source": [
    "<center><img src=\"img/common_source.png\" width=300 /></center>"
   ]
  },
  {
   "cell_type": "markdown",
   "metadata": {
    "cell_style": "split",
    "slideshow": {
     "slide_type": "-"
    }
   },
   "source": [
    "<center><img src=\"img/CS_small_signal.png\" width=400 /></center>\n",
    "\n",
    "$$A_v = \\frac{v_{out}}{v_{in}} = -g_m\\cdot (R_D || r_o) $$"
   ]
  },
  {
   "cell_type": "markdown",
   "metadata": {},
   "source": [
    " - Like the common-emitter for the BJT, the common-source amplifier is considered a \"high-gain\" structure\n",
    " - The high input impedance of the FET makes the common-source structure useful for high-impedance sensors\n",
    " - At higher frequencies, the MOSFET oxide capacitance lowers the input impedance and limits its high-frequency performance\n",
    " - The maximum frequency at which a device can act as a gain element is called the *transit frequency*, often denoted by $f_t$"
   ]
  },
  {
   "cell_type": "markdown",
   "metadata": {
    "slideshow": {
     "slide_type": "slide"
    }
   },
   "source": [
    "## BJTs versus FETs\n"
   ]
  },
  {
   "cell_type": "markdown",
   "metadata": {
    "cell_style": "split",
    "slideshow": {
     "slide_type": "-"
    }
   },
   "source": [
    " BJTs \n",
    " - Advantages:\n",
    "     - Low noise, high accuracy (e.g. $g_m$), and power efficiency\n",
    " - Disadvantanges\n",
    "     - Low input impedance, non-zero base current\n",
    " - Primary applications:\n",
    "     - Low-noise amplifiers, power amplifiers, opamps\n",
    " "
   ]
  },
  {
   "cell_type": "markdown",
   "metadata": {
    "cell_style": "split"
   },
   "source": [
    "FETs\n",
    "\n",
    " - Advantages:\n",
    "     - Low power (digital), high impedance, great switches\n",
    " - Disadvantages:\n",
    "     - Noisy, lots of variability, many non-ideal effects\n",
    " - Primary applications:\n",
    "     - Digital circuits (CMOS), power switches, opamps (JFETs)"
   ]
  }
 ],
 "metadata": {
  "celltoolbar": "Slideshow",
  "kernelspec": {
   "display_name": "Python 3",
   "language": "python",
   "name": "python3"
  },
  "language_info": {
   "codemirror_mode": {
    "name": "ipython",
    "version": 3
   },
   "file_extension": ".py",
   "mimetype": "text/x-python",
   "name": "python",
   "nbconvert_exporter": "python",
   "pygments_lexer": "ipython3",
   "version": "3.8.2"
  },
  "livereveal": {
   "controls": false,
   "scroll": true,
   "theme": "simple"
  },
  "rise": {
   "enable_chalkboard": true,
   "slideNumber": true
  }
 },
 "nbformat": 4,
 "nbformat_minor": 4
}
